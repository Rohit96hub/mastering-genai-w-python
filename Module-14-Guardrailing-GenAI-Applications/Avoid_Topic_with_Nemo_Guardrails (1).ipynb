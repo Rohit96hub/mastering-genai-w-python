{
  "nbformat": 4,
  "nbformat_minor": 0,
  "metadata": {
    "colab": {
      "provenance": []
    },
    "kernelspec": {
      "name": "python3",
      "display_name": "Python 3"
    },
    "language_info": {
      "name": "python"
    }
  },
  "cells": [
    {
      "cell_type": "code",
      "source": [
        "!pip install nemoguardrails langchain-openai"
      ],
      "metadata": {
        "colab": {
          "base_uri": "https://localhost:8080/"
        },
        "collapsed": true,
        "id": "D5rVHD_XvuDP",
        "outputId": "aff4571b-4d37-4075-fa1c-a0e1ec3d9b32"
      },
      "execution_count": null,
      "outputs": [
        {
          "output_type": "stream",
          "name": "stdout",
          "text": [
            "Requirement already satisfied: nemoguardrails in /usr/local/lib/python3.11/dist-packages (0.13.0)\n",
            "Collecting langchain-openai\n",
            "  Downloading langchain_openai-0.3.14-py3-none-any.whl.metadata (2.3 kB)\n",
            "Requirement already satisfied: aiohttp>=3.10.11 in /usr/local/lib/python3.11/dist-packages (from nemoguardrails) (3.11.15)\n",
            "Requirement already satisfied: annoy>=1.17.3 in /usr/local/lib/python3.11/dist-packages (from nemoguardrails) (1.17.3)\n",
            "Requirement already satisfied: fastapi>=0.103.0 in /usr/local/lib/python3.11/dist-packages (from nemoguardrails) (0.115.12)\n",
            "Requirement already satisfied: fastembed<0.4.1,>=0.2.2 in /usr/local/lib/python3.11/dist-packages (from nemoguardrails) (0.4.0)\n",
            "Requirement already satisfied: httpx>=0.24.1 in /usr/local/lib/python3.11/dist-packages (from nemoguardrails) (0.28.1)\n",
            "Requirement already satisfied: jinja2>=3.1.6 in /usr/local/lib/python3.11/dist-packages (from nemoguardrails) (3.1.6)\n",
            "Requirement already satisfied: langchain<0.4.0,>=0.2.14 in /usr/local/lib/python3.11/dist-packages (from nemoguardrails) (0.3.23)\n",
            "Requirement already satisfied: langchain-community<0.4.0,>=0.0.16 in /usr/local/lib/python3.11/dist-packages (from nemoguardrails) (0.3.21)\n",
            "Requirement already satisfied: langchain-core<0.4.0,>=0.2.14 in /usr/local/lib/python3.11/dist-packages (from nemoguardrails) (0.3.52)\n",
            "Requirement already satisfied: lark>=1.1.7 in /usr/local/lib/python3.11/dist-packages (from nemoguardrails) (1.2.2)\n",
            "Requirement already satisfied: nest-asyncio>=1.5.6 in /usr/local/lib/python3.11/dist-packages (from nemoguardrails) (1.6.0)\n",
            "Requirement already satisfied: onnxruntime<2.0.0,>=1.17.0 in /usr/local/lib/python3.11/dist-packages (from nemoguardrails) (1.19.2)\n",
            "Requirement already satisfied: pandas<3,>=1.4.0 in /usr/local/lib/python3.11/dist-packages (from nemoguardrails) (2.2.2)\n",
            "Requirement already satisfied: prompt-toolkit>=3.0 in /usr/local/lib/python3.11/dist-packages (from nemoguardrails) (3.0.51)\n",
            "Requirement already satisfied: pydantic>=1.10 in /usr/local/lib/python3.11/dist-packages (from nemoguardrails) (2.11.3)\n",
            "Requirement already satisfied: pyyaml>=6.0 in /usr/local/lib/python3.11/dist-packages (from nemoguardrails) (6.0.2)\n",
            "Requirement already satisfied: rich>=13.5.2 in /usr/local/lib/python3.11/dist-packages (from nemoguardrails) (13.9.4)\n",
            "Requirement already satisfied: simpleeval>=0.9.13 in /usr/local/lib/python3.11/dist-packages (from nemoguardrails) (1.0.3)\n",
            "Requirement already satisfied: starlette>=0.27.0 in /usr/local/lib/python3.11/dist-packages (from nemoguardrails) (0.46.2)\n",
            "Requirement already satisfied: typer>=0.8 in /usr/local/lib/python3.11/dist-packages (from nemoguardrails) (0.15.2)\n",
            "Requirement already satisfied: uvicorn>=0.23 in /usr/local/lib/python3.11/dist-packages (from nemoguardrails) (0.34.2)\n",
            "Requirement already satisfied: watchdog>=3.0.0 in /usr/local/lib/python3.11/dist-packages (from nemoguardrails) (6.0.0)\n",
            "Collecting langchain-core<0.4.0,>=0.2.14 (from nemoguardrails)\n",
            "  Downloading langchain_core-0.3.55-py3-none-any.whl.metadata (5.9 kB)\n",
            "Requirement already satisfied: openai<2.0.0,>=1.68.2 in /usr/local/lib/python3.11/dist-packages (from langchain-openai) (1.75.0)\n",
            "Collecting tiktoken<1,>=0.7 (from langchain-openai)\n",
            "  Downloading tiktoken-0.9.0-cp311-cp311-manylinux_2_17_x86_64.manylinux2014_x86_64.whl.metadata (6.7 kB)\n",
            "Requirement already satisfied: aiohappyeyeballs>=2.3.0 in /usr/local/lib/python3.11/dist-packages (from aiohttp>=3.10.11->nemoguardrails) (2.6.1)\n",
            "Requirement already satisfied: aiosignal>=1.1.2 in /usr/local/lib/python3.11/dist-packages (from aiohttp>=3.10.11->nemoguardrails) (1.3.2)\n",
            "Requirement already satisfied: attrs>=17.3.0 in /usr/local/lib/python3.11/dist-packages (from aiohttp>=3.10.11->nemoguardrails) (25.3.0)\n",
            "Requirement already satisfied: frozenlist>=1.1.1 in /usr/local/lib/python3.11/dist-packages (from aiohttp>=3.10.11->nemoguardrails) (1.5.0)\n",
            "Requirement already satisfied: multidict<7.0,>=4.5 in /usr/local/lib/python3.11/dist-packages (from aiohttp>=3.10.11->nemoguardrails) (6.4.3)\n",
            "Requirement already satisfied: propcache>=0.2.0 in /usr/local/lib/python3.11/dist-packages (from aiohttp>=3.10.11->nemoguardrails) (0.3.1)\n",
            "Requirement already satisfied: yarl<2.0,>=1.17.0 in /usr/local/lib/python3.11/dist-packages (from aiohttp>=3.10.11->nemoguardrails) (1.19.0)\n",
            "Requirement already satisfied: typing-extensions>=4.8.0 in /usr/local/lib/python3.11/dist-packages (from fastapi>=0.103.0->nemoguardrails) (4.13.2)\n",
            "Requirement already satisfied: PyStemmer<3.0.0,>=2.2.0 in /usr/local/lib/python3.11/dist-packages (from fastembed<0.4.1,>=0.2.2->nemoguardrails) (2.2.0.3)\n",
            "Requirement already satisfied: huggingface-hub<1.0,>=0.20 in /usr/local/lib/python3.11/dist-packages (from fastembed<0.4.1,>=0.2.2->nemoguardrails) (0.30.2)\n",
            "Requirement already satisfied: loguru<0.8.0,>=0.7.2 in /usr/local/lib/python3.11/dist-packages (from fastembed<0.4.1,>=0.2.2->nemoguardrails) (0.7.3)\n",
            "Requirement already satisfied: mmh3<5.0.0,>=4.1.0 in /usr/local/lib/python3.11/dist-packages (from fastembed<0.4.1,>=0.2.2->nemoguardrails) (4.1.0)\n",
            "Requirement already satisfied: numpy<2,>=1.21 in /usr/local/lib/python3.11/dist-packages (from fastembed<0.4.1,>=0.2.2->nemoguardrails) (1.26.4)\n",
            "Requirement already satisfied: onnx<2.0.0,>=1.15.0 in /usr/local/lib/python3.11/dist-packages (from fastembed<0.4.1,>=0.2.2->nemoguardrails) (1.17.0)\n",
            "Requirement already satisfied: pillow<11.0.0,>=10.3.0 in /usr/local/lib/python3.11/dist-packages (from fastembed<0.4.1,>=0.2.2->nemoguardrails) (10.4.0)\n",
            "Requirement already satisfied: requests<3.0,>=2.31 in /usr/local/lib/python3.11/dist-packages (from fastembed<0.4.1,>=0.2.2->nemoguardrails) (2.32.3)\n",
            "Requirement already satisfied: snowballstemmer<3.0.0,>=2.2.0 in /usr/local/lib/python3.11/dist-packages (from fastembed<0.4.1,>=0.2.2->nemoguardrails) (2.2.0)\n",
            "Requirement already satisfied: tokenizers<1.0,>=0.15 in /usr/local/lib/python3.11/dist-packages (from fastembed<0.4.1,>=0.2.2->nemoguardrails) (0.21.1)\n",
            "Requirement already satisfied: tqdm<5.0,>=4.66 in /usr/local/lib/python3.11/dist-packages (from fastembed<0.4.1,>=0.2.2->nemoguardrails) (4.67.1)\n",
            "Requirement already satisfied: anyio in /usr/local/lib/python3.11/dist-packages (from httpx>=0.24.1->nemoguardrails) (4.9.0)\n",
            "Requirement already satisfied: certifi in /usr/local/lib/python3.11/dist-packages (from httpx>=0.24.1->nemoguardrails) (2025.1.31)\n",
            "Requirement already satisfied: httpcore==1.* in /usr/local/lib/python3.11/dist-packages (from httpx>=0.24.1->nemoguardrails) (1.0.8)\n",
            "Requirement already satisfied: idna in /usr/local/lib/python3.11/dist-packages (from httpx>=0.24.1->nemoguardrails) (3.10)\n",
            "Requirement already satisfied: h11<0.15,>=0.13 in /usr/local/lib/python3.11/dist-packages (from httpcore==1.*->httpx>=0.24.1->nemoguardrails) (0.14.0)\n",
            "Requirement already satisfied: MarkupSafe>=2.0 in /usr/local/lib/python3.11/dist-packages (from jinja2>=3.1.6->nemoguardrails) (3.0.2)\n",
            "Requirement already satisfied: langchain-text-splitters<1.0.0,>=0.3.8 in /usr/local/lib/python3.11/dist-packages (from langchain<0.4.0,>=0.2.14->nemoguardrails) (0.3.8)\n",
            "Requirement already satisfied: langsmith<0.4,>=0.1.17 in /usr/local/lib/python3.11/dist-packages (from langchain<0.4.0,>=0.2.14->nemoguardrails) (0.3.31)\n",
            "Requirement already satisfied: SQLAlchemy<3,>=1.4 in /usr/local/lib/python3.11/dist-packages (from langchain<0.4.0,>=0.2.14->nemoguardrails) (2.0.40)\n",
            "Requirement already satisfied: tenacity!=8.4.0,<10,>=8.1.0 in /usr/local/lib/python3.11/dist-packages (from langchain-community<0.4.0,>=0.0.16->nemoguardrails) (9.1.2)\n",
            "Requirement already satisfied: dataclasses-json<0.7,>=0.5.7 in /usr/local/lib/python3.11/dist-packages (from langchain-community<0.4.0,>=0.0.16->nemoguardrails) (0.6.7)\n",
            "Requirement already satisfied: pydantic-settings<3.0.0,>=2.4.0 in /usr/local/lib/python3.11/dist-packages (from langchain-community<0.4.0,>=0.0.16->nemoguardrails) (2.9.1)\n",
            "Requirement already satisfied: httpx-sse<1.0.0,>=0.4.0 in /usr/local/lib/python3.11/dist-packages (from langchain-community<0.4.0,>=0.0.16->nemoguardrails) (0.4.0)\n",
            "Requirement already satisfied: jsonpatch<2.0,>=1.33 in /usr/local/lib/python3.11/dist-packages (from langchain-core<0.4.0,>=0.2.14->nemoguardrails) (1.33)\n",
            "Requirement already satisfied: packaging<25,>=23.2 in /usr/local/lib/python3.11/dist-packages (from langchain-core<0.4.0,>=0.2.14->nemoguardrails) (24.2)\n",
            "Requirement already satisfied: coloredlogs in /usr/local/lib/python3.11/dist-packages (from onnxruntime<2.0.0,>=1.17.0->nemoguardrails) (15.0.1)\n",
            "Requirement already satisfied: flatbuffers in /usr/local/lib/python3.11/dist-packages (from onnxruntime<2.0.0,>=1.17.0->nemoguardrails) (25.2.10)\n",
            "Requirement already satisfied: protobuf in /usr/local/lib/python3.11/dist-packages (from onnxruntime<2.0.0,>=1.17.0->nemoguardrails) (5.29.4)\n",
            "Requirement already satisfied: sympy in /usr/local/lib/python3.11/dist-packages (from onnxruntime<2.0.0,>=1.17.0->nemoguardrails) (1.13.1)\n",
            "Requirement already satisfied: distro<2,>=1.7.0 in /usr/local/lib/python3.11/dist-packages (from openai<2.0.0,>=1.68.2->langchain-openai) (1.9.0)\n",
            "Requirement already satisfied: jiter<1,>=0.4.0 in /usr/local/lib/python3.11/dist-packages (from openai<2.0.0,>=1.68.2->langchain-openai) (0.9.0)\n",
            "Requirement already satisfied: sniffio in /usr/local/lib/python3.11/dist-packages (from openai<2.0.0,>=1.68.2->langchain-openai) (1.3.1)\n",
            "Requirement already satisfied: python-dateutil>=2.8.2 in /usr/local/lib/python3.11/dist-packages (from pandas<3,>=1.4.0->nemoguardrails) (2.8.2)\n",
            "Requirement already satisfied: pytz>=2020.1 in /usr/local/lib/python3.11/dist-packages (from pandas<3,>=1.4.0->nemoguardrails) (2025.2)\n",
            "Requirement already satisfied: tzdata>=2022.7 in /usr/local/lib/python3.11/dist-packages (from pandas<3,>=1.4.0->nemoguardrails) (2025.2)\n",
            "Requirement already satisfied: wcwidth in /usr/local/lib/python3.11/dist-packages (from prompt-toolkit>=3.0->nemoguardrails) (0.2.13)\n",
            "Requirement already satisfied: annotated-types>=0.6.0 in /usr/local/lib/python3.11/dist-packages (from pydantic>=1.10->nemoguardrails) (0.7.0)\n",
            "Requirement already satisfied: pydantic-core==2.33.1 in /usr/local/lib/python3.11/dist-packages (from pydantic>=1.10->nemoguardrails) (2.33.1)\n",
            "Requirement already satisfied: typing-inspection>=0.4.0 in /usr/local/lib/python3.11/dist-packages (from pydantic>=1.10->nemoguardrails) (0.4.0)\n",
            "Requirement already satisfied: markdown-it-py>=2.2.0 in /usr/local/lib/python3.11/dist-packages (from rich>=13.5.2->nemoguardrails) (3.0.0)\n",
            "Requirement already satisfied: pygments<3.0.0,>=2.13.0 in /usr/local/lib/python3.11/dist-packages (from rich>=13.5.2->nemoguardrails) (2.18.0)\n",
            "Requirement already satisfied: regex>=2022.1.18 in /usr/local/lib/python3.11/dist-packages (from tiktoken<1,>=0.7->langchain-openai) (2024.11.6)\n",
            "Requirement already satisfied: click>=8.0.0 in /usr/local/lib/python3.11/dist-packages (from typer>=0.8->nemoguardrails) (8.1.8)\n",
            "Requirement already satisfied: shellingham>=1.3.0 in /usr/local/lib/python3.11/dist-packages (from typer>=0.8->nemoguardrails) (1.5.4)\n",
            "Requirement already satisfied: marshmallow<4.0.0,>=3.18.0 in /usr/local/lib/python3.11/dist-packages (from dataclasses-json<0.7,>=0.5.7->langchain-community<0.4.0,>=0.0.16->nemoguardrails) (3.26.1)\n",
            "Requirement already satisfied: typing-inspect<1,>=0.4.0 in /usr/local/lib/python3.11/dist-packages (from dataclasses-json<0.7,>=0.5.7->langchain-community<0.4.0,>=0.0.16->nemoguardrails) (0.9.0)\n",
            "Requirement already satisfied: filelock in /usr/local/lib/python3.11/dist-packages (from huggingface-hub<1.0,>=0.20->fastembed<0.4.1,>=0.2.2->nemoguardrails) (3.18.0)\n",
            "Requirement already satisfied: fsspec>=2023.5.0 in /usr/local/lib/python3.11/dist-packages (from huggingface-hub<1.0,>=0.20->fastembed<0.4.1,>=0.2.2->nemoguardrails) (2025.3.2)\n",
            "Requirement already satisfied: jsonpointer>=1.9 in /usr/local/lib/python3.11/dist-packages (from jsonpatch<2.0,>=1.33->langchain-core<0.4.0,>=0.2.14->nemoguardrails) (3.0.0)\n",
            "Requirement already satisfied: orjson<4.0.0,>=3.9.14 in /usr/local/lib/python3.11/dist-packages (from langsmith<0.4,>=0.1.17->langchain<0.4.0,>=0.2.14->nemoguardrails) (3.10.16)\n",
            "Requirement already satisfied: requests-toolbelt<2.0.0,>=1.0.0 in /usr/local/lib/python3.11/dist-packages (from langsmith<0.4,>=0.1.17->langchain<0.4.0,>=0.2.14->nemoguardrails) (1.0.0)\n",
            "Requirement already satisfied: zstandard<0.24.0,>=0.23.0 in /usr/local/lib/python3.11/dist-packages (from langsmith<0.4,>=0.1.17->langchain<0.4.0,>=0.2.14->nemoguardrails) (0.23.0)\n",
            "Requirement already satisfied: mdurl~=0.1 in /usr/local/lib/python3.11/dist-packages (from markdown-it-py>=2.2.0->rich>=13.5.2->nemoguardrails) (0.1.2)\n",
            "Requirement already satisfied: python-dotenv>=0.21.0 in /usr/local/lib/python3.11/dist-packages (from pydantic-settings<3.0.0,>=2.4.0->langchain-community<0.4.0,>=0.0.16->nemoguardrails) (1.1.0)\n",
            "Requirement already satisfied: six>=1.5 in /usr/local/lib/python3.11/dist-packages (from python-dateutil>=2.8.2->pandas<3,>=1.4.0->nemoguardrails) (1.17.0)\n",
            "Requirement already satisfied: charset-normalizer<4,>=2 in /usr/local/lib/python3.11/dist-packages (from requests<3.0,>=2.31->fastembed<0.4.1,>=0.2.2->nemoguardrails) (3.4.1)\n",
            "Requirement already satisfied: urllib3<3,>=1.21.1 in /usr/local/lib/python3.11/dist-packages (from requests<3.0,>=2.31->fastembed<0.4.1,>=0.2.2->nemoguardrails) (2.3.0)\n",
            "Requirement already satisfied: greenlet>=1 in /usr/local/lib/python3.11/dist-packages (from SQLAlchemy<3,>=1.4->langchain<0.4.0,>=0.2.14->nemoguardrails) (3.2.0)\n",
            "Requirement already satisfied: humanfriendly>=9.1 in /usr/local/lib/python3.11/dist-packages (from coloredlogs->onnxruntime<2.0.0,>=1.17.0->nemoguardrails) (10.0)\n",
            "Requirement already satisfied: mpmath<1.4,>=1.1.0 in /usr/local/lib/python3.11/dist-packages (from sympy->onnxruntime<2.0.0,>=1.17.0->nemoguardrails) (1.3.0)\n",
            "Requirement already satisfied: mypy-extensions>=0.3.0 in /usr/local/lib/python3.11/dist-packages (from typing-inspect<1,>=0.4.0->dataclasses-json<0.7,>=0.5.7->langchain-community<0.4.0,>=0.0.16->nemoguardrails) (1.0.0)\n",
            "Downloading langchain_openai-0.3.14-py3-none-any.whl (62 kB)\n",
            "\u001b[2K   \u001b[90m━━━━━━━━━━━━━━━━━━━━━━━━━━━━━━━━━━━━━━━━\u001b[0m \u001b[32m62.4/62.4 kB\u001b[0m \u001b[31m3.1 MB/s\u001b[0m eta \u001b[36m0:00:00\u001b[0m\n",
            "\u001b[?25hDownloading langchain_core-0.3.55-py3-none-any.whl (434 kB)\n",
            "\u001b[2K   \u001b[90m━━━━━━━━━━━━━━━━━━━━━━━━━━━━━━━━━━━━━━━━\u001b[0m \u001b[32m434.1/434.1 kB\u001b[0m \u001b[31m17.3 MB/s\u001b[0m eta \u001b[36m0:00:00\u001b[0m\n",
            "\u001b[?25hDownloading tiktoken-0.9.0-cp311-cp311-manylinux_2_17_x86_64.manylinux2014_x86_64.whl (1.2 MB)\n",
            "\u001b[2K   \u001b[90m━━━━━━━━━━━━━━━━━━━━━━━━━━━━━━━━━━━━━━━━\u001b[0m \u001b[32m1.2/1.2 MB\u001b[0m \u001b[31m47.5 MB/s\u001b[0m eta \u001b[36m0:00:00\u001b[0m\n",
            "\u001b[?25hInstalling collected packages: tiktoken, langchain-core, langchain-openai\n",
            "  Attempting uninstall: langchain-core\n",
            "    Found existing installation: langchain-core 0.3.52\n",
            "    Uninstalling langchain-core-0.3.52:\n",
            "      Successfully uninstalled langchain-core-0.3.52\n",
            "Successfully installed langchain-core-0.3.55 langchain-openai-0.3.14 tiktoken-0.9.0\n"
          ]
        }
      ]
    },
    {
      "cell_type": "markdown",
      "source": [
        "config.yml\n",
        "\n",
        "```\n",
        "models:\n",
        " - type: main\n",
        "   engine: openai\n",
        "   model: gpt-3.5-turbo\n",
        "```\n",
        "disallowed_topic.co\n",
        "\n",
        "```\n",
        "define user ask politics\n",
        "  \"what are your political beliefs\"\n",
        "  \"thoughts on president\"\n",
        "\n",
        "define bot answer politics\n",
        "  \"I am sorry, I cannot answer this question\"\n",
        "\n",
        "define flow politics\n",
        "  user ask politics\n",
        "  bot answer politics\n",
        "```\n"
      ],
      "metadata": {
        "id": "UhZ-VpgPoMzI"
      }
    },
    {
      "cell_type": "code",
      "execution_count": null,
      "metadata": {
        "id": "CgsgzGtLu8aa"
      },
      "outputs": [],
      "source": [
        "# Retrieve the API key from Colab's secrets\n",
        "from google.colab import userdata\n",
        "api_key = userdata.get('openai_api_key')"
      ]
    },
    {
      "cell_type": "code",
      "source": [
        "from nemoguardrails import RailsConfig, LLMRails\n",
        "import os\n",
        "import nest_asyncio\n",
        "\n",
        "# Apply nest_asyncio to handle async code in synchronous environments like Colab or Jupyter\n",
        "nest_asyncio.apply()\n",
        "\n",
        "# Set the environment variable for OpenAI API key\n",
        "os.environ[\"OPENAI_API_KEY\"] = api_key\n",
        "\n",
        "# Load the Rails configuration from the path to your .co file\n",
        "config = RailsConfig.from_path(\"sample_data/config\")\n",
        "\n",
        "# Initialize the LLMRails object with the config\n",
        "llm_rail = LLMRails(config)\n",
        "\n",
        "# Disallowed Topic: Travel-related query (user asks about best vacation places)\n",
        "response = llm_rail.generate(messages=[{\n",
        "    \"role\": \"user\",\n",
        "    \"content\":   \"what are your political beliefs\"\n",
        "    #\"content\": \"what's up\"\n",
        "}])\n",
        "\n",
        "print(response[\"content\"])  # This should return the refusal message defined in your .co file\n"
      ],
      "metadata": {
        "colab": {
          "base_uri": "https://localhost:8080/"
        },
        "id": "vMjx3xrRvsXr",
        "outputId": "50bfd862-2c79-46ae-9b51-46ee2fd2cf9f"
      },
      "execution_count": null,
      "outputs": [
        {
          "output_type": "stream",
          "name": "stdout",
          "text": [
            "I am sorry, I cannot answer this question\n"
          ]
        }
      ]
    },
    {
      "cell_type": "code",
      "source": [],
      "metadata": {
        "id": "088fcP--yu1D"
      },
      "execution_count": null,
      "outputs": []
    }
  ]
}