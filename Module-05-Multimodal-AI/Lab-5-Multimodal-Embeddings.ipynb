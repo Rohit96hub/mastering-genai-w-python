{
  "nbformat": 4,
  "nbformat_minor": 0,
  "metadata": {
    "colab": {
      "provenance": []
    },
    "kernelspec": {
      "name": "python3",
      "display_name": "Python 3"
    },
    "language_info": {
      "name": "python"
    } 
  },
  "cells": [
    {
      "cell_type": "markdown",
      "source": [
        "#**Similarity Search using text and image embedding**\n**What is CLIP?**\n",
        "\n",
        "CLIP (Contrastive Language–Image Pretraining) is a multimodal model developed by OpenAI. It takes an image and a text input, encodes both into a shared embedding space, and measures how well they match. It’s trained to associate textual descriptions with visual concepts."
      ],
      "metadata": {
        "id": "r-uw_5Efzhkj"
      }
    },
    {
      "cell_type": "code",
      "execution_count": 1,
      "metadata": {
        "colab": {
          "base_uri": "https://localhost:8080/"
        },
        "collapsed": true,
        "id": "EnxEyeKVyOix",
        "outputId": "9e8aa8e3-5cc8-4120-e9f9-e87745f602ff"
      },
      "outputs": [
        {
          "output_type": "stream",
          "name": "stdout",
          "text": [
            "Requirement already satisfied: transformers in /usr/local/lib/python3.11/dist-packages (4.51.3)\n",
            "Requirement already satisfied: torch in /usr/local/lib/python3.11/dist-packages (2.6.0+cu124)\n",
            "Requirement already satisfied: pillow in /usr/local/lib/python3.11/dist-packages (11.2.1)\n",
            "Requirement already satisfied: filelock in /usr/local/lib/python3.11/dist-packages (from transformers) (3.18.0)\n",
            "Requirement already satisfied: huggingface-hub<1.0,>=0.30.0 in /usr/local/lib/python3.11/dist-packages (from transformers) (0.30.2)\n",
            "Requirement already satisfied: numpy>=1.17 in /usr/local/lib/python3.11/dist-packages (from transformers) (2.0.2)\n",
            "Requirement already satisfied: packaging>=20.0 in /usr/local/lib/python3.11/dist-packages (from transformers) (24.2)\n",
            "Requirement already satisfied: pyyaml>=5.1 in /usr/local/lib/python3.11/dist-packages (from transformers) (6.0.2)\n",
            "Requirement already satisfied: regex!=2019.12.17 in /usr/local/lib/python3.11/dist-packages (from transformers) (2024.11.6)\n",
            "Requirement already satisfied: requests in /usr/local/lib/python3.11/dist-packages (from transformers) (2.32.3)\n",
            "Requirement already satisfied: tokenizers<0.22,>=0.21 in /usr/local/lib/python3.11/dist-packages (from transformers) (0.21.1)\n",
            "Requirement already satisfied: safetensors>=0.4.3 in /usr/local/lib/python3.11/dist-packages (from transformers) (0.5.3)\n",
            "Requirement already satisfied: tqdm>=4.27 in /usr/local/lib/python3.11/dist-packages (from transformers) (4.67.1)\n",
            "Requirement already satisfied: typing-extensions>=4.10.0 in /usr/local/lib/python3.11/dist-packages (from torch) (4.13.2)\n",
            "Requirement already satisfied: networkx in /usr/local/lib/python3.11/dist-packages (from torch) (3.4.2)\n",
            "Requirement already satisfied: jinja2 in /usr/local/lib/python3.11/dist-packages (from torch) (3.1.6)\n",
            "Requirement already satisfied: fsspec in /usr/local/lib/python3.11/dist-packages (from torch) (2025.3.2)\n",
            "Collecting nvidia-cuda-nvrtc-cu12==12.4.127 (from torch)\n",
            "  Downloading nvidia_cuda_nvrtc_cu12-12.4.127-py3-none-manylinux2014_x86_64.whl.metadata (1.5 kB)\n",
            "Collecting nvidia-cuda-runtime-cu12==12.4.127 (from torch)\n",
            "  Downloading nvidia_cuda_runtime_cu12-12.4.127-py3-none-manylinux2014_x86_64.whl.metadata (1.5 kB)\n",
            "Collecting nvidia-cuda-cupti-cu12==12.4.127 (from torch)\n",
            "  Downloading nvidia_cuda_cupti_cu12-12.4.127-py3-none-manylinux2014_x86_64.whl.metadata (1.6 kB)\n",
            "Collecting nvidia-cudnn-cu12==9.1.0.70 (from torch)\n",
            "  Downloading nvidia_cudnn_cu12-9.1.0.70-py3-none-manylinux2014_x86_64.whl.metadata (1.6 kB)\n",
            "Collecting nvidia-cublas-cu12==12.4.5.8 (from torch)\n",
            "  Downloading nvidia_cublas_cu12-12.4.5.8-py3-none-manylinux2014_x86_64.whl.metadata (1.5 kB)\n",
            "Collecting nvidia-cufft-cu12==11.2.1.3 (from torch)\n",
            "  Downloading nvidia_cufft_cu12-11.2.1.3-py3-none-manylinux2014_x86_64.whl.metadata (1.5 kB)\n",
            "Collecting nvidia-curand-cu12==10.3.5.147 (from torch)\n",
            "  Downloading nvidia_curand_cu12-10.3.5.147-py3-none-manylinux2014_x86_64.whl.metadata (1.5 kB)\n",
            "Collecting nvidia-cusolver-cu12==11.6.1.9 (from torch)\n",
            "  Downloading nvidia_cusolver_cu12-11.6.1.9-py3-none-manylinux2014_x86_64.whl.metadata (1.6 kB)\n",
            "Collecting nvidia-cusparse-cu12==12.3.1.170 (from torch)\n",
            "  Downloading nvidia_cusparse_cu12-12.3.1.170-py3-none-manylinux2014_x86_64.whl.metadata (1.6 kB)\n",
            "Requirement already satisfied: nvidia-cusparselt-cu12==0.6.2 in /usr/local/lib/python3.11/dist-packages (from torch) (0.6.2)\n",
            "Requirement already satisfied: nvidia-nccl-cu12==2.21.5 in /usr/local/lib/python3.11/dist-packages (from torch) (2.21.5)\n",
            "Requirement already satisfied: nvidia-nvtx-cu12==12.4.127 in /usr/local/lib/python3.11/dist-packages (from torch) (12.4.127)\n",
            "Collecting nvidia-nvjitlink-cu12==12.4.127 (from torch)\n",
            "  Downloading nvidia_nvjitlink_cu12-12.4.127-py3-none-manylinux2014_x86_64.whl.metadata (1.5 kB)\n",
            "Requirement already satisfied: triton==3.2.0 in /usr/local/lib/python3.11/dist-packages (from torch) (3.2.0)\n",
            "Requirement already satisfied: sympy==1.13.1 in /usr/local/lib/python3.11/dist-packages (from torch) (1.13.1)\n",
            "Requirement already satisfied: mpmath<1.4,>=1.1.0 in /usr/local/lib/python3.11/dist-packages (from sympy==1.13.1->torch) (1.3.0)\n",
            "Requirement already satisfied: MarkupSafe>=2.0 in /usr/local/lib/python3.11/dist-packages (from jinja2->torch) (3.0.2)\n",
            "Requirement already satisfied: charset-normalizer<4,>=2 in /usr/local/lib/python3.11/dist-packages (from requests->transformers) (3.4.1)\n",
            "Requirement already satisfied: idna<4,>=2.5 in /usr/local/lib/python3.11/dist-packages (from requests->transformers) (3.10)\n",
            "Requirement already satisfied: urllib3<3,>=1.21.1 in /usr/local/lib/python3.11/dist-packages (from requests->transformers) (2.4.0)\n",
            "Requirement already satisfied: certifi>=2017.4.17 in /usr/local/lib/python3.11/dist-packages (from requests->transformers) (2025.4.26)\n",
            "Downloading nvidia_cublas_cu12-12.4.5.8-py3-none-manylinux2014_x86_64.whl (363.4 MB)\n",
            "\u001b[2K   \u001b[90m━━━━━━━━━━━━━━━━━━━━━━━━━━━━━━━━━━━━━━━━\u001b[0m \u001b[32m363.4/363.4 MB\u001b[0m \u001b[31m1.6 MB/s\u001b[0m eta \u001b[36m0:00:00\u001b[0m\n",
            "\u001b[?25hDownloading nvidia_cuda_cupti_cu12-12.4.127-py3-none-manylinux2014_x86_64.whl (13.8 MB)\n",
            "\u001b[2K   \u001b[90m━━━━━━━━━━━━━━━━━━━━━━━━━━━━━━━━━━━━━━━━\u001b[0m \u001b[32m13.8/13.8 MB\u001b[0m \u001b[31m106.3 MB/s\u001b[0m eta \u001b[36m0:00:00\u001b[0m\n",
            "\u001b[?25hDownloading nvidia_cuda_nvrtc_cu12-12.4.127-py3-none-manylinux2014_x86_64.whl (24.6 MB)\n",
            "\u001b[2K   \u001b[90m━━━━━━━━━━━━━━━━━━━━━━━━━━━━━━━━━━━━━━━━\u001b[0m \u001b[32m24.6/24.6 MB\u001b[0m \u001b[31m86.2 MB/s\u001b[0m eta \u001b[36m0:00:00\u001b[0m\n",
            "\u001b[?25hDownloading nvidia_cuda_runtime_cu12-12.4.127-py3-none-manylinux2014_x86_64.whl (883 kB)\n",
            "\u001b[2K   \u001b[90m━━━━━━━━━━━━━━━━━━━━━━━━━━━━━━━━━━━━━━━━\u001b[0m \u001b[32m883.7/883.7 kB\u001b[0m \u001b[31m63.9 MB/s\u001b[0m eta \u001b[36m0:00:00\u001b[0m\n",
            "\u001b[?25hDownloading nvidia_cudnn_cu12-9.1.0.70-py3-none-manylinux2014_x86_64.whl (664.8 MB)\n",
            "\u001b[2K   \u001b[90m━━━━━━━━━━━━━━━━━━━━━━━━━━━━━━━━━━━━━━━━\u001b[0m \u001b[32m664.8/664.8 MB\u001b[0m \u001b[31m2.2 MB/s\u001b[0m eta \u001b[36m0:00:00\u001b[0m\n",
            "\u001b[?25hDownloading nvidia_cufft_cu12-11.2.1.3-py3-none-manylinux2014_x86_64.whl (211.5 MB)\n",
            "\u001b[2K   \u001b[90m━━━━━━━━━━━━━━━━━━━━━━━━━━━━━━━━━━━━━━━━\u001b[0m \u001b[32m211.5/211.5 MB\u001b[0m \u001b[31m5.8 MB/s\u001b[0m eta \u001b[36m0:00:00\u001b[0m\n",
            "\u001b[?25hDownloading nvidia_curand_cu12-10.3.5.147-py3-none-manylinux2014_x86_64.whl (56.3 MB)\n",
            "\u001b[2K   \u001b[90m━━━━━━━━━━━━━━━━━━━━━━━━━━━━━━━━━━━━━━━━\u001b[0m \u001b[32m56.3/56.3 MB\u001b[0m \u001b[31m11.9 MB/s\u001b[0m eta \u001b[36m0:00:00\u001b[0m\n",
            "\u001b[?25hDownloading nvidia_cusolver_cu12-11.6.1.9-py3-none-manylinux2014_x86_64.whl (127.9 MB)\n",
            "\u001b[2K   \u001b[90m━━━━━━━━━━━━━━━━━━━━━━━━━━━━━━━━━━━━━━━━\u001b[0m \u001b[32m127.9/127.9 MB\u001b[0m \u001b[31m7.4 MB/s\u001b[0m eta \u001b[36m0:00:00\u001b[0m\n",
            "\u001b[?25hDownloading nvidia_cusparse_cu12-12.3.1.170-py3-none-manylinux2014_x86_64.whl (207.5 MB)\n",
            "\u001b[2K   \u001b[90m━━━━━━━━━━━━━━━━━━━━━━━━━━━━━━━━━━━━━━━━\u001b[0m \u001b[32m207.5/207.5 MB\u001b[0m \u001b[31m5.2 MB/s\u001b[0m eta \u001b[36m0:00:00\u001b[0m\n",
            "\u001b[?25hDownloading nvidia_nvjitlink_cu12-12.4.127-py3-none-manylinux2014_x86_64.whl (21.1 MB)\n",
            "\u001b[2K   \u001b[90m━━━━━━━━━━━━━━━━━━━━━━━━━━━━━━━━━━━━━━━━\u001b[0m \u001b[32m21.1/21.1 MB\u001b[0m \u001b[31m70.4 MB/s\u001b[0m eta \u001b[36m0:00:00\u001b[0m\n",
            "\u001b[?25hInstalling collected packages: nvidia-nvjitlink-cu12, nvidia-curand-cu12, nvidia-cufft-cu12, nvidia-cuda-runtime-cu12, nvidia-cuda-nvrtc-cu12, nvidia-cuda-cupti-cu12, nvidia-cublas-cu12, nvidia-cusparse-cu12, nvidia-cudnn-cu12, nvidia-cusolver-cu12\n",
            "  Attempting uninstall: nvidia-nvjitlink-cu12\n",
            "    Found existing installation: nvidia-nvjitlink-cu12 12.5.82\n",
            "    Uninstalling nvidia-nvjitlink-cu12-12.5.82:\n",
            "      Successfully uninstalled nvidia-nvjitlink-cu12-12.5.82\n",
            "  Attempting uninstall: nvidia-curand-cu12\n",
            "    Found existing installation: nvidia-curand-cu12 10.3.6.82\n",
            "    Uninstalling nvidia-curand-cu12-10.3.6.82:\n",
            "      Successfully uninstalled nvidia-curand-cu12-10.3.6.82\n",
            "  Attempting uninstall: nvidia-cufft-cu12\n",
            "    Found existing installation: nvidia-cufft-cu12 11.2.3.61\n",
            "    Uninstalling nvidia-cufft-cu12-11.2.3.61:\n",
            "      Successfully uninstalled nvidia-cufft-cu12-11.2.3.61\n",
            "  Attempting uninstall: nvidia-cuda-runtime-cu12\n",
            "    Found existing installation: nvidia-cuda-runtime-cu12 12.5.82\n",
            "    Uninstalling nvidia-cuda-runtime-cu12-12.5.82:\n",
            "      Successfully uninstalled nvidia-cuda-runtime-cu12-12.5.82\n",
            "  Attempting uninstall: nvidia-cuda-nvrtc-cu12\n",
            "    Found existing installation: nvidia-cuda-nvrtc-cu12 12.5.82\n",
            "    Uninstalling nvidia-cuda-nvrtc-cu12-12.5.82:\n",
            "      Successfully uninstalled nvidia-cuda-nvrtc-cu12-12.5.82\n",
            "  Attempting uninstall: nvidia-cuda-cupti-cu12\n",
            "    Found existing installation: nvidia-cuda-cupti-cu12 12.5.82\n",
            "    Uninstalling nvidia-cuda-cupti-cu12-12.5.82:\n",
            "      Successfully uninstalled nvidia-cuda-cupti-cu12-12.5.82\n",
            "  Attempting uninstall: nvidia-cublas-cu12\n",
            "    Found existing installation: nvidia-cublas-cu12 12.5.3.2\n",
            "    Uninstalling nvidia-cublas-cu12-12.5.3.2:\n",
            "      Successfully uninstalled nvidia-cublas-cu12-12.5.3.2\n",
            "  Attempting uninstall: nvidia-cusparse-cu12\n",
            "    Found existing installation: nvidia-cusparse-cu12 12.5.1.3\n",
            "    Uninstalling nvidia-cusparse-cu12-12.5.1.3:\n",
            "      Successfully uninstalled nvidia-cusparse-cu12-12.5.1.3\n",
            "  Attempting uninstall: nvidia-cudnn-cu12\n",
            "    Found existing installation: nvidia-cudnn-cu12 9.3.0.75\n",
            "    Uninstalling nvidia-cudnn-cu12-9.3.0.75:\n",
            "      Successfully uninstalled nvidia-cudnn-cu12-9.3.0.75\n",
            "  Attempting uninstall: nvidia-cusolver-cu12\n",
            "    Found existing installation: nvidia-cusolver-cu12 11.6.3.83\n",
            "    Uninstalling nvidia-cusolver-cu12-11.6.3.83:\n",
            "      Successfully uninstalled nvidia-cusolver-cu12-11.6.3.83\n",
            "Successfully installed nvidia-cublas-cu12-12.4.5.8 nvidia-cuda-cupti-cu12-12.4.127 nvidia-cuda-nvrtc-cu12-12.4.127 nvidia-cuda-runtime-cu12-12.4.127 nvidia-cudnn-cu12-9.1.0.70 nvidia-cufft-cu12-11.2.1.3 nvidia-curand-cu12-10.3.5.147 nvidia-cusolver-cu12-11.6.1.9 nvidia-cusparse-cu12-12.3.1.170 nvidia-nvjitlink-cu12-12.4.127\n"
          ]
        }
      ],
      "source": [
        "! pip install transformers torch pillow"
      ]
    },
    {
      "cell_type": "code",
      "source": [
        "from PIL import Image\n",
        "from transformers import CLIPProcessor, CLIPModel\n",
        "import torch\n",
        "import requests"
      ],
      "metadata": {
        "id": "b14Gzg1Bz4dr"
      },
      "execution_count": 3,
      "outputs": []
    },
    {
      "cell_type": "markdown",
      "source": [
        "##**1. Load the Model and Processor**"
      ],
      "metadata": {
        "id": "pkBfMpu8zsRr"
      }
    },
    {
      "cell_type": "code",
      "source": [
        "model = CLIPModel.from_pretrained(\"openai/clip-vit-base-patch32\")\n",
        "processor = CLIPProcessor.from_pretrained(\"openai/clip-vit-base-patch32\")"
      ],
      "metadata": {
        "colab": {
          "base_uri": "https://localhost:8080/",
          "height": 446
        },
        "collapsed": true,
        "id": "FZ0pAdI7zpOu",
        "outputId": "633044aa-1c85-4aeb-8bd8-6b66e4d2c6fd"
      },
      "execution_count": 4,
      "outputs": [
        {
          "output_type": "stream",
          "name": "stderr",
          "text": [
            "/usr/local/lib/python3.11/dist-packages/huggingface_hub/utils/_auth.py:94: UserWarning: \n",
            "The secret `HF_TOKEN` does not exist in your Colab secrets.\n",
            "To authenticate with the Hugging Face Hub, create a token in your settings tab (https://huggingface.co/settings/tokens), set it as secret in your Google Colab and restart your session.\n",
            "You will be able to reuse this secret in all of your notebooks.\n",
            "Please note that authentication is recommended but still optional to access public models or datasets.\n",
            "  warnings.warn(\n"
          ]
        },
        {
          "output_type": "display_data",
          "data": {
            "text/plain": [
              "config.json:   0%|          | 0.00/4.19k [00:00<?, ?B/s]"
            ],
            "application/vnd.jupyter.widget-view+json": {
              "version_major": 2,
              "version_minor": 0,
              "model_id": "21c0a5622280466e9ced6aa362538a7a"
            }
          },
          "metadata": {}
        },
        {
          "output_type": "display_data",
          "data": {
            "text/plain": [
              "pytorch_model.bin:   0%|          | 0.00/605M [00:00<?, ?B/s]"
            ],
            "application/vnd.jupyter.widget-view+json": {
              "version_major": 2,
              "version_minor": 0,
              "model_id": "33fb679f339e42b0a48696a6046b37f6"
            }
          },
          "metadata": {}
        },
        {
          "output_type": "display_data",
          "data": {
            "text/plain": [
              "model.safetensors:   0%|          | 0.00/605M [00:00<?, ?B/s]"
            ],
            "application/vnd.jupyter.widget-view+json": {
              "version_major": 2,
              "version_minor": 0,
              "model_id": "34abd554acbf4444b06ef5ab4fae144c"
            }
          },
          "metadata": {}
        },
        {
          "output_type": "stream",
          "name": "stderr",
          "text": [
            "Using a slow image processor as `use_fast` is unset and a slow processor was saved with this model. `use_fast=True` will be the default behavior in v4.52, even if the model was saved with a slow processor. This will result in minor differences in outputs. You'll still be able to use a slow processor with `use_fast=False`.\n"
          ]
        },
        {
          "output_type": "display_data",
          "data": {
            "text/plain": [
              "preprocessor_config.json:   0%|          | 0.00/316 [00:00<?, ?B/s]"
            ],
            "application/vnd.jupyter.widget-view+json": {
              "version_major": 2,
              "version_minor": 0,
              "model_id": "30253159cd444ad08ee566d2e1580e1a"
            }
          },
          "metadata": {}
        },
        {
          "output_type": "display_data",
          "data": {
            "text/plain": [
              "tokenizer_config.json:   0%|          | 0.00/592 [00:00<?, ?B/s]"
            ],
            "application/vnd.jupyter.widget-view+json": {
              "version_major": 2,
              "version_minor": 0,
              "model_id": "6c1916b7b8d24c53868a18fc0e45f9e1"
            }
          },
          "metadata": {}
        },
        {
          "output_type": "display_data",
          "data": {
            "text/plain": [
              "vocab.json:   0%|          | 0.00/862k [00:00<?, ?B/s]"
            ],
            "application/vnd.jupyter.widget-view+json": {
              "version_major": 2,
              "version_minor": 0,
              "model_id": "8b1a70dac7ed4f0cac7f46e3ad99b075"
            }
          },
          "metadata": {}
        },
        {
          "output_type": "display_data",
          "data": {
            "text/plain": [
              "merges.txt:   0%|          | 0.00/525k [00:00<?, ?B/s]"
            ],
            "application/vnd.jupyter.widget-view+json": {
              "version_major": 2,
              "version_minor": 0,
              "model_id": "c22e97e1c9e947959f1f253e117fa21c"
            }
          },
          "metadata": {}
        },
        {
          "output_type": "display_data",
          "data": {
            "text/plain": [
              "tokenizer.json:   0%|          | 0.00/2.22M [00:00<?, ?B/s]"
            ],
            "application/vnd.jupyter.widget-view+json": {
              "version_major": 2,
              "version_minor": 0,
              "model_id": "3aefcc01920a4215afa5f8bfaa8d911c"
            }
          },
          "metadata": {}
        },
        {
          "output_type": "display_data",
          "data": {
            "text/plain": [
              "special_tokens_map.json:   0%|          | 0.00/389 [00:00<?, ?B/s]"
            ],
            "application/vnd.jupyter.widget-view+json": {
              "version_major": 2,
              "version_minor": 0,
              "model_id": "d6dac7541b3347fcbeb3790645516504"
            }
          },
          "metadata": {}
        }
      ]
    },
    {
      "cell_type": "markdown",
      "source": [
        "##**2. Download and Load the Image**"
      ],
      "metadata": {
        "id": "FVJZlcLY0Nx4"
      }
    },
    {
      "cell_type": "code",
      "source": [
        "#image_url = \"https://upload.wikimedia.org/wikipedia/commons/9/99/Sample_User_Icon.png\"\n",
        "image_url = \"https://upload.wikimedia.org/wikipedia/commons/1/18/Dog_Breeds.jpg\"\n",
        "image = Image.open(requests.get(image_url, stream=True).raw)"
      ],
      "metadata": {
        "id": "ZYikcr7i0QSO"
      },
      "execution_count": 42,
      "outputs": []
    },
    {
      "cell_type": "markdown",
      "source": [
        "##**3. Prepare Text Descriptions**"
      ],
      "metadata": {
        "id": "KvH5C_DB0Wef"
      }
    },
    {
      "cell_type": "code",
      "source": [
        "texts = [\n",
        "    \"a user avatar\",\n",
        "    \"a person icon\",\n",
        "    \"a dog\",\n",
        "    \"a landscape image\",\n",
        "    \"an icon of a person\"\n",
        "]\n"
      ],
      "metadata": {
        "id": "qa5f_u-70Yxr"
      },
      "execution_count": 28,
      "outputs": []
    },
    {
      "cell_type": "markdown",
      "source": [
        "##**4. Preprocess the Image and Texts Together**"
      ],
      "metadata": {
        "id": "qPDftD3o0khp"
      }
    },
    {
      "cell_type": "code",
      "source": [
        "inputs = processor(text=texts, images=image, return_tensors=\"pt\", padding=True)"
      ],
      "metadata": {
        "id": "R9bmpgTw0V5o"
      },
      "execution_count": 29,
      "outputs": []
    },
    {
      "cell_type": "markdown",
      "source": [
        "##**5. Compute Embeddings**"
      ],
      "metadata": {
        "id": "2ok5-YbJ0tbn"
      }
    },
    {
      "cell_type": "code",
      "source": [
        "with torch.no_grad():\n",
        "    outputs = model(**inputs)\n",
        "    image_embeds = outputs.image_embeds\n",
        "    text_embeds = outputs.text_embeds"
      ],
      "metadata": {
        "id": "Hrr52SrO01aQ"
      },
      "execution_count": 30,
      "outputs": []
    },
    {
      "cell_type": "code",
      "source": [
        "print(\"Image:\",image_embeds)\n",
        "print(\"Text:\",text_embeds)"
      ],
      "metadata": {
        "colab": {
          "base_uri": "https://localhost:8080/"
        },
        "id": "D-kjJlu31kLT",
        "outputId": "2afc2ee8-978f-4df3-8143-0a51499738ea"
      },
      "execution_count": 31,
      "outputs": [
        {
          "output_type": "stream",
          "name": "stdout",
          "text": [
            "Image: tensor([[-9.5081e-03, -9.0552e-03,  1.7284e-02, -2.8210e-02,  3.4596e-02,\n",
            "         -7.6915e-02,  5.7895e-02,  7.4794e-03, -5.4263e-03,  1.2266e-02,\n",
            "         -2.4470e-02,  6.0751e-03,  2.9895e-02, -1.2416e-02,  6.2213e-02,\n",
            "         -9.1396e-04,  6.9065e-02, -7.7196e-03,  2.7649e-02,  1.0681e-02,\n",
            "         -4.7986e-02, -1.4231e-02,  2.4457e-02, -4.5163e-02, -2.4123e-02,\n",
            "         -8.4966e-03,  1.2040e-02, -8.7617e-04, -1.3559e-02,  1.3047e-03,\n",
            "          1.1148e-02,  3.3815e-02, -1.8869e-02, -2.3130e-02,  6.6858e-03,\n",
            "          3.9781e-02, -1.0485e-05,  4.2415e-02, -4.1874e-02,  1.2993e-01,\n",
            "         -6.2737e-02, -3.4650e-02, -2.4691e-02, -1.7027e-02, -1.6323e-03,\n",
            "         -1.2661e-02, -1.2451e-02, -1.6207e-03,  2.9761e-02, -1.0381e-02,\n",
            "          2.9939e-03,  3.7208e-02,  7.1424e-03, -1.9409e-02,  1.3242e-02,\n",
            "          1.5935e-02,  2.0652e-02,  3.3049e-02, -3.4423e-02, -1.6699e-02,\n",
            "          1.2412e-01,  1.6245e-02,  4.8168e-02,  2.0641e-02, -1.7104e-02,\n",
            "         -4.2634e-02, -7.2182e-03,  5.0111e-02, -3.6175e-02,  2.2342e-02,\n",
            "          1.0018e-02, -6.5474e-03, -3.1467e-02, -1.1154e-03, -3.9488e-02,\n",
            "         -1.0838e-02, -8.8269e-03, -5.0063e-02,  4.7928e-03, -1.8416e-02,\n",
            "          2.1455e-02,  1.5634e-02, -3.4393e-02, -4.0531e-02,  4.7994e-02,\n",
            "          1.8327e-03,  6.8556e-02, -3.6372e-02,  3.3422e-02, -1.3736e-02,\n",
            "         -4.3089e-02, -2.4202e-02, -6.4314e-01,  4.0349e-02, -2.8582e-02,\n",
            "         -1.2020e-02, -8.0445e-03,  2.4184e-02, -1.2076e-01,  1.2375e-02,\n",
            "          3.1725e-02, -1.1346e-02,  6.8307e-03,  2.9682e-02,  1.9651e-02,\n",
            "          1.8943e-04,  4.9872e-02,  2.6573e-02, -5.8894e-04, -6.3084e-03,\n",
            "          3.2206e-02, -3.1263e-02,  1.5779e-02, -2.3396e-02,  6.3718e-03,\n",
            "          3.4858e-02, -2.2563e-02, -2.8237e-02, -2.4480e-04, -1.1327e-02,\n",
            "          3.5701e-02,  6.7731e-02,  5.7078e-02, -2.8820e-02,  1.2355e-02,\n",
            "         -2.5150e-02, -1.7389e-02,  4.5643e-02, -1.4299e-02, -2.1872e-02,\n",
            "          5.1020e-02,  1.2132e-02, -6.6299e-02,  8.3465e-02, -5.3980e-03,\n",
            "          7.7988e-03,  4.8931e-03, -5.0960e-02, -1.3973e-02, -1.0109e-02,\n",
            "         -4.8049e-03,  4.7149e-03, -2.1734e-02,  1.7013e-02, -6.6308e-02,\n",
            "          3.8704e-02, -8.2367e-03,  3.1071e-02, -2.6659e-02,  1.0854e-03,\n",
            "         -1.5967e-02,  3.1412e-02,  3.1500e-02, -3.1749e-02, -6.6225e-02,\n",
            "          2.1134e-02, -2.7394e-02, -4.1490e-02, -4.5259e-02,  1.5491e-02,\n",
            "         -3.2010e-02,  8.2649e-03, -1.7134e-02, -1.3224e-02,  5.0930e-02,\n",
            "         -2.2233e-02,  7.2624e-03,  2.0886e-02,  2.8352e-02,  4.3201e-02,\n",
            "          4.3811e-03,  1.0466e-02,  2.1652e-02, -3.3637e-02,  5.3156e-03,\n",
            "          7.1055e-03, -2.5470e-02, -3.3417e-02,  4.0533e-02,  7.0906e-03,\n",
            "         -2.7911e-02,  4.6868e-03,  3.3391e-02, -4.0736e-02, -5.0361e-03,\n",
            "         -3.2603e-02, -1.7198e-02, -1.7745e-02, -2.0971e-02,  9.4690e-04,\n",
            "          7.4020e-03,  2.1505e-02,  2.5443e-03, -7.4368e-03, -6.1921e-02,\n",
            "          1.5243e-02, -5.6306e-03, -2.0800e-02, -1.0360e-01, -2.9427e-02,\n",
            "          6.9684e-03, -1.7630e-02,  5.4832e-03,  3.7652e-02, -4.9422e-02,\n",
            "         -4.8830e-02, -1.6389e-02, -4.4903e-02, -2.6165e-02,  6.1863e-02,\n",
            "          2.9397e-02,  4.2923e-03,  7.4824e-03,  4.9766e-02, -2.6716e-02,\n",
            "          3.9396e-03, -1.4170e-02,  3.7882e-02,  1.2966e-01, -8.4436e-03,\n",
            "          5.1178e-02,  3.0776e-02,  1.7155e-02,  3.0345e-03, -3.1603e-04,\n",
            "         -1.0932e-02,  2.9578e-02, -5.1300e-03, -4.8134e-03,  6.7200e-03,\n",
            "          1.8026e-02,  1.7719e-02,  2.8971e-02,  5.7930e-02, -3.1842e-03,\n",
            "         -1.3068e-02,  3.4116e-03, -7.1898e-02,  3.0537e-02, -3.6547e-02,\n",
            "          2.1429e-02,  2.6306e-02,  2.2530e-02, -1.7882e-02,  9.5806e-04,\n",
            "          3.3551e-02, -3.2877e-03, -7.7048e-02,  4.4261e-02,  1.0785e-02,\n",
            "          2.7367e-02,  5.4533e-04,  5.2605e-02, -4.6943e-02,  1.8310e-02,\n",
            "          2.6846e-02,  5.3596e-03,  1.9881e-02, -4.2860e-02, -1.1912e-02,\n",
            "         -3.3925e-02,  3.3657e-02,  3.0615e-02, -8.6241e-03,  1.1836e-03,\n",
            "         -3.8698e-03, -4.8958e-02,  1.2052e-02, -6.4228e-03,  3.0388e-02,\n",
            "         -1.0495e-02,  1.9928e-02,  1.3247e-02,  1.7227e-03,  1.3082e-02,\n",
            "         -1.4726e-02,  5.0564e-04,  5.3265e-02, -4.1554e-04,  8.3020e-03,\n",
            "         -2.3226e-02, -6.2097e-03, -3.2763e-02, -4.2723e-02, -3.9680e-03,\n",
            "         -1.3322e-02, -3.8975e-02, -1.1344e-02, -2.4087e-03,  8.6994e-03,\n",
            "         -1.7754e-02,  4.4634e-03,  2.4990e-02,  2.4358e-02, -1.4063e-02,\n",
            "          1.4128e-02, -1.9568e-02,  2.1947e-02,  4.7560e-02, -1.6382e-02,\n",
            "         -2.2794e-02, -1.5455e-02, -2.9340e-02, -2.0206e-02,  2.7396e-02,\n",
            "         -1.8701e-03,  9.5863e-03,  4.3662e-02,  2.2260e-02,  1.7001e-02,\n",
            "         -3.0689e-02,  4.2797e-02,  8.3302e-02, -3.0022e-02,  2.1432e-02,\n",
            "         -3.4380e-02,  1.8558e-02,  2.7275e-02, -6.1197e-02, -5.3425e-02,\n",
            "          7.2756e-02,  1.0207e-01, -1.8283e-02,  1.1075e-02,  1.2943e-02,\n",
            "         -1.8171e-02,  1.2345e-02,  2.9280e-02,  1.1014e-02, -6.9615e-03,\n",
            "         -1.1133e-02, -4.1805e-02,  1.1993e-02, -3.4103e-02,  1.8757e-02,\n",
            "         -4.4013e-03,  2.8989e-02,  4.6501e-02,  2.3053e-02, -3.4988e-02,\n",
            "         -2.2861e-03, -4.7408e-02, -5.5059e-03,  2.7451e-02,  1.1612e-02,\n",
            "          3.9577e-02,  7.6891e-03,  1.7209e-02,  9.0776e-03, -1.8536e-02,\n",
            "         -7.2440e-02,  2.0098e-02,  2.0566e-02, -6.3157e-04, -1.0442e-02,\n",
            "          4.5863e-02,  2.0000e-02, -8.5275e-02,  2.0594e-02, -2.5183e-02,\n",
            "          2.5267e-02, -3.2736e-02, -1.0976e-03,  1.1199e-02, -5.7279e-02,\n",
            "          1.5685e-02, -3.4295e-02, -3.7813e-02, -4.5599e-02, -9.7317e-03,\n",
            "         -1.0410e-02,  1.5743e-02, -1.0899e-02,  7.6523e-03, -2.6189e-02,\n",
            "         -1.9498e-02,  1.6620e-01,  4.9654e-03,  2.3014e-02,  6.3567e-02,\n",
            "          5.2655e-02, -5.3476e-02,  1.5028e-02, -2.2176e-02,  3.3836e-02,\n",
            "         -3.9313e-02, -5.6303e-02, -7.7126e-03,  1.1471e-02, -9.7899e-02,\n",
            "          9.6909e-03, -9.6734e-02,  1.5980e-02, -5.1770e-03,  2.5635e-03,\n",
            "         -1.9732e-02, -1.8076e-02, -9.3012e-03, -9.2530e-02, -5.2194e-02,\n",
            "          5.5383e-03,  1.0592e-02,  1.2090e-02, -8.3567e-03,  3.1054e-02,\n",
            "         -2.6985e-02,  1.7426e-03, -4.4369e-02,  5.2089e-02, -1.2293e-02,\n",
            "          6.8689e-02, -3.6973e-02, -2.9545e-02, -2.9653e-02, -2.5320e-02,\n",
            "          1.0133e-02, -2.1648e-03,  3.6462e-02, -2.8039e-03, -5.0597e-02,\n",
            "          1.5132e-02,  1.1549e-03, -3.8987e-03, -6.5352e-02,  2.0579e-03,\n",
            "         -1.0972e-02, -8.2114e-03, -9.4986e-03, -1.0061e-01, -5.5742e-03,\n",
            "         -1.4015e-02,  8.1522e-03,  1.2046e-02, -9.9503e-03, -1.2564e-02,\n",
            "         -3.9230e-02, -7.5433e-02,  4.5656e-02,  1.7923e-02, -1.5023e-02,\n",
            "         -8.2566e-03,  1.6729e-02,  9.4882e-03,  9.0222e-03,  4.8479e-02,\n",
            "          5.9593e-03, -3.0171e-03,  2.0363e-02, -3.7268e-02,  8.8588e-03,\n",
            "         -2.2017e-02, -3.0707e-03,  4.6601e-02,  3.8114e-02, -1.8569e-03,\n",
            "         -3.1468e-02,  3.1035e-02,  1.1572e-03,  2.2358e-02,  3.3995e-02,\n",
            "          2.8473e-03,  4.0979e-02,  5.5059e-03, -1.1334e-02,  7.4482e-02,\n",
            "          5.5223e-03, -3.8223e-02,  2.1249e-02, -4.1045e-02, -2.7169e-02,\n",
            "          4.2462e-02, -3.5513e-03, -4.6922e-02, -1.7504e-02,  7.8758e-03,\n",
            "         -2.2955e-02, -2.5320e-02, -2.7486e-02,  1.4539e-02, -1.4612e-02,\n",
            "          1.4604e-02, -1.4243e-02, -2.0361e-02, -3.2438e-02, -5.2453e-03,\n",
            "          1.2935e-02, -1.7784e-02, -2.8730e-02, -1.6417e-02, -1.6216e-02,\n",
            "         -5.4482e-02, -2.9560e-02,  4.8452e-02, -2.2797e-02,  1.2406e-02,\n",
            "          2.2201e-03,  1.9387e-02,  6.3763e-02, -5.2042e-02, -1.7006e-02,\n",
            "         -2.0427e-02, -5.6726e-03,  5.9560e-03, -8.3290e-03, -2.7540e-04,\n",
            "          1.1629e-02,  2.2766e-03, -1.2494e-02, -5.3802e-02,  3.4429e-02,\n",
            "          1.8271e-02, -2.3441e-02]])\n",
            "Text: tensor([[-0.0076,  0.0180,  0.0309,  ..., -0.0138, -0.0153,  0.0015],\n",
            "        [ 0.0170,  0.0103, -0.0139,  ..., -0.0565, -0.0127, -0.0099],\n",
            "        [ 0.0127,  0.0020, -0.0256,  ..., -0.0393, -0.0300,  0.0158],\n",
            "        [ 0.0151,  0.0151,  0.0226,  ..., -0.0348, -0.0341,  0.0027],\n",
            "        [ 0.0247,  0.0047,  0.0004,  ..., -0.0746, -0.0094, -0.0096]])\n"
          ]
        }
      ]
    },
    {
      "cell_type": "markdown",
      "source": [
        "##**6. Compute Similarity Scores**"
      ],
      "metadata": {
        "id": "ErKIx0tW06m0"
      }
    },
    {
      "cell_type": "code",
      "source": [
        "similarities = torch.nn.functional.cosine_similarity(image_embeds, text_embeds)"
      ],
      "metadata": {
        "id": "GMxTBndN0-E5"
      },
      "execution_count": 32,
      "outputs": []
    },
    {
      "cell_type": "markdown",
      "source": [
        "##**7. Display Results**"
      ],
      "metadata": {
        "id": "M_WrkTdz1DEo"
      }
    },
    {
      "cell_type": "code",
      "source": [
        "for text, score in zip(texts, similarities):\n",
        "    print(f\"'{text}' similarity: {score.item():.4f}\")"
      ],
      "metadata": {
        "colab": {
          "base_uri": "https://localhost:8080/"
        },
        "id": "S-5tvBrG1CqB",
        "outputId": "ae256f9c-afb7-47aa-b1c2-6b20e6c1f81a"
      },
      "execution_count": 33,
      "outputs": [
        {
          "output_type": "stream",
          "name": "stdout",
          "text": [
            "'a user avatar' similarity: 0.2144\n",
            "'a person icon' similarity: 0.2213\n",
            "'a dog' similarity: 0.2643\n",
            "'a landscape image' similarity: 0.1970\n",
            "'an icon of a person' similarity: 0.2102\n"
          ]
        }
      ]
    }
  ]
}
