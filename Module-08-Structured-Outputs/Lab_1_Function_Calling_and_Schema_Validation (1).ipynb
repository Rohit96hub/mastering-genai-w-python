{
  "nbformat": 4,
  "nbformat_minor": 0,
  "metadata": {
    "colab": {
      "provenance": []
    },
    "kernelspec": {
      "name": "python3",
      "display_name": "Python 3"
    },
    "language_info": {
      "name": "python"
    }
  },
  "cells": [
    {
      "cell_type": "markdown",
      "source": [
        "# **Function Calling to Generate JSON data**\n",
        "\n",
        " #### **✅ Problem:**\n",
        "\n",
        "LLMs often generate unstructured or loosely structured responses. This makes it hard to reliably extract data for downstream processing. Simply prompting the model to output JSON is not reliable, especially in complex scenarios.\n",
        "\n",
        "**Challenge:** How can we get structured, validated JSON output reliably from a language model?\n",
        "\n",
        "\n",
        "####**🛠️ Solution:**\n",
        "\n",
        "This lab demonstrates the use of OpenAI Function Calling, a mechanism where:\n",
        "\n",
        "- You define a function signature (including parameter names, types, and descriptions).\n",
        "\n",
        "- The model is guided to generate arguments in JSON format that match the signature.\n",
        "\n",
        "- OpenAI automatically parses this into structured data you can pass to real functions.\n",
        "\n",
        "\n",
        "Think of this as a contract-driven way of interacting with LLMs."
      ],
      "metadata": {
        "id": "Y4Mn2RjE7FYs"
      }
    },
    {
      "cell_type": "markdown",
      "source": [
        "##**0. Install Dependencies**"
      ],
      "metadata": {
        "id": "nqiYvlC67VSK"
      }
    },
    {
      "cell_type": "code",
      "source": [
        "!pip install openai pydantic"
      ],
      "metadata": {
        "colab": {
          "base_uri": "https://localhost:8080/"
        },
        "collapsed": true,
        "id": "ei5qF7Su9bCX",
        "outputId": "4a58086a-78b0-40d6-ef17-2056325311dd"
      },
      "execution_count": 2,
      "outputs": [
        {
          "output_type": "stream",
          "name": "stdout",
          "text": [
            "Requirement already satisfied: openai in /usr/local/lib/python3.11/dist-packages (1.78.1)\n",
            "Requirement already satisfied: pydantic in /usr/local/lib/python3.11/dist-packages (2.11.4)\n",
            "Requirement already satisfied: anyio<5,>=3.5.0 in /usr/local/lib/python3.11/dist-packages (from openai) (4.9.0)\n",
            "Requirement already satisfied: distro<2,>=1.7.0 in /usr/local/lib/python3.11/dist-packages (from openai) (1.9.0)\n",
            "Requirement already satisfied: httpx<1,>=0.23.0 in /usr/local/lib/python3.11/dist-packages (from openai) (0.28.1)\n",
            "Requirement already satisfied: jiter<1,>=0.4.0 in /usr/local/lib/python3.11/dist-packages (from openai) (0.9.0)\n",
            "Requirement already satisfied: sniffio in /usr/local/lib/python3.11/dist-packages (from openai) (1.3.1)\n",
            "Requirement already satisfied: tqdm>4 in /usr/local/lib/python3.11/dist-packages (from openai) (4.67.1)\n",
            "Requirement already satisfied: typing-extensions<5,>=4.11 in /usr/local/lib/python3.11/dist-packages (from openai) (4.13.2)\n",
            "Requirement already satisfied: annotated-types>=0.6.0 in /usr/local/lib/python3.11/dist-packages (from pydantic) (0.7.0)\n",
            "Requirement already satisfied: pydantic-core==2.33.2 in /usr/local/lib/python3.11/dist-packages (from pydantic) (2.33.2)\n",
            "Requirement already satisfied: typing-inspection>=0.4.0 in /usr/local/lib/python3.11/dist-packages (from pydantic) (0.4.0)\n",
            "Requirement already satisfied: idna>=2.8 in /usr/local/lib/python3.11/dist-packages (from anyio<5,>=3.5.0->openai) (3.10)\n",
            "Requirement already satisfied: certifi in /usr/local/lib/python3.11/dist-packages (from httpx<1,>=0.23.0->openai) (2025.4.26)\n",
            "Requirement already satisfied: httpcore==1.* in /usr/local/lib/python3.11/dist-packages (from httpx<1,>=0.23.0->openai) (1.0.9)\n",
            "Requirement already satisfied: h11>=0.16 in /usr/local/lib/python3.11/dist-packages (from httpcore==1.*->httpx<1,>=0.23.0->openai) (0.16.0)\n"
          ]
        }
      ]
    },
    {
      "cell_type": "markdown",
      "source": [
        "##**2. Get API key from Secret**"
      ],
      "metadata": {
        "id": "Iwcm5J8i7b66"
      }
    },
    {
      "cell_type": "code",
      "source": [
        "from google.colab import userdata\n",
        "# Retrieve the API key from Colab's secrets\n",
        "api_key = userdata.get('OPENAI_API_KEY')"
      ],
      "metadata": {
        "id": "vi_SQXuI-ElE"
      },
      "execution_count": 3,
      "outputs": []
    },
    {
      "cell_type": "markdown",
      "source": [
        "##**3. Python Code**"
      ],
      "metadata": {
        "id": "WeatNbut7kJG"
      }
    },
    {
      "cell_type": "code",
      "execution_count": 28,
      "metadata": {
        "colab": {
          "base_uri": "https://localhost:8080/"
        },
        "id": "_Sx8qvWB878o",
        "outputId": "ae47dbb9-b492-49b2-efdc-d9925f911246"
      },
      "outputs": [
        {
          "output_type": "stream",
          "name": "stdout",
          "text": [
            "{'name': 'Ritu Patil', 'age': 30, 'salary': 35000, 'city': 'Pune'}\n"
          ]
        }
      ],
      "source": [
        "from openai import OpenAI\n",
        "\n",
        "client = OpenAI(api_key=api_key)\n",
        "\n",
        "response = client.chat.completions.create(\n",
        "    model=\"gpt-3.5-turbo\",\n",
        "    messages=[\n",
        "        {\n",
        "            \"role\": \"user\",\n",
        "            \"content\": \"Extract name, age, and city from the sentence: Ritu Patil is 30 and lives in Pune. she earns $35000 per month\",\n",
        "        }\n",
        "    ],\n",
        "    tools=[\n",
        "        {\n",
        "            \"type\": \"function\",\n",
        "            \"function\": {\n",
        "                \"name\": \"extract_person_info\",\n",
        "                \"description\": \"Extract name, age, and city from text\",\n",
        "                \"parameters\": {\n",
        "                    \"type\": \"object\",\n",
        "                    \"properties\": {\n",
        "                        \"name\": {\"type\": \"string\"},\n",
        "                        \"age\": {\"type\": \"integer\"},\n",
        "                        \"salary\": {\"type\": \"integer\"},\n",
        "                        \"city\": {\"type\": \"string\"},\n",
        "                    },\n",
        "                    \"required\": [\"name\", \"age\",\"salary\",\"city\"],\n",
        "                },\n",
        "            },\n",
        "        }\n",
        "    ],\n",
        "    tool_choice=\"auto\",\n",
        ")\n",
        "\n",
        "# Extract the structured response\n",
        "tool_calls = response.choices[0].message.tool_calls\n",
        "arguments = tool_calls[0].function.arguments\n",
        "\n",
        "import json\n",
        "parsed = json.loads(arguments)\n",
        "print(parsed)"
      ]
    },
    {
      "cell_type": "code",
      "source": [
        "print(\"Yearly Bonus = $\", parsed['salary']*2)"
      ],
      "metadata": {
        "colab": {
          "base_uri": "https://localhost:8080/"
        },
        "id": "Nr6g3bO3q67N",
        "outputId": "593c7b2c-ef57-4f15-82cf-0573b102de9c"
      },
      "execution_count": 30,
      "outputs": [
        {
          "output_type": "stream",
          "name": "stdout",
          "text": [
            "Yearly Bonus = $ 70000\n"
          ]
        }
      ]
    },
    {
      "cell_type": "markdown",
      "source": [
        "#**Validate using Pydantic**"
      ],
      "metadata": {
        "id": "NVmTWIu396WR"
      }
    },
    {
      "cell_type": "code",
      "source": [
        "from pydantic import BaseModel, ValidationError\n",
        "import json\n",
        "from openai import OpenAI\n",
        "\n",
        "# Define your API client\n",
        "client = OpenAI(api_key=api_key)\n",
        "\n",
        "# Step 1: Define a Pydantic model\n",
        "class PersonInfo(BaseModel):\n",
        "    name: str\n",
        "    age: int\n",
        "    salary: int\n",
        "    city: str\n",
        "\n",
        "# Step 2: Get the structured output from OpenAI function call\n",
        "response = client.chat.completions.create(\n",
        "    model=\"gpt-4o-mini\",\n",
        "    messages=[\n",
        "        {\n",
        "            \"role\": \"user\",\n",
        "            \"content\": \"Extract name, age, and city from the sentence: Ritu Patil is 30 and lives in Pune. she earns $35000 per month\",\n",
        "        }\n",
        "    ],\n",
        "    tools=[\n",
        "        {\n",
        "            \"type\": \"function\",\n",
        "            \"function\": {\n",
        "                \"name\": \"extract_person_info\",\n",
        "                \"description\": \"Extract name, age, and city and salary from text\",\n",
        "                \"parameters\": {\n",
        "                    \"type\": \"object\",\n",
        "                    \"properties\": {\n",
        "                        \"name\": {\"type\": \"string\"},\n",
        "                        \"age\": {\"type\": \"integer\"},\n",
        "                       # \"salary\": {\"type\": \"integer\"},\n",
        "                        \"salary\": {\"type\": \"string\"},\n",
        "                        \"city\": {\"type\": \"string\"},\n",
        "                    },\n",
        "                    \"required\": [\"name\", \"age\", \"salary\" \"city\"],\n",
        "                },\n",
        "            },\n",
        "        }\n",
        "    ],\n",
        "    tool_choice=\"auto\",\n",
        ")\n",
        "\n",
        "# Step 3: Extract and parse tool call arguments\n",
        "tool_calls = response.choices[0].message.tool_calls\n",
        "arguments = tool_calls[0].function.arguments\n",
        "parsed = json.loads(arguments)\n",
        "print(parsed)\n",
        "\n",
        "# Step 4: Validate using Pydantic\n",
        "try:\n",
        "    validated = PersonInfo(**parsed)\n",
        "    print(\"\\n✅ Validated:\", validated)\n",
        "except ValidationError as ve:\n",
        "    print(\"❌ Validation Error:\", ve)\n"
      ],
      "metadata": {
        "colab": {
          "base_uri": "https://localhost:8080/"
        },
        "id": "J1-pVr_3-GA6",
        "outputId": "ae0abc62-d2a3-4673-82cf-3aeebccb7b93"
      },
      "execution_count": 17,
      "outputs": [
        {
          "output_type": "stream",
          "name": "stdout",
          "text": [
            "{'name': 'Ritu Patil', 'age': 30, 'city': 'Pune', 'salary': '$35000 per month'}\n",
            "❌ Validation Error: 1 validation error for PersonInfo\n",
            "salary\n",
            "  Input should be a valid integer, unable to parse string as an integer [type=int_parsing, input_value='$35000 per month', input_type=str]\n",
            "    For further information visit https://errors.pydantic.dev/2.11/v/int_parsing\n"
          ]
        }
      ]
    },
    {
      "cell_type": "code",
      "source": [
        "print(\"Yearly Bonus =\", parsed['salary']*2)"
      ],
      "metadata": {
        "colab": {
          "base_uri": "https://localhost:8080/"
        },
        "id": "E7lkdxVPquOR",
        "outputId": "af677ce0-8533-4269-be66-fc7fd3f4ebb0"
      },
      "execution_count": 25,
      "outputs": [
        {
          "output_type": "stream",
          "name": "stdout",
          "text": [
            "Yearly Bonus = $35000 per month$35000 per month\n"
          ]
        }
      ]
    },
    {
      "cell_type": "code",
      "source": [
        "print(parsed['age']*2)"
      ],
      "metadata": {
        "colab": {
          "base_uri": "https://localhost:8080/"
        },
        "id": "y9M-wHrtqRwH",
        "outputId": "7cfe8d01-70be-4d88-9397-3f0e390520a7"
      },
      "execution_count": 23,
      "outputs": [
        {
          "output_type": "stream",
          "name": "stdout",
          "text": [
            "60\n"
          ]
        }
      ]
    }
  ]
}