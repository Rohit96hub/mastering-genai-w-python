{
  "nbformat": 4,
  "nbformat_minor": 0,
  "metadata": {
    "colab": {
      "provenance": []
    },
    "kernelspec": {
      "name": "python3",
      "display_name": "Python 3"
    },
    "language_info": {
      "name": "python"
    }
  },
  "cells": [
    {
      "cell_type": "markdown",
      "source": [
        "# **Function Calling to Generate JSON data & Validate using Pydantic**\n",
        "#### **✅ Problem:**\n",
        "How can we get structured, validated JSON output reliably from a language model?\n",
        "####**🛠️ Solution:**\n",
        "* This lab demonstrates the use of OpenAI Function Calling as a contract-driven way of interacting with LLMs.\n",
        "* Using Pydantic Validate the generated data is matching the type or not?"
      ],
      "metadata": {
        "id": "Y4Mn2RjE7FYs"
      }
    },
    {
      "cell_type": "markdown",
      "source": [
        "### **Install Dependencies**"
      ],
      "metadata": {
        "id": "nqiYvlC67VSK"
      }
    },
    {
      "cell_type": "code",
      "source": [
        "!pip install openai pydantic"
      ],
      "metadata": {
        "colab": {
          "base_uri": "https://localhost:8080/"
        },
        "collapsed": true,
        "id": "ei5qF7Su9bCX",
        "outputId": "d48f8d96-3ee3-4e59-ae5c-4c7bc4c138df"
      },
      "execution_count": 2,
      "outputs": [
        {
          "output_type": "stream",
          "name": "stdout",
          "text": [
            "Requirement already satisfied: openai in /usr/local/lib/python3.11/dist-packages (1.81.0)\n",
            "Requirement already satisfied: pydantic in /usr/local/lib/python3.11/dist-packages (2.11.4)\n",
            "Requirement already satisfied: anyio<5,>=3.5.0 in /usr/local/lib/python3.11/dist-packages (from openai) (4.9.0)\n",
            "Requirement already satisfied: distro<2,>=1.7.0 in /usr/local/lib/python3.11/dist-packages (from openai) (1.9.0)\n",
            "Requirement already satisfied: httpx<1,>=0.23.0 in /usr/local/lib/python3.11/dist-packages (from openai) (0.28.1)\n",
            "Requirement already satisfied: jiter<1,>=0.4.0 in /usr/local/lib/python3.11/dist-packages (from openai) (0.10.0)\n",
            "Requirement already satisfied: sniffio in /usr/local/lib/python3.11/dist-packages (from openai) (1.3.1)\n",
            "Requirement already satisfied: tqdm>4 in /usr/local/lib/python3.11/dist-packages (from openai) (4.67.1)\n",
            "Requirement already satisfied: typing-extensions<5,>=4.11 in /usr/local/lib/python3.11/dist-packages (from openai) (4.13.2)\n",
            "Requirement already satisfied: annotated-types>=0.6.0 in /usr/local/lib/python3.11/dist-packages (from pydantic) (0.7.0)\n",
            "Requirement already satisfied: pydantic-core==2.33.2 in /usr/local/lib/python3.11/dist-packages (from pydantic) (2.33.2)\n",
            "Requirement already satisfied: typing-inspection>=0.4.0 in /usr/local/lib/python3.11/dist-packages (from pydantic) (0.4.1)\n",
            "Requirement already satisfied: idna>=2.8 in /usr/local/lib/python3.11/dist-packages (from anyio<5,>=3.5.0->openai) (3.10)\n",
            "Requirement already satisfied: certifi in /usr/local/lib/python3.11/dist-packages (from httpx<1,>=0.23.0->openai) (2025.4.26)\n",
            "Requirement already satisfied: httpcore==1.* in /usr/local/lib/python3.11/dist-packages (from httpx<1,>=0.23.0->openai) (1.0.9)\n",
            "Requirement already satisfied: h11>=0.16 in /usr/local/lib/python3.11/dist-packages (from httpcore==1.*->httpx<1,>=0.23.0->openai) (0.16.0)\n"
          ]
        }
      ]
    },
    {
      "cell_type": "markdown",
      "source": [
        "\n",
        "###**Retrive API key from Secrets and Set as an ENV**"
      ],
      "metadata": {
        "id": "1S-R1gAfd51x"
      }
    },
    {
      "cell_type": "code",
      "source": [
        "# Retrieve the API key from Colab's secrets\n",
        "from google.colab import userdata\n",
        "OPENAI_API_KEY = userdata.get('OPENAI_API_KEY')\n",
        "\n",
        "# Set OPENAI_API_KEY as an ENV\n",
        "import os\n",
        "os.environ['OPENAI_API_KEY'] = OPENAI_API_KEY"
      ],
      "metadata": {
        "id": "PQeP0uPcd3Uh"
      },
      "execution_count": 3,
      "outputs": []
    },
    {
      "cell_type": "code",
      "source": [
        "from openai import OpenAI\n",
        "client = OpenAI()"
      ],
      "metadata": {
        "id": "2U7sFapfi6-D"
      },
      "execution_count": 4,
      "outputs": []
    },
    {
      "cell_type": "markdown",
      "source": [
        "###**Python Code**"
      ],
      "metadata": {
        "id": "WeatNbut7kJG"
      }
    },
    {
      "cell_type": "code",
      "execution_count": 11,
      "metadata": {
        "colab": {
          "base_uri": "https://localhost:8080/"
        },
        "id": "_Sx8qvWB878o",
        "outputId": "b6d7e2f4-145a-4c7f-b8bf-0f5f6da628a5"
      },
      "outputs": [
        {
          "output_type": "stream",
          "name": "stdout",
          "text": [
            "{'name': 'Ritu Patil', 'age': 30, 'salary': 6000, 'city': 'Chicago'}\n"
          ]
        }
      ],
      "source": [
        "response = client.chat.completions.create(\n",
        "    model=\"gpt-3.5-turbo\",\n",
        "    messages=[\n",
        "        {\n",
        "            \"role\": \"user\",\n",
        "            \"content\": \"Extract name, age, and city from the sentence: Ritu Patil is 30 and lives in Chicago. she earns $6000 per month\",\n",
        "        }\n",
        "    ],\n",
        "    tools=[\n",
        "        {\n",
        "            \"type\": \"function\",\n",
        "            \"function\": {\n",
        "                \"name\": \"extract_person_info\",\n",
        "                \"description\": \"Extract name, age, and city from text\",\n",
        "                \"parameters\": {\n",
        "                    \"type\": \"object\",\n",
        "                    \"properties\": {\n",
        "                        \"name\": {\"type\": \"string\"},\n",
        "                        \"age\": {\"type\": \"integer\"},\n",
        "                        \"salary\": {\"type\": \"integer\"},\n",
        "                        \"city\": {\"type\": \"string\"},\n",
        "                    },\n",
        "                    \"required\": [\"name\", \"age\",\"salary\",\"city\"],\n",
        "                },\n",
        "            },\n",
        "        }\n",
        "    ],\n",
        "    tool_choice=\"auto\",\n",
        ")\n",
        "\n",
        "# Extract the structured response\n",
        "tool_calls = response.choices[0].message.tool_calls\n",
        "arguments = tool_calls[0].function.arguments\n",
        "\n",
        "import json\n",
        "parsed = json.loads(arguments)\n",
        "print(parsed)"
      ]
    },
    {
      "cell_type": "code",
      "source": [
        "print(\"Yearly Bonus = $\", parsed['salary']*2)"
      ],
      "metadata": {
        "colab": {
          "base_uri": "https://localhost:8080/"
        },
        "id": "Nr6g3bO3q67N",
        "outputId": "ca7ec58f-ac1a-453e-f711-0238a19fa11f"
      },
      "execution_count": 12,
      "outputs": [
        {
          "output_type": "stream",
          "name": "stdout",
          "text": [
            "Yearly Bonus = $ 12000\n"
          ]
        }
      ]
    },
    {
      "cell_type": "markdown",
      "source": [
        "#**Validate using Pydantic**"
      ],
      "metadata": {
        "id": "NVmTWIu396WR"
      }
    },
    {
      "cell_type": "code",
      "source": [
        "from pydantic import BaseModel, ValidationError\n",
        "import json\n",
        "\n",
        "# Step 1: Define a Pydantic model\n",
        "class PersonInfo(BaseModel):\n",
        "    name: str\n",
        "    age: int\n",
        "    salary: int\n",
        "    city: str\n",
        "\n",
        "# Step 2: Get the structured output from OpenAI function call\n",
        "response = client.chat.completions.create(\n",
        "    model=\"gpt-4o-mini\",\n",
        "    messages=[\n",
        "        {\n",
        "            \"role\": \"user\",\n",
        "            \"content\": \"Extract name, age, and city from the sentence: Ritu Patil is 30 and lives in Chicago. she earns $6000 per month\",\n",
        "        }\n",
        "    ],\n",
        "    tools=[\n",
        "        {\n",
        "            \"type\": \"function\",\n",
        "            \"function\": {\n",
        "                \"name\": \"extract_person_info\",\n",
        "                \"description\": \"Extract name, age, and city and salary from text\",\n",
        "                \"parameters\": {\n",
        "                    \"type\": \"object\",\n",
        "                    \"properties\": {\n",
        "                        \"name\": {\"type\": \"string\"},\n",
        "                        \"age\": {\"type\": \"integer\"},\n",
        "                       # \"salary\": {\"type\": \"integer\"},\n",
        "                        \"salary\": {\"type\": \"string\"},\n",
        "                        \"city\": {\"type\": \"string\"},\n",
        "                    },\n",
        "                    \"required\": [\"name\", \"age\", \"salary\" \"city\"],\n",
        "                },\n",
        "            },\n",
        "        }\n",
        "    ],\n",
        "    tool_choice=\"auto\",\n",
        ")\n",
        "\n",
        "# Step 3: Extract and parse tool call arguments\n",
        "tool_calls = response.choices[0].message.tool_calls\n",
        "arguments = tool_calls[0].function.arguments\n",
        "parsed = json.loads(arguments)\n",
        "print(parsed)\n",
        "\n",
        "# Step 4: Validate using Pydantic\n",
        "try:\n",
        "    validated = PersonInfo(**parsed)\n",
        "    print(\"\\n✅ Validated:\", validated)\n",
        "except ValidationError as ve:\n",
        "    print(\"❌ Validation Error:\", ve)\n"
      ],
      "metadata": {
        "colab": {
          "base_uri": "https://localhost:8080/"
        },
        "id": "J1-pVr_3-GA6",
        "outputId": "ab1ab8a8-268e-4d07-b9a4-a6bd801d56d3"
      },
      "execution_count": 16,
      "outputs": [
        {
          "output_type": "stream",
          "name": "stdout",
          "text": [
            "{'name': 'Ritu Patil', 'age': 30, 'salary': '$6000 per month', 'city': 'Chicago'}\n",
            "❌ Validation Error: 1 validation error for PersonInfo\n",
            "salary\n",
            "  Input should be a valid integer, unable to parse string as an integer [type=int_parsing, input_value='$6000 per month', input_type=str]\n",
            "    For further information visit https://errors.pydantic.dev/2.11/v/int_parsing\n"
          ]
        }
      ]
    },
    {
      "cell_type": "code",
      "source": [
        "print(\"Yearly Bonus =\", parsed['salary']*2)"
      ],
      "metadata": {
        "colab": {
          "base_uri": "https://localhost:8080/"
        },
        "id": "E7lkdxVPquOR",
        "outputId": "eece3b42-43a6-44d7-b7ac-c30f6d5e72f6"
      },
      "execution_count": 14,
      "outputs": [
        {
          "output_type": "stream",
          "name": "stdout",
          "text": [
            "Yearly Bonus = $6000 per month$6000 per month\n"
          ]
        }
      ]
    },
    {
      "cell_type": "code",
      "source": [
        "print(parsed['age']*2)"
      ],
      "metadata": {
        "colab": {
          "base_uri": "https://localhost:8080/"
        },
        "id": "y9M-wHrtqRwH",
        "outputId": "2d526e1e-3fb9-4eef-8b21-33e97482f45f"
      },
      "execution_count": 15,
      "outputs": [
        {
          "output_type": "stream",
          "name": "stdout",
          "text": [
            "60\n"
          ]
        }
      ]
    }
  ]
}