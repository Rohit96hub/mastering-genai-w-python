{
  "nbformat": 4,
  "nbformat_minor": 0,
  "metadata": {
    "colab": {
      "provenance": []
    },
    "kernelspec": {
      "name": "python3",
      "display_name": "Python 3"
    },
    "language_info": {
      "name": "python"
    }
  },
  "cells": [
    {
      "cell_type": "markdown",
      "source": [
        "#**Reliable JSON Output Generation with LLM, Parsing the JSON output for error handling & Pydantic (for JSON Schema Validation)**"
      ],
      "metadata": {
        "id": "SUid2-yaD8Sp"
      }
    },
    {
      "cell_type": "markdown",
      "source": [
        "##**0. Install Dependencies**"
      ],
      "metadata": {
        "id": "4dWIMoBlGnd4"
      }
    },
    {
      "cell_type": "code",
      "source": [
        "!pip install pydantic openai"
      ],
      "metadata": {
        "colab": {
          "base_uri": "https://localhost:8080/"
        },
        "collapsed": true,
        "id": "Qbw79rSNGuAt",
        "outputId": "f3e66e67-d95d-4e4a-a53c-3aaa038a210b"
      },
      "execution_count": 1,
      "outputs": [
        {
          "output_type": "stream",
          "name": "stdout",
          "text": [
            "Requirement already satisfied: pydantic in /usr/local/lib/python3.11/dist-packages (2.11.3)\n",
            "Requirement already satisfied: openai in /usr/local/lib/python3.11/dist-packages (1.76.0)\n",
            "Requirement already satisfied: annotated-types>=0.6.0 in /usr/local/lib/python3.11/dist-packages (from pydantic) (0.7.0)\n",
            "Requirement already satisfied: pydantic-core==2.33.1 in /usr/local/lib/python3.11/dist-packages (from pydantic) (2.33.1)\n",
            "Requirement already satisfied: typing-extensions>=4.12.2 in /usr/local/lib/python3.11/dist-packages (from pydantic) (4.13.2)\n",
            "Requirement already satisfied: typing-inspection>=0.4.0 in /usr/local/lib/python3.11/dist-packages (from pydantic) (0.4.0)\n",
            "Requirement already satisfied: anyio<5,>=3.5.0 in /usr/local/lib/python3.11/dist-packages (from openai) (4.9.0)\n",
            "Requirement already satisfied: distro<2,>=1.7.0 in /usr/local/lib/python3.11/dist-packages (from openai) (1.9.0)\n",
            "Requirement already satisfied: httpx<1,>=0.23.0 in /usr/local/lib/python3.11/dist-packages (from openai) (0.28.1)\n",
            "Requirement already satisfied: jiter<1,>=0.4.0 in /usr/local/lib/python3.11/dist-packages (from openai) (0.9.0)\n",
            "Requirement already satisfied: sniffio in /usr/local/lib/python3.11/dist-packages (from openai) (1.3.1)\n",
            "Requirement already satisfied: tqdm>4 in /usr/local/lib/python3.11/dist-packages (from openai) (4.67.1)\n",
            "Requirement already satisfied: idna>=2.8 in /usr/local/lib/python3.11/dist-packages (from anyio<5,>=3.5.0->openai) (3.10)\n",
            "Requirement already satisfied: certifi in /usr/local/lib/python3.11/dist-packages (from httpx<1,>=0.23.0->openai) (2025.4.26)\n",
            "Requirement already satisfied: httpcore==1.* in /usr/local/lib/python3.11/dist-packages (from httpx<1,>=0.23.0->openai) (1.0.9)\n",
            "Requirement already satisfied: h11>=0.16 in /usr/local/lib/python3.11/dist-packages (from httpcore==1.*->httpx<1,>=0.23.0->openai) (0.16.0)\n"
          ]
        }
      ]
    },
    {
      "cell_type": "markdown",
      "source": [
        "##**1. Import Required Modules**"
      ],
      "metadata": {
        "id": "B40xz4ELGfEI"
      }
    },
    {
      "cell_type": "code",
      "execution_count": 11,
      "metadata": {
        "id": "m5czD9KVD7Eo"
      },
      "outputs": [],
      "source": [
        "import json\n",
        "from typing import Dict\n",
        "from pydantic import BaseModel, ValidationError, RootModel\n",
        "from openai import OpenAI"
      ]
    },
    {
      "cell_type": "markdown",
      "source": [
        "##**2. Get API key from Secret**"
      ],
      "metadata": {
        "id": "Iwcm5J8i7b66"
      }
    },
    {
      "cell_type": "code",
      "source": [
        "from google.colab import userdata\n",
        "# Retrieve the API key from Colab's secrets\n",
        "api_key = userdata.get('OPENAI_API_KEY')"
      ],
      "metadata": {
        "id": "vi_SQXuI-ElE"
      },
      "execution_count": 12,
      "outputs": []
    },
    {
      "cell_type": "markdown",
      "source": [
        "##**3. Set Up OpenAI Client**"
      ],
      "metadata": {
        "id": "sJBIAfZfGxhZ"
      }
    },
    {
      "cell_type": "code",
      "source": [
        "# Set your OpenAI API key\n",
        "client = OpenAI(api_key=api_key)"
      ],
      "metadata": {
        "id": "sRXBBbr6HDnr"
      },
      "execution_count": 13,
      "outputs": []
    },
    {
      "cell_type": "markdown",
      "source": [
        "##**4. Define Pydantic Models**"
      ],
      "metadata": {
        "id": "VdGDTAxmHuro"
      }
    },
    {
      "cell_type": "code",
      "source": [
        "class PersonInfo(BaseModel):\n",
        "    name: str\n",
        "    age: int\n",
        "    city: str\n",
        "\n",
        "# Using RootModel to support JSON like {\"employee1\": {...}, \"employee2\": {...}}\n",
        "class EmployeeDict(RootModel[Dict[str, PersonInfo]]):\n",
        "    pass\n"
      ],
      "metadata": {
        "id": "251su8AWH07s"
      },
      "execution_count": 20,
      "outputs": []
    },
    {
      "cell_type": "markdown",
      "source": [
        "##**5. Compose Prompt and Call GPT**\n",
        "- JSON Output Generation\n",
        "- Parsing the JSON output for error handling\n",
        "- Schema validation"
      ],
      "metadata": {
        "id": "IB4Mgek4H-WW"
      }
    },
    {
      "cell_type": "code",
      "source": [
        "#JSON Output Generation\n",
        "prompt = \"\"\"\n",
        "Generate name, age, and city of 5 employees like employee1, employee2 etc.\n",
        "Respond ONLY with a JSON object.\n",
        "\"\"\"\n",
        "\n",
        "try:\n",
        "    response = client.chat.completions.create(\n",
        "        model=\"gpt-4\",\n",
        "        messages=[{\"role\": \"user\", \"content\": prompt}]\n",
        "    )\n",
        "    output = response.choices[0].message.content.strip()\n",
        "    print(\"Raw output:\\n\", output)\n",
        "\n",
        "    try:\n",
        "        #Parsing the JSON output for error handling\n",
        "        data = json.loads(output)\n",
        "        # Schema validation\n",
        "        validated_data = EmployeeDict.model_validate(data)\n",
        "        print(\"\\n✅ Validated Data:\\n\", validated_data.model_dump())\n",
        "    except json.JSONDecodeError as e:\n",
        "        print(\"❌ JSON parsing failed:\", e)\n",
        "    except ValidationError as ve:\n",
        "        print(\"❌ Validation failed:\", ve)\n",
        "\n",
        "except Exception as e:\n",
        "    print(\"OpenAI API error:\", e)"
      ],
      "metadata": {
        "colab": {
          "base_uri": "https://localhost:8080/"
        },
        "id": "NdXFtSlqIJxV",
        "outputId": "a1693ce9-c5be-411d-9da9-6372c63164de"
      },
      "execution_count": 23,
      "outputs": [
        {
          "output_type": "stream",
          "name": "stdout",
          "text": [
            "Raw output:\n",
            " {\n",
            "  \"employee1\": {\n",
            "    \"name\": \"John Doe\",\n",
            "    \"age\": 35,\n",
            "    \"city\": \"New York\"\n",
            "  },\n",
            "  \"employee2\": {\n",
            "    \"name\": \"Jane Smith\",\n",
            "    \"age\": 40,\n",
            "    \"city\": \"Los Angeles\"\n",
            "  },\n",
            "  \"employee3\": {\n",
            "    \"name\": \"Mike Johnson\",\n",
            "    \"age\": 45,\n",
            "    \"city\": \"Chicago\"\n",
            "  },\n",
            "  \"employee4\": {\n",
            "    \"name\": \"Emily Davis\",\n",
            "    \"age\": 30,\n",
            "    \"city\": \"Houston\"\n",
            "  },\n",
            "  \"employee5\": {\n",
            "    \"name\": \"William Brown\",\n",
            "    \"age\": 50,\n",
            "    \"city\": \"Phoenix\"\n",
            "  }\n",
            "}\n",
            "\n",
            "✅ Validated Data:\n",
            " {'employee1': {'name': 'John Doe', 'age': 35, 'city': 'New York'}, 'employee2': {'name': 'Jane Smith', 'age': 40, 'city': 'Los Angeles'}, 'employee3': {'name': 'Mike Johnson', 'age': 45, 'city': 'Chicago'}, 'employee4': {'name': 'Emily Davis', 'age': 30, 'city': 'Houston'}, 'employee5': {'name': 'William Brown', 'age': 50, 'city': 'Phoenix'}}\n"
          ]
        }
      ]
    },
    {
      "cell_type": "markdown",
      "source": [
        "##**(Optional) Generate Invalid Data and check Validations**"
      ],
      "metadata": {
        "id": "JW0uSEv4LoVC"
      }
    },
    {
      "cell_type": "code",
      "source": [
        "#JSON Output Generation\n",
        "prompt = \"\"\"\n",
        "Generate name, age, and city of 5 employees.\n",
        "Respond ONLY with a JSON object.\n",
        "\"\"\"\n",
        "\n",
        "try:\n",
        "    response = client.chat.completions.create(\n",
        "        model=\"gpt-4\",\n",
        "        messages=[{\"role\": \"user\", \"content\": prompt}]\n",
        "    )\n",
        "    output = response.choices[0].message.content.strip()\n",
        "    print(\"Raw output:\\n\", output)\n",
        "\n",
        "    try:\n",
        "        #Parsing the JSON output for error handling\n",
        "        data = json.loads(output)\n",
        "        # Schema validation\n",
        "        validated_data = EmployeeDict.model_validate(data)\n",
        "        print(\"\\n✅ Validated Data:\\n\", validated_data.model_dump())\n",
        "    except json.JSONDecodeError as e:\n",
        "        print(\"❌ JSON parsing failed:\", e)\n",
        "    except ValidationError as ve:\n",
        "        print(\"❌ Validation failed:\", ve)\n",
        "\n",
        "except Exception as e:\n",
        "    print(\"OpenAI API error:\", e)"
      ],
      "metadata": {
        "colab": {
          "base_uri": "https://localhost:8080/"
        },
        "id": "kaxxeBjGLpC7",
        "outputId": "fd998e8d-7c13-4169-e305-12cfb6b60eeb"
      },
      "execution_count": 24,
      "outputs": [
        {
          "output_type": "stream",
          "name": "stdout",
          "text": [
            "Raw output:\n",
            " {\n",
            "  \"employees\": [\n",
            "    {\n",
            "      \"name\": \"John Doe\",\n",
            "      \"age\": 32,\n",
            "      \"city\": \"New York\"\n",
            "    },\n",
            "    {\n",
            "      \"name\": \"Jane Smith\",\n",
            "      \"age\": 28,\n",
            "      \"city\": \"Chicago\"\n",
            "    },\n",
            "    {\n",
            "      \"name\": \"Robert Johnson\",\n",
            "      \"age\": 45,\n",
            "      \"city\": \"Los Angeles\"\n",
            "    },\n",
            "    {\n",
            "      \"name\": \"Elizabeth Davis\",\n",
            "      \"age\": 38,\n",
            "      \"city\": \"San Francisco\"\n",
            "    },\n",
            "    {\n",
            "      \"name\": \"James Brown\",\n",
            "      \"age\": 50,\n",
            "      \"city\": \"Houston\"\n",
            "    }\n",
            "  ]\n",
            "}\n",
            "❌ Validation failed: 1 validation error for EmployeeDict\n",
            "employees\n",
            "  Input should be a valid dictionary or instance of PersonInfo [type=model_type, input_value=[{'name': 'John Doe', 'ag... 50, 'city': 'Houston'}], input_type=list]\n",
            "    For further information visit https://errors.pydantic.dev/2.11/v/model_type\n"
          ]
        }
      ]
    }
  ]
}
