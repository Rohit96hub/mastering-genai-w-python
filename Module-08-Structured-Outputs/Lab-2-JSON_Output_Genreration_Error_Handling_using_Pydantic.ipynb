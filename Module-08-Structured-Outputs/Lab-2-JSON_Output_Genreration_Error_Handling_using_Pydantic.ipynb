{
  "nbformat": 4,
  "nbformat_minor": 0,
  "metadata": {
    "colab": {
      "provenance": []
    },
    "kernelspec": {
      "name": "python3",
      "display_name": "Python 3"
    },
    "language_info": {
      "name": "python"
    }
  },
  "cells": [
    {
      "cell_type": "markdown",
      "source": [
        "#**Calculate Employee's Term Life Insurance as per the Payscale**\n",
        "\n",
        "###**Reliable JSON Output Generation with LLM, Parsing the JSON output for error handling & Pydantic (for JSON Schema Validation)**\n",
        "\n",
        "#####**✅ Problem:**\n",
        "\n",
        "When interacting with LLMs, we often want structured output (like JSON) rather than freeform text. However, models may produce output that:\n",
        "\n",
        "- Is not valid JSON.\n",
        "\n",
        "- Does not follow a pre-defined schema.\n",
        "\n",
        "- Fails integration with downstream systems expecting structured data.\n",
        "\n",
        "#####**🛠️ Solution:**\n",
        "\n",
        "This notebook demonstrates how to:\n",
        "\n",
        "- Prompt the LLM to return JSON output explicitly.\n",
        "\n",
        "- Use JSON Schema to validate the structure of the output.\n",
        "\n",
        "- Handle model responses gracefully when schema validation fails.\n",
        "\n",
        "#####**Example Techniques Used:**\n",
        "\n",
        "- Prompt engineering for instructing the LLM to produce JSON.\n",
        "\n",
        "- Validation via jsonschema module."
      ],
      "metadata": {
        "id": "SUid2-yaD8Sp"
      }
    },
    {
      "cell_type": "markdown",
      "source": [
        "###**Install Dependencies**"
      ],
      "metadata": {
        "id": "4dWIMoBlGnd4"
      }
    },
    {
      "cell_type": "code",
      "source": [
        "!pip install pydantic openai"
      ],
      "metadata": {
        "colab": {
          "base_uri": "https://localhost:8080/"
        },
        "collapsed": true,
        "id": "Qbw79rSNGuAt",
        "outputId": "af649a9e-08dc-45c0-b76f-ceb40bcf3177"
      },
      "execution_count": 1,
      "outputs": [
        {
          "output_type": "stream",
          "name": "stdout",
          "text": [
            "Requirement already satisfied: pydantic in /usr/local/lib/python3.11/dist-packages (2.11.4)\n",
            "Requirement already satisfied: openai in /usr/local/lib/python3.11/dist-packages (1.81.0)\n",
            "Requirement already satisfied: annotated-types>=0.6.0 in /usr/local/lib/python3.11/dist-packages (from pydantic) (0.7.0)\n",
            "Requirement already satisfied: pydantic-core==2.33.2 in /usr/local/lib/python3.11/dist-packages (from pydantic) (2.33.2)\n",
            "Requirement already satisfied: typing-extensions>=4.12.2 in /usr/local/lib/python3.11/dist-packages (from pydantic) (4.13.2)\n",
            "Requirement already satisfied: typing-inspection>=0.4.0 in /usr/local/lib/python3.11/dist-packages (from pydantic) (0.4.1)\n",
            "Requirement already satisfied: anyio<5,>=3.5.0 in /usr/local/lib/python3.11/dist-packages (from openai) (4.9.0)\n",
            "Requirement already satisfied: distro<2,>=1.7.0 in /usr/local/lib/python3.11/dist-packages (from openai) (1.9.0)\n",
            "Requirement already satisfied: httpx<1,>=0.23.0 in /usr/local/lib/python3.11/dist-packages (from openai) (0.28.1)\n",
            "Requirement already satisfied: jiter<1,>=0.4.0 in /usr/local/lib/python3.11/dist-packages (from openai) (0.10.0)\n",
            "Requirement already satisfied: sniffio in /usr/local/lib/python3.11/dist-packages (from openai) (1.3.1)\n",
            "Requirement already satisfied: tqdm>4 in /usr/local/lib/python3.11/dist-packages (from openai) (4.67.1)\n",
            "Requirement already satisfied: idna>=2.8 in /usr/local/lib/python3.11/dist-packages (from anyio<5,>=3.5.0->openai) (3.10)\n",
            "Requirement already satisfied: certifi in /usr/local/lib/python3.11/dist-packages (from httpx<1,>=0.23.0->openai) (2025.4.26)\n",
            "Requirement already satisfied: httpcore==1.* in /usr/local/lib/python3.11/dist-packages (from httpx<1,>=0.23.0->openai) (1.0.9)\n",
            "Requirement already satisfied: h11>=0.16 in /usr/local/lib/python3.11/dist-packages (from httpcore==1.*->httpx<1,>=0.23.0->openai) (0.16.0)\n"
          ]
        }
      ]
    },
    {
      "cell_type": "markdown",
      "source": [
        "###**Import Required Modules**"
      ],
      "metadata": {
        "id": "B40xz4ELGfEI"
      }
    },
    {
      "cell_type": "code",
      "execution_count": 2,
      "metadata": {
        "id": "m5czD9KVD7Eo"
      },
      "outputs": [],
      "source": [
        "import json\n",
        "from typing import Dict\n",
        "from pydantic import BaseModel, ValidationError, RootModel\n",
        "from openai import OpenAI"
      ]
    },
    {
      "cell_type": "markdown",
      "source": [
        "###**Get API key from Secret and Set as ENV**"
      ],
      "metadata": {
        "id": "Iwcm5J8i7b66"
      }
    },
    {
      "cell_type": "code",
      "source": [
        "from google.colab import userdata\n",
        "# Retrieve the API key from Colab's secrets\n",
        "OPENAI_API_KEY = userdata.get('OPENAI_API_KEY')"
      ],
      "metadata": {
        "id": "vi_SQXuI-ElE"
      },
      "execution_count": 3,
      "outputs": []
    },
    {
      "cell_type": "code",
      "source": [
        "import os\n",
        "# Set the API key (recommended: store securely, not hardcoded)\n",
        "os.environ['OPENAI_API_KEY'] = OPENAI_API_KEY"
      ],
      "metadata": {
        "id": "A3tabeSF5sBx"
      },
      "execution_count": 4,
      "outputs": []
    },
    {
      "cell_type": "markdown",
      "source": [
        "###**Set Up OpenAI Client**"
      ],
      "metadata": {
        "id": "sJBIAfZfGxhZ"
      }
    },
    {
      "cell_type": "code",
      "source": [
        "client = OpenAI()"
      ],
      "metadata": {
        "id": "sRXBBbr6HDnr"
      },
      "execution_count": 5,
      "outputs": []
    },
    {
      "cell_type": "markdown",
      "source": [
        "###**Generate Response Using Prompt**"
      ],
      "metadata": {
        "id": "uTbgJqRdb8F1"
      }
    },
    {
      "cell_type": "code",
      "source": [
        "#JSON Output Generation\n",
        "prompt = \"\"\"\n",
        "Generate name, age, payscale and city of 5 employees like employee1, employee2 etc.\n",
        "Respond ONLY with a JSON object.\n",
        "\"\"\"\n",
        "\n",
        "response = client.chat.completions.create(\n",
        "        model=\"gpt-3.5-turbo\",\n",
        "        messages=[{\"role\": \"user\", \"content\": prompt}]\n",
        "    )\n",
        "output = response.choices[0].message.content.strip()\n",
        "print(\"Raw output:\\n\", output)"
      ],
      "metadata": {
        "colab": {
          "base_uri": "https://localhost:8080/"
        },
        "id": "3eY7DLUKr3Kb",
        "outputId": "c93aa555-0f50-48ef-ff71-983d80f8ec76"
      },
      "execution_count": 6,
      "outputs": [
        {
          "output_type": "stream",
          "name": "stdout",
          "text": [
            "Raw output:\n",
            " {\n",
            "  \"employee1\": {\n",
            "    \"name\": \"Alice Smith\",\n",
            "    \"age\": 28,\n",
            "    \"payscale\": \"$60,000\",\n",
            "    \"city\": \"New York\"\n",
            "  },\n",
            "  \"employee2\": {\n",
            "    \"name\": \"John Johnson\",\n",
            "    \"age\": 35,\n",
            "    \"payscale\": \"$70,000\",\n",
            "    \"city\": \"Los Angeles\"\n",
            "  },\n",
            "  \"employee3\": {\n",
            "    \"name\": \"Emily Davis\",\n",
            "    \"age\": 42,\n",
            "    \"payscale\": \"$80,000\",\n",
            "    \"city\": \"Chicago\"\n",
            "  },\n",
            "  \"employee4\": {\n",
            "    \"name\": \"Michael Brown\",\n",
            "    \"age\": 30,\n",
            "    \"payscale\": \"$65,000\",\n",
            "    \"city\": \"San Francisco\"\n",
            "  },\n",
            "  \"employee5\": {\n",
            "    \"name\": \"Sarah Williams\",\n",
            "    \"age\": 38,\n",
            "    \"payscale\": \"$75,000\",\n",
            "    \"city\": \"Miami\"\n",
            "  }\n",
            "}\n"
          ]
        }
      ]
    },
    {
      "cell_type": "code",
      "source": [
        "# Convert string to dictionary\n",
        "data = json.loads(output)"
      ],
      "metadata": {
        "id": "YaEh0SIot0a4"
      },
      "execution_count": 7,
      "outputs": []
    },
    {
      "cell_type": "code",
      "source": [
        "print(data)"
      ],
      "metadata": {
        "colab": {
          "base_uri": "https://localhost:8080/"
        },
        "id": "ceJabY1muUbR",
        "outputId": "69458f2c-5d15-4744-f793-625eb1e9de2e"
      },
      "execution_count": 8,
      "outputs": [
        {
          "output_type": "stream",
          "name": "stdout",
          "text": [
            "{'employee1': {'name': 'Alice Smith', 'age': 28, 'payscale': '$60,000', 'city': 'New York'}, 'employee2': {'name': 'John Johnson', 'age': 35, 'payscale': '$70,000', 'city': 'Los Angeles'}, 'employee3': {'name': 'Emily Davis', 'age': 42, 'payscale': '$80,000', 'city': 'Chicago'}, 'employee4': {'name': 'Michael Brown', 'age': 30, 'payscale': '$65,000', 'city': 'San Francisco'}, 'employee5': {'name': 'Sarah Williams', 'age': 38, 'payscale': '$75,000', 'city': 'Miami'}}\n"
          ]
        }
      ]
    },
    {
      "cell_type": "code",
      "source": [
        "# Access employee1's salary to calculate term life insurance provided ny company\n",
        "print(\"Employee1 Term life insurance:\", data[\"employee1\"][\"payscale\"]*4)"
      ],
      "metadata": {
        "colab": {
          "base_uri": "https://localhost:8080/"
        },
        "id": "KhP2qhC1sNfM",
        "outputId": "573e119b-4f89-4cd8-fe7f-642d926a9f92"
      },
      "execution_count": 9,
      "outputs": [
        {
          "output_type": "stream",
          "name": "stdout",
          "text": [
            "Employee1 Term life insurance: $60,000$60,000$60,000$60,000\n"
          ]
        }
      ]
    },
    {
      "cell_type": "markdown",
      "source": [
        "###**Define Pydantic Models**"
      ],
      "metadata": {
        "id": "VdGDTAxmHuro"
      }
    },
    {
      "cell_type": "code",
      "source": [
        "from pydantic import BaseModel, field_validator\n",
        "import re\n",
        "\n",
        "class PersonInfo(BaseModel):\n",
        "    name: str\n",
        "    age: int\n",
        "    payscale: int\n",
        "    city: str\n",
        "\n",
        "    @field_validator('payscale', mode='before')\n",
        "    @classmethod\n",
        "    def parse_payscale(cls, v):\n",
        "        if isinstance(v, int):\n",
        "            return v\n",
        "        if isinstance(v, str):\n",
        "            # Remove $ and commas\n",
        "            cleaned = re.sub(r'[^\\d]', '', v)\n",
        "            return int(cleaned)\n",
        "        raise ValueError(\"Invalid payscale format\")\n",
        "\n",
        "class EmployeeDict(RootModel[Dict[str, PersonInfo]]):\n",
        "    pass"
      ],
      "metadata": {
        "id": "Aj8kZVqBxeDD"
      },
      "execution_count": 10,
      "outputs": []
    },
    {
      "cell_type": "markdown",
      "source": [
        "###**Compose Prompt and Call GPT**\n",
        "- JSON Output Generation\n",
        "- Parsing the JSON output for error handling\n",
        "- Schema validation"
      ],
      "metadata": {
        "id": "IB4Mgek4H-WW"
      }
    },
    {
      "cell_type": "code",
      "source": [
        "#JSON Output Generation\n",
        "prompt = \"\"\"\n",
        "Generate name, age, payscale and city of 5 employees like employee1, employee2 etc.\n",
        "Respond ONLY with a JSON object.\n",
        "\"\"\"\n",
        "\n",
        "try:\n",
        "    response = client.chat.completions.create(\n",
        "        model=\"gpt-3.5-turbo\",\n",
        "        messages=[{\"role\": \"user\", \"content\": prompt}]\n",
        "    )\n",
        "    output = response.choices[0].message.content.strip()\n",
        "    print(\"Raw output:\\n\", output)\n",
        "\n",
        "    try:\n",
        "        #Parsing the JSON output for error handling\n",
        "        data = json.loads(output)\n",
        "        # Schema validation\n",
        "        validated_data = EmployeeDict.model_validate(data)\n",
        "        print(\"\\n✅ Validated Data:\\n\", validated_data.model_dump())\n",
        "    except json.JSONDecodeError as e:\n",
        "        print(\"❌ JSON parsing failed:\", e)\n",
        "    except ValidationError as ve:\n",
        "        print(\"❌ Validation failed:\", ve)\n",
        "\n",
        "except Exception as e:\n",
        "    print(\"OpenAI API error:\", e)"
      ],
      "metadata": {
        "colab": {
          "base_uri": "https://localhost:8080/"
        },
        "id": "NdXFtSlqIJxV",
        "outputId": "53a2d3a5-0b22-4720-fe19-5fc2b1851598"
      },
      "execution_count": 11,
      "outputs": [
        {
          "output_type": "stream",
          "name": "stdout",
          "text": [
            "Raw output:\n",
            " {\n",
            "  \"employee1\": {\n",
            "    \"name\": \"Alice Smith\",\n",
            "    \"age\": 30,\n",
            "    \"payscale\": \"$50,000\",\n",
            "    \"city\": \"New York\"\n",
            "  },\n",
            "  \n",
            "  \"employee2\": {\n",
            "    \"name\": \"Bob Johnson\",\n",
            "    \"age\": 35,\n",
            "    \"payscale\": \"$45,000\",\n",
            "    \"city\": \"Los Angeles\"\n",
            "  },\n",
            "  \n",
            "  \"employee3\": {\n",
            "    \"name\": \"Emily Davis\",\n",
            "    \"age\": 28,\n",
            "    \"payscale\": \"$55,000\",\n",
            "    \"city\": \"Chicago\"\n",
            "  },\n",
            "  \n",
            "  \"employee4\": {\n",
            "    \"name\": \"John Wilson\",\n",
            "    \"age\": 40,\n",
            "    \"payscale\": \"$60,000\",\n",
            "    \"city\": \"Houston\"\n",
            "  },\n",
            "  \n",
            "  \"employee5\": {\n",
            "    \"name\": \"Sarah Brown\",\n",
            "    \"age\": 33,\n",
            "    \"payscale\": \"$48,000\",\n",
            "    \"city\": \"Miami\"\n",
            "  }\n",
            "}\n",
            "\n",
            "✅ Validated Data:\n",
            " {'employee1': {'name': 'Alice Smith', 'age': 30, 'payscale': 50000, 'city': 'New York'}, 'employee2': {'name': 'Bob Johnson', 'age': 35, 'payscale': 45000, 'city': 'Los Angeles'}, 'employee3': {'name': 'Emily Davis', 'age': 28, 'payscale': 55000, 'city': 'Chicago'}, 'employee4': {'name': 'John Wilson', 'age': 40, 'payscale': 60000, 'city': 'Houston'}, 'employee5': {'name': 'Sarah Brown', 'age': 33, 'payscale': 48000, 'city': 'Miami'}}\n"
          ]
        }
      ]
    },
    {
      "cell_type": "code",
      "source": [
        "data_dict = validated_data.model_dump()"
      ],
      "metadata": {
        "id": "yfxyo-igwNzz"
      },
      "execution_count": 12,
      "outputs": []
    },
    {
      "cell_type": "code",
      "source": [
        "print(data_dict['employee1']['payscale'])"
      ],
      "metadata": {
        "colab": {
          "base_uri": "https://localhost:8080/"
        },
        "id": "nr0EERBUzDu-",
        "outputId": "713ef8bd-7d91-402a-d391-dfd89ea105ee"
      },
      "execution_count": 13,
      "outputs": [
        {
          "output_type": "stream",
          "name": "stdout",
          "text": [
            "50000\n"
          ]
        }
      ]
    },
    {
      "cell_type": "code",
      "source": [
        "# Multiply employee1's salary by 4\n",
        "print(\"\\n💰 Calculate employee1's Term Life insurance: $\",data_dict['employee1']['payscale']*4)\n"
      ],
      "metadata": {
        "colab": {
          "base_uri": "https://localhost:8080/"
        },
        "id": "wVqszhdqyk1U",
        "outputId": "17176aa0-e806-48da-96d5-d56b8b0f06d5"
      },
      "execution_count": 14,
      "outputs": [
        {
          "output_type": "stream",
          "name": "stdout",
          "text": [
            "\n",
            "💰 Calculate employee1's Term Life insurance: $ 200000\n"
          ]
        }
      ]
    }
  ]
}
