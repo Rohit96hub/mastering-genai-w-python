{
  "cells": [
    {
      "cell_type": "markdown",
      "source": [
        "##**Text Summary using Huggingface Transformers**"
      ],
      "metadata": {
        "id": "_Xozg0aXjqvv"
      },
      "id": "_Xozg0aXjqvv"
    },
    {
      "cell_type": "markdown",
      "source": [
        "####**Python Code**"
      ],
      "metadata": {
        "id": "RS0IIp8_mdC2"
      },
      "id": "RS0IIp8_mdC2"
    },
    {
      "cell_type": "code",
      "execution_count": null,
      "id": "a4186a50-5159-4de9-a793-52387da9a2eb",
      "metadata": {
        "id": "a4186a50-5159-4de9-a793-52387da9a2eb",
        "outputId": "dc2efd97-cc54-4803-bc65-bc8b81e352b8"
      },
      "outputs": [
        {
          "name": "stdout",
          "output_type": "stream",
          "text": [
            "                 Name                   Role          Department  \\\n",
            "0  ** Rajesh Kulkarni                 ** CTO        ** Executive   \n",
            "1    ** Neha Malhotra      ** Junior Analyst        ** Logistics   \n",
            "2       ** Anjali Das        ** HR Executive  ** Human Resources   \n",
            "3     ** Sunita Patil   ** Finance Executive          ** Finance   \n",
            "4     ** Priya Sharma  ** Operations Manager       ** Operations   \n",
            "5      ** Rohit Mehra   ** Logistics Analyst        ** Logistics   \n",
            "6     ** Karan Kapoor    ** Fleet Supervisor        ** Logistics   \n",
            "7       ** Meera Iyer   ** Marketing Manager        ** Marketing   \n",
            "8      ** Aditya Jain    ** Senior Developer               ** IT   \n",
            "9       ** Amit Verma                 ** CEO        ** Executive   \n",
            "\n",
            "    Joining Date  \n",
            "0  ** 2017-11-15  \n",
            "1  ** 2023-07-01  \n",
            "2  ** 2021-05-10  \n",
            "3  ** 2022-01-17  \n",
            "4  ** 2019-03-15  \n",
            "5  ** 2020-08-22  \n",
            "6  ** 2018-11-03  \n",
            "7  ** 2020-02-20  \n",
            "8  ** 2019-06-10  \n",
            "9  ** 2016-02-01  \n"
          ]
        }
      ],
      "source": [
        "import os\n",
        "import pandas as pd\n",
        "\n",
        "# Directory containing markdown files\n",
        "markdown_dir = \"hrdataset/employees\"\n",
        "\n",
        "# Parse markdown files into a DataFrame\n",
        "employee_data = []\n",
        "for filename in os.listdir(markdown_dir):\n",
        "    if filename.endswith(\".md\"):\n",
        "        with open(os.path.join(markdown_dir, filename), \"r\") as f:\n",
        "            lines = f.readlines()\n",
        "            profile = {}\n",
        "            for line in lines:\n",
        "                if line.startswith(\"- **Name:**\"):\n",
        "                    profile[\"Name\"] = line.split(\":\")[1].strip()\n",
        "                elif line.startswith(\"- **Role:**\"):\n",
        "                    profile[\"Role\"] = line.split(\":\")[1].strip()\n",
        "                elif line.startswith(\"- **Department:**\"):\n",
        "                    profile[\"Department\"] = line.split(\":\")[1].strip()\n",
        "                elif line.startswith(\"- **Joining Date:**\"):\n",
        "                    profile[\"Joining Date\"] = line.split(\":\")[1].strip()\n",
        "            if profile:\n",
        "                employee_data.append(profile)\n",
        "\n",
        "# Convert to DataFrame\n",
        "employee_df = pd.DataFrame(employee_data)\n",
        "print(employee_df)\n"
      ]
    },
    {
      "cell_type": "code",
      "execution_count": null,
      "id": "fadd6d83-d945-4dd8-9d82-a1cf95584690",
      "metadata": {
        "colab": {
          "referenced_widgets": [
            "89eff3530fb447f68511450592e06ddd",
            "d1c275ed92ff4130aaf9b2110284c566",
            "feac69b0c9304b2a85c05d6376eea07e",
            "a2ee5a59826c4ce5b474ca53f95fdafe",
            "06e74100f9e541bc943ab054d1bfc635",
            "999e6d48158a41519fd161ec90160f40"
          ]
        },
        "id": "fadd6d83-d945-4dd8-9d82-a1cf95584690",
        "outputId": "b2a0dbe8-c873-4df8-ef39-0e0c56e3b423"
      },
      "outputs": [
        {
          "data": {
            "application/vnd.jupyter.widget-view+json": {
              "model_id": "89eff3530fb447f68511450592e06ddd",
              "version_major": 2,
              "version_minor": 0
            },
            "text/plain": [
              "config.json:   0%|          | 0.00/1.58k [00:00<?, ?B/s]"
            ]
          },
          "metadata": {},
          "output_type": "display_data"
        },
        {
          "data": {
            "application/vnd.jupyter.widget-view+json": {
              "model_id": "d1c275ed92ff4130aaf9b2110284c566",
              "version_major": 2,
              "version_minor": 0
            },
            "text/plain": [
              "model.safetensors:   0%|          | 0.00/1.63G [00:00<?, ?B/s]"
            ]
          },
          "metadata": {},
          "output_type": "display_data"
        },
        {
          "data": {
            "application/vnd.jupyter.widget-view+json": {
              "model_id": "feac69b0c9304b2a85c05d6376eea07e",
              "version_major": 2,
              "version_minor": 0
            },
            "text/plain": [
              "generation_config.json:   0%|          | 0.00/363 [00:00<?, ?B/s]"
            ]
          },
          "metadata": {},
          "output_type": "display_data"
        },
        {
          "data": {
            "application/vnd.jupyter.widget-view+json": {
              "model_id": "a2ee5a59826c4ce5b474ca53f95fdafe",
              "version_major": 2,
              "version_minor": 0
            },
            "text/plain": [
              "vocab.json:   0%|          | 0.00/899k [00:00<?, ?B/s]"
            ]
          },
          "metadata": {},
          "output_type": "display_data"
        },
        {
          "data": {
            "application/vnd.jupyter.widget-view+json": {
              "model_id": "06e74100f9e541bc943ab054d1bfc635",
              "version_major": 2,
              "version_minor": 0
            },
            "text/plain": [
              "merges.txt:   0%|          | 0.00/456k [00:00<?, ?B/s]"
            ]
          },
          "metadata": {},
          "output_type": "display_data"
        },
        {
          "data": {
            "application/vnd.jupyter.widget-view+json": {
              "model_id": "999e6d48158a41519fd161ec90160f40",
              "version_major": 2,
              "version_minor": 0
            },
            "text/plain": [
              "tokenizer.json:   0%|          | 0.00/1.36M [00:00<?, ?B/s]"
            ]
          },
          "metadata": {},
          "output_type": "display_data"
        },
        {
          "name": "stderr",
          "output_type": "stream",
          "text": [
            "Device set to use mps:0\n",
            "Your max_length is set to 50, but your input_length is only 3. Since this is a summarization task, where outputs shorter than the input are typically wanted, you might consider decreasing max_length manually, e.g. summarizer('...', max_length=1)\n"
          ]
        },
        {
          "name": "stdout",
          "output_type": "stream",
          "text": [
            "Summary: CNN.com will feature iReporter photos in a weekly Travel Snapshots gallery. Please submit your best shots of New York for next week. Visit CNN.com/Travel next Wednesday for a new gallery of snapshots.\n"
          ]
        }
      ],
      "source": [
        "from transformers import pipeline\n",
        "\n",
        "# Load pre-trained summarization model\n",
        "summarizer = pipeline(\"summarization\", model=\"facebook/bart-large-cnn\")\n",
        "\n",
        "# Combine employee details for a specific department\n",
        "operations_data = \" \".join([\n",
        "    f\"{row['Name']} is the {row['Role']} in {row['Department']}, joined on {row['Joining Date']}.\"\n",
        "    for _, row in employee_df.iterrows() if row['Department'] == \"Operations\"\n",
        "])\n",
        "\n",
        "# Summarize the data\n",
        "summary = summarizer(operations_data, max_length=50, min_length=10, do_sample=False)\n",
        "print(\"Summary:\", summary[0]['summary_text'])\n"
      ]
    },
    {
      "cell_type": "markdown",
      "source": [
        "##**Example: Policy Summary in 50 words**"
      ],
      "metadata": {
        "id": "Oe2oFsyFkaiV"
      },
      "id": "Oe2oFsyFkaiV"
    },
    {
      "cell_type": "code",
      "source": [
        "from transformers import pipeline\n",
        "\n",
        "# Load pre-trained summarization model\n",
        "summarizer = pipeline(\"summarization\", model=\"facebook/bart-large-cnn\")\n",
        "\n",
        "# Combine employee details for a specific department\n",
        "policy_data = \"Health Insurance: Covers employee and dependents up to ₹5,00,000.Provident Fund: 12% of basic salary contributed to the PF account. Gratuity: Paid on retirement/resignation based on tenure. Travel Allowance: Reimbursement for official travel expenses. Skill Development: Reimbursement for approved certifications/training costs.\"\n",
        "\n",
        "# Summarize the data\n",
        "summary = summarizer(policy_data, max_length=50, min_length=10, do_sample=False)\n",
        "print(\"Summary:\", summary[0]['summary_text'])\n"
      ],
      "metadata": {
        "colab": {
          "base_uri": "https://localhost:8080/"
        },
        "id": "e95vInTskZ-V",
        "outputId": "041b1efe-fa66-4e33-91d5-773c95581d14"
      },
      "id": "e95vInTskZ-V",
      "execution_count": 4,
      "outputs": [
        {
          "output_type": "stream",
          "name": "stderr",
          "text": [
            "Device set to use cpu\n"
          ]
        },
        {
          "output_type": "stream",
          "name": "stdout",
          "text": [
            "Summary: Provident Fund: 12% of basic salary contributed to the PF account. Gratuity: Paid on retirement/resignation based on tenure. Travel Allowance: Reimbursement for official travel expenses. Skill Development: Re\n"
          ]
        }
      ]
    }
  ],
  "metadata": {
    "kernelspec": {
      "display_name": "Python 3 (ipykernel)",
      "language": "python",
      "name": "python3"
    },
    "language_info": {
      "codemirror_mode": {
        "name": "ipython",
        "version": 3
      },
      "file_extension": ".py",
      "mimetype": "text/x-python",
      "name": "python",
      "nbconvert_exporter": "python",
      "pygments_lexer": "ipython3",
      "version": "3.11.11"
    },
    "colab": {
      "provenance": []
    },
    "widgets": {
      "application/vnd.jupyter.widget-state+json": {}
    }
  },
  "nbformat": 4,
  "nbformat_minor": 5
}