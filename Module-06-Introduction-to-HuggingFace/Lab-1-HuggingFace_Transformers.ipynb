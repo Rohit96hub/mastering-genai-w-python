{
  "cells": [
    {
      "cell_type": "markdown",
      "source": [
        "#**Text Summary using Huggingface Transformers**\n",
        "- summarize content using Huggingface model"
      ],
      "metadata": {
        "id": "_Xozg0aXjqvv"
      },
      "id": "_Xozg0aXjqvv"
    },
    {
      "cell_type": "markdown",
      "source": [
        "###**Install Dependencies**"
      ],
      "metadata": {
        "id": "5aYHEKa4pkQK"
      },
      "id": "5aYHEKa4pkQK"
    },
    {
      "cell_type": "code",
      "source": [
        "!pip install transformers"
      ],
      "metadata": {
        "colab": {
          "base_uri": "https://localhost:8080/"
        },
        "id": "VXCUcU3Kpq-H",
        "outputId": "0557ccba-782f-4727-b0c2-dcdd06be654b"
      },
      "id": "VXCUcU3Kpq-H",
      "execution_count": 1,
      "outputs": [
        {
          "output_type": "stream",
          "name": "stdout",
          "text": [
            "Requirement already satisfied: transformers in /usr/local/lib/python3.11/dist-packages (4.51.3)\n",
            "Requirement already satisfied: filelock in /usr/local/lib/python3.11/dist-packages (from transformers) (3.18.0)\n",
            "Requirement already satisfied: huggingface-hub<1.0,>=0.30.0 in /usr/local/lib/python3.11/dist-packages (from transformers) (0.31.2)\n",
            "Requirement already satisfied: numpy>=1.17 in /usr/local/lib/python3.11/dist-packages (from transformers) (2.0.2)\n",
            "Requirement already satisfied: packaging>=20.0 in /usr/local/lib/python3.11/dist-packages (from transformers) (24.2)\n",
            "Requirement already satisfied: pyyaml>=5.1 in /usr/local/lib/python3.11/dist-packages (from transformers) (6.0.2)\n",
            "Requirement already satisfied: regex!=2019.12.17 in /usr/local/lib/python3.11/dist-packages (from transformers) (2024.11.6)\n",
            "Requirement already satisfied: requests in /usr/local/lib/python3.11/dist-packages (from transformers) (2.32.3)\n",
            "Requirement already satisfied: tokenizers<0.22,>=0.21 in /usr/local/lib/python3.11/dist-packages (from transformers) (0.21.1)\n",
            "Requirement already satisfied: safetensors>=0.4.3 in /usr/local/lib/python3.11/dist-packages (from transformers) (0.5.3)\n",
            "Requirement already satisfied: tqdm>=4.27 in /usr/local/lib/python3.11/dist-packages (from transformers) (4.67.1)\n",
            "Requirement already satisfied: fsspec>=2023.5.0 in /usr/local/lib/python3.11/dist-packages (from huggingface-hub<1.0,>=0.30.0->transformers) (2025.3.2)\n",
            "Requirement already satisfied: typing-extensions>=3.7.4.3 in /usr/local/lib/python3.11/dist-packages (from huggingface-hub<1.0,>=0.30.0->transformers) (4.13.2)\n",
            "Requirement already satisfied: charset-normalizer<4,>=2 in /usr/local/lib/python3.11/dist-packages (from requests->transformers) (3.4.2)\n",
            "Requirement already satisfied: idna<4,>=2.5 in /usr/local/lib/python3.11/dist-packages (from requests->transformers) (3.10)\n",
            "Requirement already satisfied: urllib3<3,>=1.21.1 in /usr/local/lib/python3.11/dist-packages (from requests->transformers) (2.4.0)\n",
            "Requirement already satisfied: certifi>=2017.4.17 in /usr/local/lib/python3.11/dist-packages (from requests->transformers) (2025.4.26)\n"
          ]
        }
      ]
    },
    {
      "cell_type": "markdown",
      "source": [
        "To generate a summary using transformers' model we will first download a dataset."
      ],
      "metadata": {
        "id": "wkzMLcoUF2Nb"
      },
      "id": "wkzMLcoUF2Nb"
    },
    {
      "cell_type": "markdown",
      "source": [
        "###**Downloads the `hrdataset.zip` file from the CloudYuga GitHub repo**\n",
        "\n",
        "- Saves it in the current working directory of notebook\n",
        "\n",
        "(e.g., /content/ in Google Colab)."
      ],
      "metadata": {
        "id": "XJ0-4Pp2Eh72"
      },
      "id": "XJ0-4Pp2Eh72"
    },
    {
      "cell_type": "code",
      "source": [
        "!wget https://github.com/cloudyuga/mastering-genai-w-python/raw/refs/heads/main/hrdataset.zip"
      ],
      "metadata": {
        "colab": {
          "base_uri": "https://localhost:8080/"
        },
        "collapsed": true,
        "id": "dvINgLO574_K",
        "outputId": "d4ac3157-3e01-4ac1-b0a4-49ae81cda556"
      },
      "id": "dvINgLO574_K",
      "execution_count": 2,
      "outputs": [
        {
          "output_type": "stream",
          "name": "stdout",
          "text": [
            "--2025-05-23 06:11:28--  https://github.com/cloudyuga/mastering-genai-w-python/raw/refs/heads/main/hrdataset.zip\n",
            "Resolving github.com (github.com)... 140.82.113.4\n",
            "Connecting to github.com (github.com)|140.82.113.4|:443... connected.\n",
            "HTTP request sent, awaiting response... 302 Found\n",
            "Location: https://raw.githubusercontent.com/cloudyuga/mastering-genai-w-python/refs/heads/main/hrdataset.zip [following]\n",
            "--2025-05-23 06:11:28--  https://raw.githubusercontent.com/cloudyuga/mastering-genai-w-python/refs/heads/main/hrdataset.zip\n",
            "Resolving raw.githubusercontent.com (raw.githubusercontent.com)... 185.199.108.133, 185.199.109.133, 185.199.110.133, ...\n",
            "Connecting to raw.githubusercontent.com (raw.githubusercontent.com)|185.199.108.133|:443... connected.\n",
            "HTTP request sent, awaiting response... 200 OK\n",
            "Length: 9530 (9.3K) [application/zip]\n",
            "Saving to: ‘hrdataset.zip.1’\n",
            "\n",
            "\rhrdataset.zip.1       0%[                    ]       0  --.-KB/s               \rhrdataset.zip.1     100%[===================>]   9.31K  --.-KB/s    in 0s      \n",
            "\n",
            "2025-05-23 06:11:28 (73.5 MB/s) - ‘hrdataset.zip.1’ saved [9530/9530]\n",
            "\n"
          ]
        }
      ]
    },
    {
      "cell_type": "markdown",
      "source": [
        "###**Unzip `hrdataset.zip` file**\n",
        "- It will automatically create **`hrdataset`** folder in our current working directory (/content/ in Google Colab)"
      ],
      "metadata": {
        "id": "pedXYRVpGHnL"
      },
      "id": "pedXYRVpGHnL"
    },
    {
      "cell_type": "code",
      "source": [
        "!unzip hrdataset.zip"
      ],
      "metadata": {
        "colab": {
          "base_uri": "https://localhost:8080/"
        },
        "id": "7LS2Fje68MAh",
        "outputId": "55134126-8bf4-4fb9-e0fa-a6c9d5a08a52"
      },
      "id": "7LS2Fje68MAh",
      "execution_count": 3,
      "outputs": [
        {
          "output_type": "stream",
          "name": "stdout",
          "text": [
            "Archive:  hrdataset.zip\n",
            "replace hrdataset/policies/leave_policies.md? [y]es, [n]o, [A]ll, [N]one, [r]ename: n\n",
            "replace hrdataset/policies/training_and_development.md? [y]es, [n]o, [A]ll, [N]one, [r]ename: n\n",
            "replace hrdataset/policies/employee_benefits.md? [y]es, [n]o, [A]ll, [N]one, [r]ename: n\n",
            "replace hrdataset/policies/holiday_calendar.md? [y]es, [n]o, [A]ll, [N]one, [r]ename: n\n",
            "replace hrdataset/policies/events_calendar.md? [y]es, [n]o, [A]ll, [N]one, [r]ename: n\n",
            "replace hrdataset/surveys/Employee_Culture_Survey_Responses.csv? [y]es, [n]o, [A]ll, [N]one, [r]ename: n\n",
            "replace hrdataset/employees/108_Rajesh_Kulkarni.md? [y]es, [n]o, [A]ll, [N]one, [r]ename: n\n",
            "replace hrdataset/employees/106_Neha_Malhotra.md? [y]es, [n]o, [A]ll, [N]one, [r]ename: n\n",
            "replace hrdataset/employees/103_Anjali_Das.md? [y]es, [n]o, [A]ll, [N]one, [r]ename: n\n",
            "replace hrdataset/employees/105_Sunita_Patil.md? [y]es, [n]o, [A]ll, [N]one, [r]ename: n\n",
            "replace hrdataset/employees/101_Priya_Sharma.md? [y]es, [n]o, [A]ll, [N]one, [r]ename: n\n",
            "replace hrdataset/employees/102_Rohit_Mehra.md? [y]es, [n]o, [A]ll, [N]one, [r]ename: n\n",
            "replace hrdataset/employees/104_Karan_Kapoor.md? [y]es, [n]o, [A]ll, [N]one, [r]ename: n\n",
            "replace hrdataset/employees/109_Meera_Iyer.md? [y]es, [n]o, [A]ll, [N]one, [r]ename: n\n",
            "replace hrdataset/employees/110_Aditya_Jain.md? [y]es, [n]o, [A]ll, [N]one, [r]ename: n\n",
            "replace hrdataset/employees/107_Amit_Verma.md? [y]es, [n]o, [A]ll, [N]one, [r]ename: n\n",
            "replace hrdataset/employees/payroll_information.md? [y]es, [n]o, [A]ll, [N]one, [r]ename: n\n"
          ]
        }
      ]
    },
    {
      "cell_type": "markdown",
      "source": [
        "##**Example: Policy Summary in 50 words**"
      ],
      "metadata": {
        "id": "Oe2oFsyFkaiV"
      },
      "id": "Oe2oFsyFkaiV"
    },
    {
      "cell_type": "markdown",
      "source": [
        "###**Python Code to Read Policies from Dataset**"
      ],
      "metadata": {
        "id": "RS0IIp8_mdC2"
      },
      "id": "RS0IIp8_mdC2"
    },
    {
      "cell_type": "code",
      "source": [
        "# Read all content\n",
        "import os\n",
        "\n",
        "policy_dir = \"hrdataset/policies\"\n",
        "all_policies_content = {}\n",
        "\n",
        "for filename in os.listdir(policy_dir):\n",
        "    if filename.endswith(\".md\"):\n",
        "        with open(os.path.join(policy_dir, filename), \"r\", encoding=\"utf-8\") as f:\n",
        "            lines = f.readlines()\n",
        "            if not lines:\n",
        "                continue\n",
        "            # First line is the title\n",
        "            title = lines[0].strip().replace(\"#\", \"\").strip()\n",
        "            # Remaining lines as content\n",
        "            content = \" \".join([line.strip() for line in lines[1:] if line.strip()])\n",
        "            all_policies_content[title] = content\n",
        "\n",
        "# Optional: View all titles\n",
        "print(\"✅ Loaded Policies:\\n\", list(all_policies_content.keys()))\n"
      ],
      "metadata": {
        "colab": {
          "base_uri": "https://localhost:8080/"
        },
        "id": "S4S6XL8G9DmS",
        "outputId": "c75ca10d-b1fa-443b-aa67-4432217ee437"
      },
      "id": "S4S6XL8G9DmS",
      "execution_count": 4,
      "outputs": [
        {
          "output_type": "stream",
          "name": "stdout",
          "text": [
            "✅ Loaded Policies:\n",
            " ['Leave Policies', 'Training and Development', 'Employee Benefits', 'Holiday Calendar', 'Events and Holiday Calendar']\n"
          ]
        }
      ]
    },
    {
      "cell_type": "markdown",
      "source": [
        "###**Print Policies content**"
      ],
      "metadata": {
        "id": "YX_07z50LVjp"
      },
      "id": "YX_07z50LVjp"
    },
    {
      "cell_type": "code",
      "source": [
        "for title, content in all_policies_content.items():\n",
        "    print(f\"\\n🗂️ {title}\\n{'=' * (len(title) + 4)}\\n{content}\\n\")"
      ],
      "metadata": {
        "colab": {
          "base_uri": "https://localhost:8080/"
        },
        "id": "5I-ByQ9zBTJM",
        "outputId": "3567f83a-e538-402a-b896-4f9664b92935"
      },
      "id": "5I-ByQ9zBTJM",
      "execution_count": 5,
      "outputs": [
        {
          "output_type": "stream",
          "name": "stdout",
          "text": [
            "\n",
            "🗂️ Leave Policies\n",
            "==================\n",
            "- **Annual Leave:** 18 days of paid leave per year, accrued monthly. - **Sick Leave:** 12 days of paid leave for medical reasons per year. - **Maternity Leave:** 6 months of paid leave for expecting mothers. - **Paternity Leave:** 15 days of paid leave for new fathers.L - **Compensatory Leave:** Leave granted for working on weekends or holidays.\n",
            "\n",
            "\n",
            "🗂️ Training and Development\n",
            "============================\n",
            "| Employee ID | Name           | Courses Taken                          | Completion Date | Certifications Awarded      | |-------------|----------------|----------------------------------------|-----------------|----------------------------| | 101         | Priya Sharma   | Leadership in Operations              | 2022-12-10      | Certified Operations Manager | | 102         | Rohit Mehra    | Data Analytics for Logistics          | 2021-11-15      | Certified Logistics Analyst | | 103         | Anjali Das     | HR Management Essentials              | 2023-03-05      | Certified HR Professional   |\n",
            "\n",
            "\n",
            "🗂️ Employee Benefits\n",
            "=====================\n",
            "- **Health Insurance:** Covers employee and dependents up to ₹5,00,000. - **Provident Fund:** 12% of basic salary contributed to the PF account. - **Gratuity:** Paid on retirement/resignation based on tenure. - **Travel Allowance:** Reimbursement for official travel expenses. - **Skill Development:** Reimbursement for approved certifications/training costs.\n",
            "\n",
            "\n",
            "🗂️ Holiday Calendar\n",
            "====================\n",
            "| Festival Name          | Date       | Day         | |------------------------|------------|-------------| | Republic Day          | 2023-01-26 | Thursday    | | Holi                 | 2023-03-08 | Wednesday   | | Good Friday          | 2023-04-07 | Friday      | | Eid al-Fitr          | 2023-04-22 | Saturday    | | Independence Day     | 2023-08-15 | Tuesday     | | Raksha Bandhan       | 2023-08-30 | Wednesday   | | Ganesh Chaturthi     | 2023-09-19 | Tuesday     | | Diwali               | 2023-11-12 | Sunday      | | Christmas            | 2023-12-25 | Monday      | | Makar Sankranti      | 2023-01-14 | Saturday    |\n",
            "\n",
            "\n",
            "🗂️ Events and Holiday Calendar\n",
            "===============================\n",
            "| Event Name            | Date       | Time     | Location        | Participants           | |-----------------------|------------|----------|-----------------|------------------------| | Annual Company Meet   | 2023-12-15 | 10:00 AM | Mumbai Office   | All employees          | | Health Camp           | 2023-11-10 | 09:00 AM | Bangalore Office| All employees          | | Team Building Event   | 2023-09-05 | 02:00 PM | Goa Resort      | Operations Team        |\n",
            "\n"
          ]
        }
      ]
    },
    {
      "cell_type": "markdown",
      "source": [
        "###**Summarize each Policy using Bart model**"
      ],
      "metadata": {
        "id": "Gy4T1IR5LrXN"
      },
      "id": "Gy4T1IR5LrXN"
    },
    {
      "cell_type": "code",
      "source": [
        "from transformers import pipeline\n",
        "\n",
        "# Load summarizer\n",
        "summarizer = pipeline(\"summarization\", model=\"facebook/bart-large-cnn\")\n",
        "\n",
        "# Loop through and summarize each policy section\n",
        "for title, content in all_policies_content.items():\n",
        "    print(f\"\\n📄 {title}\")\n",
        "    # BART has a token limit (max ~1024 tokens); trim if too long\n",
        "    if len(content.split()) > 900:\n",
        "        content = \" \".join(content.split()[:900])  # truncate safely\n",
        "    summary = summarizer(content, max_length=60, min_length=15, do_sample=False)\n",
        "    print(\"📝 Summary:\", summary[0]['summary_text'])\n"
      ],
      "metadata": {
        "colab": {
          "base_uri": "https://localhost:8080/"
        },
        "id": "e95vInTskZ-V",
        "outputId": "26156592-734b-40e4-d2ac-079727329347"
      },
      "id": "e95vInTskZ-V",
      "execution_count": 6,
      "outputs": [
        {
          "output_type": "stream",
          "name": "stderr",
          "text": [
            "/usr/local/lib/python3.11/dist-packages/huggingface_hub/utils/_auth.py:94: UserWarning: \n",
            "The secret `HF_TOKEN` does not exist in your Colab secrets.\n",
            "To authenticate with the Hugging Face Hub, create a token in your settings tab (https://huggingface.co/settings/tokens), set it as secret in your Google Colab and restart your session.\n",
            "You will be able to reuse this secret in all of your notebooks.\n",
            "Please note that authentication is recommended but still optional to access public models or datasets.\n",
            "  warnings.warn(\n",
            "Device set to use cpu\n"
          ]
        },
        {
          "output_type": "stream",
          "name": "stdout",
          "text": [
            "\n",
            "📄 Leave Policies\n",
            "📝 Summary: L - Annual Leave:** 18 days of paid leave per year, accrued monthly. - Maternity Leave: ** 6 months ofpaid leave for expecting mothers. - Paternity leave:** 15 days of Paid Leave for new fathers. - Compensatory Leave:  Leave granted for\n",
            "\n",
            "📄 Training and Development\n",
            "📝 Summary: Employee ID is the name and name of the person holding the employee ID. The employee ID is also the name of that person's course of study. Courses taken include Leadership in Operations, HR Management Essentials, Data Analytics for Logistics and HR Professional.\n",
            "\n",
            "📄 Employee Benefits\n",
            "📝 Summary: Health Insurance:** Covers employee and dependents up to ₹5,00,000. Provident Fund:** 12% of basic salary contributed to the PF account. Gratuity:** Paid on retirement/resignation based on tenure.\n",
            "\n",
            "📄 Holiday Calendar\n",
            "📝 Summary: Holi, Diwali, Raksha Bandhan, Ganesh Chaturthi, Makar Sankranti, Eid al-Fitr, Christmas, Independence Day, Good Friday, Republic Day are among the festivals on this list.\n",
            "\n",
            "📄 Events and Holiday Calendar\n",
            "📝 Summary: Annual Company Meet: 2023-12-15 | 10:00 AM | Mumbai Office. Health Camp: 2024-11-10 | 09:00am | Bangalore Office. Team Building Event: 2025-09-05 | 02:00 PM | Goa Resort\n"
          ]
        }
      ]
    }
  ],
  "metadata": {
    "kernelspec": {
      "display_name": "Python 3 (ipykernel)",
      "language": "python",
      "name": "python3"
    },
    "language_info": {
      "codemirror_mode": {
        "name": "ipython",
        "version": 3
      },
      "file_extension": ".py",
      "mimetype": "text/x-python",
      "name": "python",
      "nbconvert_exporter": "python",
      "pygments_lexer": "ipython3",
      "version": "3.11.11"
    },
    "colab": {
      "provenance": []
    }
  },
  "nbformat": 4,
  "nbformat_minor": 5
}
