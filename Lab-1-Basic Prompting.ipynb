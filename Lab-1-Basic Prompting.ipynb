{
 "cells": [
  {
   "cell_type": "markdown",
   "id": "1deb5080-435f-403d-836d-f4ceb5abe90e",
   "metadata": {},
   "source": [
    "## Try following prompts on ChatGpt  "
   ]
  },
  {
   "cell_type": "code",
   "execution_count": 5,
   "id": "6a93925c-d2e8-40d9-9e8b-b85e90fc2f6c",
   "metadata": {},
   "outputs": [
    {
     "name": "stdout",
     "output_type": "stream",
     "text": [
      "Object `policies` not found.\n"
     ]
    }
   ],
   "source": [
    "What are company's leave policies?"
   ]
  },
  {
   "cell_type": "code",
   "execution_count": 33,
   "id": "6a7f9878-d1f0-4c5d-97f0-36aa4e39426c",
   "metadata": {},
   "outputs": [
    {
     "ename": "SyntaxError",
     "evalue": "invalid syntax (881942421.py, line 2)",
     "output_type": "error",
     "traceback": [
      "\u001b[0;36m  Cell \u001b[0;32mIn[33], line 2\u001b[0;36m\u001b[0m\n\u001b[0;31m    - **Annual Leave:** 18 days of paid leave per year, accrued monthly.\u001b[0m\n\u001b[0m      ^\u001b[0m\n\u001b[0;31mSyntaxError\u001b[0m\u001b[0;31m:\u001b[0m invalid syntax\n"
     ]
    }
   ],
   "source": [
    "# Leave Policies\n",
    "- **Annual Leave:** 18 days of paid leave per year, accrued monthly.\n",
    "- **Sick Leave:** 12 days of paid leave for medical reasons per year.\n",
    "- **Maternity Leave:** 6 months of paid leave for expecting mothers.\n",
    "- **Paternity Leave:** 15 days of paid leave for new fathers.L\n",
    "- **Compensatory Leave:** Leave granted for working on weekends or holidays.\n",
    "\n",
    "What are company's leave policies?"
   ]
  },
  {
   "cell_type": "markdown",
   "id": "3f226328-bd85-4d20-bfee-80342171767d",
   "metadata": {},
   "source": [
    "## Connect with ChatGPT endpoint using API"
   ]
  },
  {
   "cell_type": "markdown",
   "id": "a494c6fa-f696-4c67-b05f-983a7811d093",
   "metadata": {},
   "source": [
    "### Get the OpenAI API Key and instantiate the client"
   ]
  },
  {
   "cell_type": "code",
   "execution_count": 11,
   "id": "98fb6251-05fb-4ae7-8028-f7ad9e75d890",
   "metadata": {},
   "outputs": [],
   "source": [
    "from openai import OpenAI"
   ]
  },
  {
   "cell_type": "code",
   "execution_count": 8,
   "id": "3c60b728-ee85-4c3d-b8ab-687b4a93f779",
   "metadata": {},
   "outputs": [],
   "source": [
    "import os\n",
    "import requests\n",
    "from dotenv import load_dotenv"
   ]
  },
  {
   "cell_type": "code",
   "execution_count": 9,
   "id": "4f0fb33d-aff6-4c4d-adb0-87bf5fd1e823",
   "metadata": {},
   "outputs": [],
   "source": [
    "load_dotenv(override=True)\n",
    "api_key = os.getenv('OPENAI_API_KEY')"
   ]
  },
  {
   "cell_type": "code",
   "execution_count": 12,
   "id": "cf4c5f3f-7d4f-4a2f-8804-1eefa751bed8",
   "metadata": {},
   "outputs": [],
   "source": [
    "openai = OpenAI()"
   ]
  },
  {
   "cell_type": "code",
   "execution_count": 13,
   "id": "c3504a27-a965-4d59-abaa-aab0f54b8bf0",
   "metadata": {},
   "outputs": [],
   "source": [
    "message = \"Hello, AI World. How are you doing?\"\n",
    "response = openai.chat.completions.create(\n",
    "    model=\"gpt-4o-mini\",\n",
    "    messages=[{\"role\":\"user\", \"content\":message}\n",
    "    ]\n",
    "  )\n"
   ]
  },
  {
   "cell_type": "code",
   "execution_count": 14,
   "id": "75f4ea17-16e6-4882-ba16-b8b939a19546",
   "metadata": {},
   "outputs": [
    {
     "name": "stdout",
     "output_type": "stream",
     "text": [
      "Hello! I'm just a program, so I don't have feelings, but I'm here and ready to help you with whatever you need. How can I assist you today?\n"
     ]
    }
   ],
   "source": [
    "print(response.choices[0].message.content)"
   ]
  },
  {
   "cell_type": "code",
   "execution_count": 21,
   "id": "dd5af9da-5ebb-43af-9992-d4653817e1ee",
   "metadata": {},
   "outputs": [
    {
     "name": "stdout",
     "output_type": "stream",
     "text": [
      "Company leave policies can vary widely based on the organization, its location, industry, and the specific terms negotiated in employee contracts or collective bargaining agreements. However, common types of leave policies that many companies include are:\n",
      "\n",
      "1. **Annual Leave/Vacation Leave**: Employees earn a specific number of vacation days per year, which can often be accrued over time.\n",
      "\n",
      "2. **Sick Leave**: Employees are granted a certain number of sick days to use when they are ill or need to care for a family member.\n",
      "\n",
      "3. **Personal Leave**: Some companies offer personal days for employees to use at their discretion, often for reasons that do not qualify as sick leave or vacation.\n",
      "\n",
      "4. **Parental Leave**: Policies for maternity and paternity leave, which can provide time off for new parents.\n",
      "\n",
      "5. **Family and Medical Leave**: Many companies comply with regulations like the Family and Medical Leave Act (FMLA) in the U.S., which allows eligible employees to take unpaid leave for certain family and medical reasons.\n",
      "\n",
      "6. **Bereavement Leave**: Time off provided for employees to grieve the loss of a family member or loved one.\n",
      "\n",
      "7. **Holiday Leave**: Paid time off on designated holidays, such as New Year's Day, Independence Day, and others.\n",
      "\n",
      "8. **Jury Duty Leave**: Policies regarding time off for employees summoned to serve on a jury.\n",
      "\n",
      "9. **Leave of Absence**: Policies that outline the conditions under which an employee can take an extended leave of absence for health, personal, or family issues.\n",
      "\n",
      "10. **Floating Holidays**: Some companies offer floating holidays, which allow employees to take time off on days of their choosing, typically outside of the company-recognized holidays.\n",
      "\n",
      "11. **Unpaid Leave**: Circumstances under which employees can take unpaid leave, often requiring prior approval.\n",
      "\n",
      "12. **Military Leave**: Policies for employees who serve in the military, ensuring they can return to their jobs after service.\n",
      "\n",
      "Each company's leave policy should be clearly outlined in the employee handbook or similar documentation, specifying accrual rates, eligibility, and the process for requesting leave. Always check with your HR department for the specific policies that apply at your organization.\n"
     ]
    }
   ],
   "source": [
    "message = \"What are company's leave policies?\"\n",
    "response = openai.chat.completions.create(\n",
    "    model=\"gpt-4o-mini\",\n",
    "    messages=[{\"role\":\"user\", \"content\":message}\n",
    "    ]\n",
    "  )\n",
    "print(response.choices[0].message.content)"
   ]
  },
  {
   "cell_type": "markdown",
   "id": "60f863ad-9219-4e96-85b8-8c9c0c511f63",
   "metadata": {},
   "source": [
    "### Add a system role"
   ]
  },
  {
   "cell_type": "code",
   "execution_count": 15,
   "id": "ee79a5ea-2eb5-4c2b-8fbf-40fa21e1613f",
   "metadata": {},
   "outputs": [],
   "source": [
    "system_message = \"\"\"\n",
    "You are an AI assistant specialized in solving riddles.\n",
    "Given a riddle, solve it the best you can.\n",
    "Provide a clear justification of your answer and the reasoning behind it.\n",
    "Riddle:\n",
    "\"\"\""
   ]
  },
  {
   "cell_type": "code",
   "execution_count": 16,
   "id": "a0054680-f4ff-44c6-a68c-e314ba455f5d",
   "metadata": {},
   "outputs": [],
   "source": [
    "riddle = \"\"\"\n",
    "What has a face and two hands, but no arms or legs?\n",
    "\"\"\""
   ]
  },
  {
   "cell_type": "code",
   "execution_count": 26,
   "id": "e403aa41-2aae-4a47-b3ad-eea5217ecb51",
   "metadata": {},
   "outputs": [],
   "source": [
    "response = openai.chat.completions.create(\n",
    "    model=\"gpt-4o-mini\",\n",
    "    messages=[{\"role\": \"system\", \"content\": system_message},\n",
    "              {\"role\":\"user\", \"content\":riddle}\n",
    "    ]\n",
    ")"
   ]
  },
  {
   "cell_type": "code",
   "execution_count": 18,
   "id": "70fa3144-a73e-48c3-9b1b-8ad923494d46",
   "metadata": {},
   "outputs": [
    {
     "name": "stdout",
     "output_type": "stream",
     "text": [
      "The answer to the riddle \"What has a face and two hands, but no arms or legs?\" is a clock.\n",
      "\n",
      "Justification:\n",
      "1. **Face**: A clock has a face, which refers to the part where the numbers and markers are shown to tell the time.\n",
      "2. **Two Hands**: A clock has two hands, typically referred to as the hour hand and the minute hand (and sometimes a second hand).\n",
      "3. **No Arms or Legs**: A clock does not have arms or legs; it is an inanimate object.\n",
      "\n",
      "This description perfectly matches the definition given in the riddle, thus confirming that a clock is indeed the correct answer.\n"
     ]
    }
   ],
   "source": [
    "print(response.choices[0].message.content)"
   ]
  },
  {
   "cell_type": "markdown",
   "id": "9a246ccf-d4c1-4d23-a3c6-2807c6f4194a",
   "metadata": {},
   "source": [
    "### Update the system role to make it aware of HR assisant and give context of leave policies"
   ]
  },
  {
   "cell_type": "code",
   "execution_count": 22,
   "id": "000372f1-1e04-4c45-ad87-74d7a639560c",
   "metadata": {},
   "outputs": [],
   "source": [
    "system_message = \"\"\"\n",
    "You are an HR assistant specialise in solving employees queries. \n",
    "\"\"\""
   ]
  },
  {
   "cell_type": "code",
   "execution_count": 24,
   "id": "9beea75a-f4a4-4536-a12d-5d4aa683637f",
   "metadata": {},
   "outputs": [],
   "source": [
    "leave_polices=\"\"\"\n",
    "# Leave Policies\n",
    "- **Annual Leave:** 18 days of paid leave per year, accrued monthly.\n",
    "- **Sick Leave:** 12 days of paid leave for medical reasons per year.\n",
    "- **Maternity Leave:** 6 months of paid leave for expecting mothers.\n",
    "- **Paternity Leave:** 15 days of paid leave for new fathers.L\n",
    "- **Compensatory Leave:** Leave granted for working on weekends or holidays.\n",
    "\"\"\""
   ]
  },
  {
   "cell_type": "code",
   "execution_count": 30,
   "id": "72703564-2d5d-4120-aac1-5faa8f590789",
   "metadata": {},
   "outputs": [
    {
     "name": "stdout",
     "output_type": "stream",
     "text": [
      "From the HR portal company's policies are \n",
      "# Leave Policies\n",
      "- **Annual Leave:** 18 days of paid leave per year, accrued monthly.\n",
      "- **Sick Leave:** 12 days of paid leave for medical reasons per year.\n",
      "- **Maternity Leave:** 6 months of paid leave for expecting mothers.\n",
      "- **Paternity Leave:** 15 days of paid leave for new fathers.L\n",
      "- **Compensatory Leave:** Leave granted for working on weekends or holidays.\n",
      "\n",
      " What are company's leave policies? please summarize is paragraph \n",
      "\n",
      "\n"
     ]
    }
   ],
   "source": [
    "user_prompt = f\"From the HR portal company's policies are {leave_polices}\"\n",
    "user_prompt += \"\\n What are company's leave policies? please summarize is paragraph \\n\\n\"\n",
    "print(user_prompt)\n"
   ]
  },
  {
   "cell_type": "code",
   "execution_count": 31,
   "id": "788431be-7f20-4d1e-a69d-24d7cea59450",
   "metadata": {},
   "outputs": [],
   "source": [
    "response = openai.chat.completions.create(\n",
    "    model=\"gpt-4o-mini\",\n",
    "    messages=[{\"role\": \"system\", \"content\": system_message},\n",
    "              {\"role\":\"user\", \"content\":user_prompt}\n",
    "    ]\n",
    ")"
   ]
  },
  {
   "cell_type": "code",
   "execution_count": 32,
   "id": "c8fb5875-738c-4ada-b238-a8c236af1d84",
   "metadata": {},
   "outputs": [
    {
     "name": "stdout",
     "output_type": "stream",
     "text": [
      "The company's leave policies provide employees with a range of paid leave options: 18 days of annual leave that accrues monthly, 12 days of sick leave for medical reasons, and specific provisions for new parents such as 6 months of maternity leave for expecting mothers and 15 days of paternity leave for new fathers. Additionally, employees can receive compensatory leave for working on weekends or holidays.\n"
     ]
    }
   ],
   "source": [
    "print(response.choices[0].message.content)"
   ]
  },
  {
   "cell_type": "markdown",
   "id": "c55de746-6fca-41dd-ae65-f0589542a3f4",
   "metadata": {},
   "source": [
    "# Assignments"
   ]
  },
  {
   "cell_type": "markdown",
   "id": "cf82a3f5-ae74-4711-bf6d-c8465fe20d27",
   "metadata": {},
   "source": [
    "## Assignment 1\n",
    "Summarize the details about one of the employee. "
   ]
  },
  {
   "cell_type": "markdown",
   "id": "46865565-613d-4071-a48e-42e6f0ede2c3",
   "metadata": {},
   "source": [
    "## Assignment 2\n",
    "Following code is there to get the content of any website. Write prompt to summazize the page. "
   ]
  },
  {
   "cell_type": "code",
   "execution_count": 37,
   "id": "a05deab3-2499-4016-a647-c270737c64d2",
   "metadata": {},
   "outputs": [],
   "source": [
    "from bs4 import BeautifulSoup\n",
    "from IPython.display import Markdown, display"
   ]
  },
  {
   "cell_type": "code",
   "execution_count": 38,
   "id": "0e5e3574-f62b-4271-a15a-72bf7ef35947",
   "metadata": {},
   "outputs": [],
   "source": [
    "# A class to represent a Webpage\n",
    "# Some websites need you to use proper headers when fetching them:\n",
    "headers = {\n",
    " \"User-Agent\": \"Mozilla/5.0 (Windows NT 10.0; Win64; x64) AppleWebKit/537.36 (KHTML, like Gecko) Chrome/117.0.0.0 Safari/537.36\"\n",
    "}\n",
    "\n",
    "class Page:\n",
    "\n",
    "    def __init__(self, url):\n",
    "        \"\"\"\n",
    "        Create this Page object from the given url using the BeautifulSoup library\n",
    "        \"\"\"\n",
    "        self.url = url\n",
    "        response = requests.get(url, headers=headers)\n",
    "        soup = BeautifulSoup(response.content, 'html.parser')\n",
    "        self.title = soup.title.string if soup.title else \"No title found\"\n",
    "        for irrelevant in soup.body([\"script\", \"style\", \"img\", \"input\"]):\n",
    "            irrelevant.decompose()\n",
    "        self.text = soup.body.get_text(separator=\"\\n\", strip=True)"
   ]
  },
  {
   "cell_type": "code",
   "execution_count": 39,
   "id": "8a92e65a-5236-499b-8daf-62292579481f",
   "metadata": {},
   "outputs": [],
   "source": [
    "page = Page(\"https://www.hrdive.com/news/treat-ai-as-a-new-kind-of-talent-productivity-gains/736724/\")"
   ]
  },
  {
   "cell_type": "code",
   "execution_count": 41,
   "id": "adbb3b92-3032-4f7a-9282-87807244a69f",
   "metadata": {},
   "outputs": [
    {
     "name": "stdout",
     "output_type": "stream",
     "text": [
      "Treat AI as a new kind of talent to realize productivity gains | HR Dive\n"
     ]
    }
   ],
   "source": [
    "print(page.title)"
   ]
  },
  {
   "cell_type": "code",
   "execution_count": 42,
   "id": "d973ea63-d9f0-462d-9549-eee670f3f499",
   "metadata": {},
   "outputs": [
    {
     "name": "stdout",
     "output_type": "stream",
     "text": [
      "Skip to main content\n",
      "CONTINUE TO SITE ➞\n",
      "Don't miss tomorrow's HR industry news\n",
      "Let HR Dive's free newsletter keep you informed, straight from your inbox.\n",
      "Daily Dive\n",
      "M-F\n",
      "Talent Daily\n",
      "M-F\n",
      "Compliance Weekly\n",
      "Every Monday\n",
      "Learning Weekly\n",
      "Every Tuesday\n",
      "Diversity & Inclusion Weekly\n",
      "Every Wednesday\n",
      "Compensation & Benefits Weekly\n",
      "Every Thursday\n",
      "By signing up to receive our newsletter, you agree to our\n",
      "Terms of Use\n",
      "and\n",
      "Privacy Policy\n",
      ". You can unsubscribe at anytime.\n",
      "Deep Dive\n",
      "Opinion\n",
      "Library\n",
      "Events\n",
      "Press Releases\n",
      "Topics\n",
      "Sign up\n",
      "Search\n",
      "Sign up\n",
      "Search\n",
      "Compliance\n",
      "Talent\n",
      "Learning\n",
      "Comp & Benefits\n",
      "Diversity & Inclusion\n",
      "HR Mgmt\n",
      "Tech & Analytics\n",
      "State & Local Laws\n",
      "An article from\n",
      "Opinion\n",
      "Treat AI as a new kind of talent to realize productivity gains\n",
      "Think of artificial intelligence as an intern for every employee, suggests West Monroe’s Steven Kirz.\n",
      "Published Jan. 17, 2025\n",
      "By\n",
      "Steven Kirz\n",
      "post\n",
      "share\n",
      "post\n",
      "print\n",
      "email\n",
      "Tirachard via Getty Images\n",
      "This audio is auto-generated. Please let us know if you have\n",
      "feedback\n",
      ".\n",
      "Steven Kirz is an operational excellence senior partner at West Monroe.\n",
      "Just about every business has felt the pressure to adopt artificial intelligence, including generative artificial intelligence. But a majority of executives are still waiting to see the efficiency, productivity and competitive advantage gains they expected: In\n",
      "one study\n",
      ", 42% of companies said they have yet to see a significant return on their AI investments.\n",
      "Many executives attribute AI's shortcomings to its complexity, leading them to question whether it's over-hyped. But a clear pattern emerges when comparing successes and failures: Companies that treat AI as just another technology — tasking IT or external providers with implementation — often miss its true potential. However, those that treat AI as a new kind of talent discover possibilities far beyond what a conventional tech mindset can achieve.\n",
      "AI is part of the talent ecosystem\n",
      "Companies have four talent options for performing work: employees, contract labor, outsourced labor and AI technologies. Maximizing efficiency and productivity requires aligning roles and activities with the talent type most appropriate for performing them. When done effectively, this produces material cost savings, as well as higher customer and employee satisfaction.\n",
      "Companies that approach AI as a technology typically attempt to replace human talent, resulting in poor adoption and disappointing results. Companies that recognize AI as a talent type — one that improves talent efficiency at the task level, making all other talent types more productive — enjoy solid adoption of AI and learn to rely upon employees to identify and implement high-impact use cases within their areas of expertise.\n",
      "Think of AI as an intern for every employee\n",
      "We find the intern metaphor helps executives begin to see and appreciate AI as a type of talent. Anyone can be more productive with the assistance of an intern — particularly this unique “intern” that has access to all human history’s knowledge, has a perfect memory, keeps getting better and will be at your employee’s side during their entire career.\n",
      "The AI “intern” performs tasks the employee could have done but that would have consumed valuable time: perform research, summarize meeting notes and outcomes, synthesize key points from several dozen interviews or develop an initial test script for a new application based on business requirements.\n",
      "The employee still has to check and fine-tune the intern’s work. But because there’s “someone” to do the busy work, the employee can focus on more valuable tasks.\n",
      "Training is the key to adoption and employee fulfillment\n",
      "Today, many companies provide their workforce with a secure AI chat tool and have a governance model and controls to guide its use.\n",
      "But to create the impact (real benefits) equivalent to giving employees an intern for life, it’s not enough to make the tool available. Companies must invest in training employees\n",
      "how\n",
      "to use AI chat effectively. That means changing the way employees think and solve problems, aided by AI.\n",
      "Train people to be prompt engineers.\n",
      "Prompt engineering is a fancy term for a simple skill — the ability to ask detailed questions of a large language model in such a way that the model returns accurate, meaningful output.\n",
      "In leading companies, prompt engineering is as important a skill as PowerPoint or Excel. Imagine trying to develop an important presentation without sufficient PowerPoint training. You’d spend all of your time formatting it and little time on the content.\n",
      "As with those other common business tools, it takes time for people to get good at prompt engineering. There are best practices to master — for example, phrasing questions clearly, identifying personas and being specific about the format in which to receive information.\n",
      "Good prompts can be lengthy and take time to develop, but when done well the output far outweighs the effort. From experience training our own teams at West Monroe, we’ve seen measurable productivity, efficiency, speed and accuracy gains within six months. People begin to apply AI to perform their activities faster and come up with new ideas to improve efficiency across the value chain. That means the sooner you get everyone proficient in prompt engineering, the sooner you will see benefits.\n",
      "Trust your employees to unlock value once you train them.\n",
      "Trained employees are the best judges of how to use AI to be more productive in their own roles. How big is the potential? According to the\n",
      "Stanford Digital Economy Lab\n",
      ", 80% of today’s workers can use AI to help with 10% of tasks, while about 20% of workers can use it to help with 50% of tasks. As people become comfortable and proficient, they will find more and more ways to use AI in their roles.\n",
      "Trained employees are also your organization’s best source of new ideas for using AI to improve processes — so lean into that. My team has monthly discussions to share prompts that people have found particularly effective. And my company recently\n",
      "held a contest\n",
      "to surface innovative AI use cases and celebrate ideas that are now helping us run better.\n",
      "Encourage training to boost fulfillment.\n",
      "Actively encouraging proficiency will also elevate your employee value proposition. There is more AI coming. Employees who feel you are investing in their training and who recognize how AI is making them more productive are more likely to adopt AI and create value faster.\n",
      "Instead of measuring reduced cost, learn to measure the value of improved experience.\n",
      "This brings us to measurement. So far, the focus has often been on how AI can cut costs — a straightforward but narrow metric. What's less explored is its potential to enhance productivity, customer satisfaction, employee fulfillment and time-to-market — broader measures of success tied to experience. While these are harder to quantify, learning to measure them is essential to fully realize the value of AI as a vital part of the talent ecosystem.\n",
      "HR’s strategic role in making the most of AI’s potential\n",
      "AI is a great leveler of expertise across the talent ecosystem. It will continue to evolve and get smarter, improving the productivity of all other talent types, thus continuously changing the optimal talent mix. While no one part of the organization owns or is responsible for all talent, HR is in the unique position of understanding how to use AI to maximize the potential of all talent types to meet strategic goals — and to lead the mindset change of AI as talent instead of tech to unlock unprecedented levels of productivity.\n",
      "Filed Under:\n",
      "Talent\n",
      "HR Dive news delivered to your inbox\n",
      "Get the free daily newsletter read by industry experts\n",
      "Email:\n",
      "Select Newsletter:\n",
      "Select Newsletter:\n",
      "Select Newsletter:\n",
      "Select Newsletter:\n",
      "Select Newsletter:\n",
      "Select Newsletter:\n",
      "Select user consent:\n",
      "Sign up\n",
      "A valid email address is required.\n",
      "Please select at least one newsletter.\n",
      "Editors' picks\n",
      "Leon Neal / Staff via Getty Images\n",
      "‘I-9 audits are coming:’ Conduct a self-review before Trump takes office, attorney says\n",
      "Subpar Form I-9 programs will be exposed under the new administration, counsel at Cozen O’Connor said.\n",
      "By Kate Tornone •\n",
      "Dec. 3, 2024\n",
      "\"\n",
      "Costco, Enfield, Connecticut\n",
      "\" by\n",
      "Mike Mozart\n",
      "is licensed under\n",
      "CC BY 2.0\n",
      "Did Costco just reset the narrative around DEI?\n",
      "In contrast to a slew of companies, the warehouse retailer has forcefully rejected an anti-DEI shareholder proposal as bad for business.\n",
      "By Daphne Howland •\n",
      "Jan. 6, 2025\n",
      "Keep up with the story. Subscribe to the HR Dive free daily newsletter\n",
      "Email:\n",
      "Select Newsletter:\n",
      "Select Newsletter:\n",
      "Select Newsletter:\n",
      "Select Newsletter:\n",
      "Select Newsletter:\n",
      "Select Newsletter:\n",
      "Select user consent:\n",
      "Sign up\n",
      "A valid email address is required.\n",
      "Please select at least one newsletter.\n",
      "Get the free newsletter\n",
      "Subscribe to HR Dive for top news, trends & analysis\n",
      "Email:\n",
      "Select Newsletter:\n",
      "Select Newsletter:\n",
      "Select Newsletter:\n",
      "Select Newsletter:\n",
      "Select Newsletter:\n",
      "Select Newsletter:\n",
      "Select user consent:\n",
      "Sign up\n",
      "A valid email address is required.\n",
      "Please select at least one newsletter.\n",
      "Most Popular\n",
      "Nearly half of managers predict layoffs in 2025\n",
      "Employers shouldn’t abandon diversity efforts, SHRM says\n",
      "1 in 8 companies say they plan to weaken DEI commitments in 2025\n",
      "Trump orders agencies to target private-sector DEI\n",
      "Library resources\n",
      "Playbook\n",
      "3 Ways Elevated People Practices Drive Better Business Outcomes\n",
      "Custom content for\n",
      "Top Employers\n",
      "Playbook\n",
      "Choosing the Right Harassment & Discrimination Prevention Training\n",
      "Custom content for\n",
      "EVERFI\n",
      "Trendline\n",
      "Promoting mental health in the workplace\n",
      "Supported by\n",
      "Calm Health\n",
      "View all\n",
      "Company Announcements\n",
      "Halifax-based Startup Bright Breaks Wellness Content to be Featured on Air Canada Flights\n",
      "From Bright Breaks\n",
      "Why Interviews are No Longer Enough: A New Approach to Candidate Assessment\n",
      "From Charlotte Mckinsey\n",
      "Improvizations, LLC Acquires the FASE Group to Expand Services for Workforce Management and Hu…\n",
      "From Improvizations, LLC\n",
      "Rich Products Taps New EVP and Chief People Officer Monica Novomisle to Lead Rich’s Associate …\n",
      "From Rich Products\n",
      "View all\n",
      "|\n",
      "Post a press release\n",
      "What We're Reading\n",
      "ProPublica\n",
      "Insurers Failed to Comply With Federal Law: DOL Report\n",
      "HR Daily Advisor\n",
      "Ask the Expert: How Should Employers Prepare for Worksite Enforcement Investigations?\n",
      "Maynard Nexsen\n",
      "Biden-Era OSHA Regulations Will Be Reassessed by New Trump Administration\n",
      "View all\n",
      "Industry Intel\n",
      "The fertility blindspot: Why traditional benefits are missing the mark\n",
      "Webinar - on demand\n",
      "•\n",
      "Provided by Maven Clinic\n",
      "7 tips to help HR leaders navigate the stress of year-end activities\n",
      "Webinar - on demand\n",
      "•\n",
      "Provided by Accolade\n",
      "Rock Enroll 2024: What you can learn from the year's best group benefits enrollments\n",
      "Webinar - on demand\n",
      "•\n",
      "Provided by Colonial Life\n",
      "HR Dive news delivered to your inbox\n",
      "Get the free daily newsletter read by industry experts\n",
      "Email:\n",
      "Select Newsletter:\n",
      "Select Newsletter:\n",
      "Select Newsletter:\n",
      "Select Newsletter:\n",
      "Select Newsletter:\n",
      "Select Newsletter:\n",
      "Select user consent:\n",
      "Sign up\n",
      "A valid email address is required.\n",
      "Please select at least one newsletter.\n",
      "Company Announcements\n",
      "View all\n",
      "|\n",
      "Post a press release\n",
      "Halifax-based Startup Bright Breaks Wellness Content to be Featured on Air Canada Flights\n",
      "From Bright Breaks\n",
      "January 23, 2025\n",
      "Why Interviews are No Longer Enough: A New Approach to Candidate Assessment\n",
      "From Charlotte Mckinsey\n",
      "January 23, 2025\n",
      "Improvizations, LLC Acquires the FASE Group to Expand Services for Workforce Management and Hu…\n",
      "From Improvizations, LLC\n",
      "January 22, 2025\n",
      "Rich Products Taps New EVP and Chief People Officer Monica Novomisle to Lead Rich’s Associate …\n",
      "From Rich Products\n",
      "January 23, 2025\n",
      "Editors' picks\n",
      "Leon Neal / Staff via Getty Images\n",
      "‘I-9 audits are coming:’ Conduct a self-review before Trump takes office, attorney says\n",
      "Subpar Form I-9 programs will be exposed under the new administration, counsel at Cozen O’Connor said.\n",
      "By Kate Tornone •\n",
      "Dec. 3, 2024\n",
      "\"\n",
      "Costco, Enfield, Connecticut\n",
      "\" by\n",
      "Mike Mozart\n",
      "is licensed under\n",
      "CC BY 2.0\n",
      "Did Costco just reset the narrative around DEI?\n",
      "In contrast to a slew of companies, the warehouse retailer has forcefully rejected an anti-DEI shareholder proposal as bad for business.\n",
      "By Daphne Howland •\n",
      "Jan. 6, 2025\n",
      "Latest in Talent\n",
      "SMB leaders confident amid flurry of workplace changes, index says\n",
      "By Kathryn Moody\n",
      "How to help workers amid wildfires and recovery\n",
      "By Caroline Colvin\n",
      "1 in 8 companies say they plan to weaken DEI commitments in 2025\n",
      "By Carolyn Crist\n",
      "Potential leadership crisis looms in 2025 as burnout increases\n",
      "By Carolyn Crist\n",
      "Explore\n",
      "About\n",
      "Editorial Team\n",
      "Contact Us\n",
      "Newsletter\n",
      "Purchase Licensing Rights\n",
      "Press Releases\n",
      "What We're Reading\n",
      "Reach our audience\n",
      "Advertising\n",
      "Post a press release\n",
      "Submit an opinion piece\n",
      "Promote an event\n",
      "Related Publications\n",
      "CFO Dive\n",
      "Marketing Dive\n",
      "Industry Dive is an Informa TechTarget business.\n",
      "© 2025 TechTarget, Inc. or its subsidiaries. All rights reserved. | View our\n",
      "other publications\n",
      "|\n",
      "Privacy policy\n",
      "|\n",
      "Terms of use\n",
      "|\n",
      "Take down policy\n",
      ".\n",
      "Cookie Preferences / Do Not Sell\n",
      "This website is owned and operated by Informa TechTarget, part of a global network that informs, influences and connects the world's technology buyers and sellers. All copyright resides with them. Informa PLC's registered office is 5 Howick Place, London SW1P 1WG. Registered in England and Wales. TechTarget, Inc.'s registered office is 275 Grove St. Newton, MA 02466.\n",
      "Search\n",
      "Home\n",
      "Topics\n",
      "Compliance\n",
      "Talent\n",
      "Learning\n",
      "Comp & Benefits\n",
      "Diversity & Inclusion\n",
      "HR Mgmt\n",
      "Tech & Analytics\n",
      "State & Local Laws\n",
      "Deep Dive\n",
      "Opinion\n",
      "Library\n",
      "Events\n",
      "Press Releases\n",
      "Get HR Dive in your inbox\n",
      "The free newsletter covering the top industry headlines\n",
      "Email:\n",
      "Select Newsletter:\n",
      "Select Newsletter:\n",
      "Select Newsletter:\n",
      "Select Newsletter:\n",
      "Select Newsletter:\n",
      "Select Newsletter:\n",
      "Select user consent:\n",
      "Sign up\n",
      "A valid email address is required.\n",
      "Please select at least one newsletter.\n"
     ]
    }
   ],
   "source": [
    "print(page.text)"
   ]
  },
  {
   "cell_type": "markdown",
   "id": "0d327621-56a7-4d86-83ed-0414014a6df7",
   "metadata": {},
   "source": [
    "### Now summarize the page"
   ]
  },
  {
   "cell_type": "code",
   "execution_count": null,
   "id": "bde98317-fa90-4c26-a465-6f0b617f4850",
   "metadata": {},
   "outputs": [],
   "source": []
  }
 ],
 "metadata": {
  "kernelspec": {
   "display_name": "Python 3 (ipykernel)",
   "language": "python",
   "name": "python3"
  },
  "language_info": {
   "codemirror_mode": {
    "name": "ipython",
    "version": 3
   },
   "file_extension": ".py",
   "mimetype": "text/x-python",
   "name": "python",
   "nbconvert_exporter": "python",
   "pygments_lexer": "ipython3",
   "version": "3.11.11"
  }
 },
 "nbformat": 4,
 "nbformat_minor": 5
}
