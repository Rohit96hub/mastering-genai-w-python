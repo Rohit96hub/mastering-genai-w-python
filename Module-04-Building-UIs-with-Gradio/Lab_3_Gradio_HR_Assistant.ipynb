{
  "cells": [
    {
      "cell_type": "markdown",
      "source": [
        "#**HR-Assistant**\n",
        "- Apply dataset as \"docs\" to the LLM\n",
        "- User asks questions about Employess from the dataset"
      ],
      "metadata": {
        "id": "3KCIPLH8Sunk"
      },
      "id": "3KCIPLH8Sunk"
    },
    {
      "cell_type": "markdown",
      "source": [
        "###**Import statements**\n"
      ],
      "metadata": {
        "id": "-e4ps4A6XQKs"
      },
      "id": "-e4ps4A6XQKs"
    },
    {
      "cell_type": "code",
      "execution_count": null,
      "id": "e7fab282-a26e-4e88-af33-c85365fd5287",
      "metadata": {
        "id": "e7fab282-a26e-4e88-af33-c85365fd5287"
      },
      "outputs": [],
      "source": [
        "import os\n",
        "import requests\n",
        "from bs4 import BeautifulSoup\n",
        "from typing import List\n",
        "from dotenv import load_dotenv\n",
        "from openai import OpenAI"
      ]
    },
    {
      "cell_type": "code",
      "execution_count": null,
      "id": "e7ba882d-212f-4ddf-b5c6-f7c85a15e16b",
      "metadata": {
        "id": "e7ba882d-212f-4ddf-b5c6-f7c85a15e16b"
      },
      "outputs": [],
      "source": [
        "import gradio as gr"
      ]
    },
    {
      "cell_type": "code",
      "execution_count": null,
      "id": "bebd30f0-3e85-4b09-b176-0b72fb988dae",
      "metadata": {
        "id": "bebd30f0-3e85-4b09-b176-0b72fb988dae"
      },
      "outputs": [],
      "source": [
        "load_dotenv()\n",
        "openai_api_key = os.getenv('OPENAI_API_KEY')"
      ]
    },
    {
      "cell_type": "code",
      "execution_count": null,
      "id": "54a08d5f-dcfc-44d8-affc-65f3130cbdbd",
      "metadata": {
        "id": "54a08d5f-dcfc-44d8-affc-65f3130cbdbd"
      },
      "outputs": [],
      "source": [
        "openai = OpenAI()"
      ]
    },
    {
      "cell_type": "markdown",
      "source": [
        "###**Function to read the Dataset**"
      ],
      "metadata": {
        "id": "3wCw8IYqXf6Q"
      },
      "id": "3wCw8IYqXf6Q"
    },
    {
      "cell_type": "code",
      "execution_count": null,
      "id": "685c03c1-e0c9-4e6a-aae4-2f105254c717",
      "metadata": {
        "id": "685c03c1-e0c9-4e6a-aae4-2f105254c717"
      },
      "outputs": [],
      "source": [
        "directory=\"hrdataset/employees\"\n",
        "def read_markdown_files(directory):\n",
        "    \"\"\"Read and load content from all Markdown files in a directory.\"\"\"\n",
        "    documents = []\n",
        "    for filename in os.listdir(directory):\n",
        "        if filename.endswith(\".md\"):\n",
        "            filepath = os.path.join(directory, filename)\n",
        "            with open(filepath, 'r', encoding='utf-8') as f:\n",
        "                documents.append({\"filename\": filename, \"content\": f.read()})\n",
        "    return documents"
      ]
    },
    {
      "cell_type": "code",
      "execution_count": null,
      "id": "5c29ef45-057a-4af1-a7fc-c350b62a8c8c",
      "metadata": {
        "id": "5c29ef45-057a-4af1-a7fc-c350b62a8c8c"
      },
      "outputs": [],
      "source": [
        "docs=read_markdown_files(directory)"
      ]
    },
    {
      "cell_type": "markdown",
      "source": [
        "###**Build User Message**"
      ],
      "metadata": {
        "id": "mQuLiGhJXyKu"
      },
      "id": "mQuLiGhJXyKu"
    },
    {
      "cell_type": "code",
      "execution_count": null,
      "id": "e8837da7-411b-4fb2-8818-849a6fe49305",
      "metadata": {
        "id": "e8837da7-411b-4fb2-8818-849a6fe49305"
      },
      "outputs": [],
      "source": [
        "def build_user_messages(question):\n",
        "    message = \"\"\n",
        "    message += f\"Here is info about all the employees {docs}\"\n",
        "    message += f\"now answer query {question}\"\n",
        "    return message"
      ]
    },
    {
      "cell_type": "code",
      "execution_count": null,
      "id": "47f18047-3f38-4fde-9b92-e3c007db3369",
      "metadata": {
        "id": "47f18047-3f38-4fde-9b92-e3c007db3369"
      },
      "outputs": [],
      "source": [
        "system_message=\"You are a helpful HR assistant\""
      ]
    },
    {
      "cell_type": "markdown",
      "source": [
        "###**Function to Generate LLM Response**"
      ],
      "metadata": {
        "id": "fV7szo2UX5Fw"
      },
      "id": "fV7szo2UX5Fw"
    },
    {
      "cell_type": "code",
      "execution_count": null,
      "id": "001b95b2-4cc5-4cc1-953e-29bc176404f2",
      "metadata": {
        "id": "001b95b2-4cc5-4cc1-953e-29bc176404f2"
      },
      "outputs": [],
      "source": [
        "def process_question_gpt(message, history):\n",
        "    prompt = build_user_messages(message)\n",
        "\n",
        "    messages = [\n",
        "        {\"role\": \"system\", \"content\": system_message},\n",
        "        {\"role\": \"user\", \"content\": prompt}\n",
        "      ]\n",
        "    completion = openai.chat.completions.create(\n",
        "        model='gpt-4o-mini',\n",
        "        messages=messages,\n",
        "    )\n",
        "    return completion.choices[0].message.content"
      ]
    },
    {
      "cell_type": "markdown",
      "source": [
        "###**Gradio ChatInterface**"
      ],
      "metadata": {
        "id": "SpBQ_4xHYNi2"
      },
      "id": "SpBQ_4xHYNi2"
    },
    {
      "cell_type": "code",
      "execution_count": null,
      "id": "e1defa62-46a2-4be0-b9e4-846da9c23979",
      "metadata": {
        "id": "e1defa62-46a2-4be0-b9e4-846da9c23979",
        "outputId": "e620ef29-ef75-4379-ddc9-543bbd34e22f"
      },
      "outputs": [
        {
          "name": "stderr",
          "output_type": "stream",
          "text": [
            "/opt/anaconda3/envs/genai/lib/python3.11/site-packages/gradio/chat_interface.py:317: UserWarning: The gr.ChatInterface was not provided with a type, so the type of the gr.Chatbot, 'messages', will be used.\n",
            "  warnings.warn(\n"
          ]
        }
      ],
      "source": [
        "demo = gr.ChatInterface(\n",
        "    process_question_gpt,\n",
        "    chatbot=gr.Chatbot(\n",
        "        height=450,\n",
        "        placeholder=\"Ask the question about Employees\",\n",
        "        type=\"messages\",  # Proper rendering of chat format\n",
        "    ),\n",
        "    textbox=gr.Textbox(\n",
        "        placeholder=\"What do you want to know about your co-workers?\",\n",
        "        container=False,\n",
        "        scale=7,\n",
        "    ),\n",
        "    title=\"Know your co-workers?\",\n",
        "    examples=[\"Who is the CEO of the company?\", \"who joined the company recently\"],\n",
        "    cache_examples=False,\n",
        ")\n"
      ]
    },
    {
      "cell_type": "code",
      "execution_count": null,
      "id": "1f8e6673-f50e-4aae-bbde-63e29574e379",
      "metadata": {
        "id": "1f8e6673-f50e-4aae-bbde-63e29574e379",
        "outputId": "ceae64dc-ff74-4a4f-e98a-327a1c6b8d26"
      },
      "outputs": [
        {
          "name": "stdout",
          "output_type": "stream",
          "text": [
            "* Running on local URL:  http://127.0.0.1:7925\n",
            "* Running on public URL: https://91f5a00c9b5a4c160d.gradio.live\n",
            "\n",
            "This share link expires in 72 hours. For free permanent hosting and GPU upgrades, run `gradio deploy` from the terminal in the working directory to deploy to Hugging Face Spaces (https://huggingface.co/spaces)\n"
          ]
        },
        {
          "data": {
            "text/html": [
              "<div><iframe src=\"https://91f5a00c9b5a4c160d.gradio.live\" width=\"100%\" height=\"500\" allow=\"autoplay; camera; microphone; clipboard-read; clipboard-write;\" frameborder=\"0\" allowfullscreen></iframe></div>"
            ],
            "text/plain": [
              "<IPython.core.display.HTML object>"
            ]
          },
          "metadata": {},
          "output_type": "display_data"
        },
        {
          "data": {
            "text/plain": []
          },
          "execution_count": 119,
          "metadata": {},
          "output_type": "execute_result"
        }
      ],
      "source": [
        "demo.launch(share=True)"
      ]
    }
  ],
  "metadata": {
    "kernelspec": {
      "display_name": "Python 3 (ipykernel)",
      "language": "python",
      "name": "python3"
    },
    "language_info": {
      "codemirror_mode": {
        "name": "ipython",
        "version": 3
      },
      "file_extension": ".py",
      "mimetype": "text/x-python",
      "name": "python",
      "nbconvert_exporter": "python",
      "pygments_lexer": "ipython3",
      "version": "3.11.11"
    },
    "colab": {
      "provenance": []
    }
  },
  "nbformat": 4,
  "nbformat_minor": 5
}