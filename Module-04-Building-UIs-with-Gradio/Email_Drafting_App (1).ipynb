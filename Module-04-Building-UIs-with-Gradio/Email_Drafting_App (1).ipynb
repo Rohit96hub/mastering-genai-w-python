{
  "nbformat": 4,
  "nbformat_minor": 0,
  "metadata": {
    "colab": {
      "provenance": []
    },
    "kernelspec": {
      "name": "python3",
      "display_name": "Python 3"
    },
    "language_info": {
      "name": "python"
    }
  },
  "cells": [
    {
      "cell_type": "markdown",
      "source": [
        "#**Email Drafting Application**\n",
        "\n",
        "This is a simple full-stack AI-powered application that helps users draft professional emails using the OpenAI API, a Gradio interface, and stores generated drafts in a local JSON file.\n",
        "\n",
        "###**🚀 Features**\n",
        "- Generate email drafts using the OpenAI API.\n",
        "- Simple Gradio interface for user input.\n",
        "- Save drafts in a drafts.json file.\n",
        "- Load and display saved drafts."
      ],
      "metadata": {
        "id": "oVv9UI9mml_v"
      }
    },
    {
      "cell_type": "markdown",
      "source": [
        "##**Install Dependencies**"
      ],
      "metadata": {
        "id": "7RZI4k6v_HXu"
      }
    },
    {
      "cell_type": "code",
      "execution_count": 1,
      "metadata": {
        "colab": {
          "base_uri": "https://localhost:8080/"
        },
        "collapsed": true,
        "id": "f9yTanJ6cO5t",
        "outputId": "cdced03b-dbf7-40b2-9b1c-672eacbfe661"
      },
      "outputs": [
        {
          "output_type": "stream",
          "name": "stdout",
          "text": [
            "Requirement already satisfied: openai in /usr/local/lib/python3.11/dist-packages (1.91.0)\n",
            "Requirement already satisfied: gradio in /usr/local/lib/python3.11/dist-packages (5.31.0)\n",
            "Requirement already satisfied: anyio<5,>=3.5.0 in /usr/local/lib/python3.11/dist-packages (from openai) (4.9.0)\n",
            "Requirement already satisfied: distro<2,>=1.7.0 in /usr/local/lib/python3.11/dist-packages (from openai) (1.9.0)\n",
            "Requirement already satisfied: httpx<1,>=0.23.0 in /usr/local/lib/python3.11/dist-packages (from openai) (0.28.1)\n",
            "Requirement already satisfied: jiter<1,>=0.4.0 in /usr/local/lib/python3.11/dist-packages (from openai) (0.10.0)\n",
            "Requirement already satisfied: pydantic<3,>=1.9.0 in /usr/local/lib/python3.11/dist-packages (from openai) (2.11.7)\n",
            "Requirement already satisfied: sniffio in /usr/local/lib/python3.11/dist-packages (from openai) (1.3.1)\n",
            "Requirement already satisfied: tqdm>4 in /usr/local/lib/python3.11/dist-packages (from openai) (4.67.1)\n",
            "Requirement already satisfied: typing-extensions<5,>=4.11 in /usr/local/lib/python3.11/dist-packages (from openai) (4.14.0)\n",
            "Requirement already satisfied: aiofiles<25.0,>=22.0 in /usr/local/lib/python3.11/dist-packages (from gradio) (24.1.0)\n",
            "Requirement already satisfied: fastapi<1.0,>=0.115.2 in /usr/local/lib/python3.11/dist-packages (from gradio) (0.115.13)\n",
            "Requirement already satisfied: ffmpy in /usr/local/lib/python3.11/dist-packages (from gradio) (0.6.0)\n",
            "Requirement already satisfied: gradio-client==1.10.1 in /usr/local/lib/python3.11/dist-packages (from gradio) (1.10.1)\n",
            "Requirement already satisfied: groovy~=0.1 in /usr/local/lib/python3.11/dist-packages (from gradio) (0.1.2)\n",
            "Requirement already satisfied: huggingface-hub>=0.28.1 in /usr/local/lib/python3.11/dist-packages (from gradio) (0.33.0)\n",
            "Requirement already satisfied: jinja2<4.0 in /usr/local/lib/python3.11/dist-packages (from gradio) (3.1.6)\n",
            "Requirement already satisfied: markupsafe<4.0,>=2.0 in /usr/local/lib/python3.11/dist-packages (from gradio) (3.0.2)\n",
            "Requirement already satisfied: numpy<3.0,>=1.0 in /usr/local/lib/python3.11/dist-packages (from gradio) (2.0.2)\n",
            "Requirement already satisfied: orjson~=3.0 in /usr/local/lib/python3.11/dist-packages (from gradio) (3.10.18)\n",
            "Requirement already satisfied: packaging in /usr/local/lib/python3.11/dist-packages (from gradio) (24.2)\n",
            "Requirement already satisfied: pandas<3.0,>=1.0 in /usr/local/lib/python3.11/dist-packages (from gradio) (2.2.2)\n",
            "Requirement already satisfied: pillow<12.0,>=8.0 in /usr/local/lib/python3.11/dist-packages (from gradio) (11.2.1)\n",
            "Requirement already satisfied: pydub in /usr/local/lib/python3.11/dist-packages (from gradio) (0.25.1)\n",
            "Requirement already satisfied: python-multipart>=0.0.18 in /usr/local/lib/python3.11/dist-packages (from gradio) (0.0.20)\n",
            "Requirement already satisfied: pyyaml<7.0,>=5.0 in /usr/local/lib/python3.11/dist-packages (from gradio) (6.0.2)\n",
            "Requirement already satisfied: ruff>=0.9.3 in /usr/local/lib/python3.11/dist-packages (from gradio) (0.12.0)\n",
            "Requirement already satisfied: safehttpx<0.2.0,>=0.1.6 in /usr/local/lib/python3.11/dist-packages (from gradio) (0.1.6)\n",
            "Requirement already satisfied: semantic-version~=2.0 in /usr/local/lib/python3.11/dist-packages (from gradio) (2.10.0)\n",
            "Requirement already satisfied: starlette<1.0,>=0.40.0 in /usr/local/lib/python3.11/dist-packages (from gradio) (0.46.2)\n",
            "Requirement already satisfied: tomlkit<0.14.0,>=0.12.0 in /usr/local/lib/python3.11/dist-packages (from gradio) (0.13.3)\n",
            "Requirement already satisfied: typer<1.0,>=0.12 in /usr/local/lib/python3.11/dist-packages (from gradio) (0.16.0)\n",
            "Requirement already satisfied: uvicorn>=0.14.0 in /usr/local/lib/python3.11/dist-packages (from gradio) (0.34.3)\n",
            "Requirement already satisfied: fsspec in /usr/local/lib/python3.11/dist-packages (from gradio-client==1.10.1->gradio) (2025.3.2)\n",
            "Requirement already satisfied: websockets<16.0,>=10.0 in /usr/local/lib/python3.11/dist-packages (from gradio-client==1.10.1->gradio) (15.0.1)\n",
            "Requirement already satisfied: idna>=2.8 in /usr/local/lib/python3.11/dist-packages (from anyio<5,>=3.5.0->openai) (3.10)\n",
            "Requirement already satisfied: certifi in /usr/local/lib/python3.11/dist-packages (from httpx<1,>=0.23.0->openai) (2025.6.15)\n",
            "Requirement already satisfied: httpcore==1.* in /usr/local/lib/python3.11/dist-packages (from httpx<1,>=0.23.0->openai) (1.0.9)\n",
            "Requirement already satisfied: h11>=0.16 in /usr/local/lib/python3.11/dist-packages (from httpcore==1.*->httpx<1,>=0.23.0->openai) (0.16.0)\n",
            "Requirement already satisfied: filelock in /usr/local/lib/python3.11/dist-packages (from huggingface-hub>=0.28.1->gradio) (3.18.0)\n",
            "Requirement already satisfied: requests in /usr/local/lib/python3.11/dist-packages (from huggingface-hub>=0.28.1->gradio) (2.32.3)\n",
            "Requirement already satisfied: hf-xet<2.0.0,>=1.1.2 in /usr/local/lib/python3.11/dist-packages (from huggingface-hub>=0.28.1->gradio) (1.1.5)\n",
            "Requirement already satisfied: python-dateutil>=2.8.2 in /usr/local/lib/python3.11/dist-packages (from pandas<3.0,>=1.0->gradio) (2.9.0.post0)\n",
            "Requirement already satisfied: pytz>=2020.1 in /usr/local/lib/python3.11/dist-packages (from pandas<3.0,>=1.0->gradio) (2025.2)\n",
            "Requirement already satisfied: tzdata>=2022.7 in /usr/local/lib/python3.11/dist-packages (from pandas<3.0,>=1.0->gradio) (2025.2)\n",
            "Requirement already satisfied: annotated-types>=0.6.0 in /usr/local/lib/python3.11/dist-packages (from pydantic<3,>=1.9.0->openai) (0.7.0)\n",
            "Requirement already satisfied: pydantic-core==2.33.2 in /usr/local/lib/python3.11/dist-packages (from pydantic<3,>=1.9.0->openai) (2.33.2)\n",
            "Requirement already satisfied: typing-inspection>=0.4.0 in /usr/local/lib/python3.11/dist-packages (from pydantic<3,>=1.9.0->openai) (0.4.1)\n",
            "Requirement already satisfied: click>=8.0.0 in /usr/local/lib/python3.11/dist-packages (from typer<1.0,>=0.12->gradio) (8.2.1)\n",
            "Requirement already satisfied: shellingham>=1.3.0 in /usr/local/lib/python3.11/dist-packages (from typer<1.0,>=0.12->gradio) (1.5.4)\n",
            "Requirement already satisfied: rich>=10.11.0 in /usr/local/lib/python3.11/dist-packages (from typer<1.0,>=0.12->gradio) (13.9.4)\n",
            "Requirement already satisfied: six>=1.5 in /usr/local/lib/python3.11/dist-packages (from python-dateutil>=2.8.2->pandas<3.0,>=1.0->gradio) (1.17.0)\n",
            "Requirement already satisfied: markdown-it-py>=2.2.0 in /usr/local/lib/python3.11/dist-packages (from rich>=10.11.0->typer<1.0,>=0.12->gradio) (3.0.0)\n",
            "Requirement already satisfied: pygments<3.0.0,>=2.13.0 in /usr/local/lib/python3.11/dist-packages (from rich>=10.11.0->typer<1.0,>=0.12->gradio) (2.19.2)\n",
            "Requirement already satisfied: charset-normalizer<4,>=2 in /usr/local/lib/python3.11/dist-packages (from requests->huggingface-hub>=0.28.1->gradio) (3.4.2)\n",
            "Requirement already satisfied: urllib3<3,>=1.21.1 in /usr/local/lib/python3.11/dist-packages (from requests->huggingface-hub>=0.28.1->gradio) (2.4.0)\n",
            "Requirement already satisfied: mdurl~=0.1 in /usr/local/lib/python3.11/dist-packages (from markdown-it-py>=2.2.0->rich>=10.11.0->typer<1.0,>=0.12->gradio) (0.1.2)\n"
          ]
        }
      ],
      "source": [
        "!pip install openai gradio"
      ]
    },
    {
      "cell_type": "markdown",
      "source": [
        "## **Retrieve OPENAI API KEY from Secrets and set as an ENV**"
      ],
      "metadata": {
        "id": "4MxOAPCUmAfr"
      }
    },
    {
      "cell_type": "code",
      "source": [
        "# Retrieve the API key from Colab's secrets\n",
        "from google.colab import userdata\n",
        "OPENAI_API_KEY = userdata.get('OPENAI_API_KEY')\n",
        "\n",
        "# Set as an ENVIROMENT var\n",
        "import os\n",
        "os.environ['OPENAI_API_KEY'] = OPENAI_API_KEY"
      ],
      "metadata": {
        "id": "03Q6do_pckQK"
      },
      "execution_count": 2,
      "outputs": []
    },
    {
      "cell_type": "markdown",
      "source": [
        "## **Define a Model**"
      ],
      "metadata": {
        "id": "jcNBvA91nvap"
      }
    },
    {
      "cell_type": "code",
      "source": [
        "from openai import OpenAI\n",
        "client = OpenAI()"
      ],
      "metadata": {
        "id": "tdtEIhu0cuSC"
      },
      "execution_count": 3,
      "outputs": []
    },
    {
      "cell_type": "markdown",
      "source": [
        "## **Initialize `drafts.json` If It Doesn't Exist**\n"
      ],
      "metadata": {
        "id": "J8mm5uOmpvRi"
      }
    },
    {
      "cell_type": "code",
      "source": [
        "import json\n",
        "import os\n",
        "\n",
        "DRAFT_FILE = \"drafts.json\"\n",
        "\n",
        "\n",
        "# Ensure drafts file exists\n",
        "if not os.path.exists(DRAFT_FILE):\n",
        "    with open(DRAFT_FILE, \"w\") as f:\n",
        "        json.dump([], f)"
      ],
      "metadata": {
        "id": "ugl8GIuodG-5"
      },
      "execution_count": 4,
      "outputs": []
    },
    {
      "cell_type": "markdown",
      "source": [
        "##**Generate Email and Save Draft Functions**"
      ],
      "metadata": {
        "id": "LoHY19f6pdQ4"
      }
    },
    {
      "cell_type": "code",
      "source": [
        "def generate_email(subject, context, tone):\n",
        "    prompt = f\"Write a {tone.lower()} email with the subject '{subject}' based on the following context:\\n{context}\"\n",
        "    response =  client.chat.completions.create(\n",
        "        model=\"gpt-4o-mini\",\n",
        "        messages=[{\"role\": \"user\", \"content\": prompt}],\n",
        "        temperature=0.7,\n",
        "        max_tokens=500\n",
        "    )\n",
        "    return response.choices[0].message.content.strip()\n",
        "\n",
        "def save_draft(subject, context, tone, email_body):\n",
        "    with open(DRAFT_FILE, \"r\") as f:\n",
        "        try:\n",
        "            drafts = json.load(f)\n",
        "        except json.JSONDecodeError:\n",
        "            drafts = []\n",
        "    draft = {\n",
        "        \"subject\": subject,\n",
        "        \"context\": context,\n",
        "        \"tone\": tone,\n",
        "        \"email\": email_body\n",
        "    }\n",
        "    drafts.append(draft)\n",
        "    with open(DRAFT_FILE, \"w\") as f:\n",
        "        json.dump(drafts, f, indent=2)\n",
        "\n",
        "    return \"✅ Draft saved successfully!\""
      ],
      "metadata": {
        "id": "oaV5iEttpPXB"
      },
      "execution_count": 5,
      "outputs": []
    },
    {
      "cell_type": "markdown",
      "source": [
        "##**Gradio App**"
      ],
      "metadata": {
        "id": "dh8jhkQwpVcI"
      }
    },
    {
      "cell_type": "markdown",
      "source": [
        "####**Sample Subject:**\n",
        "Welcome Message\n",
        "####**Sample Context:**\n",
        "B.E student  Nayanika has joined Cloudyuga recently. she enrolled in Docker course. draft a  welcome message on Behalf of Neependra khare, founder of CloudYuga.\n",
        "\n"
      ],
      "metadata": {
        "id": "2u36VvM28gBT"
      }
    },
    {
      "cell_type": "code",
      "source": [
        "import gradio as gr\n",
        "with gr.Blocks() as demo:\n",
        "    gr.Markdown(\"## ✉️ Email Drafting Assistant\")\n",
        "\n",
        "    subject = gr.Textbox(label=\"Subject\")\n",
        "    context = gr.Textbox(lines=5, label=\"Context / Intent\")\n",
        "    tone = gr.Dropdown([\"Formal\", \"Friendly\", \"Persuasive\"], value=\"Formal\", label=\"Tone\")\n",
        "\n",
        "    generate_btn = gr.Button(\"Generate Email\")\n",
        "    email_output = gr.Textbox(label=\"Generated Email\", lines=10)\n",
        "\n",
        "    save_btn = gr.Button(\"Save Draft\")\n",
        "    save_status = gr.Textbox(label=\"Status\", interactive=False)\n",
        "\n",
        "    generate_btn.click(fn=generate_email, inputs=[subject, context, tone], outputs=email_output)\n",
        "    save_btn.click(fn=save_draft, inputs=[subject, context, tone, email_output], outputs=save_status)\n",
        "\n",
        "demo.launch()"
      ],
      "metadata": {
        "colab": {
          "base_uri": "https://localhost:8080/",
          "height": 645
        },
        "id": "MvWQa4LtpURu",
        "outputId": "27820885-3926-479b-d58b-01b339871344"
      },
      "execution_count": 6,
      "outputs": [
        {
          "output_type": "stream",
          "name": "stdout",
          "text": [
            "It looks like you are running Gradio on a hosted a Jupyter notebook. For the Gradio app to work, sharing must be enabled. Automatically setting `share=True` (you can turn this off by setting `share=False` in `launch()` explicitly).\n",
            "\n",
            "Colab notebook detected. To show errors in colab notebook, set debug=True in launch()\n",
            "* Running on public URL: https://75beb261c0396e9354.gradio.live\n",
            "\n",
            "This share link expires in 1 week. For free permanent hosting and GPU upgrades, run `gradio deploy` from the terminal in the working directory to deploy to Hugging Face Spaces (https://huggingface.co/spaces)\n"
          ]
        },
        {
          "output_type": "display_data",
          "data": {
            "text/plain": [
              "<IPython.core.display.HTML object>"
            ],
            "text/html": [
              "<div><iframe src=\"https://75beb261c0396e9354.gradio.live\" width=\"100%\" height=\"500\" allow=\"autoplay; camera; microphone; clipboard-read; clipboard-write;\" frameborder=\"0\" allowfullscreen></iframe></div>"
            ]
          },
          "metadata": {}
        },
        {
          "output_type": "execute_result",
          "data": {
            "text/plain": []
          },
          "metadata": {},
          "execution_count": 6
        }
      ]
    },
    {
      "cell_type": "markdown",
      "source": [
        "##**Print JSON file data**"
      ],
      "metadata": {
        "id": "W4peHePZ8RTX"
      }
    },
    {
      "cell_type": "code",
      "source": [
        "import json\n",
        "\n",
        "# Load and print JSON data from a file\n",
        "with open(\"drafts.json\", \"r\") as f:\n",
        "    data = json.load(f)\n",
        "\n",
        "# Pretty-print the JSON data\n",
        "print(json.dumps(data, indent=4))\n"
      ],
      "metadata": {
        "colab": {
          "base_uri": "https://localhost:8080/"
        },
        "id": "ZtvULzQx8FSp",
        "outputId": "7df06a27-b195-4d13-b06f-58f195b9fd3a"
      },
      "execution_count": 9,
      "outputs": [
        {
          "output_type": "stream",
          "name": "stdout",
          "text": [
            "[\n",
            "    {\n",
            "        \"subject\": \"Welcome Email\",\n",
            "        \"context\": \"Riya enrolled in docker course\",\n",
            "        \"tone\": \"Formal\",\n",
            "        \"email\": \"Subject: Welcome Email\\n\\nDear Riya,\\n\\nWe are delighted to welcome you to our Docker course! We are excited that you have chosen to embark on this learning journey with us, and we look forward to supporting you every step of the way.\\n\\nThroughout the course, you will gain comprehensive insights into Docker and its applications, enhancing your skills and knowledge in containerization. Our experienced instructors are committed to providing you with a rich and engaging learning experience.\\n\\nPlease find attached the course syllabus and important information regarding the schedule and resources. We encourage you to review these materials and reach out if you have any questions or require further assistance.\\n\\nOnce again, welcome aboard! We are thrilled to have you join our community and look forward to seeing you in class.\\n\\nBest regards,\\n\\n[Your Name]  \\n[Your Position]  \\n[Your Contact Information]  \\n[Course Provider Name]  \\n[Course Provider Website]\"\n",
            "    },\n",
            "    {\n",
            "        \"subject\": \"Welcome Email\",\n",
            "        \"context\": \"Aakash enrolled in k8s course\",\n",
            "        \"tone\": \"Formal\",\n",
            "        \"email\": \"Subject: Welcome Email\\n\\nDear Aakash,\\n\\nWe are thrilled to welcome you to our Kubernetes (k8s) course! We appreciate your decision to join us and are excited to have you as part of our learning community.\\n\\nOur course is designed to provide you with comprehensive knowledge and hands-on experience with Kubernetes. You will gain insights into container orchestration, deployment strategies, and best practices that will enhance your skills in managing containerized applications.\\n\\nPlease find the course schedule and resources attached to this email. We encourage you to review them before our first session, which will take place on [insert date and time]. Additionally, if you have any questions or need assistance, do not hesitate to reach out.\\n\\nOnce again, welcome aboard! We look forward to supporting you in your learning journey.\\n\\nBest regards,\\n\\n[Your Name]  \\n[Your Position]  \\n[Your Contact Information]  \\n[Your Company/Organization Name]\"\n",
            "    }\n",
            "]\n"
          ]
        }
      ]
    }
  ]
}