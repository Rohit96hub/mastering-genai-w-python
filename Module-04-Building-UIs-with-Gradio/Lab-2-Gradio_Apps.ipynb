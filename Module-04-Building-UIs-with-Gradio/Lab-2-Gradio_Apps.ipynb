{
  "cells": [
    {
      "cell_type": "markdown",
      "source": [
        "#**Generate a Birthday Messages for employees**"
      ],
      "metadata": {
        "id": "E-bbVTCgEnUE"
      },
      "id": "E-bbVTCgEnUE"
    },
    {
      "cell_type": "markdown",
      "source": [
        "####**Import statements**"
      ],
      "metadata": {
        "id": "cRW_V4o1FgOp"
      },
      "id": "cRW_V4o1FgOp"
    },
    {
      "cell_type": "code",
      "execution_count": null,
      "id": "f80b6de6-0c4f-481a-a547-646a79fe4a3d",
      "metadata": {
        "id": "f80b6de6-0c4f-481a-a547-646a79fe4a3d"
      },
      "outputs": [],
      "source": [
        "import os\n",
        "import requests\n",
        "from bs4 import BeautifulSoup\n",
        "from typing import List\n",
        "from dotenv import load_dotenv\n",
        "from openai import OpenAI"
      ]
    },
    {
      "cell_type": "code",
      "execution_count": null,
      "id": "83b432d3-3cc1-4c71-a9e4-7554a1970e58",
      "metadata": {
        "id": "83b432d3-3cc1-4c71-a9e4-7554a1970e58"
      },
      "outputs": [],
      "source": [
        "import gradio as gr"
      ]
    },
    {
      "cell_type": "code",
      "execution_count": null,
      "id": "d9cc2da7-8e87-4a54-bda0-8c929612a5fc",
      "metadata": {
        "id": "d9cc2da7-8e87-4a54-bda0-8c929612a5fc"
      },
      "outputs": [],
      "source": [
        "load_dotenv()\n",
        "openai_api_key = os.getenv('OPENAI_API_KEY')"
      ]
    },
    {
      "cell_type": "code",
      "execution_count": null,
      "id": "72c1e113-eb34-4961-9f5e-9cce2d3585eb",
      "metadata": {
        "id": "72c1e113-eb34-4961-9f5e-9cce2d3585eb"
      },
      "outputs": [],
      "source": [
        "openai = OpenAI()"
      ]
    },
    {
      "cell_type": "markdown",
      "id": "39ed5976-d95c-4606-9031-84f81c58de7f",
      "metadata": {
        "id": "39ed5976-d95c-4606-9031-84f81c58de7f"
      },
      "source": [
        "##**Create a Gradio App to wrap around the prompt**"
      ]
    },
    {
      "cell_type": "markdown",
      "id": "d92d1fd8-c3fe-4262-a7c8-42d01acceb8f",
      "metadata": {
        "id": "d92d1fd8-c3fe-4262-a7c8-42d01acceb8f"
      },
      "source": [
        "####**Example 1: Basic Demo of chat completions**\n",
        "\n"
      ]
    },
    {
      "cell_type": "code",
      "execution_count": null,
      "id": "453c1cfa-d0a1-4b5b-b375-0426ef4a66f4",
      "metadata": {
        "id": "453c1cfa-d0a1-4b5b-b375-0426ef4a66f4"
      },
      "outputs": [],
      "source": [
        "system_message = \"You are a helpful assistant\"\n"
      ]
    },
    {
      "cell_type": "code",
      "execution_count": null,
      "id": "f0d1a9c2-89be-4388-a5ea-1de10a17c425",
      "metadata": {
        "id": "f0d1a9c2-89be-4388-a5ea-1de10a17c425"
      },
      "outputs": [],
      "source": [
        "def message_gpt(prompt):\n",
        "    messages = [\n",
        "        {\"role\": \"system\", \"content\": system_message},\n",
        "        {\"role\": \"user\", \"content\": prompt}\n",
        "      ]\n",
        "    completion = openai.chat.completions.create(\n",
        "        model='gpt-4o-mini',\n",
        "        messages=messages,\n",
        "    )\n",
        "    return completion.choices[0].message.content"
      ]
    },
    {
      "cell_type": "code",
      "execution_count": null,
      "id": "9b205449-24de-4783-bf64-27b8a9950fe9",
      "metadata": {
        "id": "9b205449-24de-4783-bf64-27b8a9950fe9",
        "outputId": "0b4626bc-5f97-4a3d-dcf7-9c2f9a49e04a"
      },
      "outputs": [
        {
          "name": "stdout",
          "output_type": "stream",
          "text": [
            "* Running on local URL:  http://127.0.0.1:7905\n",
            "\n",
            "To create a public link, set `share=True` in `launch()`.\n"
          ]
        },
        {
          "data": {
            "text/html": [
              "<div><iframe src=\"http://127.0.0.1:7905/\" width=\"100%\" height=\"500\" allow=\"autoplay; camera; microphone; clipboard-read; clipboard-write;\" frameborder=\"0\" allowfullscreen></iframe></div>"
            ],
            "text/plain": [
              "<IPython.core.display.HTML object>"
            ]
          },
          "metadata": {},
          "output_type": "display_data"
        },
        {
          "data": {
            "text/plain": []
          },
          "execution_count": 8,
          "metadata": {},
          "output_type": "execute_result"
        }
      ],
      "source": [
        "gr.Interface(fn=message_gpt, inputs=\"textbox\", outputs=\"textbox\").launch()"
      ]
    },
    {
      "cell_type": "code",
      "execution_count": null,
      "id": "1e2e4cbf-ce55-4545-ad5c-df687cd2da82",
      "metadata": {
        "id": "1e2e4cbf-ce55-4545-ad5c-df687cd2da82"
      },
      "outputs": [],
      "source": []
    },
    {
      "cell_type": "markdown",
      "id": "edf05479-2ea4-4468-939d-10467f688ca3",
      "metadata": {
        "id": "edf05479-2ea4-4468-939d-10467f688ca3"
      },
      "source": [
        "###**Example 2: Birthday Message Generator**"
      ]
    },
    {
      "cell_type": "code",
      "execution_count": null,
      "id": "41295077-6864-4fdc-928b-911ce310116b",
      "metadata": {
        "id": "41295077-6864-4fdc-928b-911ce310116b"
      },
      "outputs": [],
      "source": [
        "def bithday_gpt(employee_name, hobby):\n",
        "    prompt = f\"Employee name is {employee_name}. And his/her hobby is {hobby}\\n\"\n",
        "    messages = [\n",
        "        {\"role\": \"system\", \"content\": system_message},\n",
        "        {\"role\": \"user\", \"content\": prompt}\n",
        "      ]\n",
        "    completion = openai.chat.completions.create(\n",
        "        model='gpt-4o-mini',\n",
        "        messages=messages,\n",
        "    )\n",
        "    return completion.choices[0].message.content"
      ]
    },
    {
      "cell_type": "code",
      "execution_count": null,
      "id": "15acb1f7-dab2-4a5b-9316-6155f5b46950",
      "metadata": {
        "id": "15acb1f7-dab2-4a5b-9316-6155f5b46950",
        "outputId": "4d0eb41f-8f44-4c13-b17a-41ce5774b2b4"
      },
      "outputs": [
        {
          "name": "stdout",
          "output_type": "stream",
          "text": [
            "* Running on local URL:  http://127.0.0.1:7906\n",
            "\n",
            "To create a public link, set `share=True` in `launch()`.\n"
          ]
        },
        {
          "data": {
            "text/html": [
              "<div><iframe src=\"http://127.0.0.1:7906/\" width=\"100%\" height=\"500\" allow=\"autoplay; camera; microphone; clipboard-read; clipboard-write;\" frameborder=\"0\" allowfullscreen></iframe></div>"
            ],
            "text/plain": [
              "<IPython.core.display.HTML object>"
            ]
          },
          "metadata": {},
          "output_type": "display_data"
        },
        {
          "data": {
            "text/plain": []
          },
          "execution_count": 11,
          "metadata": {},
          "output_type": "execute_result"
        }
      ],
      "source": [
        "system_message = \"You are a helpful assistant wishes the user Happy Birthay and add some fun fact about his/her hobby\"\n",
        "\n",
        "view = gr.Interface(\n",
        "    fn=bithday_gpt,\n",
        "    inputs=[gr.Textbox(label=\"Employee Name:\", lines=2),\n",
        "            gr.Dropdown([\"Running\", \"Drawing\"], label=\"Select One of The Hobby\")\n",
        "           ],\n",
        "    outputs=[gr.Markdown(label=\"Response:\")],\n",
        "    flagging_mode=\"never\"\n",
        ")\n",
        "view.launch()"
      ]
    },
    {
      "cell_type": "markdown",
      "id": "0eacbde6-fc59-43a4-a4cb-9d1f306a57ab",
      "metadata": {
        "id": "0eacbde6-fc59-43a4-a4cb-9d1f306a57ab"
      },
      "source": [
        "####**Example 3: With Stream**"
      ]
    },
    {
      "cell_type": "code",
      "execution_count": null,
      "id": "3c449e21-6b40-41ab-a326-1b6dfb3e2f1d",
      "metadata": {
        "id": "3c449e21-6b40-41ab-a326-1b6dfb3e2f1d"
      },
      "outputs": [],
      "source": [
        "def bithday_gpt_stream(employee_name, hobby):\n",
        "    prompt = f\"Employee name is {employee_name}. And his/her hobby is {hobby}\\n\"\n",
        "    messages = [\n",
        "        {\"role\": \"system\", \"content\": system_message},\n",
        "        {\"role\": \"user\", \"content\": prompt}\n",
        "      ]\n",
        "    stream = openai.chat.completions.create(\n",
        "        model='gpt-4o-mini',\n",
        "        messages=messages,\n",
        "        stream=True\n",
        "    )\n",
        "    result = \"\"\n",
        "    for chunk in stream:\n",
        "        result += chunk.choices[0].delta.content or \"\"\n",
        "        yield result"
      ]
    },
    {
      "cell_type": "code",
      "execution_count": null,
      "id": "1ad23536-ed8b-4775-ae37-992cb5fc6998",
      "metadata": {
        "id": "1ad23536-ed8b-4775-ae37-992cb5fc6998",
        "outputId": "835db9a1-f114-4b8a-b856-3b26d56bbdfd"
      },
      "outputs": [
        {
          "name": "stdout",
          "output_type": "stream",
          "text": [
            "* Running on local URL:  http://127.0.0.1:7907\n",
            "\n",
            "To create a public link, set `share=True` in `launch()`.\n"
          ]
        },
        {
          "data": {
            "text/html": [
              "<div><iframe src=\"http://127.0.0.1:7907/\" width=\"100%\" height=\"500\" allow=\"autoplay; camera; microphone; clipboard-read; clipboard-write;\" frameborder=\"0\" allowfullscreen></iframe></div>"
            ],
            "text/plain": [
              "<IPython.core.display.HTML object>"
            ]
          },
          "metadata": {},
          "output_type": "display_data"
        },
        {
          "data": {
            "text/plain": []
          },
          "execution_count": 13,
          "metadata": {},
          "output_type": "execute_result"
        }
      ],
      "source": [
        "system_message = \"You are a helpful assistant wishes the user Happy Birthay and add some fun fact about his/her hobby\"\n",
        "\n",
        "view = gr.Interface(\n",
        "    fn=bithday_gpt_stream,\n",
        "    inputs=[gr.Textbox(label=\"Employee Name:\", lines=2),\n",
        "            gr.Dropdown([\"Running\", \"Drawing\"], label=\"Select One of The Hobby\")\n",
        "           ],\n",
        "    outputs=[gr.Markdown(label=\"Response:\")],\n",
        "    flagging_mode=\"never\"\n",
        ")\n",
        "view.launch()"
      ]
    },
    {
      "cell_type": "markdown",
      "id": "33ac429f-c8d1-4831-981b-734470b083f5",
      "metadata": {
        "id": "33ac429f-c8d1-4831-981b-734470b083f5"
      },
      "source": [
        "####**Example 3: With Stream and Temperature**"
      ]
    },
    {
      "cell_type": "code",
      "execution_count": null,
      "id": "8edcf70c-a46f-465f-b194-4b438bd1149f",
      "metadata": {
        "id": "8edcf70c-a46f-465f-b194-4b438bd1149f"
      },
      "outputs": [],
      "source": [
        "def bithday_gpt_stream_temperature(employee_name, hobby):\n",
        "    prompt = f\"Employee name is {employee_name}. And his/her hobby is {hobby}\\n\"\n",
        "    messages = [\n",
        "        {\"role\": \"system\", \"content\": system_message},\n",
        "        {\"role\": \"user\", \"content\": prompt}\n",
        "      ]\n",
        "    stream = openai.chat.completions.create(\n",
        "        model='gpt-4o-mini',\n",
        "        messages=messages,\n",
        "        temperature=0.3,\n",
        "        stream=True\n",
        "    )\n",
        "    result = \"\"\n",
        "    for chunk in stream:\n",
        "        result += chunk.choices[0].delta.content or \"\"\n",
        "        yield result"
      ]
    },
    {
      "cell_type": "code",
      "execution_count": null,
      "id": "43b9eb2a-650f-499d-b44a-6ab715bc1d37",
      "metadata": {
        "id": "43b9eb2a-650f-499d-b44a-6ab715bc1d37",
        "outputId": "d916e4d2-064e-4f9f-8403-454fa07c3efb"
      },
      "outputs": [
        {
          "name": "stdout",
          "output_type": "stream",
          "text": [
            "* Running on local URL:  http://127.0.0.1:7884\n",
            "\n",
            "To create a public link, set `share=True` in `launch()`.\n"
          ]
        },
        {
          "data": {
            "text/html": [
              "<div><iframe src=\"http://127.0.0.1:7884/\" width=\"100%\" height=\"500\" allow=\"autoplay; camera; microphone; clipboard-read; clipboard-write;\" frameborder=\"0\" allowfullscreen></iframe></div>"
            ],
            "text/plain": [
              "<IPython.core.display.HTML object>"
            ]
          },
          "metadata": {},
          "output_type": "display_data"
        },
        {
          "data": {
            "text/plain": []
          },
          "execution_count": 45,
          "metadata": {},
          "output_type": "execute_result"
        }
      ],
      "source": [
        "system_message = \"You are a helpful assistant wishes the user Happy Birthay and add create a joke about his/her hobby. Please put Joke under a sub-heading\"\n",
        "\n",
        "view = gr.Interface(\n",
        "    fn=bithday_gpt_stream_temperature,\n",
        "    inputs=[gr.Textbox(label=\"Employee Name:\", lines=2),\n",
        "            gr.Dropdown([\"Running\", \"Drawing\"], label=\"Select One of The Hobby\")\n",
        "           ],\n",
        "    outputs=[gr.Markdown(label=\"Response:\")],\n",
        "    flagging_mode=\"never\"\n",
        ")\n",
        "view.launch()"
      ]
    }
  ],
  "metadata": {
    "kernelspec": {
      "display_name": "Python 3 (ipykernel)",
      "language": "python",
      "name": "python3"
    },
    "language_info": {
      "codemirror_mode": {
        "name": "ipython",
        "version": 3
      },
      "file_extension": ".py",
      "mimetype": "text/x-python",
      "name": "python",
      "nbconvert_exporter": "python",
      "pygments_lexer": "ipython3",
      "version": "3.11.11"
    },
    "colab": {
      "provenance": []
    }
  },
  "nbformat": 4,
  "nbformat_minor": 5
}
