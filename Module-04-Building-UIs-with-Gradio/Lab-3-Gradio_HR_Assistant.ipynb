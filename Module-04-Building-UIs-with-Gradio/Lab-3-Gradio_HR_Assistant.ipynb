{
  "cells": [
    {
      "cell_type": "markdown",
      "source": [
        "#**HR-Assistant**\n",
        "- Apply dataset as \"docs\" to the LLM\n",
        "- User asks questions about Employess from the dataset"
      ],
      "metadata": {
        "id": "3KCIPLH8Sunk"
      },
      "id": "3KCIPLH8Sunk"
    },
    {
      "cell_type": "markdown",
      "source": [
        "###**Downloads the `hrdataset.zip` file from the CloudYuga GitHub repo**\n",
        "\n",
        "Saves it in the current working directory of notebook\n",
        "\n",
        "(e.g., /content/ in Google Colab).\n"
      ],
      "metadata": {
        "id": "S3Y7Ilglc0SQ"
      },
      "id": "S3Y7Ilglc0SQ"
    },
    {
      "cell_type": "code",
      "source": [
        "!wget https://github.com/cloudyuga/mastering-genai-w-python/raw/refs/heads/main/hrdataset.zip"
      ],
      "metadata": {
        "id": "JdXaE8G6sLvn",
        "outputId": "72e8ca63-a3b4-4695-feb3-968843b4cc6d",
        "colab": {
          "base_uri": "https://localhost:8080/"
        }
      },
      "id": "JdXaE8G6sLvn",
      "execution_count": 1,
      "outputs": [
        {
          "output_type": "stream",
          "name": "stdout",
          "text": [
            "--2025-05-22 05:29:06--  https://github.com/cloudyuga/mastering-genai-w-python/raw/refs/heads/main/hrdataset.zip\n",
            "Resolving github.com (github.com)... 140.82.116.3\n",
            "Connecting to github.com (github.com)|140.82.116.3|:443... connected.\n",
            "HTTP request sent, awaiting response... 302 Found\n",
            "Location: https://raw.githubusercontent.com/cloudyuga/mastering-genai-w-python/refs/heads/main/hrdataset.zip [following]\n",
            "--2025-05-22 05:29:06--  https://raw.githubusercontent.com/cloudyuga/mastering-genai-w-python/refs/heads/main/hrdataset.zip\n",
            "Resolving raw.githubusercontent.com (raw.githubusercontent.com)... 185.199.108.133, 185.199.109.133, 185.199.110.133, ...\n",
            "Connecting to raw.githubusercontent.com (raw.githubusercontent.com)|185.199.108.133|:443... connected.\n",
            "HTTP request sent, awaiting response... 200 OK\n",
            "Length: 9530 (9.3K) [application/zip]\n",
            "Saving to: ‘hrdataset.zip’\n",
            "\n",
            "hrdataset.zip       100%[===================>]   9.31K  --.-KB/s    in 0s      \n",
            "\n",
            "2025-05-22 05:29:06 (70.4 MB/s) - ‘hrdataset.zip’ saved [9530/9530]\n",
            "\n"
          ]
        }
      ]
    },
    {
      "cell_type": "markdown",
      "source": [
        "###**Unzip `hrdataset.zip` file**\n",
        "- It will automatically create **`hrdataset`** folder in our current working directory (/content/ in Google Colab)"
      ],
      "metadata": {
        "id": "4RMzBMOgc-x7"
      },
      "id": "4RMzBMOgc-x7"
    },
    {
      "cell_type": "code",
      "source": [
        "!unzip hrdataset.zip"
      ],
      "metadata": {
        "id": "BDODiVEfscol",
        "outputId": "bfd6223b-3cfa-408a-e0fa-f3a9cceea6c9",
        "colab": {
          "base_uri": "https://localhost:8080/"
        }
      },
      "id": "BDODiVEfscol",
      "execution_count": 3,
      "outputs": [
        {
          "output_type": "stream",
          "name": "stdout",
          "text": [
            "Archive:  hrdataset.zip\n",
            "replace hrdataset/policies/leave_policies.md? [y]es, [n]o, [A]ll, [N]one, [r]ename: n\n",
            "replace hrdataset/policies/training_and_development.md? [y]es, [n]o, [A]ll, [N]one, [r]ename: n\n",
            "replace hrdataset/policies/employee_benefits.md? [y]es, [n]o, [A]ll, [N]one, [r]ename: n\n",
            "replace hrdataset/policies/holiday_calendar.md? [y]es, [n]o, [A]ll, [N]one, [r]ename: n\n",
            "replace hrdataset/policies/events_calendar.md? [y]es, [n]o, [A]ll, [N]one, [r]ename: n\n",
            "replace hrdataset/surveys/Employee_Culture_Survey_Responses.csv? [y]es, [n]o, [A]ll, [N]one, [r]ename: nn\n",
            "replace hrdataset/employees/108_Rajesh_Kulkarni.md? [y]es, [n]o, [A]ll, [N]one, [r]ename: n\n",
            "replace hrdataset/employees/106_Neha_Malhotra.md? [y]es, [n]o, [A]ll, [N]one, [r]ename: n\n",
            "replace hrdataset/employees/103_Anjali_Das.md? [y]es, [n]o, [A]ll, [N]one, [r]ename: n\n",
            "replace hrdataset/employees/105_Sunita_Patil.md? [y]es, [n]o, [A]ll, [N]one, [r]ename: n\n",
            "replace hrdataset/employees/101_Priya_Sharma.md? [y]es, [n]o, [A]ll, [N]one, [r]ename: n\n",
            "replace hrdataset/employees/102_Rohit_Mehra.md? [y]es, [n]o, [A]ll, [N]one, [r]ename: n\n",
            "replace hrdataset/employees/104_Karan_Kapoor.md? [y]es, [n]o, [A]ll, [N]one, [r]ename: n\n",
            "replace hrdataset/employees/109_Meera_Iyer.md? [y]es, [n]o, [A]ll, [N]one, [r]ename: n\n",
            "replace hrdataset/employees/110_Aditya_Jain.md? [y]es, [n]o, [A]ll, [N]one, [r]ename: nn\n",
            "replace hrdataset/employees/107_Amit_Verma.md? [y]es, [n]o, [A]ll, [N]one, [r]ename: n\n",
            "replace hrdataset/employees/payroll_information.md? [y]es, [n]o, [A]ll, [N]one, [r]ename: n\n"
          ]
        }
      ]
    },
    {
      "cell_type": "markdown",
      "source": [
        "###**Import statements**\n"
      ],
      "metadata": {
        "id": "-e4ps4A6XQKs"
      },
      "id": "-e4ps4A6XQKs"
    },
    {
      "cell_type": "code",
      "source": [
        "!pip install gradio\n"
      ],
      "metadata": {
        "colab": {
          "base_uri": "https://localhost:8080/"
        },
        "id": "fxJCoWKOprpz",
        "outputId": "2dc3c2c6-12d4-4289-b139-de03f38d6f1d"
      },
      "id": "fxJCoWKOprpz",
      "execution_count": 18,
      "outputs": [
        {
          "output_type": "stream",
          "name": "stdout",
          "text": [
            "Requirement already satisfied: gradio in /usr/local/lib/python3.11/dist-packages (5.30.0)\n",
            "Requirement already satisfied: aiofiles<25.0,>=22.0 in /usr/local/lib/python3.11/dist-packages (from gradio) (24.1.0)\n",
            "Requirement already satisfied: anyio<5.0,>=3.0 in /usr/local/lib/python3.11/dist-packages (from gradio) (4.9.0)\n",
            "Requirement already satisfied: fastapi<1.0,>=0.115.2 in /usr/local/lib/python3.11/dist-packages (from gradio) (0.115.12)\n",
            "Requirement already satisfied: ffmpy in /usr/local/lib/python3.11/dist-packages (from gradio) (0.5.0)\n",
            "Requirement already satisfied: gradio-client==1.10.1 in /usr/local/lib/python3.11/dist-packages (from gradio) (1.10.1)\n",
            "Requirement already satisfied: groovy~=0.1 in /usr/local/lib/python3.11/dist-packages (from gradio) (0.1.2)\n",
            "Requirement already satisfied: httpx>=0.24.1 in /usr/local/lib/python3.11/dist-packages (from gradio) (0.28.1)\n",
            "Requirement already satisfied: huggingface-hub>=0.28.1 in /usr/local/lib/python3.11/dist-packages (from gradio) (0.31.2)\n",
            "Requirement already satisfied: jinja2<4.0 in /usr/local/lib/python3.11/dist-packages (from gradio) (3.1.6)\n",
            "Requirement already satisfied: markupsafe<4.0,>=2.0 in /usr/local/lib/python3.11/dist-packages (from gradio) (3.0.2)\n",
            "Requirement already satisfied: numpy<3.0,>=1.0 in /usr/local/lib/python3.11/dist-packages (from gradio) (2.0.2)\n",
            "Requirement already satisfied: orjson~=3.0 in /usr/local/lib/python3.11/dist-packages (from gradio) (3.10.18)\n",
            "Requirement already satisfied: packaging in /usr/local/lib/python3.11/dist-packages (from gradio) (24.2)\n",
            "Requirement already satisfied: pandas<3.0,>=1.0 in /usr/local/lib/python3.11/dist-packages (from gradio) (2.2.2)\n",
            "Requirement already satisfied: pillow<12.0,>=8.0 in /usr/local/lib/python3.11/dist-packages (from gradio) (11.2.1)\n",
            "Requirement already satisfied: pydantic<2.12,>=2.0 in /usr/local/lib/python3.11/dist-packages (from gradio) (2.11.4)\n",
            "Requirement already satisfied: pydub in /usr/local/lib/python3.11/dist-packages (from gradio) (0.25.1)\n",
            "Requirement already satisfied: python-multipart>=0.0.18 in /usr/local/lib/python3.11/dist-packages (from gradio) (0.0.20)\n",
            "Requirement already satisfied: pyyaml<7.0,>=5.0 in /usr/local/lib/python3.11/dist-packages (from gradio) (6.0.2)\n",
            "Requirement already satisfied: ruff>=0.9.3 in /usr/local/lib/python3.11/dist-packages (from gradio) (0.11.10)\n",
            "Requirement already satisfied: safehttpx<0.2.0,>=0.1.6 in /usr/local/lib/python3.11/dist-packages (from gradio) (0.1.6)\n",
            "Requirement already satisfied: semantic-version~=2.0 in /usr/local/lib/python3.11/dist-packages (from gradio) (2.10.0)\n",
            "Requirement already satisfied: starlette<1.0,>=0.40.0 in /usr/local/lib/python3.11/dist-packages (from gradio) (0.46.2)\n",
            "Requirement already satisfied: tomlkit<0.14.0,>=0.12.0 in /usr/local/lib/python3.11/dist-packages (from gradio) (0.13.2)\n",
            "Requirement already satisfied: typer<1.0,>=0.12 in /usr/local/lib/python3.11/dist-packages (from gradio) (0.15.3)\n",
            "Requirement already satisfied: typing-extensions~=4.0 in /usr/local/lib/python3.11/dist-packages (from gradio) (4.13.2)\n",
            "Requirement already satisfied: uvicorn>=0.14.0 in /usr/local/lib/python3.11/dist-packages (from gradio) (0.34.2)\n",
            "Requirement already satisfied: fsspec in /usr/local/lib/python3.11/dist-packages (from gradio-client==1.10.1->gradio) (2025.3.2)\n",
            "Requirement already satisfied: websockets<16.0,>=10.0 in /usr/local/lib/python3.11/dist-packages (from gradio-client==1.10.1->gradio) (15.0.1)\n",
            "Requirement already satisfied: idna>=2.8 in /usr/local/lib/python3.11/dist-packages (from anyio<5.0,>=3.0->gradio) (3.10)\n",
            "Requirement already satisfied: sniffio>=1.1 in /usr/local/lib/python3.11/dist-packages (from anyio<5.0,>=3.0->gradio) (1.3.1)\n",
            "Requirement already satisfied: certifi in /usr/local/lib/python3.11/dist-packages (from httpx>=0.24.1->gradio) (2025.4.26)\n",
            "Requirement already satisfied: httpcore==1.* in /usr/local/lib/python3.11/dist-packages (from httpx>=0.24.1->gradio) (1.0.9)\n",
            "Requirement already satisfied: h11>=0.16 in /usr/local/lib/python3.11/dist-packages (from httpcore==1.*->httpx>=0.24.1->gradio) (0.16.0)\n",
            "Requirement already satisfied: filelock in /usr/local/lib/python3.11/dist-packages (from huggingface-hub>=0.28.1->gradio) (3.18.0)\n",
            "Requirement already satisfied: requests in /usr/local/lib/python3.11/dist-packages (from huggingface-hub>=0.28.1->gradio) (2.32.3)\n",
            "Requirement already satisfied: tqdm>=4.42.1 in /usr/local/lib/python3.11/dist-packages (from huggingface-hub>=0.28.1->gradio) (4.67.1)\n",
            "Requirement already satisfied: python-dateutil>=2.8.2 in /usr/local/lib/python3.11/dist-packages (from pandas<3.0,>=1.0->gradio) (2.9.0.post0)\n",
            "Requirement already satisfied: pytz>=2020.1 in /usr/local/lib/python3.11/dist-packages (from pandas<3.0,>=1.0->gradio) (2025.2)\n",
            "Requirement already satisfied: tzdata>=2022.7 in /usr/local/lib/python3.11/dist-packages (from pandas<3.0,>=1.0->gradio) (2025.2)\n",
            "Requirement already satisfied: annotated-types>=0.6.0 in /usr/local/lib/python3.11/dist-packages (from pydantic<2.12,>=2.0->gradio) (0.7.0)\n",
            "Requirement already satisfied: pydantic-core==2.33.2 in /usr/local/lib/python3.11/dist-packages (from pydantic<2.12,>=2.0->gradio) (2.33.2)\n",
            "Requirement already satisfied: typing-inspection>=0.4.0 in /usr/local/lib/python3.11/dist-packages (from pydantic<2.12,>=2.0->gradio) (0.4.0)\n",
            "Requirement already satisfied: click>=8.0.0 in /usr/local/lib/python3.11/dist-packages (from typer<1.0,>=0.12->gradio) (8.2.0)\n",
            "Requirement already satisfied: shellingham>=1.3.0 in /usr/local/lib/python3.11/dist-packages (from typer<1.0,>=0.12->gradio) (1.5.4)\n",
            "Requirement already satisfied: rich>=10.11.0 in /usr/local/lib/python3.11/dist-packages (from typer<1.0,>=0.12->gradio) (13.9.4)\n",
            "Requirement already satisfied: six>=1.5 in /usr/local/lib/python3.11/dist-packages (from python-dateutil>=2.8.2->pandas<3.0,>=1.0->gradio) (1.17.0)\n",
            "Requirement already satisfied: markdown-it-py>=2.2.0 in /usr/local/lib/python3.11/dist-packages (from rich>=10.11.0->typer<1.0,>=0.12->gradio) (3.0.0)\n",
            "Requirement already satisfied: pygments<3.0.0,>=2.13.0 in /usr/local/lib/python3.11/dist-packages (from rich>=10.11.0->typer<1.0,>=0.12->gradio) (2.19.1)\n",
            "Requirement already satisfied: charset-normalizer<4,>=2 in /usr/local/lib/python3.11/dist-packages (from requests->huggingface-hub>=0.28.1->gradio) (3.4.2)\n",
            "Requirement already satisfied: urllib3<3,>=1.21.1 in /usr/local/lib/python3.11/dist-packages (from requests->huggingface-hub>=0.28.1->gradio) (2.4.0)\n",
            "Requirement already satisfied: mdurl~=0.1 in /usr/local/lib/python3.11/dist-packages (from markdown-it-py>=2.2.0->rich>=10.11.0->typer<1.0,>=0.12->gradio) (0.1.2)\n"
          ]
        }
      ]
    },
    {
      "cell_type": "markdown",
      "source": [
        "###**Retrive API key from Secrets and Set as an ENV**"
      ],
      "metadata": {
        "id": "hUBifUxHenHK"
      },
      "id": "hUBifUxHenHK"
    },
    {
      "cell_type": "code",
      "source": [
        "# Retrieve the API key from Colab's secrets\n",
        "from google.colab import userdata\n",
        "OPENAI_API_KEY = userdata.get('OPENAI_API_KEY')"
      ],
      "metadata": {
        "id": "VRFLvlg5esgF"
      },
      "id": "VRFLvlg5esgF",
      "execution_count": 6,
      "outputs": []
    },
    {
      "cell_type": "code",
      "source": [
        "# Set OPENAI_API_KEY as an ENV\n",
        "import os\n",
        "os.environ['OPENAI_API_KEY'] = OPENAI_API_KEY"
      ],
      "metadata": {
        "id": "9Rz3OkifezTs"
      },
      "id": "9Rz3OkifezTs",
      "execution_count": 8,
      "outputs": []
    },
    {
      "cell_type": "code",
      "execution_count": 20,
      "id": "54a08d5f-dcfc-44d8-affc-65f3130cbdbd",
      "metadata": {
        "id": "54a08d5f-dcfc-44d8-affc-65f3130cbdbd"
      },
      "outputs": [],
      "source": [
        "import gradio as gr\n",
        "from openai import OpenAI"
      ]
    },
    {
      "cell_type": "code",
      "source": [
        "openai = OpenAI()"
      ],
      "metadata": {
        "id": "4NajzxbyfwjS"
      },
      "id": "4NajzxbyfwjS",
      "execution_count": 19,
      "outputs": []
    },
    {
      "cell_type": "markdown",
      "source": [
        "###**Function to read the Dataset**"
      ],
      "metadata": {
        "id": "3wCw8IYqXf6Q"
      },
      "id": "3wCw8IYqXf6Q"
    },
    {
      "cell_type": "code",
      "execution_count": 11,
      "id": "685c03c1-e0c9-4e6a-aae4-2f105254c717",
      "metadata": {
        "id": "685c03c1-e0c9-4e6a-aae4-2f105254c717"
      },
      "outputs": [],
      "source": [
        "directory=\"hrdataset/employees\"\n",
        "def read_markdown_files(directory):\n",
        "    \"\"\"Read and load content from all Markdown files in a directory.\"\"\"\n",
        "    documents = []\n",
        "    for filename in os.listdir(directory):\n",
        "        if filename.endswith(\".md\"):\n",
        "            filepath = os.path.join(directory, filename)\n",
        "            with open(filepath, 'r', encoding='utf-8') as f:\n",
        "                documents.append({\"filename\": filename, \"content\": f.read()})\n",
        "    return documents"
      ]
    },
    {
      "cell_type": "code",
      "execution_count": 12,
      "id": "5c29ef45-057a-4af1-a7fc-c350b62a8c8c",
      "metadata": {
        "id": "5c29ef45-057a-4af1-a7fc-c350b62a8c8c"
      },
      "outputs": [],
      "source": [
        "docs=read_markdown_files(directory)"
      ]
    },
    {
      "cell_type": "markdown",
      "source": [
        "###**Build User Message**"
      ],
      "metadata": {
        "id": "mQuLiGhJXyKu"
      },
      "id": "mQuLiGhJXyKu"
    },
    {
      "cell_type": "code",
      "execution_count": 13,
      "id": "e8837da7-411b-4fb2-8818-849a6fe49305",
      "metadata": {
        "id": "e8837da7-411b-4fb2-8818-849a6fe49305"
      },
      "outputs": [],
      "source": [
        "def build_user_messages(question):\n",
        "    message = \"\"\n",
        "    message += f\"Here is info about all the employees {docs}\"\n",
        "    message += f\"now answer query {question}\"\n",
        "    return message"
      ]
    },
    {
      "cell_type": "code",
      "execution_count": 14,
      "id": "47f18047-3f38-4fde-9b92-e3c007db3369",
      "metadata": {
        "id": "47f18047-3f38-4fde-9b92-e3c007db3369"
      },
      "outputs": [],
      "source": [
        "system_message=\"You are a helpful HR assistant\""
      ]
    },
    {
      "cell_type": "markdown",
      "source": [
        "###**Function to Generate LLM Response**"
      ],
      "metadata": {
        "id": "fV7szo2UX5Fw"
      },
      "id": "fV7szo2UX5Fw"
    },
    {
      "cell_type": "code",
      "execution_count": 15,
      "id": "001b95b2-4cc5-4cc1-953e-29bc176404f2",
      "metadata": {
        "id": "001b95b2-4cc5-4cc1-953e-29bc176404f2"
      },
      "outputs": [],
      "source": [
        "def process_question_gpt(message, history):\n",
        "    prompt = build_user_messages(message)\n",
        "\n",
        "    messages = [\n",
        "        {\"role\": \"system\", \"content\": system_message},\n",
        "        {\"role\": \"user\", \"content\": prompt}\n",
        "      ]\n",
        "    completion = openai.chat.completions.create(\n",
        "        model='gpt-4o-mini',\n",
        "        messages=messages,\n",
        "    )\n",
        "    return completion.choices[0].message.content"
      ]
    },
    {
      "cell_type": "markdown",
      "source": [
        "###**Gradio ChatInterface**"
      ],
      "metadata": {
        "id": "SpBQ_4xHYNi2"
      },
      "id": "SpBQ_4xHYNi2"
    },
    {
      "cell_type": "code",
      "execution_count": 16,
      "id": "e1defa62-46a2-4be0-b9e4-846da9c23979",
      "metadata": {
        "id": "e1defa62-46a2-4be0-b9e4-846da9c23979",
        "outputId": "c747ac9c-60a9-4b56-e7e7-54b2cfe0494a",
        "colab": {
          "base_uri": "https://localhost:8080/"
        }
      },
      "outputs": [
        {
          "output_type": "stream",
          "name": "stderr",
          "text": [
            "/usr/local/lib/python3.11/dist-packages/gradio/chat_interface.py:322: UserWarning: The gr.ChatInterface was not provided with a type, so the type of the gr.Chatbot, 'messages', will be used.\n",
            "  warnings.warn(\n"
          ]
        }
      ],
      "source": [
        "demo = gr.ChatInterface(\n",
        "    process_question_gpt,\n",
        "    chatbot=gr.Chatbot(\n",
        "        height=450,\n",
        "        placeholder=\"Ask the question about Employees\",\n",
        "        type=\"messages\",  # Proper rendering of chat format\n",
        "    ),\n",
        "    textbox=gr.Textbox(\n",
        "        placeholder=\"What do you want to know about your co-workers?\",\n",
        "        container=False,\n",
        "        scale=7,\n",
        "    ),\n",
        "    title=\"Know your co-workers?\",\n",
        "    examples=[\"Who is the CEO of the company?\", \"who joined the company recently\"],\n",
        "    cache_examples=False,\n",
        ")\n"
      ]
    },
    {
      "cell_type": "code",
      "execution_count": 17,
      "id": "1f8e6673-f50e-4aae-bbde-63e29574e379",
      "metadata": {
        "id": "1f8e6673-f50e-4aae-bbde-63e29574e379",
        "outputId": "28f20217-eb8d-4b1e-8183-02eb68206497",
        "colab": {
          "base_uri": "https://localhost:8080/",
          "height": 610
        }
      },
      "outputs": [
        {
          "output_type": "stream",
          "name": "stdout",
          "text": [
            "Colab notebook detected. To show errors in colab notebook, set debug=True in launch()\n",
            "* Running on public URL: https://0743ba4086114705ca.gradio.live\n",
            "\n",
            "This share link expires in 1 week. For free permanent hosting and GPU upgrades, run `gradio deploy` from the terminal in the working directory to deploy to Hugging Face Spaces (https://huggingface.co/spaces)\n"
          ]
        },
        {
          "output_type": "display_data",
          "data": {
            "text/plain": [
              "<IPython.core.display.HTML object>"
            ],
            "text/html": [
              "<div><iframe src=\"https://0743ba4086114705ca.gradio.live\" width=\"100%\" height=\"500\" allow=\"autoplay; camera; microphone; clipboard-read; clipboard-write;\" frameborder=\"0\" allowfullscreen></iframe></div>"
            ]
          },
          "metadata": {}
        },
        {
          "output_type": "execute_result",
          "data": {
            "text/plain": []
          },
          "metadata": {},
          "execution_count": 17
        }
      ],
      "source": [
        "demo.launch(share=True)"
      ]
    }
  ],
  "metadata": {
    "kernelspec": {
      "display_name": "Python 3 (ipykernel)",
      "language": "python",
      "name": "python3"
    },
    "language_info": {
      "codemirror_mode": {
        "name": "ipython",
        "version": 3
      },
      "file_extension": ".py",
      "mimetype": "text/x-python",
      "name": "python",
      "nbconvert_exporter": "python",
      "pygments_lexer": "ipython3",
      "version": "3.11.11"
    },
    "colab": {
      "provenance": []
    }
  },
  "nbformat": 4,
  "nbformat_minor": 5
}
