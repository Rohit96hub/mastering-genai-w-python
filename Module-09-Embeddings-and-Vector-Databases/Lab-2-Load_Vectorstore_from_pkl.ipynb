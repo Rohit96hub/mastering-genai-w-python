{
  "nbformat": 4,
  "nbformat_minor": 0,
  "metadata": {
    "colab": {
      "provenance": []
    },
    "kernelspec": {
      "name": "python3",
      "display_name": "Python 3"
    },
    "language_info": {
      "name": "python"
    }
  },
  "cells": [
    {
      "cell_type": "markdown",
      "source": [
        "#**Upload Vectorstore from pkl File and Query it**\n",
        "We will see, How Vectorstore save as .pkl file and use later.\n",
        "###**Steps:**\n",
        "1. Load and read dataset\n",
        "2. Split text into chunks\n",
        "3. Define Embedding model\n",
        "4. Apply embeddings and create vectorstore\n",
        "5. Save metadata to the .pkl file\n",
        "6. Remove chromadb(persist directory)\n",
        "7. Load the metadata from .pkl file (Stored in step:4)\n",
        "8. Create vectorstore using .pkl\n",
        "9. Query the vectorstore"
      ],
      "metadata": {
        "id": "rq0uhp7qV3xL"
      }
    },
    {
      "cell_type": "markdown",
      "source": [
        "###**Install Dependencies**"
      ],
      "metadata": {
        "id": "tQGOBDsAVpqo"
      }
    },
    {
      "cell_type": "code",
      "source": [
        "!pip install -qU chromadb langchain-chroma langchain-community langchain-openai"
      ],
      "metadata": {
        "id": "gB01z-7-aiBL",
        "collapsed": true
      },
      "execution_count": 1,
      "outputs": []
    },
    {
      "cell_type": "markdown",
      "source": [
        "##**1. Upload Policy Documents**"
      ],
      "metadata": {
        "id": "bkKX21JwVM0O"
      }
    },
    {
      "cell_type": "markdown",
      "source": [
        "###**Downloads the `hrdataset.zip` file from the CloudYuga GitHub repo**\n",
        "\n",
        "Saves it in the current working directory of notebook\n",
        "\n",
        "(e.g., /content/ in Google Colab)."
      ],
      "metadata": {
        "id": "UwwetIEQWEDn"
      }
    },
    {
      "cell_type": "code",
      "source": [
        "!wget https://github.com/cloudyuga/mastering-genai-w-python/raw/refs/heads/main/hrdataset.zip"
      ],
      "metadata": {
        "colab": {
          "base_uri": "https://localhost:8080/"
        },
        "id": "yVyBjoZ5WAB_",
        "outputId": "24fe57ed-8fa1-4a0a-c489-6044269ef3fc"
      },
      "execution_count": 2,
      "outputs": [
        {
          "output_type": "stream",
          "name": "stdout",
          "text": [
            "--2025-05-29 05:59:48--  https://github.com/cloudyuga/mastering-genai-w-python/raw/refs/heads/main/hrdataset.zip\n",
            "Resolving github.com (github.com)... 140.82.114.3\n",
            "Connecting to github.com (github.com)|140.82.114.3|:443... connected.\n",
            "HTTP request sent, awaiting response... 302 Found\n",
            "Location: https://raw.githubusercontent.com/cloudyuga/mastering-genai-w-python/refs/heads/main/hrdataset.zip [following]\n",
            "--2025-05-29 05:59:48--  https://raw.githubusercontent.com/cloudyuga/mastering-genai-w-python/refs/heads/main/hrdataset.zip\n",
            "Resolving raw.githubusercontent.com (raw.githubusercontent.com)... 185.199.111.133, 185.199.109.133, 185.199.108.133, ...\n",
            "Connecting to raw.githubusercontent.com (raw.githubusercontent.com)|185.199.111.133|:443... connected.\n",
            "HTTP request sent, awaiting response... 200 OK\n",
            "Length: 9530 (9.3K) [application/zip]\n",
            "Saving to: ‘hrdataset.zip.2’\n",
            "\n",
            "\rhrdataset.zip.2       0%[                    ]       0  --.-KB/s               \rhrdataset.zip.2     100%[===================>]   9.31K  --.-KB/s    in 0s      \n",
            "\n",
            "2025-05-29 05:59:48 (18.6 MB/s) - ‘hrdataset.zip.2’ saved [9530/9530]\n",
            "\n"
          ]
        }
      ]
    },
    {
      "cell_type": "markdown",
      "source": [
        "###**Unzip `hrdataset.zip` file**\n",
        "- It will automatically create **`hrdataset`** folder in our current working directory (/content/ in Google Colab)"
      ],
      "metadata": {
        "id": "d2iCDDXSWLDQ"
      }
    },
    {
      "cell_type": "code",
      "source": [
        " !unzip hrdataset.zip"
      ],
      "metadata": {
        "colab": {
          "base_uri": "https://localhost:8080/"
        },
        "id": "mAraynDYWIS5",
        "outputId": "331d8b47-658b-40f6-92fa-c17309a07d95"
      },
      "execution_count": 3,
      "outputs": [
        {
          "output_type": "stream",
          "name": "stdout",
          "text": [
            "Archive:  hrdataset.zip\n",
            "replace hrdataset/policies/leave_policies.md? [y]es, [n]o, [A]ll, [N]one, [r]ename: A\n",
            "  inflating: hrdataset/policies/leave_policies.md  \n",
            "  inflating: hrdataset/policies/training_and_development.md  \n",
            "  inflating: hrdataset/policies/employee_benefits.md  \n",
            "  inflating: hrdataset/policies/holiday_calendar.md  \n",
            "  inflating: hrdataset/policies/events_calendar.md  \n",
            "  inflating: hrdataset/surveys/Employee_Culture_Survey_Responses.csv  \n",
            "  inflating: hrdataset/employees/108_Rajesh_Kulkarni.md  \n",
            "  inflating: hrdataset/employees/106_Neha_Malhotra.md  \n",
            "  inflating: hrdataset/employees/103_Anjali_Das.md  \n",
            "  inflating: hrdataset/employees/105_Sunita_Patil.md  \n",
            "  inflating: hrdataset/employees/101_Priya_Sharma.md  \n",
            "  inflating: hrdataset/employees/102_Rohit_Mehra.md  \n",
            "  inflating: hrdataset/employees/104_Karan_Kapoor.md  \n",
            "  inflating: hrdataset/employees/109_Meera_Iyer.md  \n",
            "  inflating: hrdataset/employees/110_Aditya_Jain.md  \n",
            "  inflating: hrdataset/employees/107_Amit_Verma.md  \n",
            "  inflating: hrdataset/employees/payroll_information.md  \n"
          ]
        }
      ]
    },
    {
      "cell_type": "code",
      "execution_count": 4,
      "metadata": {
        "id": "EG2Kpvr_PyZH"
      },
      "outputs": [],
      "source": [
        "policy_files_path = 'hrdataset/policies'"
      ]
    },
    {
      "cell_type": "code",
      "source": [
        "import os\n",
        "def read_markdown_files(directory):\n",
        "    \"\"\"Read and load content from all Markdown files in a directory.\"\"\"\n",
        "    documents = []\n",
        "    for filename in os.listdir(directory):\n",
        "        if filename.endswith(\".md\"):\n",
        "            filepath = os.path.join(directory, filename)\n",
        "            with open(filepath, 'r', encoding='utf-8') as f:\n",
        "                documents.append({\"filename\": filename, \"content\": f.read()})\n",
        "    return documents"
      ],
      "metadata": {
        "id": "jORjiR6CXAKz"
      },
      "execution_count": 5,
      "outputs": []
    },
    {
      "cell_type": "code",
      "source": [
        "docs = read_markdown_files(policy_files_path)"
      ],
      "metadata": {
        "id": "7CizDfghXL51"
      },
      "execution_count": 6,
      "outputs": []
    },
    {
      "cell_type": "code",
      "source": [
        "for item in docs:\n",
        "    print(f\"📄 Filename: {item['filename']}\")\n",
        "    print(\"📝 Content:\")\n",
        "    print(item['content'])\n",
        "    print(\"\\n\" + \"=\"*80 + \"\\n\")"
      ],
      "metadata": {
        "colab": {
          "base_uri": "https://localhost:8080/"
        },
        "id": "nMMw92JXUC-P",
        "outputId": "e019d99f-1e03-4f2a-c864-4fb929bf8b70"
      },
      "execution_count": 7,
      "outputs": [
        {
          "output_type": "stream",
          "name": "stdout",
          "text": [
            "📄 Filename: training_and_development.md\n",
            "📝 Content:\n",
            "# Training and Development\n",
            "\n",
            "| Employee ID | Name           | Courses Taken                          | Completion Date | Certifications Awarded      |\n",
            "|-------------|----------------|----------------------------------------|-----------------|----------------------------|\n",
            "| 101         | Priya Sharma   | Leadership in Operations              | 2022-12-10      | Certified Operations Manager |\n",
            "| 102         | Rohit Mehra    | Data Analytics for Logistics          | 2021-11-15      | Certified Logistics Analyst |\n",
            "| 103         | Anjali Das     | HR Management Essentials              | 2023-03-05      | Certified HR Professional   |\n",
            "\n",
            "\n",
            "================================================================================\n",
            "\n",
            "📄 Filename: holiday_calendar.md\n",
            "📝 Content:\n",
            "# Holiday Calendar\n",
            "\n",
            "| Festival Name          | Date       | Day         |\n",
            "|------------------------|------------|-------------|\n",
            "| Republic Day          | 2023-01-26 | Thursday    |\n",
            "| Holi                 | 2023-03-08 | Wednesday   |\n",
            "| Good Friday          | 2023-04-07 | Friday      |\n",
            "| Eid al-Fitr          | 2023-04-22 | Saturday    |\n",
            "| Independence Day     | 2023-08-15 | Tuesday     |\n",
            "| Raksha Bandhan       | 2023-08-30 | Wednesday   |\n",
            "| Ganesh Chaturthi     | 2023-09-19 | Tuesday     |\n",
            "| Diwali               | 2023-11-12 | Sunday      |\n",
            "| Christmas            | 2023-12-25 | Monday      |\n",
            "| Makar Sankranti      | 2023-01-14 | Saturday    |\n",
            "\n",
            "\n",
            "================================================================================\n",
            "\n",
            "📄 Filename: leave_policies.md\n",
            "📝 Content:\n",
            "# Leave Policies\n",
            "- **Annual Leave:** 18 days of paid leave per year, accrued monthly.\n",
            "- **Sick Leave:** 12 days of paid leave for medical reasons per year.\n",
            "- **Maternity Leave:** 6 months of paid leave for expecting mothers.\n",
            "- **Paternity Leave:** 15 days of paid leave for new fathers.L\n",
            "- **Compensatory Leave:** Leave granted for working on weekends or holidays.\n",
            "\n",
            "\n",
            "================================================================================\n",
            "\n",
            "📄 Filename: events_calendar.md\n",
            "📝 Content:\n",
            "# Events and Holiday Calendar\n",
            "\n",
            "| Event Name            | Date       | Time     | Location        | Participants           |\n",
            "|-----------------------|------------|----------|-----------------|------------------------|\n",
            "| Annual Company Meet   | 2023-12-15 | 10:00 AM | Mumbai Office   | All employees          |\n",
            "| Health Camp           | 2023-11-10 | 09:00 AM | Bangalore Office| All employees          |\n",
            "| Team Building Event   | 2023-09-05 | 02:00 PM | Goa Resort      | Operations Team        |\n",
            "\n",
            "\n",
            "================================================================================\n",
            "\n",
            "📄 Filename: employee_benefits.md\n",
            "📝 Content:\n",
            "# Employee Benefits\n",
            "- **Health Insurance:** Covers employee and dependents up to ₹5,00,000.\n",
            "- **Provident Fund:** 12% of basic salary contributed to the PF account.\n",
            "- **Gratuity:** Paid on retirement/resignation based on tenure.\n",
            "- **Travel Allowance:** Reimbursement for official travel expenses.\n",
            "- **Skill Development:** Reimbursement for approved certifications/training costs.\n",
            "\n",
            "\n",
            "================================================================================\n",
            "\n"
          ]
        }
      ]
    },
    {
      "cell_type": "markdown",
      "source": [
        "##**2. Split Document into chunks**"
      ],
      "metadata": {
        "id": "Wzfv6Z02U7qA"
      }
    },
    {
      "cell_type": "code",
      "source": [
        "from langchain.text_splitter import RecursiveCharacterTextSplitter\n",
        "from langchain_core.documents import Document\n",
        "\n",
        "def split_text(documents, chunk_size=1000, chunk_overlap=20):\n",
        "    \"\"\"Split text documents into manageable chunks.\"\"\"\n",
        "    text_splitter = RecursiveCharacterTextSplitter(\n",
        "        chunk_size=chunk_size,\n",
        "        chunk_overlap=chunk_overlap,\n",
        "        length_function=len,\n",
        "        is_separator_regex=False\n",
        "    )\n",
        "    chunks = []\n",
        "    for doc in documents:\n",
        "        # Split the document into chunks\n",
        "        doc_chunks = text_splitter.create_documents([doc[\"content\"]])\n",
        "        # Add metadata (e.g., filename) to each chunk\n",
        "        for chunk in doc_chunks:\n",
        "            chunk.metadata = {\"filename\": doc[\"filename\"]}\n",
        "        chunks.extend(doc_chunks)\n",
        "    return chunks"
      ],
      "metadata": {
        "id": "mFgOY-fygdNa"
      },
      "execution_count": 8,
      "outputs": []
    },
    {
      "cell_type": "code",
      "source": [
        "chunks = split_text(docs)\n",
        "print(len(chunks))"
      ],
      "metadata": {
        "colab": {
          "base_uri": "https://localhost:8080/"
        },
        "id": "OOaklpfIb0bn",
        "outputId": "d5bebdb3-f29a-48ea-dc60-51a816ceca81"
      },
      "execution_count": 9,
      "outputs": [
        {
          "output_type": "stream",
          "name": "stdout",
          "text": [
            "5\n"
          ]
        }
      ]
    },
    {
      "cell_type": "markdown",
      "source": [
        "###**Retrive API key from Secrets and Set as an ENV**"
      ],
      "metadata": {
        "id": "bCMRh2JLccjy"
      }
    },
    {
      "cell_type": "code",
      "source": [
        "# Retrieve the API key from Colab's secrets\n",
        "from google.colab import userdata\n",
        "OPENAI_API_KEY = userdata.get('OPENAI_API_KEY')"
      ],
      "metadata": {
        "id": "a80F99XychUN"
      },
      "execution_count": 10,
      "outputs": []
    },
    {
      "cell_type": "code",
      "source": [
        "# Set OPENAI_API_KEY as an ENV\n",
        "import os\n",
        "os.environ['OPENAI_API_KEY'] = OPENAI_API_KEY"
      ],
      "metadata": {
        "id": "7hnRB5oLcWS5"
      },
      "execution_count": 11,
      "outputs": []
    },
    {
      "cell_type": "markdown",
      "source": [
        "##**3. Define Embedding Model**"
      ],
      "metadata": {
        "id": "6Da4Z9uvQNoI"
      }
    },
    {
      "cell_type": "code",
      "source": [
        "from langchain_openai import OpenAIEmbeddings\n",
        "embeddings = OpenAIEmbeddings()"
      ],
      "metadata": {
        "id": "6e5QeqwGdZJ7",
        "collapsed": true
      },
      "execution_count": 12,
      "outputs": []
    },
    {
      "cell_type": "markdown",
      "source": [
        " ## **4. Embed HR Policy Document and Create Vector Store**"
      ],
      "metadata": {
        "id": "_QWIAMcEQa9V"
      }
    },
    {
      "cell_type": "code",
      "source": [
        "from langchain_chroma import Chroma"
      ],
      "metadata": {
        "id": "hdmmbfOFOPLK"
      },
      "execution_count": 13,
      "outputs": []
    },
    {
      "cell_type": "code",
      "source": [
        "persist_dir = \"chromadb\"\n",
        "#collection_name = \"my_collection\"\n",
        "vectorstore = Chroma.from_documents(\n",
        "    documents=chunks,\n",
        "    embedding=embeddings,\n",
        "    persist_directory=persist_dir\n",
        ")"
      ],
      "metadata": {
        "id": "xXEhjepsEmsp"
      },
      "execution_count": 14,
      "outputs": []
    },
    {
      "cell_type": "markdown",
      "source": [
        "## **5. Save only the metadata (directory + embedding model) to a .pkl file**\n"
      ],
      "metadata": {
        "id": "afMLNFz8Q6Qv"
      }
    },
    {
      "cell_type": "code",
      "source": [
        "import pickle\n",
        "metadata = {\n",
        "    \"persist_directory\": persist_dir,\n",
        "    \"embedding_model_name\": \"text-embedding-ada-002\",\n",
        "}\n",
        "with open(\"vectorstore_metadata.pkl\", \"wb\") as f:\n",
        "    pickle.dump(metadata, f)\n",
        "print(\"✅ Vectorstore metadata saved.\")\n"
      ],
      "metadata": {
        "colab": {
          "base_uri": "https://localhost:8080/"
        },
        "id": "MkxEEuF0O_Ij",
        "outputId": "b4363820-3890-4392-877d-961906698951"
      },
      "execution_count": 15,
      "outputs": [
        {
          "output_type": "stream",
          "name": "stdout",
          "text": [
            "✅ Vectorstore metadata saved.\n"
          ]
        }
      ]
    },
    {
      "cell_type": "markdown",
      "source": [
        "##**6. Remove Persist Directory from Local Files**"
      ],
      "metadata": {
        "id": "xSmhM12WkUPN"
      }
    },
    {
      "cell_type": "code",
      "source": [
        "import shutil\n",
        "shutil.rmtree(\"chromadb\")  # or whatever directory you used for persist_directory"
      ],
      "metadata": {
        "id": "uVB1IB68elXL"
      },
      "execution_count": 16,
      "outputs": []
    },
    {
      "cell_type": "markdown",
      "source": [
        "## **7. Load the Metadata from the .pkl File**"
      ],
      "metadata": {
        "id": "W9YHsLzpSZba"
      }
    },
    {
      "cell_type": "code",
      "source": [
        "# -------------------------------------\n",
        "# 🟩 Later or in a new Colab session:\n",
        "# -------------------------------------\n",
        "with open(\"vectorstore_metadata.pkl\", \"rb\") as f:\n",
        "    loaded_metadata = pickle.load(f)\n"
      ],
      "metadata": {
        "id": "21g-JQSIFEXX"
      },
      "execution_count": 17,
      "outputs": []
    },
    {
      "cell_type": "code",
      "source": [
        "# We need embedding_function for vectorstpre\n",
        "embedding_function = OpenAIEmbeddings(model=loaded_metadata[\"embedding_model_name\"])"
      ],
      "metadata": {
        "id": "1rFeS6sVhKUY"
      },
      "execution_count": 18,
      "outputs": []
    },
    {
      "cell_type": "markdown",
      "source": [
        "## **8. Create Vectorstore using Loaded Metadata**"
      ],
      "metadata": {
        "id": "LCvnTwy_S7TK"
      }
    },
    {
      "cell_type": "code",
      "source": [
        "loaded_vectorstore = Chroma(\n",
        "    persist_directory=loaded_metadata[\"persist_directory\"],\n",
        "    embedding_function=embedding_function\n",
        ")"
      ],
      "metadata": {
        "id": "LQeD_XRdFLVS"
      },
      "execution_count": 19,
      "outputs": []
    },
    {
      "cell_type": "markdown",
      "source": [
        "## **9. Query the Vectorstore**\n"
      ],
      "metadata": {
        "id": "czi1HwICUBAN"
      }
    },
    {
      "cell_type": "code",
      "source": [
        "query = \"What is the leave policy?\"\n",
        "results = loaded_vectorstore.similarity_search(query)"
      ],
      "metadata": {
        "id": "jjNCuAhbFOpB"
      },
      "execution_count": 20,
      "outputs": []
    },
    {
      "cell_type": "markdown",
      "source": [
        "## **10. Print Results**\n"
      ],
      "metadata": {
        "id": "o7yrNF8zUP1v"
      }
    },
    {
      "cell_type": "code",
      "source": [
        "print(results[0].page_content)"
      ],
      "metadata": {
        "colab": {
          "base_uri": "https://localhost:8080/"
        },
        "id": "ColsqiusFuV7",
        "outputId": "138f1a8c-9b29-47ac-f87c-4a8a3f381e68"
      },
      "execution_count": 21,
      "outputs": [
        {
          "output_type": "stream",
          "name": "stdout",
          "text": [
            "# Leave Policies\n",
            "- **Annual Leave:** 18 days of paid leave per year, accrued monthly.\n",
            "- **Sick Leave:** 12 days of paid leave for medical reasons per year.\n",
            "- **Maternity Leave:** 6 months of paid leave for expecting mothers.\n",
            "- **Paternity Leave:** 15 days of paid leave for new fathers.L\n",
            "- **Compensatory Leave:** Leave granted for working on weekends or holidays.\n"
          ]
        }
      ]
    },
    {
      "cell_type": "markdown",
      "source": [
        "###**Print Multiple Similar Documents**"
      ],
      "metadata": {
        "id": "AZwOc4NgUc1z"
      }
    },
    {
      "cell_type": "code",
      "source": [
        "results = loaded_vectorstore.similarity_search(\"is there holiday on diwali?\")\n",
        "for i, doc in enumerate(results):\n",
        "    print(f\"\\nResult {i+1}:\\n{doc.page_content}\")\n"
      ],
      "metadata": {
        "colab": {
          "base_uri": "https://localhost:8080/"
        },
        "id": "KfZQSSLVFHq2",
        "outputId": "c53f361b-7a29-4a77-f733-77824602b19f"
      },
      "execution_count": 22,
      "outputs": [
        {
          "output_type": "stream",
          "name": "stdout",
          "text": [
            "\n",
            "Result 1:\n",
            "# Holiday Calendar\n",
            "\n",
            "| Festival Name          | Date       | Day         |\n",
            "|------------------------|------------|-------------|\n",
            "| Republic Day          | 2023-01-26 | Thursday    |\n",
            "| Holi                 | 2023-03-08 | Wednesday   |\n",
            "| Good Friday          | 2023-04-07 | Friday      |\n",
            "| Eid al-Fitr          | 2023-04-22 | Saturday    |\n",
            "| Independence Day     | 2023-08-15 | Tuesday     |\n",
            "| Raksha Bandhan       | 2023-08-30 | Wednesday   |\n",
            "| Ganesh Chaturthi     | 2023-09-19 | Tuesday     |\n",
            "| Diwali               | 2023-11-12 | Sunday      |\n",
            "| Christmas            | 2023-12-25 | Monday      |\n",
            "| Makar Sankranti      | 2023-01-14 | Saturday    |\n",
            "\n",
            "Result 2:\n",
            "# Events and Holiday Calendar\n",
            "\n",
            "| Event Name            | Date       | Time     | Location        | Participants           |\n",
            "|-----------------------|------------|----------|-----------------|------------------------|\n",
            "| Annual Company Meet   | 2023-12-15 | 10:00 AM | Mumbai Office   | All employees          |\n",
            "| Health Camp           | 2023-11-10 | 09:00 AM | Bangalore Office| All employees          |\n",
            "| Team Building Event   | 2023-09-05 | 02:00 PM | Goa Resort      | Operations Team        |\n",
            "\n",
            "Result 3:\n",
            "# Employee Benefits\n",
            "- **Health Insurance:** Covers employee and dependents up to ₹5,00,000.\n",
            "- **Provident Fund:** 12% of basic salary contributed to the PF account.\n",
            "- **Gratuity:** Paid on retirement/resignation based on tenure.\n",
            "- **Travel Allowance:** Reimbursement for official travel expenses.\n",
            "- **Skill Development:** Reimbursement for approved certifications/training costs.\n",
            "\n",
            "Result 4:\n",
            "# Training and Development\n",
            "\n",
            "| Employee ID | Name           | Courses Taken                          | Completion Date | Certifications Awarded      |\n",
            "|-------------|----------------|----------------------------------------|-----------------|----------------------------|\n",
            "| 101         | Priya Sharma   | Leadership in Operations              | 2022-12-10      | Certified Operations Manager |\n",
            "| 102         | Rohit Mehra    | Data Analytics for Logistics          | 2021-11-15      | Certified Logistics Analyst |\n",
            "| 103         | Anjali Das     | HR Management Essentials              | 2023-03-05      | Certified HR Professional   |\n"
          ]
        }
      ]
    },
    {
      "cell_type": "markdown",
      "source": [
        "## **(Optional)Script to Delete Created Dir**"
      ],
      "metadata": {
        "id": "qoyi8FuYXcfP"
      }
    },
    {
      "cell_type": "code",
      "source": [
        "import shutil\n",
        "import os\n",
        "\n",
        "# Replace this with your directory path\n",
        "dir_path = \"./chromadb\"\n",
        "\n",
        "# Check if the directory exists\n",
        "if os.path.exists(dir_path):\n",
        "    shutil.rmtree(dir_path)\n",
        "    print(f\"✅ Directory '{dir_path}' has been deleted.\")\n",
        "else:\n",
        "    print(f\"⚠️ Directory '{dir_path}' does not exist.\")"
      ],
      "metadata": {
        "id": "HkvBqn31Xb1l",
        "colab": {
          "base_uri": "https://localhost:8080/"
        },
        "outputId": "5fcdfe67-9720-4929-9524-fab807418132"
      },
      "execution_count": 23,
      "outputs": [
        {
          "output_type": "stream",
          "name": "stdout",
          "text": [
            "⚠️ Directory './chromadb' does not exist.\n"
          ]
        }
      ]
    }
  ]
}
