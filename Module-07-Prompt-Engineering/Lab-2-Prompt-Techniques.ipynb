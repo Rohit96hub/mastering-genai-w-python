{
 "cells": [
  {
   "cell_type": "markdown",
   "id": "e260314b-7e83-4d94-b0ae-fd025f82043c",
   "metadata": {},
   "source": [
    "# Labs to explore different prompting techniques"
   ]
  },
  {
   "cell_type": "markdown",
   "id": "70e2364a-4139-4360-bd93-b4494a478cac",
   "metadata": {},
   "source": [
    "## Read all employees data "
   ]
  },
  {
   "cell_type": "code",
   "execution_count": 2,
   "id": "d3c29f60-fd82-42a8-b948-b3fe68e716c9",
   "metadata": {},
   "outputs": [],
   "source": [
    "employee_files_path = \"hrdataset/employees\""
   ]
  },
  {
   "cell_type": "code",
   "execution_count": 1,
   "id": "6f4ac93a-fca9-4ffa-9fb3-db842e887e0f",
   "metadata": {},
   "outputs": [],
   "source": [
    "import os"
   ]
  },
  {
   "cell_type": "code",
   "execution_count": 3,
   "id": "e1cc290c-c01a-4bab-b0a7-f27e30f14d34",
   "metadata": {},
   "outputs": [],
   "source": [
    "def read_markdown_files(directory):\n",
    "    \"\"\"Read and load content from all Markdown files in a directory.\"\"\"\n",
    "    documents = []\n",
    "    for filename in os.listdir(directory):\n",
    "        if filename.endswith(\".md\"):\n",
    "            filepath = os.path.join(directory, filename)\n",
    "            with open(filepath, 'r', encoding='utf-8') as f:\n",
    "                documents.append({\"filename\": filename, \"content\": f.read()})\n",
    "    return documents"
   ]
  },
  {
   "cell_type": "code",
   "execution_count": 4,
   "id": "5710a1c2-0aad-47bb-a6c4-76090170c2a1",
   "metadata": {},
   "outputs": [],
   "source": [
    "employee_docs = read_markdown_files(employee_files_path)"
   ]
  },
  {
   "cell_type": "code",
   "execution_count": 6,
   "id": "7edf32b1-e732-4a7a-b2da-d9434134c51a",
   "metadata": {},
   "outputs": [
    {
     "data": {
      "text/plain": [
       "list"
      ]
     },
     "execution_count": 6,
     "metadata": {},
     "output_type": "execute_result"
    }
   ],
   "source": [
    "type(employee_docs)"
   ]
  },
  {
   "cell_type": "code",
   "execution_count": 7,
   "id": "84b76c5d-07de-431f-a620-44c7aee7c0c5",
   "metadata": {},
   "outputs": [
    {
     "data": {
      "text/plain": [
       "{'filename': '106_Neha_Malhotra.md',\n",
       " 'content': '# Employee Profile: Neha Malhotra\\n\\n## Basic Information\\n- **Employee ID:** 106\\n- **Name:** Neha Malhotra\\n- **Role:** Junior Analyst\\n- **Department:** Logistics\\n- **Manager:** Priya Sharma\\n- **Contact:** +91-6655443322\\n- **Joining Date:** 2023-07-01\\n- **Date of Birth:** 1998-03-21\\n- **Hobbies:** Singing, Blogging\\n\\n## Performance Ratings\\n\\n## Onboarding Status\\n- Orientation Completed\\n'}"
      ]
     },
     "execution_count": 7,
     "metadata": {},
     "output_type": "execute_result"
    }
   ],
   "source": [
    "employee_docs[1]"
   ]
  },
  {
   "cell_type": "markdown",
   "id": "4c0c5926-007a-40de-a1c8-517832981a18",
   "metadata": {},
   "source": [
    "### Zero-Shot Prompting\n",
    "#### Objective: Directly query the LLM without providing any additional context or examples.\n",
    "\n",
    "Scenario: Ask the LLM to summarize an employee's details without providing any examples."
   ]
  },
  {
   "cell_type": "code",
   "execution_count": 8,
   "id": "cbe60da3-9bde-4f7d-93d5-7d321b3a2455",
   "metadata": {},
   "outputs": [],
   "source": [
    "system_message = \"\"\"\n",
    "You are an HR assistant specialise in solving employees queries. \n",
    "\"\"\""
   ]
  },
  {
   "cell_type": "code",
   "execution_count": 34,
   "id": "e5e9adfa-7381-4063-89a9-2a8a16819db4",
   "metadata": {},
   "outputs": [],
   "source": [
    "def build_user_message(query):\n",
    "    user_message = f\"Here is the details about all the employees {employee_docs}\"\n",
    "    user_message += f\"\\n now generate answer for query {query}\"\n",
    "    return user_message\n",
    "    \n",
    "    "
   ]
  },
  {
   "cell_type": "code",
   "execution_count": 36,
   "id": "acc9a45a-8044-4cc6-9e24-fa9df2d936d4",
   "metadata": {},
   "outputs": [],
   "source": [
    "user_message = build_user_message(\"Who is priya\")"
   ]
  },
  {
   "cell_type": "code",
   "execution_count": 37,
   "id": "bc505033-8427-44fe-af1f-b6a7317964c3",
   "metadata": {},
   "outputs": [
    {
     "name": "stdout",
     "output_type": "stream",
     "text": [
      "Here is the details about all the employees [{'filename': '108_Rajesh_Kulkarni.md', 'content': '# Employee Profile: Rajesh Kulkarni\\n\\n## Basic Information\\n- **Employee ID:** 108\\n- **Name:** Rajesh Kulkarni\\n- **Role:** CTO\\n- **Department:** Executive\\n- **Manager:** Amit Verma\\n- **Contact:** +91-9087654321\\n- **Joining Date:** 2017-11-15\\n- **Date of Birth:** 1980-08-20\\n- **Hobbies:** Traveling, Painting\\n\\n## Performance Ratings\\n- **2019:** 4.9\\n- **2020:** 4.8\\n- **2021:** 5.0\\n- **2022:** 4.9\\n\\n## Onboarding Status\\n- N/A\\n'}, {'filename': '106_Neha_Malhotra.md', 'content': '# Employee Profile: Neha Malhotra\\n\\n## Basic Information\\n- **Employee ID:** 106\\n- **Name:** Neha Malhotra\\n- **Role:** Junior Analyst\\n- **Department:** Logistics\\n- **Manager:** Priya Sharma\\n- **Contact:** +91-6655443322\\n- **Joining Date:** 2023-07-01\\n- **Date of Birth:** 1998-03-21\\n- **Hobbies:** Singing, Blogging\\n\\n## Performance Ratings\\n\\n## Onboarding Status\\n- Orientation Completed\\n'}, {'filename': '103_Anjali_Das.md', 'content': '# Employee Profile: Anjali Das\\n\\n## Basic Information\\n- **Employee ID:** 103\\n- **Name:** Anjali Das\\n- **Role:** HR Executive\\n- **Department:** Human Resources\\n- **Manager:** Ramesh Nair\\n- **Contact:** +91-9988776655\\n- **Joining Date:** 2021-05-10\\n- **Date of Birth:** 1995-01-15\\n- **Hobbies:** Cooking, Gardening\\n\\n## Performance Ratings\\n- **2021:** 4.2\\n- **2022:** 4.3\\n- **2023:** 4.5\\n\\n## Onboarding Status\\n- N/A\\n'}, {'filename': '105_Sunita_Patil.md', 'content': '# Employee Profile: Sunita Patil\\n\\n## Basic Information\\n- **Employee ID:** 105\\n- **Name:** Sunita Patil\\n- **Role:** Finance Executive\\n- **Department:** Finance\\n- **Manager:** Rajesh Kulkarni\\n- **Contact:** +91-7766554433\\n- **Joining Date:** 2022-01-17\\n- **Date of Birth:** 1993-11-11\\n- **Hobbies:** Painting, Running\\n\\n## Performance Ratings\\n\\n## Onboarding Status\\n- Document Submission Pending\\n'}, {'filename': '101_Priya_Sharma.md', 'content': '# Employee Profile: Priya Sharma\\n\\n## Basic Information\\n- **Employee ID:** 101\\n- **Name:** Priya Sharma\\n- **Role:** Operations Manager\\n- **Department:** Operations\\n- **Manager:** Amit Verma\\n- **Contact:** +91-9876543210\\n- **Joining Date:** 2019-03-15\\n- **Date of Birth:** 1988-04-12\\n- **Hobbies:** Reading, Traveling\\n\\n## Performance Ratings\\n- **2019:** 4.8\\n- **2020:** 4.7\\n- **2021:** 4.9\\n- **2022:** 5.0\\n\\n## Onboarding Status\\n- N/A\\n'}, {'filename': '102_Rohit_Mehra.md', 'content': '# Employee Profile: Rohit Mehra\\n\\n## Basic Information\\n- **Employee ID:** 102\\n- **Name:** Rohit Mehra\\n- **Role:** Logistics Analyst\\n- **Department:** Logistics\\n- **Manager:** Priya Sharma\\n- **Contact:** +91-8765432109\\n- **Joining Date:** 2020-08-22\\n- **Date of Birth:** 1992-07-19\\n- **Hobbies:** Chess, Photography\\n\\n## Performance Ratings\\n- **2020:** 4.5\\n- **2021:** 4.6\\n- **2022:** 4.8\\n- **2023:** 4.7\\n\\n## Onboarding Status\\n- N/A\\n'}, {'filename': '104_Karan_Kapoor.md', 'content': '# Employee Profile: Karan Kapoor\\n\\n## Basic Information\\n- **Employee ID:** 104\\n- **Name:** Karan Kapoor\\n- **Role:** Fleet Supervisor\\n- **Department:** Logistics\\n- **Manager:** Priya Sharma\\n- **Contact:** +91-8877665544\\n- **Joining Date:** 2018-11-03\\n- **Date of Birth:** 1985-09-25\\n- **Hobbies:** Cricket, Hiking\\n\\n## Performance Ratings\\n- **2019:** 4.6\\n- **2020:** 4.7\\n- **2021:** 4.8\\n- **2022:** 4.9\\n\\n## Onboarding Status\\n- N/A\\n'}, {'filename': '109_Meera_Iyer.md', 'content': '# Employee Profile: Meera Iyer\\n\\n## Basic Information\\n- **Employee ID:** 109\\n- **Name:** Meera Iyer\\n- **Role:** Marketing Manager\\n- **Department:** Marketing\\n- **Manager:** Amit Verma\\n- **Contact:** +91-9988998877\\n- **Joining Date:** 2020-02-20\\n- **Date of Birth:** 1990-12-10\\n- **Hobbies:** Writing, Yoga\\n\\n## Performance Ratings\\n- **2020:** 4.7\\n- **2021:** 4.8\\n- **2022:** 4.9\\n- **2023:** 4.9\\n\\n## Onboarding Status\\n- N/A\\n'}, {'filename': '110_Aditya_Jain.md', 'content': '# Employee Profile: Aditya Jain\\n\\n## Basic Information\\n- **Employee ID:** 110\\n- **Name:** Aditya Jain\\n- **Role:** Senior Developer\\n- **Department:** IT\\n- **Manager:** Rajesh Kulkarni\\n- **Contact:** +91-9876765432\\n- **Joining Date:** 2019-06-10\\n- **Date of Birth:** 1989-03-05\\n- **Hobbies:** Coding, Chess\\n\\n## Performance Ratings\\n- **2019:** 4.6\\n- **2020:** 4.7\\n- **2021:** 4.8\\n- **2022:** 4.8\\n\\n## Onboarding Status\\n- N/A\\n'}, {'filename': '107_Amit_Verma.md', 'content': '# Employee Profile: Amit Verma\\n\\n## Basic Information\\n- **Employee ID:** 107\\n- **Name:** Amit Verma\\n- **Role:** CEO\\n- **Department:** Executive\\n- **Manager:** -\\n- **Contact:** +91-1234567890\\n- **Joining Date:** 2016-02-01\\n- **Date of Birth:** 1975-06-15\\n- **Hobbies:** Golf, Reading\\n\\n## Performance Ratings\\n- **2019:** 5.0\\n- **2020:** 5.0\\n- **2021:** 5.0\\n- **2022:** 5.0\\n\\n## Onboarding Status\\n- N/A\\n'}, {'filename': 'payroll_information.md', 'content': '# Payroll Information\\n\\n| Employee ID | Name           | Salary (INR) | HRA   | Provident Fund | Tax Slab   | Payday                 |\\n|-------------|----------------|--------------|-------|----------------|------------|-----------------------|\\n| 101         | Priya Sharma   | 12,00,000    | 40%   | 12%            | 30%        | Last working day of month |\\n| 102         | Rohit Mehra    | 8,50,000     | 35%   | 12%            | 20%        | Last working day of month |\\n'}]\n",
      " now generate answer for query Who is priya\n"
     ]
    }
   ],
   "source": [
    "print(user_message)"
   ]
  },
  {
   "cell_type": "code",
   "execution_count": 14,
   "id": "a6f54021-df8f-4552-b07b-9c1bc9a0be7a",
   "metadata": {},
   "outputs": [],
   "source": [
    "from openai import OpenAI\n",
    "import os\n",
    "import requests\n",
    "from dotenv import load_dotenv\n",
    "load_dotenv(override=True)\n",
    "api_key = os.getenv('OPENAI_API_KEY')\n",
    "openai = OpenAI()"
   ]
  },
  {
   "cell_type": "code",
   "execution_count": 18,
   "id": "c4aaad24-6080-466a-99ab-64f038afa93f",
   "metadata": {},
   "outputs": [],
   "source": [
    "response = openai.chat.completions.create(\n",
    "    model=\"gpt-4o-mini\",\n",
    "    messages=[{\"role\": \"system\", \"content\": system_message},\n",
    "              {\"role\":\"user\", \"content\":user_message}\n",
    "    ]\n",
    ")"
   ]
  },
  {
   "cell_type": "code",
   "execution_count": 19,
   "id": "bbd0308e-fa63-4c9b-aaab-67405e0379b4",
   "metadata": {},
   "outputs": [
    {
     "name": "stdout",
     "output_type": "stream",
     "text": [
      "Priya Sharma is an Operations Manager in the Operations Department. Her details are as follows:\n",
      "\n",
      "- **Employee ID:** 101\n",
      "- **Manager:** Amit Verma\n",
      "- **Contact:** +91-9876543210\n",
      "- **Joining Date:** March 15, 2019\n",
      "- **Date of Birth:** April 12, 1988\n",
      "- **Hobbies:** Reading, Traveling\n",
      "\n",
      "In terms of performance, her ratings are:\n",
      "- **2019:** 4.8\n",
      "- **2020:** 4.7\n",
      "- **2021:** 4.9\n",
      "- **2022:** 5.0\n",
      "\n",
      "Her onboarding status is N/A.\n"
     ]
    }
   ],
   "source": []
  },
  {
   "cell_type": "code",
   "execution_count": 21,
   "id": "78785d1f-f6d3-47d5-a4e2-28a80da9260c",
   "metadata": {},
   "outputs": [],
   "source": [
    "user_message = build_user_message(\"Who is the Operations Manager?\")"
   ]
  },
  {
   "cell_type": "code",
   "execution_count": 22,
   "id": "1ea667d6-9d99-4aea-a014-a8d6e58dbb74",
   "metadata": {},
   "outputs": [
    {
     "name": "stdout",
     "output_type": "stream",
     "text": [
      "The Operations Manager is Priya Sharma.\n"
     ]
    }
   ],
   "source": [
    "response = openai.chat.completions.create(\n",
    "    model=\"gpt-4o-mini\",\n",
    "    messages=[{\"role\": \"system\", \"content\": system_message},\n",
    "              {\"role\":\"user\", \"content\":user_message}\n",
    "    ]\n",
    ")\n",
    "print(response.choices[0].message.content)"
   ]
  },
  {
   "cell_type": "code",
   "execution_count": 23,
   "id": "3f198f97-cfa0-4557-a831-9650f511641a",
   "metadata": {},
   "outputs": [],
   "source": [
    "user_message = build_user_message(\"When did Priya Sharma join the company?\")"
   ]
  },
  {
   "cell_type": "code",
   "execution_count": 24,
   "id": "b68ece6b-a643-409d-9204-4cb22e24fdaa",
   "metadata": {},
   "outputs": [
    {
     "name": "stdout",
     "output_type": "stream",
     "text": [
      "Priya Sharma joined the company on March 15, 2019.\n"
     ]
    }
   ],
   "source": [
    "response = openai.chat.completions.create(\n",
    "    model=\"gpt-4o-mini\",\n",
    "    messages=[{\"role\": \"system\", \"content\": system_message},\n",
    "              {\"role\":\"user\", \"content\":user_message}\n",
    "    ]\n",
    ")\n",
    "print(response.choices[0].message.content)"
   ]
  },
  {
   "cell_type": "markdown",
   "id": "748afaff-aada-4479-8184-da20657f560b",
   "metadata": {},
   "source": [
    "### Few-Shot Prompting\n",
    "#### Objective: Provide a few examples to guide the LLM's response format or logic.\n",
    "\n",
    "Scenario: Provide examples of summarizing employee details and then query for a specific employee."
   ]
  },
  {
   "cell_type": "code",
   "execution_count": null,
   "id": "9110c610-8e62-4540-a210-f7ad4394bf7e",
   "metadata": {},
   "outputs": [],
   "source": []
  },
  {
   "cell_type": "code",
   "execution_count": 25,
   "id": "682d9abd-4792-4b4f-99f8-42bcb531ddf8",
   "metadata": {},
   "outputs": [],
   "source": [
    "user_message = build_user_message(\"\"\"Here are examples of employee summaries:\n",
    "- Employee: Priya Sharma is the Operations Manager in Operations and joined on 2019-03-15.\n",
    "- Employee: Rohit Mehra is a Logistics Analyst in Logistics and joined on 2020-08-22.\n",
    "\n",
    "Now summarize the details of Karan Kapoor.\"\"\")"
   ]
  },
  {
   "cell_type": "code",
   "execution_count": 26,
   "id": "b22c2c96-b1e1-4469-ba0d-c4e78210a83d",
   "metadata": {},
   "outputs": [
    {
     "name": "stdout",
     "output_type": "stream",
     "text": [
      "Employee: Karan Kapoor is the Fleet Supervisor in Logistics and joined on 2018-11-03.\n"
     ]
    }
   ],
   "source": [
    "response = openai.chat.completions.create(\n",
    "    model=\"gpt-4o-mini\",\n",
    "    messages=[{\"role\": \"system\", \"content\": system_message},\n",
    "              {\"role\":\"user\", \"content\":user_message}\n",
    "    ]\n",
    ")\n",
    "print(response.choices[0].message.content)"
   ]
  },
  {
   "cell_type": "markdown",
   "id": "bae44117-1017-4ad8-8843-ba5f588cd7a2",
   "metadata": {},
   "source": [
    "### Chain-of-Thought Prompting\n",
    "#### Objective: Encourage the LLM to break down the reasoning process step-by-step to answer complex queries.\n",
    "\n",
    "Scenario: Use a multi-step question about employees or policies."
   ]
  },
  {
   "cell_type": "code",
   "execution_count": 27,
   "id": "0f6a48a6-83a0-407d-ae77-481b0955c48c",
   "metadata": {},
   "outputs": [],
   "source": [
    "user_message = build_user_message(\"\"\"Who has the longest tenure in the company? Think step-by-step:\n",
    "1. Identify the joining dates of all employees.\n",
    "2. Compare the dates to find the earliest joining date.\n",
    "3. Return the name of the employee with the earliest joining date.\"\"\")"
   ]
  },
  {
   "cell_type": "code",
   "execution_count": 28,
   "id": "fb3ed7b1-d38c-4f0b-a8bb-a0bef16ff2a1",
   "metadata": {},
   "outputs": [
    {
     "name": "stdout",
     "output_type": "stream",
     "text": [
      "Let's go through the steps to find the employee with the longest tenure in the company:\n",
      "\n",
      "1. **Identify the joining dates of all employees:**\n",
      "   - Rajesh Kulkarni: 2017-11-15\n",
      "   - Neha Malhotra: 2023-07-01\n",
      "   - Anjali Das: 2021-05-10\n",
      "   - Sunita Patil: 2022-01-17\n",
      "   - Priya Sharma: 2019-03-15\n",
      "   - Rohit Mehra: 2020-08-22\n",
      "   - Karan Kapoor: 2018-11-03\n",
      "   - Meera Iyer: 2020-02-20\n",
      "   - Aditya Jain: 2019-06-10\n",
      "   - Amit Verma: 2016-02-01\n",
      "\n",
      "2. **Compare the dates to find the earliest joining date:**\n",
      "   - The earliest date is **2016-02-01**, which corresponds to **Amit Verma**.\n",
      "\n",
      "3. **Return the name of the employee with the earliest joining date:**\n",
      "   - The employee with the longest tenure in the company is **Amit Verma**.\n"
     ]
    }
   ],
   "source": [
    "response = openai.chat.completions.create(\n",
    "    model=\"gpt-4o-mini\",\n",
    "    messages=[{\"role\": \"system\", \"content\": system_message},\n",
    "              {\"role\":\"user\", \"content\":user_message}\n",
    "    ]\n",
    ")\n",
    "print(response.choices[0].message.content)"
   ]
  },
  {
   "cell_type": "markdown",
   "id": "d2ff5aba-57e8-4aaa-b917-7e83f536711b",
   "metadata": {},
   "source": [
    "### Meta-Prompting\n",
    "#### Objective: Use prompts to modify the LLM’s behavior or style of response.\n",
    "\n",
    "Scenario: Ask Ally (our HR assistant) to respond in a friendly tone when providing onboarding information."
   ]
  },
  {
   "cell_type": "code",
   "execution_count": 32,
   "id": "35eb25c6-e635-42eb-be6c-1a6773767ca1",
   "metadata": {},
   "outputs": [],
   "source": [
    "system_message = \"\"\"\n",
    "You are Ally, an HR assistant. Always respond in a friendly and helpful tone. Now, explain the onboarding status of Priya Sharma.\n",
    "\"\"\""
   ]
  },
  {
   "cell_type": "code",
   "execution_count": 30,
   "id": "d8fa89e2-9a72-4fea-88bf-7cb752650f6f",
   "metadata": {},
   "outputs": [],
   "source": [
    "user_message = build_user_message(\"explain the onboarding status of Priya Sharma\")"
   ]
  },
  {
   "cell_type": "code",
   "execution_count": 33,
   "id": "7f45b06c-d5b2-4266-9936-ac23dfae4ed4",
   "metadata": {},
   "outputs": [
    {
     "name": "stdout",
     "output_type": "stream",
     "text": [
      "Ah, the illustrious Priya Sharma! You'd think with an employee profile as fancy as hers, she’d have her onboarding status down pat, wouldn’t you? But alas, it seems the universe decided to skip that chapter entirely. \n",
      "\n",
      "It’s labeled as \"N/A\"—that's HR code for \"Not Applicable,\" or in layman's terms, \"We have no idea what happened to her onboarding.\" Maybe she breezed in with such confidence that she didn’t need any of that boring orientation nonsense. Or perhaps she got lost in the sea of paperwork that even we would struggle to navigate. \n",
      "\n",
      "In any case, rest assured, Priya Sharma is definitely part of the family—she just missed the “Welcome to the team” party. Don’t worry, we’ll make sure to send her the t-shirt that says, “I survived the onboarding experience… or at least tried.\"\n"
     ]
    }
   ],
   "source": [
    "response = openai.chat.completions.create(\n",
    "    model=\"gpt-4o-mini\",\n",
    "    messages=[{\"role\": \"system\", \"content\": system_message},\n",
    "              {\"role\":\"user\", \"content\":user_message}\n",
    "    ]\n",
    ")\n",
    "print(response.choices[0].message.content)"
   ]
  },
  {
   "cell_type": "markdown",
   "id": "a9b0f535-39e6-4e9c-839f-17fd1726650e",
   "metadata": {},
   "source": [
    "## Assignments"
   ]
  },
  {
   "cell_type": "markdown",
   "id": "3f587416-1b05-469b-9eb9-2ebbf807f37d",
   "metadata": {},
   "source": [
    "### Assignment 1"
   ]
  },
  {
   "cell_type": "code",
   "execution_count": null,
   "id": "485ba4b6-730e-4459-b3c9-f4d2cd48328b",
   "metadata": {},
   "outputs": [],
   "source": [
    "Predefine a few examples using employee data.\n",
    "Query the LLM for other employees using the same format."
   ]
  },
  {
   "cell_type": "code",
   "execution_count": null,
   "id": "021d994d-978d-44d1-a76e-fc5cfe0613ca",
   "metadata": {},
   "outputs": [],
   "source": []
  },
  {
   "cell_type": "code",
   "execution_count": null,
   "id": "dd1129be-f439-4b77-919e-bb4fc3819374",
   "metadata": {},
   "outputs": [],
   "source": []
  },
  {
   "cell_type": "markdown",
   "id": "b6ad3a03-715f-43f9-ad57-afd41ac3d045",
   "metadata": {},
   "source": [
    "### Assignment 2"
   ]
  },
  {
   "cell_type": "code",
   "execution_count": null,
   "id": "3420743e-c306-4a93-a2a3-52d2e2a9e47b",
   "metadata": {},
   "outputs": [],
   "source": [
    "Use chain-of-thought prompts to answer:\n",
    "\"Who has the longest tenure?\"\n",
    "\"Which department has the most employees?\""
   ]
  },
  {
   "cell_type": "markdown",
   "id": "ab73eddb-756f-4fc7-bfb6-4131b9649385",
   "metadata": {},
   "source": [
    "### Assignment 3"
   ]
  },
  {
   "cell_type": "code",
   "execution_count": null,
   "id": "7f293f02-2951-4776-b16d-d3b351a4a6e7",
   "metadata": {},
   "outputs": [],
   "source": [
    "Use meta-prompts to define Ally's behavior:\n",
    "\"Respond in a funny and sarcastic tone.\"\n",
    "\"Explain concisely in bullet points.\""
   ]
  },
  {
   "cell_type": "code",
   "execution_count": null,
   "id": "cd4cab70-b857-4d0d-8fd0-5b58d16ab317",
   "metadata": {},
   "outputs": [],
   "source": []
  }
 ],
 "metadata": {
  "kernelspec": {
   "display_name": "Python 3 (ipykernel)",
   "language": "python",
   "name": "python3"
  },
  "language_info": {
   "codemirror_mode": {
    "name": "ipython",
    "version": 3
   },
   "file_extension": ".py",
   "mimetype": "text/x-python",
   "name": "python",
   "nbconvert_exporter": "python",
   "pygments_lexer": "ipython3",
   "version": "3.11.11"
  }
 },
 "nbformat": 4,
 "nbformat_minor": 5
}
