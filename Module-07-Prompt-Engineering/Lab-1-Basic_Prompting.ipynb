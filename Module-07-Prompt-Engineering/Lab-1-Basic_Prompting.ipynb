{
  "cells": [
    {
      "cell_type": "markdown",
      "id": "1deb5080-435f-403d-836d-f4ceb5abe90e",
      "metadata": {
        "id": "1deb5080-435f-403d-836d-f4ceb5abe90e"
      },
      "source": [
        "##**Try following prompts on ChatGpt**"
      ]
    },
    {
      "cell_type": "markdown",
      "source": [
        "```What are company's leave policies?```"
      ],
      "metadata": {
        "id": "g5EbiergFB6o"
      },
      "id": "g5EbiergFB6o"
    },
    {
      "cell_type": "markdown",
      "source": [
        "```# Leave Policies\n",
        "- **Annual Leave:** 18 days of paid leave per year, accrued monthly.\n",
        "- **Sick Leave:** 12 days of paid leave for medical reasons per year.\n",
        "- **Maternity Leave:** 6 months of paid leave for expecting mothers.\n",
        "- **Paternity Leave:** 15 days of paid leave for new fathers.\n",
        "- **Compensatory Leave:** Leave granted for working on weekends or holidays.\n",
        "\n",
        "What are company's leave policies?\n",
        "```"
      ],
      "metadata": {
        "id": "t2-nBn1mFOcc"
      },
      "id": "t2-nBn1mFOcc"
    },
    {
      "cell_type": "code",
      "source": [
        "!pip install openai"
      ],
      "metadata": {
        "colab": {
          "base_uri": "https://localhost:8080/"
        },
        "collapsed": true,
        "id": "BjSe3ZThFjZ-",
        "outputId": "00a6aecb-c94b-4f2f-ca75-741cbf938fef"
      },
      "id": "BjSe3ZThFjZ-",
      "execution_count": 4,
      "outputs": [
        {
          "output_type": "stream",
          "name": "stdout",
          "text": [
            "Requirement already satisfied: openai in /usr/local/lib/python3.11/dist-packages (1.78.1)\n",
            "Requirement already satisfied: anyio<5,>=3.5.0 in /usr/local/lib/python3.11/dist-packages (from openai) (4.9.0)\n",
            "Requirement already satisfied: distro<2,>=1.7.0 in /usr/local/lib/python3.11/dist-packages (from openai) (1.9.0)\n",
            "Requirement already satisfied: httpx<1,>=0.23.0 in /usr/local/lib/python3.11/dist-packages (from openai) (0.28.1)\n",
            "Requirement already satisfied: jiter<1,>=0.4.0 in /usr/local/lib/python3.11/dist-packages (from openai) (0.9.0)\n",
            "Requirement already satisfied: pydantic<3,>=1.9.0 in /usr/local/lib/python3.11/dist-packages (from openai) (2.11.4)\n",
            "Requirement already satisfied: sniffio in /usr/local/lib/python3.11/dist-packages (from openai) (1.3.1)\n",
            "Requirement already satisfied: tqdm>4 in /usr/local/lib/python3.11/dist-packages (from openai) (4.67.1)\n",
            "Requirement already satisfied: typing-extensions<5,>=4.11 in /usr/local/lib/python3.11/dist-packages (from openai) (4.13.2)\n",
            "Requirement already satisfied: idna>=2.8 in /usr/local/lib/python3.11/dist-packages (from anyio<5,>=3.5.0->openai) (3.10)\n",
            "Requirement already satisfied: certifi in /usr/local/lib/python3.11/dist-packages (from httpx<1,>=0.23.0->openai) (2025.4.26)\n",
            "Requirement already satisfied: httpcore==1.* in /usr/local/lib/python3.11/dist-packages (from httpx<1,>=0.23.0->openai) (1.0.9)\n",
            "Requirement already satisfied: h11>=0.16 in /usr/local/lib/python3.11/dist-packages (from httpcore==1.*->httpx<1,>=0.23.0->openai) (0.16.0)\n",
            "Requirement already satisfied: annotated-types>=0.6.0 in /usr/local/lib/python3.11/dist-packages (from pydantic<3,>=1.9.0->openai) (0.7.0)\n",
            "Requirement already satisfied: pydantic-core==2.33.2 in /usr/local/lib/python3.11/dist-packages (from pydantic<3,>=1.9.0->openai) (2.33.2)\n",
            "Requirement already satisfied: typing-inspection>=0.4.0 in /usr/local/lib/python3.11/dist-packages (from pydantic<3,>=1.9.0->openai) (0.4.0)\n"
          ]
        }
      ]
    },
    {
      "cell_type": "markdown",
      "id": "3f226328-bd85-4d20-bfee-80342171767d",
      "metadata": {
        "id": "3f226328-bd85-4d20-bfee-80342171767d"
      },
      "source": [
        "##**Connect with ChatGPT endpoint using API**"
      ]
    },
    {
      "cell_type": "markdown",
      "id": "a494c6fa-f696-4c67-b05f-983a7811d093",
      "metadata": {
        "id": "a494c6fa-f696-4c67-b05f-983a7811d093"
      },
      "source": [
        "###**Retrive API key from Secrets and Set as an ENV**"
      ]
    },
    {
      "cell_type": "code",
      "source": [
        "# Retrieve the API key from Colab's secrets\n",
        "from google.colab import userdata\n",
        "OPENAI_API_KEY = userdata.get('OPENAI_API_KEY')"
      ],
      "metadata": {
        "id": "GbrFqUgNFwPm"
      },
      "id": "GbrFqUgNFwPm",
      "execution_count": 5,
      "outputs": []
    },
    {
      "cell_type": "code",
      "source": [
        "# Set OPENAI_API_KEY as an ENV\n",
        "import os\n",
        "os.environ['OPENAI_API_KEY'] = OPENAI_API_KEY"
      ],
      "metadata": {
        "id": "vRr3tRKMGdD1"
      },
      "id": "vRr3tRKMGdD1",
      "execution_count": 6,
      "outputs": []
    },
    {
      "cell_type": "markdown",
      "source": [
        "###**Instantiate the client**"
      ],
      "metadata": {
        "id": "P8FecLr5F3-F"
      },
      "id": "P8FecLr5F3-F"
    },
    {
      "cell_type": "code",
      "source": [
        "from openai import OpenAI\n",
        "client=OpenAI()"
      ],
      "metadata": {
        "id": "knOQh9x1F3Ax"
      },
      "id": "knOQh9x1F3Ax",
      "execution_count": 8,
      "outputs": []
    },
    {
      "cell_type": "code",
      "execution_count": 9,
      "id": "3c60b728-ee85-4c3d-b8ab-687b4a93f779",
      "metadata": {
        "id": "3c60b728-ee85-4c3d-b8ab-687b4a93f779"
      },
      "outputs": [],
      "source": [
        "import os\n",
        "import requests"
      ]
    },
    {
      "cell_type": "code",
      "execution_count": 11,
      "id": "c3504a27-a965-4d59-abaa-aab0f54b8bf0",
      "metadata": {
        "id": "c3504a27-a965-4d59-abaa-aab0f54b8bf0"
      },
      "outputs": [],
      "source": [
        "message = \"Hello, AI World. How are you doing?\"\n",
        "response = client.chat.completions.create(\n",
        "    model=\"gpt-4o-mini\",\n",
        "    messages=[{\"role\":\"user\", \"content\":message}\n",
        "    ]\n",
        "  )\n"
      ]
    },
    {
      "cell_type": "code",
      "execution_count": 12,
      "id": "75f4ea17-16e6-4882-ba16-b8b939a19546",
      "metadata": {
        "colab": {
          "base_uri": "https://localhost:8080/"
        },
        "id": "75f4ea17-16e6-4882-ba16-b8b939a19546",
        "outputId": "a74bff66-fd0a-4af6-a8ff-6c2a61eb0980"
      },
      "outputs": [
        {
          "output_type": "stream",
          "name": "stdout",
          "text": [
            "Hello! I'm here and ready to assist you. How can I help you today?\n"
          ]
        }
      ],
      "source": [
        "print(response.choices[0].message.content)"
      ]
    },
    {
      "cell_type": "code",
      "execution_count": 13,
      "id": "dd5af9da-5ebb-43af-9992-d4653817e1ee",
      "metadata": {
        "colab": {
          "base_uri": "https://localhost:8080/"
        },
        "id": "dd5af9da-5ebb-43af-9992-d4653817e1ee",
        "outputId": "5dd59a55-08b6-483c-bdce-7f29712ba125"
      },
      "outputs": [
        {
          "output_type": "stream",
          "name": "stdout",
          "text": [
            "Company leave policies can vary widely depending on the organization, location, and applicable labor laws. However, here are some common types of leave policies that many companies might have:\n",
            "\n",
            "1. **Annual Leave/Vacation Leave**: Paid time off that employees can take for vacation or personal reasons. Accrual rates may depend on seniority or length of service.\n",
            "\n",
            "2. **Sick Leave**: Paid or unpaid leave that employees can use when they are ill, injured, or need to care for a sick family member. Some companies may have specific policies regarding the documentation required for extended sick leave.\n",
            "\n",
            "3. **Maternity/Paternity Leave**: Leave for new parents to take care of their newborn or adopted child. This can vary in duration and may be paid or unpaid depending on the company and local laws.\n",
            "\n",
            "4. **Family Leave**: Time off related to family matters, which can include caregiving for a sick family member or attending to personal family emergencies.\n",
            "\n",
            "5. **Bereavement Leave**: Time off granted to employees following the death of a family member or loved one. Duration may vary, but it is typically a few days.\n",
            "\n",
            "6. **Public Holidays**: Paid leave on recognized public or national holidays. Some companies may offer to pay for holidays that fall on days off.\n",
            "\n",
            "7. **Personal Leave**: Unpaid or paid leave for personal reasons that do not fall under the other categories. This can include mental health days or time for personal matters.\n",
            "\n",
            "8. **Leave of Absence**: A more extended period off work for various reasons, which may be unpaid or partially paid. This can encompass medical leave, educational leave, or other personal reasons.\n",
            "\n",
            "9. **Jury Duty Leave**: Time off granted to employees who are summoned to serve on a jury, with policies on whether this leave is paid or unpaid.\n",
            "\n",
            "10. **Voting Leave**: Time off provided to allow employees to vote in elections, depending on local legislation.\n",
            "\n",
            "11. **Military Leave**: Leave for employees who serve in the armed forces or are called to active duty, with specific protections under laws like the Uniformed Services Employment and Reemployment Rights Act (USERRA) in the U.S.\n",
            "\n",
            "It's important for employees to review their specific company's employee handbook or HR policies to understand the details related to leave entitlements, requirements, and processes for requesting time off.\n"
          ]
        }
      ],
      "source": [
        "message = \"What are company's leave policies?\"\n",
        "response = client.chat.completions.create(\n",
        "    model=\"gpt-4o-mini\",\n",
        "    messages=[{\"role\":\"user\", \"content\":message}\n",
        "    ]\n",
        "  )\n",
        "print(response.choices[0].message.content)"
      ]
    },
    {
      "cell_type": "markdown",
      "id": "60f863ad-9219-4e96-85b8-8c9c0c511f63",
      "metadata": {
        "id": "60f863ad-9219-4e96-85b8-8c9c0c511f63"
      },
      "source": [
        "###**Add a System Role**"
      ]
    },
    {
      "cell_type": "code",
      "execution_count": 14,
      "id": "ee79a5ea-2eb5-4c2b-8fbf-40fa21e1613f",
      "metadata": {
        "id": "ee79a5ea-2eb5-4c2b-8fbf-40fa21e1613f"
      },
      "outputs": [],
      "source": [
        "system_message = \"\"\"\n",
        "You are an AI assistant specialized in solving riddles.\n",
        "Given a riddle, solve it the best you can.\n",
        "Provide a clear justification of your answer and the reasoning behind it.\n",
        "Riddle:\n",
        "\"\"\""
      ]
    },
    {
      "cell_type": "code",
      "execution_count": 15,
      "id": "a0054680-f4ff-44c6-a68c-e314ba455f5d",
      "metadata": {
        "id": "a0054680-f4ff-44c6-a68c-e314ba455f5d"
      },
      "outputs": [],
      "source": [
        "riddle = \"\"\"\n",
        "What has a face and two hands, but no arms or legs?\n",
        "\"\"\""
      ]
    },
    {
      "cell_type": "code",
      "execution_count": 16,
      "id": "e403aa41-2aae-4a47-b3ad-eea5217ecb51",
      "metadata": {
        "id": "e403aa41-2aae-4a47-b3ad-eea5217ecb51"
      },
      "outputs": [],
      "source": [
        "response = client.chat.completions.create(\n",
        "    model=\"gpt-4o-mini\",\n",
        "    messages=[{\"role\": \"system\", \"content\": system_message},\n",
        "              {\"role\":\"user\", \"content\":riddle}\n",
        "    ]\n",
        ")"
      ]
    },
    {
      "cell_type": "code",
      "execution_count": 17,
      "id": "70fa3144-a73e-48c3-9b1b-8ad923494d46",
      "metadata": {
        "colab": {
          "base_uri": "https://localhost:8080/"
        },
        "id": "70fa3144-a73e-48c3-9b1b-8ad923494d46",
        "outputId": "a2d2e7e0-aebf-4afa-df2b-165958276761"
      },
      "outputs": [
        {
          "output_type": "stream",
          "name": "stdout",
          "text": [
            "The answer to the riddle \"What has a face and two hands, but no arms or legs?\" is a clock.\n",
            "\n",
            "Justification and reasoning:\n",
            "1. **Face**: A clock has a \"face,\" which is the part where the time is displayed, generally featuring numbers and possibly other markings.\n",
            "2. **Two hands**: A clock has two \"hands\"—the hour hand and the minute hand—used to indicate the time.\n",
            "3. **No arms or legs**: Unlike a human or animal, a clock does not have any limbs; it simply has the face and hands.\n",
            "\n",
            "This combination of attributes makes a clock a fitting answer to the riddle.\n"
          ]
        }
      ],
      "source": [
        "print(response.choices[0].message.content)"
      ]
    },
    {
      "cell_type": "markdown",
      "id": "9a246ccf-d4c1-4d23-a3c6-2807c6f4194a",
      "metadata": {
        "id": "9a246ccf-d4c1-4d23-a3c6-2807c6f4194a"
      },
      "source": [
        "###**Update the System Role to make it aware of HR Assisant and give context of Leave Policies**"
      ]
    },
    {
      "cell_type": "code",
      "execution_count": 18,
      "id": "000372f1-1e04-4c45-ad87-74d7a639560c",
      "metadata": {
        "id": "000372f1-1e04-4c45-ad87-74d7a639560c"
      },
      "outputs": [],
      "source": [
        "system_message = \"\"\"\n",
        "You are an HR assistant specialise in solving employees queries.\n",
        "\"\"\""
      ]
    },
    {
      "cell_type": "code",
      "execution_count": 19,
      "id": "9beea75a-f4a4-4536-a12d-5d4aa683637f",
      "metadata": {
        "id": "9beea75a-f4a4-4536-a12d-5d4aa683637f"
      },
      "outputs": [],
      "source": [
        "leave_polices=\"\"\"\n",
        "# Leave Policies\n",
        "- **Annual Leave:** 18 days of paid leave per year, accrued monthly.\n",
        "- **Sick Leave:** 12 days of paid leave for medical reasons per year.\n",
        "- **Maternity Leave:** 6 months of paid leave for expecting mothers.\n",
        "- **Paternity Leave:** 15 days of paid leave for new fathers.L\n",
        "- **Compensatory Leave:** Leave granted for working on weekends or holidays.\n",
        "\"\"\""
      ]
    },
    {
      "cell_type": "code",
      "execution_count": 20,
      "id": "72703564-2d5d-4120-aac1-5faa8f590789",
      "metadata": {
        "colab": {
          "base_uri": "https://localhost:8080/"
        },
        "id": "72703564-2d5d-4120-aac1-5faa8f590789",
        "outputId": "7325917c-e479-4d60-92b4-c182bbefe2f1"
      },
      "outputs": [
        {
          "output_type": "stream",
          "name": "stdout",
          "text": [
            "From the HR portal company's policies are \n",
            "# Leave Policies\n",
            "- **Annual Leave:** 18 days of paid leave per year, accrued monthly.\n",
            "- **Sick Leave:** 12 days of paid leave for medical reasons per year.\n",
            "- **Maternity Leave:** 6 months of paid leave for expecting mothers.\n",
            "- **Paternity Leave:** 15 days of paid leave for new fathers.L\n",
            "- **Compensatory Leave:** Leave granted for working on weekends or holidays.\n",
            "\n",
            " What are company's leave policies? please summarize is paragraph \n",
            "\n",
            "\n"
          ]
        }
      ],
      "source": [
        "user_prompt = f\"From the HR portal company's policies are {leave_polices}\"\n",
        "user_prompt += \"\\n What are company's leave policies? please summarize is paragraph \\n\\n\"\n",
        "print(user_prompt)\n"
      ]
    },
    {
      "cell_type": "code",
      "execution_count": 21,
      "id": "788431be-7f20-4d1e-a69d-24d7cea59450",
      "metadata": {
        "id": "788431be-7f20-4d1e-a69d-24d7cea59450"
      },
      "outputs": [],
      "source": [
        "response = client.chat.completions.create(\n",
        "    model=\"gpt-4o-mini\",\n",
        "    messages=[{\"role\": \"system\", \"content\": system_message},\n",
        "              {\"role\":\"user\", \"content\":user_prompt}\n",
        "    ]\n",
        ")"
      ]
    },
    {
      "cell_type": "code",
      "execution_count": 22,
      "id": "c8fb5875-738c-4ada-b238-a8c236af1d84",
      "metadata": {
        "colab": {
          "base_uri": "https://localhost:8080/"
        },
        "id": "c8fb5875-738c-4ada-b238-a8c236af1d84",
        "outputId": "b0be5dce-38f3-4bbc-c46b-fe36f033b04b"
      },
      "outputs": [
        {
          "output_type": "stream",
          "name": "stdout",
          "text": [
            "The company’s leave policies include 18 days of annual leave per year, accrued monthly, along with 12 days of paid sick leave for medical reasons. Expecting mothers are entitled to 6 months of paid maternity leave, while new fathers receive 15 days of paid paternity leave. Additionally, compensatory leave is provided for employees who work on weekends or holidays.\n"
          ]
        }
      ],
      "source": [
        "print(response.choices[0].message.content)"
      ]
    },
    {
      "cell_type": "markdown",
      "id": "c55de746-6fca-41dd-ae65-f0589542a3f4",
      "metadata": {
        "id": "c55de746-6fca-41dd-ae65-f0589542a3f4"
      },
      "source": [
        "#**Assignments**"
      ]
    },
    {
      "cell_type": "markdown",
      "id": "cf82a3f5-ae74-4711-bf6d-c8465fe20d27",
      "metadata": {
        "id": "cf82a3f5-ae74-4711-bf6d-c8465fe20d27"
      },
      "source": [
        "###**Assignment 1**\n",
        "Summarize the details about one of the employee."
      ]
    },
    {
      "cell_type": "markdown",
      "id": "46865565-613d-4071-a48e-42e6f0ede2c3",
      "metadata": {
        "id": "46865565-613d-4071-a48e-42e6f0ede2c3"
      },
      "source": [
        "###**Assignment 2**\n",
        "Following code is there to get the content of any website. Write prompt to summazize the page."
      ]
    },
    {
      "cell_type": "code",
      "execution_count": 23,
      "id": "a05deab3-2499-4016-a647-c270737c64d2",
      "metadata": {
        "id": "a05deab3-2499-4016-a647-c270737c64d2"
      },
      "outputs": [],
      "source": [
        "from bs4 import BeautifulSoup\n",
        "from IPython.display import Markdown, display"
      ]
    },
    {
      "cell_type": "code",
      "execution_count": 24,
      "id": "0e5e3574-f62b-4271-a15a-72bf7ef35947",
      "metadata": {
        "id": "0e5e3574-f62b-4271-a15a-72bf7ef35947"
      },
      "outputs": [],
      "source": [
        "# A class to represent a Webpage\n",
        "# Some websites need you to use proper headers when fetching them:\n",
        "headers = {\n",
        " \"User-Agent\": \"Mozilla/5.0 (Windows NT 10.0; Win64; x64) AppleWebKit/537.36 (KHTML, like Gecko) Chrome/117.0.0.0 Safari/537.36\"\n",
        "}\n",
        "\n",
        "class Page:\n",
        "\n",
        "    def __init__(self, url):\n",
        "        \"\"\"\n",
        "        Create this Page object from the given url using the BeautifulSoup library\n",
        "        \"\"\"\n",
        "        self.url = url\n",
        "        response = requests.get(url, headers=headers)\n",
        "        soup = BeautifulSoup(response.content, 'html.parser')\n",
        "        self.title = soup.title.string if soup.title else \"No title found\"\n",
        "        for irrelevant in soup.body([\"script\", \"style\", \"img\", \"input\"]):\n",
        "            irrelevant.decompose()\n",
        "        self.text = soup.body.get_text(separator=\"\\n\", strip=True)"
      ]
    },
    {
      "cell_type": "code",
      "execution_count": 25,
      "id": "8a92e65a-5236-499b-8daf-62292579481f",
      "metadata": {
        "id": "8a92e65a-5236-499b-8daf-62292579481f"
      },
      "outputs": [],
      "source": [
        "page = Page(\"https://www.hrdive.com/news/treat-ai-as-a-new-kind-of-talent-productivity-gains/736724/\")"
      ]
    },
    {
      "cell_type": "code",
      "execution_count": 26,
      "id": "adbb3b92-3032-4f7a-9282-87807244a69f",
      "metadata": {
        "colab": {
          "base_uri": "https://localhost:8080/"
        },
        "id": "adbb3b92-3032-4f7a-9282-87807244a69f",
        "outputId": "e32a4a20-66fb-48df-fde4-b8d1af645547"
      },
      "outputs": [
        {
          "output_type": "stream",
          "name": "stdout",
          "text": [
            "Treat AI as a new kind of talent to realize productivity gains | HR Dive\n"
          ]
        }
      ],
      "source": [
        "print(page.title)"
      ]
    },
    {
      "cell_type": "code",
      "execution_count": 27,
      "id": "d973ea63-d9f0-462d-9549-eee670f3f499",
      "metadata": {
        "colab": {
          "base_uri": "https://localhost:8080/"
        },
        "id": "d973ea63-d9f0-462d-9549-eee670f3f499",
        "outputId": "69185091-4a96-4a0d-cc93-76af307aa72a"
      },
      "outputs": [
        {
          "output_type": "stream",
          "name": "stdout",
          "text": [
            "Skip to main content\n",
            "CONTINUE TO SITE ➞\n",
            "Don't miss tomorrow's HR industry news\n",
            "Let HR Dive's free newsletter keep you informed, straight from your inbox.\n",
            "Daily Dive\n",
            "M-F\n",
            "Talent Daily\n",
            "M-F\n",
            "Compliance Weekly\n",
            "Every Monday\n",
            "Learning Weekly\n",
            "Every Tuesday\n",
            "Diversity & Inclusion Weekly\n",
            "Every Wednesday\n",
            "Compensation & Benefits Weekly\n",
            "Every Thursday\n",
            "By signing up to receive our newsletter, you agree to our\n",
            "Terms of Use\n",
            "and\n",
            "Privacy Policy\n",
            ". You can unsubscribe at anytime.\n",
            "Deep Dive\n",
            "Opinion\n",
            "Library\n",
            "Events\n",
            "Press Releases\n",
            "Topics\n",
            "Sign up\n",
            "Search\n",
            "Sign up\n",
            "Search\n",
            "Compliance\n",
            "Talent\n",
            "Learning\n",
            "Comp & Benefits\n",
            "Diversity & Inclusion\n",
            "HR Mgmt\n",
            "Tech & Analytics\n",
            "State & Local Laws\n",
            "An article from\n",
            "Opinion\n",
            "Treat AI as a new kind of talent to realize productivity gains\n",
            "Think of artificial intelligence as an intern for every employee, suggests West Monroe’s Steven Kirz.\n",
            "Published Jan. 17, 2025\n",
            "By\n",
            "Steven Kirz\n",
            "post\n",
            "share\n",
            "post\n",
            "print\n",
            "email\n",
            "Tirachard via Getty Images\n",
            "This audio is auto-generated. Please let us know if you have\n",
            "feedback\n",
            ".\n",
            "Steven Kirz is an operational excellence senior partner at West Monroe.\n",
            "Just about every business has felt the pressure to adopt artificial intelligence, including generative artificial intelligence. But a majority of executives are still waiting to see the efficiency, productivity and competitive advantage gains they expected: In\n",
            "one study\n",
            ", 42% of companies said they have yet to see a significant return on their AI investments.\n",
            "Many executives attribute AI's shortcomings to its complexity, leading them to question whether it's over-hyped. But a clear pattern emerges when comparing successes and failures: Companies that treat AI as just another technology — tasking IT or external providers with implementation — often miss its true potential. However, those that treat AI as a new kind of talent discover possibilities far beyond what a conventional tech mindset can achieve.\n",
            "AI is part of the talent ecosystem\n",
            "Companies have four talent options for performing work: employees, contract labor, outsourced labor and AI technologies. Maximizing efficiency and productivity requires aligning roles and activities with the talent type most appropriate for performing them. When done effectively, this produces material cost savings, as well as higher customer and employee satisfaction.\n",
            "Companies that approach AI as a technology typically attempt to replace human talent, resulting in poor adoption and disappointing results. Companies that recognize AI as a talent type — one that improves talent efficiency at the task level, making all other talent types more productive — enjoy solid adoption of AI and learn to rely upon employees to identify and implement high-impact use cases within their areas of expertise.\n",
            "Think of AI as an intern for every employee\n",
            "We find the intern metaphor helps executives begin to see and appreciate AI as a type of talent. Anyone can be more productive with the assistance of an intern — particularly this unique “intern” that has access to all human history’s knowledge, has a perfect memory, keeps getting better and will be at your employee’s side during their entire career.\n",
            "The AI “intern” performs tasks the employee could have done but that would have consumed valuable time: perform research, summarize meeting notes and outcomes, synthesize key points from several dozen interviews or develop an initial test script for a new application based on business requirements.\n",
            "The employee still has to check and fine-tune the intern’s work. But because there’s “someone” to do the busy work, the employee can focus on more valuable tasks.\n",
            "Training is the key to adoption and employee fulfillment\n",
            "Today, many companies provide their workforce with a secure AI chat tool and have a governance model and controls to guide its use.\n",
            "But to create the impact (real benefits) equivalent to giving employees an intern for life, it’s not enough to make the tool available. Companies must invest in training employees\n",
            "how\n",
            "to use AI chat effectively. That means changing the way employees think and solve problems, aided by AI.\n",
            "Train people to be prompt engineers.\n",
            "Prompt engineering is a fancy term for a simple skill — the ability to ask detailed questions of a large language model in such a way that the model returns accurate, meaningful output.\n",
            "In leading companies, prompt engineering is as important a skill as PowerPoint or Excel. Imagine trying to develop an important presentation without sufficient PowerPoint training. You’d spend all of your time formatting it and little time on the content.\n",
            "As with those other common business tools, it takes time for people to get good at prompt engineering. There are best practices to master — for example, phrasing questions clearly, identifying personas and being specific about the format in which to receive information.\n",
            "Good prompts can be lengthy and take time to develop, but when done well the output far outweighs the effort. From experience training our own teams at West Monroe, we’ve seen measurable productivity, efficiency, speed and accuracy gains within six months. People begin to apply AI to perform their activities faster and come up with new ideas to improve efficiency across the value chain. That means the sooner you get everyone proficient in prompt engineering, the sooner you will see benefits.\n",
            "Trust your employees to unlock value once you train them.\n",
            "Trained employees are the best judges of how to use AI to be more productive in their own roles. How big is the potential? According to the\n",
            "Stanford Digital Economy Lab\n",
            ", 80% of today’s workers can use AI to help with 10% of tasks, while about 20% of workers can use it to help with 50% of tasks. As people become comfortable and proficient, they will find more and more ways to use AI in their roles.\n",
            "Trained employees are also your organization’s best source of new ideas for using AI to improve processes — so lean into that. My team has monthly discussions to share prompts that people have found particularly effective. And my company recently\n",
            "held a contest\n",
            "to surface innovative AI use cases and celebrate ideas that are now helping us run better.\n",
            "Encourage training to boost fulfillment.\n",
            "Actively encouraging proficiency will also elevate your employee value proposition. There is more AI coming. Employees who feel you are investing in their training and who recognize how AI is making them more productive are more likely to adopt AI and create value faster.\n",
            "Instead of measuring reduced cost, learn to measure the value of improved experience.\n",
            "This brings us to measurement. So far, the focus has often been on how AI can cut costs — a straightforward but narrow metric. What's less explored is its potential to enhance productivity, customer satisfaction, employee fulfillment and time-to-market — broader measures of success tied to experience. While these are harder to quantify, learning to measure them is essential to fully realize the value of AI as a vital part of the talent ecosystem.\n",
            "HR’s strategic role in making the most of AI’s potential\n",
            "AI is a great leveler of expertise across the talent ecosystem. It will continue to evolve and get smarter, improving the productivity of all other talent types, thus continuously changing the optimal talent mix. While no one part of the organization owns or is responsible for all talent, HR is in the unique position of understanding how to use AI to maximize the potential of all talent types to meet strategic goals — and to lead the mindset change of AI as talent instead of tech to unlock unprecedented levels of productivity.\n",
            "Filed Under:\n",
            "Talent\n",
            "HR Dive news delivered to your inbox\n",
            "Get the free daily newsletter read by industry experts\n",
            "Email:\n",
            "Select Newsletter:\n",
            "Select Newsletter:\n",
            "Select Newsletter:\n",
            "Select Newsletter:\n",
            "Select Newsletter:\n",
            "Select Newsletter:\n",
            "Select user consent:\n",
            "Sign up\n",
            "A valid email address is required.\n",
            "Please select at least one newsletter.\n",
            "Editors' picks\n",
            "Permission granted by Gensler\n",
            "RTO is going poorly. How can HR smooth the process?\n",
            "Organizations need to start with the basics — like access cards and working internet — to make sure employees have a good experience, experts said.\n",
            "By Kathryn Moody •\n",
            "May 5, 2025\n",
            "David Ryder via Getty Images\n",
            "‘I can’t find any help’: Employers scramble to solve worker shortages caused by immigration crackdowns\n",
            "President Donald Trump recently said the government would seek to let some undocumented persons return to the country “if they’re good,” but he was scant on details.\n",
            "By Ryan Golden •\n",
            "April 28, 2025\n",
            "Keep up with the story. Subscribe to the HR Dive free daily newsletter\n",
            "Email:\n",
            "Select Newsletter:\n",
            "Select Newsletter:\n",
            "Select Newsletter:\n",
            "Select Newsletter:\n",
            "Select Newsletter:\n",
            "Select Newsletter:\n",
            "Select user consent:\n",
            "Sign up\n",
            "A valid email address is required.\n",
            "Please select at least one newsletter.\n",
            "Get the free newsletter\n",
            "Subscribe to HR Dive for top news, trends & analysis\n",
            "Email:\n",
            "Select Newsletter:\n",
            "Select Newsletter:\n",
            "Select Newsletter:\n",
            "Select Newsletter:\n",
            "Select Newsletter:\n",
            "Select Newsletter:\n",
            "Select user consent:\n",
            "Sign up\n",
            "A valid email address is required.\n",
            "Please select at least one newsletter.\n",
            "Most Popular\n",
            "Employers are ditching remote work. Experts worry that’s shortsighted.\n",
            "Judge allows Workday AI bias lawsuit to proceed as collective action\n",
            "Randstad: Employees appear more likely to make trade-offs as bargaining power weakens\n",
            "Labor market could face a ‘white-collar recession,’ report finds\n",
            "Library resources\n",
            "Webinar - on demand\n",
            "Designing Tomorrow’s Reproductive Health Benefits: Drive Lasting Change With Insights From Maven’s Annual Report\n",
            "Custom content for\n",
            "Maven Clinic\n",
            "Virtual Event Playback\n",
            "How HR leaders can navigate a year of change\n",
            "Webinar - on demand\n",
            "Fast-Tracking Hospitality Hiring: Strategies to Reduce Candidate Drop Off\n",
            "Custom content for\n",
            "Checkr\n",
            "View all\n",
            "Company Announcements\n",
            "View all\n",
            "|\n",
            "Post a press release\n",
            "What We're Reading\n",
            "Slate\n",
            "The Bargain of Working Hard and Getting a Job Simply Doesn’t Hold Anymore\n",
            "Seattle Times\n",
            "Amazon claims warehouses are getting safer. Critics say progress is too slow\n",
            "Higher Ed Dive\n",
            "Colleges could be targeted anew under fraud law, DOJ says\n",
            "View all\n",
            "Events\n",
            "04\n",
            "JUN\n",
            "Webinar\n",
            "                            \n",
            "                                \n",
            "                                    | 2 p.m. ET\n",
            "Fast-Tracking Hospitality Hiring: Strategies to Reduce Candidate Drop Off\n",
            "Presented by studioID and Checkr\n",
            "11\n",
            "JUN\n",
            "Webinar\n",
            "                            \n",
            "                                \n",
            "                                    | 2 p.m. ET\n",
            "The Hidden Link: How Financial Wellness Fuels Mental Health at Work\n",
            "Presented by studioID and SmartDollar\n",
            "Promote an event\n",
            "Industry Intel\n",
            "How EMO paves the way for better health outcomes\n",
            "Webinar - on demand\n",
            "•\n",
            "Provided by 2nd.MD by Accolade\n",
            "Bridging the AI and Personalization Gap in Healthcare\n",
            "Webinar - on demand\n",
            "•\n",
            "Provided by XP Health\n",
            "Embracing Discomfort: Navigating Growth Through Challenges\n",
            "Webinar - on demand\n",
            "•\n",
            "Provided by Gallagher\n",
            "HR Dive news delivered to your inbox\n",
            "Get the free daily newsletter read by industry experts\n",
            "Email:\n",
            "Select Newsletter:\n",
            "Select Newsletter:\n",
            "Select Newsletter:\n",
            "Select Newsletter:\n",
            "Select Newsletter:\n",
            "Select Newsletter:\n",
            "Select user consent:\n",
            "Sign up\n",
            "A valid email address is required.\n",
            "Please select at least one newsletter.\n",
            "Company Announcements\n",
            "View all\n",
            "|\n",
            "Post a press release\n",
            "Remote Expands AI-Driven Payroll to 100+ Countries, Giving Teams a Faster, Smarter Way to Pay …\n",
            "From Remote\n",
            "May 06, 2025\n",
            "CuraLinc Healthcare Partners with Joshin to Expand Disability and Neurodivergent Support\n",
            "From CuraLinc Healthcare\n",
            "May 14, 2025\n",
            "CuraLinc Healthcare Acquires CorpCare, Expanding Its Presence in the Southeastern Market\n",
            "From CuraLinc Healthcare\n",
            "May 06, 2025\n",
            "Go1 Announces Rebrand And New Product Suite\n",
            "From Go1\n",
            "May 14, 2025\n",
            "Editors' picks\n",
            "Permission granted by Gensler\n",
            "RTO is going poorly. How can HR smooth the process?\n",
            "Organizations need to start with the basics — like access cards and working internet — to make sure employees have a good experience, experts said.\n",
            "By Kathryn Moody •\n",
            "May 5, 2025\n",
            "David Ryder via Getty Images\n",
            "‘I can’t find any help’: Employers scramble to solve worker shortages caused by immigration crackdowns\n",
            "President Donald Trump recently said the government would seek to let some undocumented persons return to the country “if they’re good,” but he was scant on details.\n",
            "By Ryan Golden •\n",
            "April 28, 2025\n",
            "Latest in Talent\n",
            "Few companies feel effective at skill validation, survey shows\n",
            "By Carolyn Crist\n",
            "9 in 10 companies lack ‘future-ready’ talent strategies, Adecco says\n",
            "By Laurel Kalser\n",
            "Among those in skilled trades, high hopes for a renewed focus on apprenticeships\n",
            "By Benton Graham\n",
            "ICYMI: 4 stories from Workhuman 2025\n",
            "By Emilie Shumway\n",
            "Explore\n",
            "About\n",
            "Editorial Team\n",
            "Contact Us\n",
            "Newsletter\n",
            "Purchase Licensing Rights\n",
            "Press Releases\n",
            "What We're Reading\n",
            "Reach our audience\n",
            "Advertising\n",
            "Post a press release\n",
            "Submit an opinion piece\n",
            "Promote an event\n",
            "Related Publications\n",
            "CFO Dive\n",
            "Marketing Dive\n",
            "Industry Dive is an Informa TechTarget business.\n",
            "© 2025 TechTarget, Inc. or its subsidiaries. All rights reserved. | View our\n",
            "other publications\n",
            "|\n",
            "Privacy policy\n",
            "|\n",
            "Terms of use\n",
            "|\n",
            "Take down policy\n",
            ".\n",
            "Cookie Preferences / Do Not Sell\n",
            "This website is owned and operated by Informa TechTarget, part of a global network that informs, influences and connects the world's technology buyers and sellers. All copyright resides with them. Informa PLC's registered office is 5 Howick Place, London SW1P 1WG. Registered in England and Wales. TechTarget, Inc.'s registered office is 275 Grove St. Newton, MA 02466.\n",
            "Search\n",
            "Home\n",
            "Topics\n",
            "Compliance\n",
            "Talent\n",
            "Learning\n",
            "Comp & Benefits\n",
            "Diversity & Inclusion\n",
            "HR Mgmt\n",
            "Tech & Analytics\n",
            "State & Local Laws\n",
            "Deep Dive\n",
            "Opinion\n",
            "Library\n",
            "Events\n",
            "Press Releases\n",
            "Get HR Dive in your inbox\n",
            "The free newsletter covering the top industry headlines\n",
            "Email:\n",
            "Select Newsletter:\n",
            "Select Newsletter:\n",
            "Select Newsletter:\n",
            "Select Newsletter:\n",
            "Select Newsletter:\n",
            "Select Newsletter:\n",
            "Select user consent:\n",
            "Sign up\n",
            "A valid email address is required.\n",
            "Please select at least one newsletter.\n"
          ]
        }
      ],
      "source": [
        "print(page.text)"
      ]
    },
    {
      "cell_type": "markdown",
      "id": "0d327621-56a7-4d86-83ed-0414014a6df7",
      "metadata": {
        "id": "0d327621-56a7-4d86-83ed-0414014a6df7"
      },
      "source": [
        "###**Now Summarize the Page**"
      ]
    }
  ],
  "metadata": {
    "kernelspec": {
      "display_name": "Python 3 (ipykernel)",
      "language": "python",
      "name": "python3"
    },
    "language_info": {
      "codemirror_mode": {
        "name": "ipython",
        "version": 3
      },
      "file_extension": ".py",
      "mimetype": "text/x-python",
      "name": "python",
      "nbconvert_exporter": "python",
      "pygments_lexer": "ipython3",
      "version": "3.11.11"
    },
    "colab": {
      "provenance": []
    }
  },
  "nbformat": 4,
  "nbformat_minor": 5
}
