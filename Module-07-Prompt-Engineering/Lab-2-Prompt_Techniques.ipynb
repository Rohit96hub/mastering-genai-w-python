{
  "cells": [
    {
      "cell_type": "markdown",
      "id": "e260314b-7e83-4d94-b0ae-fd025f82043c",
      "metadata": {
        "id": "e260314b-7e83-4d94-b0ae-fd025f82043c"
      },
      "source": [
        "#**Explore different Prompting Techniques**"
      ]
    },
    {
      "cell_type": "markdown",
      "id": "70e2364a-4139-4360-bd93-b4494a478cac",
      "metadata": {
        "id": "70e2364a-4139-4360-bd93-b4494a478cac"
      },
      "source": [
        "###**Downloads the `hrdataset.zip` file from the CloudYuga GitHub repo**\n",
        "\n",
        "Saves it in the current working directory of notebook\n",
        "\n",
        "(e.g., /content/ in Google Colab)."
      ]
    },
    {
      "cell_type": "code",
      "source": [
        "!wget https://github.com/cloudyuga/mastering-genai-w-python/raw/refs/heads/main/hrdataset.zip"
      ],
      "metadata": {
        "colab": {
          "base_uri": "https://localhost:8080/"
        },
        "collapsed": true,
        "id": "hsYIfN7CLKDy",
        "outputId": "091c4ec1-03b5-4842-9411-4b922e08b49d"
      },
      "id": "hsYIfN7CLKDy",
      "execution_count": null,
      "outputs": [
        {
          "output_type": "stream",
          "name": "stdout",
          "text": [
            "--2025-05-26 17:07:23--  https://github.com/cloudyuga/mastering-genai-w-python/raw/refs/heads/main/hrdataset.zip\n",
            "Resolving github.com (github.com)... 140.82.116.4\n",
            "Connecting to github.com (github.com)|140.82.116.4|:443... connected.\n",
            "HTTP request sent, awaiting response... 302 Found\n",
            "Location: https://raw.githubusercontent.com/cloudyuga/mastering-genai-w-python/refs/heads/main/hrdataset.zip [following]\n",
            "--2025-05-26 17:07:23--  https://raw.githubusercontent.com/cloudyuga/mastering-genai-w-python/refs/heads/main/hrdataset.zip\n",
            "Resolving raw.githubusercontent.com (raw.githubusercontent.com)... 185.199.108.133, 185.199.109.133, 185.199.110.133, ...\n",
            "Connecting to raw.githubusercontent.com (raw.githubusercontent.com)|185.199.108.133|:443... connected.\n",
            "HTTP request sent, awaiting response... 200 OK\n",
            "Length: 9530 (9.3K) [application/zip]\n",
            "Saving to: ‘hrdataset.zip’\n",
            "\n",
            "hrdataset.zip       100%[===================>]   9.31K  --.-KB/s    in 0s      \n",
            "\n",
            "2025-05-26 17:07:24 (85.5 MB/s) - ‘hrdataset.zip’ saved [9530/9530]\n",
            "\n"
          ]
        }
      ]
    },
    {
      "cell_type": "markdown",
      "source": [
        "###**Unzip `hrdataset.zip` file**\n",
        "- It will automatically create **`hrdataset`** folder in our current working directory (/content/ in Google Colab)"
      ],
      "metadata": {
        "id": "v5Kh-YC8Lc6S"
      },
      "id": "v5Kh-YC8Lc6S"
    },
    {
      "cell_type": "code",
      "source": [
        "!unzip hrdataset.zip"
      ],
      "metadata": {
        "colab": {
          "base_uri": "https://localhost:8080/"
        },
        "collapsed": true,
        "id": "90lHaURHLh4-",
        "outputId": "18b78998-bdf3-4bb4-8d15-8ca1b8a9c170"
      },
      "id": "90lHaURHLh4-",
      "execution_count": null,
      "outputs": [
        {
          "output_type": "stream",
          "name": "stdout",
          "text": [
            "Archive:  hrdataset.zip\n",
            "   creating: hrdataset/\n",
            "   creating: hrdataset/policies/\n",
            "  inflating: hrdataset/policies/leave_policies.md  \n",
            "  inflating: hrdataset/policies/training_and_development.md  \n",
            "  inflating: hrdataset/policies/employee_benefits.md  \n",
            "  inflating: hrdataset/policies/holiday_calendar.md  \n",
            "  inflating: hrdataset/policies/events_calendar.md  \n",
            "   creating: hrdataset/surveys/\n",
            "  inflating: hrdataset/surveys/Employee_Culture_Survey_Responses.csv  \n",
            "   creating: hrdataset/employees/\n",
            "  inflating: hrdataset/employees/108_Rajesh_Kulkarni.md  \n",
            "  inflating: hrdataset/employees/106_Neha_Malhotra.md  \n",
            "  inflating: hrdataset/employees/103_Anjali_Das.md  \n",
            "  inflating: hrdataset/employees/105_Sunita_Patil.md  \n",
            "  inflating: hrdataset/employees/101_Priya_Sharma.md  \n",
            "  inflating: hrdataset/employees/102_Rohit_Mehra.md  \n",
            "  inflating: hrdataset/employees/104_Karan_Kapoor.md  \n",
            "  inflating: hrdataset/employees/109_Meera_Iyer.md  \n",
            "  inflating: hrdataset/employees/110_Aditya_Jain.md  \n",
            "  inflating: hrdataset/employees/107_Amit_Verma.md  \n",
            "  inflating: hrdataset/employees/payroll_information.md  \n"
          ]
        }
      ]
    },
    {
      "cell_type": "markdown",
      "source": [
        "###**Read data from dataset**"
      ],
      "metadata": {
        "id": "Fw_Y_lu_oPMk"
      },
      "id": "Fw_Y_lu_oPMk"
    },
    {
      "cell_type": "code",
      "execution_count": null,
      "id": "d3c29f60-fd82-42a8-b948-b3fe68e716c9",
      "metadata": {
        "id": "d3c29f60-fd82-42a8-b948-b3fe68e716c9"
      },
      "outputs": [],
      "source": [
        "employee_files_path = \"hrdataset/employees\""
      ]
    },
    {
      "cell_type": "code",
      "execution_count": null,
      "id": "6f4ac93a-fca9-4ffa-9fb3-db842e887e0f",
      "metadata": {
        "id": "6f4ac93a-fca9-4ffa-9fb3-db842e887e0f"
      },
      "outputs": [],
      "source": [
        "import os"
      ]
    },
    {
      "cell_type": "code",
      "execution_count": null,
      "id": "e1cc290c-c01a-4bab-b0a7-f27e30f14d34",
      "metadata": {
        "id": "e1cc290c-c01a-4bab-b0a7-f27e30f14d34"
      },
      "outputs": [],
      "source": [
        "def read_markdown_files(directory):\n",
        "    \"\"\"Read and load content from all Markdown files in a directory.\"\"\"\n",
        "    documents = []\n",
        "    for filename in os.listdir(directory):\n",
        "        if filename.endswith(\".md\"):\n",
        "            filepath = os.path.join(directory, filename)\n",
        "            with open(filepath, 'r', encoding='utf-8') as f:\n",
        "                documents.append({\"filename\": filename, \"content\": f.read()})\n",
        "    return documents"
      ]
    },
    {
      "cell_type": "code",
      "execution_count": null,
      "id": "5710a1c2-0aad-47bb-a6c4-76090170c2a1",
      "metadata": {
        "id": "5710a1c2-0aad-47bb-a6c4-76090170c2a1"
      },
      "outputs": [],
      "source": [
        "employee_docs = read_markdown_files(employee_files_path)"
      ]
    },
    {
      "cell_type": "code",
      "execution_count": null,
      "id": "7edf32b1-e732-4a7a-b2da-d9434134c51a",
      "metadata": {
        "colab": {
          "base_uri": "https://localhost:8080/"
        },
        "id": "7edf32b1-e732-4a7a-b2da-d9434134c51a",
        "outputId": "07e13da1-5045-4626-f66f-551af19f41da"
      },
      "outputs": [
        {
          "output_type": "execute_result",
          "data": {
            "text/plain": [
              "list"
            ]
          },
          "metadata": {},
          "execution_count": 9
        }
      ],
      "source": [
        "type(employee_docs)"
      ]
    },
    {
      "cell_type": "code",
      "execution_count": null,
      "id": "84b76c5d-07de-431f-a620-44c7aee7c0c5",
      "metadata": {
        "colab": {
          "base_uri": "https://localhost:8080/"
        },
        "id": "84b76c5d-07de-431f-a620-44c7aee7c0c5",
        "outputId": "f4ba408b-b346-4ff5-af69-ed279b6c392c"
      },
      "outputs": [
        {
          "output_type": "execute_result",
          "data": {
            "text/plain": [
              "{'filename': '107_Amit_Verma.md',\n",
              " 'content': '# Employee Profile: Amit Verma\\n\\n## Basic Information\\n- **Employee ID:** 107\\n- **Name:** Amit Verma\\n- **Role:** CEO\\n- **Department:** Executive\\n- **Manager:** -\\n- **Contact:** +91-1234567890\\n- **Joining Date:** 2016-02-01\\n- **Date of Birth:** 1975-06-15\\n- **Hobbies:** Golf, Reading\\n\\n## Performance Ratings\\n- **2019:** 5.0\\n- **2020:** 5.0\\n- **2021:** 5.0\\n- **2022:** 5.0\\n\\n## Onboarding Status\\n- N/A\\n'}"
            ]
          },
          "metadata": {},
          "execution_count": 10
        }
      ],
      "source": [
        "employee_docs[1]"
      ]
    },
    {
      "cell_type": "markdown",
      "id": "4c0c5926-007a-40de-a1c8-517832981a18",
      "metadata": {
        "id": "4c0c5926-007a-40de-a1c8-517832981a18"
      },
      "source": [
        "###**Zero-Shot Prompting**\n",
        "####**Objective:** Directly query the LLM without providing any additional context or examples.\n",
        "\n",
        "**Scenario:** Ask the LLM to summarize an employee's details without providing any examples."
      ]
    },
    {
      "cell_type": "code",
      "execution_count": null,
      "id": "cbe60da3-9bde-4f7d-93d5-7d321b3a2455",
      "metadata": {
        "id": "cbe60da3-9bde-4f7d-93d5-7d321b3a2455"
      },
      "outputs": [],
      "source": [
        "system_message = \"\"\"\n",
        "You are an HR assistant specialise in solving employees queries.\n",
        "\"\"\""
      ]
    },
    {
      "cell_type": "code",
      "execution_count": null,
      "id": "e5e9adfa-7381-4063-89a9-2a8a16819db4",
      "metadata": {
        "id": "e5e9adfa-7381-4063-89a9-2a8a16819db4"
      },
      "outputs": [],
      "source": [
        "def build_user_message(query):\n",
        "    user_message = f\"Here is the details about all the employees {employee_docs}\"\n",
        "    user_message += f\"\\n now generate answer for query {query}\"\n",
        "    return user_message\n",
        "\n"
      ]
    },
    {
      "cell_type": "code",
      "execution_count": null,
      "id": "acc9a45a-8044-4cc6-9e24-fa9df2d936d4",
      "metadata": {
        "id": "acc9a45a-8044-4cc6-9e24-fa9df2d936d4"
      },
      "outputs": [],
      "source": [
        "user_message = build_user_message(\"Who is priya\")"
      ]
    },
    {
      "cell_type": "code",
      "execution_count": null,
      "id": "bc505033-8427-44fe-af1f-b6a7317964c3",
      "metadata": {
        "colab": {
          "base_uri": "https://localhost:8080/"
        },
        "id": "bc505033-8427-44fe-af1f-b6a7317964c3",
        "outputId": "970cdfa0-43fe-4aea-e9bf-9e90eb8889a1"
      },
      "outputs": [
        {
          "output_type": "stream",
          "name": "stdout",
          "text": [
            "Here is the details about all the employees [{'filename': '108_Rajesh_Kulkarni.md', 'content': '# Employee Profile: Rajesh Kulkarni\\n\\n## Basic Information\\n- **Employee ID:** 108\\n- **Name:** Rajesh Kulkarni\\n- **Role:** CTO\\n- **Department:** Executive\\n- **Manager:** Amit Verma\\n- **Contact:** +91-9087654321\\n- **Joining Date:** 2017-11-15\\n- **Date of Birth:** 1980-08-20\\n- **Hobbies:** Traveling, Painting\\n\\n## Performance Ratings\\n- **2019:** 4.9\\n- **2020:** 4.8\\n- **2021:** 5.0\\n- **2022:** 4.9\\n\\n## Onboarding Status\\n- N/A\\n'}, {'filename': '107_Amit_Verma.md', 'content': '# Employee Profile: Amit Verma\\n\\n## Basic Information\\n- **Employee ID:** 107\\n- **Name:** Amit Verma\\n- **Role:** CEO\\n- **Department:** Executive\\n- **Manager:** -\\n- **Contact:** +91-1234567890\\n- **Joining Date:** 2016-02-01\\n- **Date of Birth:** 1975-06-15\\n- **Hobbies:** Golf, Reading\\n\\n## Performance Ratings\\n- **2019:** 5.0\\n- **2020:** 5.0\\n- **2021:** 5.0\\n- **2022:** 5.0\\n\\n## Onboarding Status\\n- N/A\\n'}, {'filename': '109_Meera_Iyer.md', 'content': '# Employee Profile: Meera Iyer\\n\\n## Basic Information\\n- **Employee ID:** 109\\n- **Name:** Meera Iyer\\n- **Role:** Marketing Manager\\n- **Department:** Marketing\\n- **Manager:** Amit Verma\\n- **Contact:** +91-9988998877\\n- **Joining Date:** 2020-02-20\\n- **Date of Birth:** 1990-12-10\\n- **Hobbies:** Writing, Yoga\\n\\n## Performance Ratings\\n- **2020:** 4.7\\n- **2021:** 4.8\\n- **2022:** 4.9\\n- **2023:** 4.9\\n\\n## Onboarding Status\\n- N/A\\n'}, {'filename': '110_Aditya_Jain.md', 'content': '# Employee Profile: Aditya Jain\\n\\n## Basic Information\\n- **Employee ID:** 110\\n- **Name:** Aditya Jain\\n- **Role:** Senior Developer\\n- **Department:** IT\\n- **Manager:** Rajesh Kulkarni\\n- **Contact:** +91-9876765432\\n- **Joining Date:** 2019-06-10\\n- **Date of Birth:** 1989-03-05\\n- **Hobbies:** Coding, Chess\\n\\n## Performance Ratings\\n- **2019:** 4.6\\n- **2020:** 4.7\\n- **2021:** 4.8\\n- **2022:** 4.8\\n\\n## Onboarding Status\\n- N/A\\n'}, {'filename': '102_Rohit_Mehra.md', 'content': '# Employee Profile: Rohit Mehra\\n\\n## Basic Information\\n- **Employee ID:** 102\\n- **Name:** Rohit Mehra\\n- **Role:** Logistics Analyst\\n- **Department:** Logistics\\n- **Manager:** Priya Sharma\\n- **Contact:** +91-8765432109\\n- **Joining Date:** 2020-08-22\\n- **Date of Birth:** 1992-07-19\\n- **Hobbies:** Chess, Photography\\n\\n## Performance Ratings\\n- **2020:** 4.5\\n- **2021:** 4.6\\n- **2022:** 4.8\\n- **2023:** 4.7\\n\\n## Onboarding Status\\n- N/A\\n'}, {'filename': '103_Anjali_Das.md', 'content': '# Employee Profile: Anjali Das\\n\\n## Basic Information\\n- **Employee ID:** 103\\n- **Name:** Anjali Das\\n- **Role:** HR Executive\\n- **Department:** Human Resources\\n- **Manager:** Ramesh Nair\\n- **Contact:** +91-9988776655\\n- **Joining Date:** 2021-05-10\\n- **Date of Birth:** 1995-01-15\\n- **Hobbies:** Cooking, Gardening\\n\\n## Performance Ratings\\n- **2021:** 4.2\\n- **2022:** 4.3\\n- **2023:** 4.5\\n\\n## Onboarding Status\\n- N/A\\n'}, {'filename': '106_Neha_Malhotra.md', 'content': '# Employee Profile: Neha Malhotra\\n\\n## Basic Information\\n- **Employee ID:** 106\\n- **Name:** Neha Malhotra\\n- **Role:** Junior Analyst\\n- **Department:** Logistics\\n- **Manager:** Priya Sharma\\n- **Contact:** +91-6655443322\\n- **Joining Date:** 2023-07-01\\n- **Date of Birth:** 1998-03-21\\n- **Hobbies:** Singing, Blogging\\n\\n## Performance Ratings\\n\\n## Onboarding Status\\n- Orientation Completed\\n'}, {'filename': '104_Karan_Kapoor.md', 'content': '# Employee Profile: Karan Kapoor\\n\\n## Basic Information\\n- **Employee ID:** 104\\n- **Name:** Karan Kapoor\\n- **Role:** Fleet Supervisor\\n- **Department:** Logistics\\n- **Manager:** Priya Sharma\\n- **Contact:** +91-8877665544\\n- **Joining Date:** 2018-11-03\\n- **Date of Birth:** 1985-09-25\\n- **Hobbies:** Cricket, Hiking\\n\\n## Performance Ratings\\n- **2019:** 4.6\\n- **2020:** 4.7\\n- **2021:** 4.8\\n- **2022:** 4.9\\n\\n## Onboarding Status\\n- N/A\\n'}, {'filename': '101_Priya_Sharma.md', 'content': '# Employee Profile: Priya Sharma\\n\\n## Basic Information\\n- **Employee ID:** 101\\n- **Name:** Priya Sharma\\n- **Role:** Operations Manager\\n- **Department:** Operations\\n- **Manager:** Amit Verma\\n- **Contact:** +91-9876543210\\n- **Joining Date:** 2019-03-15\\n- **Date of Birth:** 1988-04-12\\n- **Hobbies:** Reading, Traveling\\n\\n## Performance Ratings\\n- **2019:** 4.8\\n- **2020:** 4.7\\n- **2021:** 4.9\\n- **2022:** 5.0\\n\\n## Onboarding Status\\n- N/A\\n'}, {'filename': 'payroll_information.md', 'content': '# Payroll Information\\n\\n| Employee ID | Name           | Salary (INR) | HRA   | Provident Fund | Tax Slab   | Payday                 |\\n|-------------|----------------|--------------|-------|----------------|------------|-----------------------|\\n| 101         | Priya Sharma   | 12,00,000    | 40%   | 12%            | 30%        | Last working day of month |\\n| 102         | Rohit Mehra    | 8,50,000     | 35%   | 12%            | 20%        | Last working day of month |\\n'}, {'filename': '105_Sunita_Patil.md', 'content': '# Employee Profile: Sunita Patil\\n\\n## Basic Information\\n- **Employee ID:** 105\\n- **Name:** Sunita Patil\\n- **Role:** Finance Executive\\n- **Department:** Finance\\n- **Manager:** Rajesh Kulkarni\\n- **Contact:** +91-7766554433\\n- **Joining Date:** 2022-01-17\\n- **Date of Birth:** 1993-11-11\\n- **Hobbies:** Painting, Running\\n\\n## Performance Ratings\\n\\n## Onboarding Status\\n- Document Submission Pending\\n'}]\n",
            " now generate answer for query Who is priya\n"
          ]
        }
      ],
      "source": [
        "print(user_message)"
      ]
    },
    {
      "cell_type": "markdown",
      "source": [
        "###**Retrive API key from Secrets and Set as an ENV**"
      ],
      "metadata": {
        "id": "DJ3S5EdRjta3"
      },
      "id": "DJ3S5EdRjta3"
    },
    {
      "cell_type": "code",
      "source": [
        "# Retrieve the API key from Colab's secrets\n",
        "from google.colab import userdata\n",
        "OPENAI_API_KEY = userdata.get('OPENAI_API_KEY')"
      ],
      "metadata": {
        "id": "2e9pCKKNjhdQ"
      },
      "execution_count": null,
      "outputs": [],
      "id": "2e9pCKKNjhdQ"
    },
    {
      "cell_type": "code",
      "source": [
        "# Set OPENAI_API_KEY as an ENV\n",
        "import os\n",
        "os.environ['OPENAI_API_KEY'] = OPENAI_API_KEY"
      ],
      "metadata": {
        "id": "kMMbhupij3sc"
      },
      "id": "kMMbhupij3sc",
      "execution_count": null,
      "outputs": []
    },
    {
      "cell_type": "code",
      "execution_count": null,
      "id": "a6f54021-df8f-4552-b07b-9c1bc9a0be7a",
      "metadata": {
        "id": "a6f54021-df8f-4552-b07b-9c1bc9a0be7a"
      },
      "outputs": [],
      "source": [
        "import requests\n",
        "from openai import OpenAI"
      ]
    },
    {
      "cell_type": "code",
      "source": [
        "openai=OpenAI()"
      ],
      "metadata": {
        "id": "piIyVENMM4dx"
      },
      "id": "piIyVENMM4dx",
      "execution_count": null,
      "outputs": []
    },
    {
      "cell_type": "code",
      "execution_count": null,
      "id": "c4aaad24-6080-466a-99ab-64f038afa93f",
      "metadata": {
        "id": "c4aaad24-6080-466a-99ab-64f038afa93f"
      },
      "outputs": [],
      "source": [
        "response = openai.chat.completions.create(\n",
        "    model=\"gpt-4o-mini\",\n",
        "    messages=[{\"role\": \"system\", \"content\": system_message},\n",
        "              {\"role\":\"user\", \"content\":user_message}\n",
        "    ]\n",
        ")"
      ]
    },
    {
      "cell_type": "code",
      "execution_count": null,
      "id": "bbd0308e-fa63-4c9b-aaab-67405e0379b4",
      "metadata": {
        "colab": {
          "base_uri": "https://localhost:8080/"
        },
        "id": "bbd0308e-fa63-4c9b-aaab-67405e0379b4",
        "outputId": "02166e42-faa5-4769-a662-3a3a3902459d"
      },
      "outputs": [
        {
          "output_type": "stream",
          "name": "stdout",
          "text": [
            "Priya Sharma is an Operations Manager in the Operations department. Here are her details:\n",
            "\n",
            "- **Employee ID:** 101\n",
            "- **Role:** Operations Manager\n",
            "- **Manager:** Amit Verma\n",
            "- **Contact:** +91-9876543210\n",
            "- **Joining Date:** 2019-03-15\n",
            "- **Date of Birth:** 1988-04-12\n",
            "- **Hobbies:** Reading, Traveling\n",
            "\n",
            "### Performance Ratings:\n",
            "- **2019:** 4.8\n",
            "- **2020:** 4.7\n",
            "- **2021:** 4.9\n",
            "- **2022:** 5.0\n",
            "\n",
            "### Onboarding Status:\n",
            "- N/A\n",
            "\n",
            "If you need any more information, feel free to ask!\n"
          ]
        }
      ],
      "source": [
        "print(response.choices[0].message.content)"
      ]
    },
    {
      "cell_type": "code",
      "execution_count": null,
      "id": "78785d1f-f6d3-47d5-a4e2-28a80da9260c",
      "metadata": {
        "id": "78785d1f-f6d3-47d5-a4e2-28a80da9260c"
      },
      "outputs": [],
      "source": [
        "user_message = build_user_message(\"Who is the Operations Manager?\")"
      ]
    },
    {
      "cell_type": "code",
      "execution_count": null,
      "id": "1ea667d6-9d99-4aea-a014-a8d6e58dbb74",
      "metadata": {
        "colab": {
          "base_uri": "https://localhost:8080/"
        },
        "id": "1ea667d6-9d99-4aea-a014-a8d6e58dbb74",
        "outputId": "f64583ec-632c-4d7a-b9d6-b466f9c988ee"
      },
      "outputs": [
        {
          "output_type": "stream",
          "name": "stdout",
          "text": [
            "The Operations Manager is Priya Sharma.\n"
          ]
        }
      ],
      "source": [
        "response = openai.chat.completions.create(\n",
        "    model=\"gpt-4o-mini\",\n",
        "    messages=[{\"role\": \"system\", \"content\": system_message},\n",
        "              {\"role\":\"user\", \"content\":user_message}\n",
        "    ]\n",
        ")\n",
        "print(response.choices[0].message.content)"
      ]
    },
    {
      "cell_type": "code",
      "execution_count": null,
      "id": "3f198f97-cfa0-4557-a831-9650f511641a",
      "metadata": {
        "id": "3f198f97-cfa0-4557-a831-9650f511641a"
      },
      "outputs": [],
      "source": [
        "user_message = build_user_message(\"When did Priya Sharma join the company?\")"
      ]
    },
    {
      "cell_type": "code",
      "execution_count": null,
      "id": "b68ece6b-a643-409d-9204-4cb22e24fdaa",
      "metadata": {
        "colab": {
          "base_uri": "https://localhost:8080/"
        },
        "id": "b68ece6b-a643-409d-9204-4cb22e24fdaa",
        "outputId": "54321662-0a29-4ffb-a35e-c302c7306845"
      },
      "outputs": [
        {
          "output_type": "stream",
          "name": "stdout",
          "text": [
            "Priya Sharma joined the company on March 15, 2019.\n"
          ]
        }
      ],
      "source": [
        "response = openai.chat.completions.create(\n",
        "    model=\"gpt-4o-mini\",\n",
        "    messages=[{\"role\": \"system\", \"content\": system_message},\n",
        "              {\"role\":\"user\", \"content\":user_message}\n",
        "    ]\n",
        ")\n",
        "print(response.choices[0].message.content)"
      ]
    },
    {
      "cell_type": "markdown",
      "id": "748afaff-aada-4479-8184-da20657f560b",
      "metadata": {
        "id": "748afaff-aada-4479-8184-da20657f560b"
      },
      "source": [
        "###**Few-Shot Prompting**\n",
        "#####**Objective:** Provide a few examples to guide the LLM's response format or logic.\n",
        "\n",
        "**Scenario:** Provide examples of summarizing employee details and then query for a specific employee."
      ]
    },
    {
      "cell_type": "code",
      "execution_count": null,
      "id": "682d9abd-4792-4b4f-99f8-42bcb531ddf8",
      "metadata": {
        "id": "682d9abd-4792-4b4f-99f8-42bcb531ddf8"
      },
      "outputs": [],
      "source": [
        "user_message = build_user_message(\"\"\"Here are examples of employee summaries:\n",
        "- Employee: Priya Sharma is the Operations Manager in Operations and joined on 2019-03-15.\n",
        "- Employee: Rohit Mehra is a Logistics Analyst in Logistics and joined on 2020-08-22.\n",
        "\n",
        "Now summarize the details of Karan Kapoor.\"\"\")"
      ]
    },
    {
      "cell_type": "code",
      "execution_count": null,
      "id": "b22c2c96-b1e1-4469-ba0d-c4e78210a83d",
      "metadata": {
        "colab": {
          "base_uri": "https://localhost:8080/"
        },
        "id": "b22c2c96-b1e1-4469-ba0d-c4e78210a83d",
        "outputId": "aa52454d-58c3-4a11-b645-d4585f689ea1"
      },
      "outputs": [
        {
          "output_type": "stream",
          "name": "stdout",
          "text": [
            "Employee: Karan Kapoor is the Fleet Supervisor in Logistics and joined on 2018-11-03.\n"
          ]
        }
      ],
      "source": [
        "response = openai.chat.completions.create(\n",
        "    model=\"gpt-4o-mini\",\n",
        "    messages=[{\"role\": \"system\", \"content\": system_message},\n",
        "              {\"role\":\"user\", \"content\":user_message}\n",
        "    ]\n",
        ")\n",
        "print(response.choices[0].message.content)"
      ]
    },
    {
      "cell_type": "markdown",
      "id": "bae44117-1017-4ad8-8843-ba5f588cd7a2",
      "metadata": {
        "id": "bae44117-1017-4ad8-8843-ba5f588cd7a2"
      },
      "source": [
        "###**Chain-of-Thought Prompting**\n",
        "#####**Objective:** Encourage the LLM to break down the reasoning process step-by-step to answer complex queries.\n",
        "\n",
        "**Scenario:** Use a multi-step question about employees or policies."
      ]
    },
    {
      "cell_type": "code",
      "execution_count": null,
      "id": "0f6a48a6-83a0-407d-ae77-481b0955c48c",
      "metadata": {
        "id": "0f6a48a6-83a0-407d-ae77-481b0955c48c"
      },
      "outputs": [],
      "source": [
        "user_message = build_user_message(\"\"\"Who has the longest tenure in the company? Think step-by-step:\n",
        "1. Identify the joining dates of all employees.\n",
        "2. Compare the dates to find the earliest joining date.\n",
        "3. Return the name of the employee with the earliest joining date.\"\"\")"
      ]
    },
    {
      "cell_type": "code",
      "execution_count": null,
      "id": "fb3ed7b1-d38c-4f0b-a8bb-a0bef16ff2a1",
      "metadata": {
        "colab": {
          "base_uri": "https://localhost:8080/"
        },
        "id": "fb3ed7b1-d38c-4f0b-a8bb-a0bef16ff2a1",
        "outputId": "3d858e0e-6e34-4dff-cd96-2d622ef37a9a"
      },
      "outputs": [
        {
          "output_type": "stream",
          "name": "stdout",
          "text": [
            "Employee: Karan Kapoor is the Fleet Supervisor in Logistics and joined on 2018-11-03.\n"
          ]
        }
      ],
      "source": [
        "response = openai.chat.completions.create(\n",
        "    model=\"gpt-4o-mini\",\n",
        "    messages=[{\"role\": \"system\", \"content\": system_message},\n",
        "              {\"role\":\"user\", \"content\":user_message}\n",
        "    ]\n",
        ")\n",
        "print(response.choices[0].message.content)"
      ]
    },
    {
      "cell_type": "markdown",
      "id": "d2ff5aba-57e8-4aaa-b917-7e83f536711b",
      "metadata": {
        "id": "d2ff5aba-57e8-4aaa-b917-7e83f536711b"
      },
      "source": [
        "###**Meta-Prompting**\n",
        "#####**Objective:** Meta prompting is when you prompt an AI to help you create better prompts. Here's a practical example:"
      ]
    },
    {
      "cell_type": "markdown",
      "source": [
        "\"I'm an HR manager who needs to write performance review feedback for my team members. I want the feedback to be constructive, specific, and motivating, but I struggle to make it personalized and actionable. The reviews should address both strengths and areas for improvement without being too harsh or too generic. Can you help me create an effective prompt template for generating performance review feedback?\""
      ],
      "metadata": {
        "id": "CZIGPy6S-_Fv"
      },
      "id": "CZIGPy6S-_Fv"
    },
    {
      "cell_type": "markdown",
      "id": "a9b0f535-39e6-4e9c-839f-17fd1726650e",
      "metadata": {
        "id": "a9b0f535-39e6-4e9c-839f-17fd1726650e"
      },
      "source": [
        "##**Assignments**"
      ]
    },
    {
      "cell_type": "markdown",
      "id": "3f587416-1b05-469b-9eb9-2ebbf807f37d",
      "metadata": {
        "id": "3f587416-1b05-469b-9eb9-2ebbf807f37d"
      },
      "source": [
        "####**Assignment 1:**"
      ]
    },
    {
      "cell_type": "markdown",
      "source": [
        "Predefine a few examples using employee data.\n",
        "\n",
        "Query the LLM for other employees using the same format."
      ],
      "metadata": {
        "id": "VC0excuynitD"
      },
      "id": "VC0excuynitD"
    },
    {
      "cell_type": "markdown",
      "id": "b6ad3a03-715f-43f9-ad57-afd41ac3d045",
      "metadata": {
        "id": "b6ad3a03-715f-43f9-ad57-afd41ac3d045"
      },
      "source": [
        "####**Assignment 2:**"
      ]
    },
    {
      "cell_type": "markdown",
      "source": [
        "Use chain-of-thought prompts to answer:\n",
        "\n",
        "\"Who has the **longest** tenure?\"\n",
        "\n",
        "\"Which department has the most employees?\""
      ],
      "metadata": {
        "id": "WwfamO7gnrbw"
      },
      "id": "WwfamO7gnrbw"
    },
    {
      "cell_type": "markdown",
      "id": "ab73eddb-756f-4fc7-bfb6-4131b9649385",
      "metadata": {
        "id": "ab73eddb-756f-4fc7-bfb6-4131b9649385"
      },
      "source": [
        "####**Assignment 3**"
      ]
    },
    {
      "cell_type": "markdown",
      "source": [
        "Use meta-prompts to define Ally's behavior:\n",
        "\n",
        "\"Respond in a funny and sarcastic tone.\"\n",
        "\n",
        "\"Explain concisely in bullet points.\""
      ],
      "metadata": {
        "id": "zm35qZ-doDXG"
      },
      "id": "zm35qZ-doDXG"
    }
  ],
  "metadata": {
    "kernelspec": {
      "display_name": "Python 3 (ipykernel)",
      "language": "python",
      "name": "python3"
    },
    "language_info": {
      "codemirror_mode": {
        "name": "ipython",
        "version": 3
      },
      "file_extension": ".py",
      "mimetype": "text/x-python",
      "name": "python",
      "nbconvert_exporter": "python",
      "pygments_lexer": "ipython3",
      "version": "3.11.11"
    },
    "colab": {
      "provenance": []
    }
  },
  "nbformat": 4,
  "nbformat_minor": 5
}