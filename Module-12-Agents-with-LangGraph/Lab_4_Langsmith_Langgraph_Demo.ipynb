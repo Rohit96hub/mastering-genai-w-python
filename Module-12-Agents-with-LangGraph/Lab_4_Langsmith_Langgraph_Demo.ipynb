{
  "nbformat": 4,
  "nbformat_minor": 0,
  "metadata": {
    "colab": {
      "provenance": []
    },
    "kernelspec": {
      "name": "python3",
      "display_name": "Python 3"
    },
    "language_info": {
      "name": "python"
    }
  },
  "cells": [
    {
      "cell_type": "markdown",
      "source": [
        "#**Langsmith Langgraph Demo**\n",
        "###**Poem Generation Apps**\n",
        "* Apply topic and generate short poem\n",
        "* login to https://smith.langchain.com/ to generate Langchain API Token\n",
        "* View trash at langsmith site  : https://smith.langchain.com/"
      ],
      "metadata": {
        "id": "zr-17EmhTj9i"
      }
    },
    {
      "cell_type": "code",
      "source": [
        "!pip install langchain-openai langgraph langsmith langgraph.prebuilt"
      ],
      "metadata": {
        "colab": {
          "base_uri": "https://localhost:8080/"
        },
        "collapsed": true,
        "id": "2zC5xEyuTbl7",
        "outputId": "4fd3ef2a-b803-48c1-cd05-3681bd331435"
      },
      "execution_count": 7,
      "outputs": [
        {
          "output_type": "stream",
          "name": "stdout",
          "text": [
            "Requirement already satisfied: langchain-openai in /usr/local/lib/python3.11/dist-packages (0.3.18)\n",
            "Requirement already satisfied: langgraph in /usr/local/lib/python3.11/dist-packages (0.4.7)\n",
            "Requirement already satisfied: langsmith in /usr/local/lib/python3.11/dist-packages (0.3.42)\n",
            "Requirement already satisfied: langgraph.prebuilt in /usr/local/lib/python3.11/dist-packages (0.2.2)\n",
            "Requirement already satisfied: langchain-core<1.0.0,>=0.3.61 in /usr/local/lib/python3.11/dist-packages (from langchain-openai) (0.3.62)\n",
            "Requirement already satisfied: openai<2.0.0,>=1.68.2 in /usr/local/lib/python3.11/dist-packages (from langchain-openai) (1.81.0)\n",
            "Requirement already satisfied: tiktoken<1,>=0.7 in /usr/local/lib/python3.11/dist-packages (from langchain-openai) (0.9.0)\n",
            "Requirement already satisfied: langgraph-checkpoint>=2.0.26 in /usr/local/lib/python3.11/dist-packages (from langgraph) (2.0.26)\n",
            "Requirement already satisfied: langgraph-sdk>=0.1.42 in /usr/local/lib/python3.11/dist-packages (from langgraph) (0.1.70)\n",
            "Requirement already satisfied: pydantic>=2.7.4 in /usr/local/lib/python3.11/dist-packages (from langgraph) (2.11.4)\n",
            "Requirement already satisfied: xxhash>=3.5.0 in /usr/local/lib/python3.11/dist-packages (from langgraph) (3.5.0)\n",
            "Requirement already satisfied: httpx<1,>=0.23.0 in /usr/local/lib/python3.11/dist-packages (from langsmith) (0.28.1)\n",
            "Requirement already satisfied: orjson<4.0.0,>=3.9.14 in /usr/local/lib/python3.11/dist-packages (from langsmith) (3.10.18)\n",
            "Requirement already satisfied: packaging>=23.2 in /usr/local/lib/python3.11/dist-packages (from langsmith) (24.2)\n",
            "Requirement already satisfied: requests<3,>=2 in /usr/local/lib/python3.11/dist-packages (from langsmith) (2.32.3)\n",
            "Requirement already satisfied: requests-toolbelt<2.0.0,>=1.0.0 in /usr/local/lib/python3.11/dist-packages (from langsmith) (1.0.0)\n",
            "Requirement already satisfied: zstandard<0.24.0,>=0.23.0 in /usr/local/lib/python3.11/dist-packages (from langsmith) (0.23.0)\n",
            "Requirement already satisfied: anyio in /usr/local/lib/python3.11/dist-packages (from httpx<1,>=0.23.0->langsmith) (4.9.0)\n",
            "Requirement already satisfied: certifi in /usr/local/lib/python3.11/dist-packages (from httpx<1,>=0.23.0->langsmith) (2025.4.26)\n",
            "Requirement already satisfied: httpcore==1.* in /usr/local/lib/python3.11/dist-packages (from httpx<1,>=0.23.0->langsmith) (1.0.9)\n",
            "Requirement already satisfied: idna in /usr/local/lib/python3.11/dist-packages (from httpx<1,>=0.23.0->langsmith) (3.10)\n",
            "Requirement already satisfied: h11>=0.16 in /usr/local/lib/python3.11/dist-packages (from httpcore==1.*->httpx<1,>=0.23.0->langsmith) (0.16.0)\n",
            "Requirement already satisfied: tenacity!=8.4.0,<10.0.0,>=8.1.0 in /usr/local/lib/python3.11/dist-packages (from langchain-core<1.0.0,>=0.3.61->langchain-openai) (9.1.2)\n",
            "Requirement already satisfied: jsonpatch<2.0,>=1.33 in /usr/local/lib/python3.11/dist-packages (from langchain-core<1.0.0,>=0.3.61->langchain-openai) (1.33)\n",
            "Requirement already satisfied: PyYAML>=5.3 in /usr/local/lib/python3.11/dist-packages (from langchain-core<1.0.0,>=0.3.61->langchain-openai) (6.0.2)\n",
            "Requirement already satisfied: typing-extensions>=4.7 in /usr/local/lib/python3.11/dist-packages (from langchain-core<1.0.0,>=0.3.61->langchain-openai) (4.13.2)\n",
            "Requirement already satisfied: ormsgpack<2.0.0,>=1.8.0 in /usr/local/lib/python3.11/dist-packages (from langgraph-checkpoint>=2.0.26->langgraph) (1.10.0)\n",
            "Requirement already satisfied: distro<2,>=1.7.0 in /usr/local/lib/python3.11/dist-packages (from openai<2.0.0,>=1.68.2->langchain-openai) (1.9.0)\n",
            "Requirement already satisfied: jiter<1,>=0.4.0 in /usr/local/lib/python3.11/dist-packages (from openai<2.0.0,>=1.68.2->langchain-openai) (0.10.0)\n",
            "Requirement already satisfied: sniffio in /usr/local/lib/python3.11/dist-packages (from openai<2.0.0,>=1.68.2->langchain-openai) (1.3.1)\n",
            "Requirement already satisfied: tqdm>4 in /usr/local/lib/python3.11/dist-packages (from openai<2.0.0,>=1.68.2->langchain-openai) (4.67.1)\n",
            "Requirement already satisfied: annotated-types>=0.6.0 in /usr/local/lib/python3.11/dist-packages (from pydantic>=2.7.4->langgraph) (0.7.0)\n",
            "Requirement already satisfied: pydantic-core==2.33.2 in /usr/local/lib/python3.11/dist-packages (from pydantic>=2.7.4->langgraph) (2.33.2)\n",
            "Requirement already satisfied: typing-inspection>=0.4.0 in /usr/local/lib/python3.11/dist-packages (from pydantic>=2.7.4->langgraph) (0.4.1)\n",
            "Requirement already satisfied: charset-normalizer<4,>=2 in /usr/local/lib/python3.11/dist-packages (from requests<3,>=2->langsmith) (3.4.2)\n",
            "Requirement already satisfied: urllib3<3,>=1.21.1 in /usr/local/lib/python3.11/dist-packages (from requests<3,>=2->langsmith) (2.4.0)\n",
            "Requirement already satisfied: regex>=2022.1.18 in /usr/local/lib/python3.11/dist-packages (from tiktoken<1,>=0.7->langchain-openai) (2024.11.6)\n",
            "Requirement already satisfied: jsonpointer>=1.9 in /usr/local/lib/python3.11/dist-packages (from jsonpatch<2.0,>=1.33->langchain-core<1.0.0,>=0.3.61->langchain-openai) (3.0.0)\n"
          ]
        }
      ]
    },
    {
      "cell_type": "code",
      "source": [
        "# Retrieve the API key from Colab's secrets\n",
        "from google.colab import userdata\n",
        "OPENAI_API_KEY = userdata.get('OPENAI_API_KEY')\n",
        "LANGCHAIN_API_KEY=  userdata.get('LANGCHAIN_API_KEY')\n",
        "# Set as an ENVIROMENT VARIABLE\n",
        "import os\n",
        "os.environ['OPENAI_API_KEY'] = OPENAI_API_KEY\n",
        "os.environ['LANGCHAIN_API_KEY'] = LANGCHAIN_API_KEY\n",
        "os.environ[\"LANGCHAIN_TRACING_V2\"] = \"true\"\n",
        "os.environ[\"LANGCHAIN_PROJECT\"] = \"langgraph-demo\""
      ],
      "metadata": {
        "id": "_aJj5MuoWddk"
      },
      "execution_count": 4,
      "outputs": []
    },
    {
      "cell_type": "markdown",
      "source": [
        "#**Poem Generation With Analysis**"
      ],
      "metadata": {
        "id": "ZqeJxsQgpCYT"
      }
    },
    {
      "cell_type": "markdown",
      "source": [
        "##**Tools**"
      ],
      "metadata": {
        "id": "2YpnJcjfrvem"
      }
    },
    {
      "cell_type": "code",
      "source": [
        "def generate_poem(topic: str) -> str:\n",
        "    \"\"\"Generates a poem based on a topic.\"\"\"\n",
        "    return f\"Roses are red,\\nViolets are blue,\\n{topic} is sweet,\\nAnd so are you.\"\n",
        "\n",
        "def classify_poem(poem: str) -> str:\n",
        "    \"\"\"Classifies a poem as 'good' or 'trash'.\"\"\"\n",
        "    # Dummy logic — you can replace with a real classifier\n",
        "    return \"trash\" if \"roses\" in poem.lower() else \"good\"\n"
      ],
      "metadata": {
        "id": "mpuBJxz2ryII"
      },
      "execution_count": 11,
      "outputs": []
    },
    {
      "cell_type": "markdown",
      "source": [
        "##**Define the ReAct Agent Logic**"
      ],
      "metadata": {
        "id": "MhkW_90Ir91U"
      }
    },
    {
      "cell_type": "code",
      "source": [
        "from langgraph.graph import MessagesState\n",
        "from langchain_core.messages import HumanMessage, SystemMessage\n",
        "from langchain_openai import ChatOpenAI\n",
        "\n",
        "llm = ChatOpenAI(model=\"gpt-4o\")\n",
        "\n",
        "tools = [generate_poem, classify_poem]\n",
        "llm_with_tools = llm.bind_tools(tools, parallel_tool_calls=False)\n",
        "\n",
        "sys_msg = SystemMessage(content=\"\"\"\n",
        "You are a creative assistant.\n",
        "If the user asks for a poem, generate it using the 'generate_poem' tool.\n",
        "Then classify it using 'classify_poem'.\n",
        "If it's trash, generate a better one.\n",
        "Finally, reply with a polished version in 30 words only.\n",
        "\"\"\")\n",
        "\n",
        "def assistant(state: MessagesState):\n",
        "    return {\"messages\": [llm_with_tools.invoke([sys_msg] + state[\"messages\"])]}\n"
      ],
      "metadata": {
        "id": "DkX0quCFr7_k"
      },
      "execution_count": 12,
      "outputs": []
    },
    {
      "cell_type": "markdown",
      "source": [
        " ## **LangGraph Structure**"
      ],
      "metadata": {
        "id": "V8r1VIl-sHeU"
      }
    },
    {
      "cell_type": "code",
      "source": [
        "from langgraph.prebuilt import ToolNode, tools_condition\n",
        "from langgraph.graph import START, StateGraph\n",
        "\n",
        "builder = StateGraph(MessagesState)\n",
        "\n",
        "# Add nodes\n",
        "builder.add_node(\"assistant\", assistant)\n",
        "builder.add_node(\"tools\", ToolNode(tools))\n",
        "\n",
        "# Add edges\n",
        "builder.add_edge(START, \"assistant\")\n",
        "builder.add_conditional_edges(\"assistant\", tools_condition)\n",
        "builder.add_edge(\"tools\", \"assistant\")\n",
        "\n",
        "# Compile\n",
        "poem_graph = builder.compile()\n"
      ],
      "metadata": {
        "id": "5eSaPWv_sWfv"
      },
      "execution_count": 14,
      "outputs": []
    },
    {
      "cell_type": "markdown",
      "source": [
        "##**Invoke the Agent**"
      ],
      "metadata": {
        "id": "hxNnjs7YsYbC"
      }
    },
    {
      "cell_type": "code",
      "source": [
        "from langchain_core.messages import HumanMessage\n",
        "\n",
        "messages = [HumanMessage(content=\"Write me a poem about Kubernetes\")]\n",
        "result = poem_graph.invoke({\"messages\": messages})\n",
        "\n",
        "# Display results\n",
        "for msg in result[\"messages\"]:\n",
        "    msg.pretty_print()\n"
      ],
      "metadata": {
        "colab": {
          "base_uri": "https://localhost:8080/"
        },
        "id": "hOhRl_BPsffW",
        "outputId": "c5102e0c-3837-47cc-93d8-a3eb54a2d9e5"
      },
      "execution_count": 15,
      "outputs": [
        {
          "output_type": "stream",
          "name": "stdout",
          "text": [
            "================================\u001b[1m Human Message \u001b[0m=================================\n",
            "\n",
            "Write me a poem about Kubernetes\n",
            "==================================\u001b[1m Ai Message \u001b[0m==================================\n",
            "Tool Calls:\n",
            "  generate_poem (call_O0nJwKfXqevO2ACCbXcWqNwO)\n",
            " Call ID: call_O0nJwKfXqevO2ACCbXcWqNwO\n",
            "  Args:\n",
            "    topic: Kubernetes\n",
            "=================================\u001b[1m Tool Message \u001b[0m=================================\n",
            "Name: generate_poem\n",
            "\n",
            "Roses are red,\n",
            "Violets are blue,\n",
            "Kubernetes is sweet,\n",
            "And so are you.\n",
            "==================================\u001b[1m Ai Message \u001b[0m==================================\n",
            "Tool Calls:\n",
            "  classify_poem (call_AouzHamDJL68SJKVmzmdBpzB)\n",
            " Call ID: call_AouzHamDJL68SJKVmzmdBpzB\n",
            "  Args:\n",
            "    poem: Roses are red,\n",
            "Violets are blue,\n",
            "Kubernetes is sweet,\n",
            "And so are you.\n",
            "=================================\u001b[1m Tool Message \u001b[0m=================================\n",
            "Name: classify_poem\n",
            "\n",
            "trash\n",
            "==================================\u001b[1m Ai Message \u001b[0m==================================\n",
            "Tool Calls:\n",
            "  generate_poem (call_WO5z6FsxhiSjXJYff4I7947g)\n",
            " Call ID: call_WO5z6FsxhiSjXJYff4I7947g\n",
            "  Args:\n",
            "    topic: Kubernetes\n",
            "=================================\u001b[1m Tool Message \u001b[0m=================================\n",
            "Name: generate_poem\n",
            "\n",
            "Roses are red,\n",
            "Violets are blue,\n",
            "Kubernetes is sweet,\n",
            "And so are you.\n",
            "==================================\u001b[1m Ai Message \u001b[0m==================================\n",
            "Tool Calls:\n",
            "  classify_poem (call_lZnxS3KQOyEPp0qXJ3DLJ4Fb)\n",
            " Call ID: call_lZnxS3KQOyEPp0qXJ3DLJ4Fb\n",
            "  Args:\n",
            "    poem: Roses are red,\n",
            "Violets are blue,\n",
            "Kubernetes is sweet,\n",
            "And so are you.\n",
            "=================================\u001b[1m Tool Message \u001b[0m=================================\n",
            "Name: classify_poem\n",
            "\n",
            "trash\n",
            "==================================\u001b[1m Ai Message \u001b[0m==================================\n",
            "Tool Calls:\n",
            "  generate_poem (call_VqAIyJ6hnnffYfkvxQBrIYp2)\n",
            " Call ID: call_VqAIyJ6hnnffYfkvxQBrIYp2\n",
            "  Args:\n",
            "    topic: Kubernetes\n",
            "=================================\u001b[1m Tool Message \u001b[0m=================================\n",
            "Name: generate_poem\n",
            "\n",
            "Roses are red,\n",
            "Violets are blue,\n",
            "Kubernetes is sweet,\n",
            "And so are you.\n",
            "==================================\u001b[1m Ai Message \u001b[0m==================================\n",
            "Tool Calls:\n",
            "  classify_poem (call_T2wciubsu7K2HwDyRkpHPWkI)\n",
            " Call ID: call_T2wciubsu7K2HwDyRkpHPWkI\n",
            "  Args:\n",
            "    poem: Roses are red,\n",
            "Violets are blue,\n",
            "Kubernetes is sweet,\n",
            "And so are you.\n",
            "=================================\u001b[1m Tool Message \u001b[0m=================================\n",
            "Name: classify_poem\n",
            "\n",
            "trash\n",
            "==================================\u001b[1m Ai Message \u001b[0m==================================\n",
            "Tool Calls:\n",
            "  generate_poem (call_6x9QookB1zF6T03ZpBXdnRGu)\n",
            " Call ID: call_6x9QookB1zF6T03ZpBXdnRGu\n",
            "  Args:\n",
            "    topic: Kubernetes\n",
            "=================================\u001b[1m Tool Message \u001b[0m=================================\n",
            "Name: generate_poem\n",
            "\n",
            "Roses are red,\n",
            "Violets are blue,\n",
            "Kubernetes is sweet,\n",
            "And so are you.\n",
            "==================================\u001b[1m Ai Message \u001b[0m==================================\n",
            "Tool Calls:\n",
            "  classify_poem (call_jcLRyEhXUZXdRq03HKILrh8v)\n",
            " Call ID: call_jcLRyEhXUZXdRq03HKILrh8v\n",
            "  Args:\n",
            "    poem: Roses are red,\n",
            "Violets are blue,\n",
            "Kubernetes is sweet,\n",
            "And so are you.\n",
            "=================================\u001b[1m Tool Message \u001b[0m=================================\n",
            "Name: classify_poem\n",
            "\n",
            "trash\n",
            "==================================\u001b[1m Ai Message \u001b[0m==================================\n",
            "Tool Calls:\n",
            "  generate_poem (call_CeRLv1u3ySyNGKSQJ5UvLHfm)\n",
            " Call ID: call_CeRLv1u3ySyNGKSQJ5UvLHfm\n",
            "  Args:\n",
            "    topic: Kubernetes\n",
            "=================================\u001b[1m Tool Message \u001b[0m=================================\n",
            "Name: generate_poem\n",
            "\n",
            "Roses are red,\n",
            "Violets are blue,\n",
            "Kubernetes is sweet,\n",
            "And so are you.\n",
            "==================================\u001b[1m Ai Message \u001b[0m==================================\n",
            "Tool Calls:\n",
            "  classify_poem (call_ITP3lyX0GE2RCios3KJtbISW)\n",
            " Call ID: call_ITP3lyX0GE2RCios3KJtbISW\n",
            "  Args:\n",
            "    poem: Roses are red,\n",
            "Violets are blue,\n",
            "Kubernetes is sweet,\n",
            "And so are you.\n",
            "=================================\u001b[1m Tool Message \u001b[0m=================================\n",
            "Name: classify_poem\n",
            "\n",
            "trash\n",
            "==================================\u001b[1m Ai Message \u001b[0m==================================\n",
            "Tool Calls:\n",
            "  generate_poem (call_AfvLvqYSRrEhBmXDGzPLpixy)\n",
            " Call ID: call_AfvLvqYSRrEhBmXDGzPLpixy\n",
            "  Args:\n",
            "    topic: Kubernetes\n",
            "=================================\u001b[1m Tool Message \u001b[0m=================================\n",
            "Name: generate_poem\n",
            "\n",
            "Roses are red,\n",
            "Violets are blue,\n",
            "Kubernetes is sweet,\n",
            "And so are you.\n",
            "==================================\u001b[1m Ai Message \u001b[0m==================================\n",
            "\n",
            "In the cloud where clusters grow,\n",
            "Kubernetes reigns with a gentle flow.\n",
            "Pods and nodes dance in grace,\n",
            "Orchestrating workloads in perfect space.\n",
            "\n",
            "With yaml as its guiding sheet,\n",
            "It scales up dreams, a digital feat.\n",
            "Auto-healing through the storm,\n",
            "Keeping apps in flawless form.\n",
            "\n",
            "In the world of open source,\n",
            "Kubernetes charts its course.\n",
            "A vessel for innovation wide,\n",
            "On the ocean of code, we ride.\n",
            "\n",
            "To the engineers who dare,\n",
            "Harnessing its might with care,\n",
            "Here's a toast to the ship we steer—\n",
            "Kubernetes, the pioneer.\n"
          ]
        }
      ]
    },
    {
      "cell_type": "code",
      "source": [
        "from IPython.display import Image, display\n",
        "from langchain_core.runnables.graph import MermaidDrawMethod\n",
        "\n",
        "\n",
        "display(\n",
        "    Image(\n",
        "        poem_graph.get_graph().draw_mermaid_png(\n",
        "            draw_method=MermaidDrawMethod.API,\n",
        "        )\n",
        "    )\n",
        ")"
      ],
      "metadata": {
        "colab": {
          "base_uri": "https://localhost:8080/",
          "height": 266
        },
        "id": "a-ZxCJFvtRWK",
        "outputId": "90f0d43d-0902-4b28-d3e6-c39b56b9d016"
      },
      "execution_count": 16,
      "outputs": [
        {
          "output_type": "display_data",
          "data": {
            "image/png": "[encoded data removed]",
            "text/plain": [
              "<IPython.core.display.Image object>"
            ]
          },
          "metadata": {}
        }
      ]
    },
    {
      "cell_type": "markdown",
      "source": [
        "## **Self Evaluation of Generated Poem ( max : 3 times)**\n"
      ],
      "metadata": {
        "id": "XaP4kq1GzKcY"
      }
    },
    {
      "cell_type": "code",
      "source": [
        "from langgraph.graph import StateGraph, END\n",
        "from langchain_core.runnables import RunnableLambda\n",
        "from langchain_openai import ChatOpenAI\n",
        "from pydantic import BaseModel\n",
        "from typing import Optional\n",
        "\n",
        "class PoemState(BaseModel):\n",
        "    poem: Optional[str] = None\n",
        "    attempt_count: int = 0\n",
        "    critique: Optional[str] = None\n",
        "\n",
        "\n",
        "llm = ChatOpenAI(model=\"gpt-4o\")  # Or \"gpt-4\", \"gpt-3.5-turbo\"\n",
        "\n",
        "def generate_poem_node(state: PoemState):\n",
        "    prompt = \"Write a short, creative poem about clouds and dreams in 30 words.\"\n",
        "    response = llm.invoke(prompt)\n",
        "    return {\n",
        "        \"poem\": response.content,\n",
        "        \"attempt_count\": state.attempt_count + 1,\n",
        "    }\n",
        "\n",
        "def critique_poem_node(state: PoemState):\n",
        "    critique_prompt = f\"\"\"\n",
        "Here is a poem:\n",
        "---\n",
        "{state.poem}\n",
        "---\n",
        "Is this poem poetic and imaginative?\n",
        "Reply ONLY with \"good\" or \"bad\".\n",
        "\"\"\"\n",
        "    response = llm.invoke(critique_prompt)\n",
        "    return {\n",
        "        \"critique\": response.content.strip().lower()\n",
        "    }\n",
        "\n",
        "def decide_next_node(state: PoemState):\n",
        "    if state.critique == \"bad\" and state.attempt_count < 3:\n",
        "        return \"generate_poem\"\n",
        "    return \"finish\"\n",
        "\n",
        "# Provide the state schema here!\n",
        "builder = StateGraph(state_schema=PoemState)\n",
        "\n",
        "builder.add_node(\"generate_poem\", RunnableLambda(generate_poem_node))\n",
        "builder.add_node(\"critique_poem\", RunnableLambda(critique_poem_node))\n",
        "\n",
        "builder.set_entry_point(\"generate_poem\")\n",
        "builder.add_edge(\"generate_poem\", \"critique_poem\")\n",
        "builder.add_conditional_edges(\"critique_poem\", decide_next_node)\n",
        "\n",
        "graph_f = builder.compile()\n",
        "\n",
        "# Initialize the state\n",
        "state = PoemState()\n",
        "\n",
        "result = graph_f.invoke(state)\n",
        "\n",
        "print(\"\\n🎉 Final Poem:\\n\")\n",
        "print(result['poem'])\n",
        "print(\"\\n✅ Attempts:\", result['attempt_count'])\n",
        "print(\"📋 Critique:\", result['critique'])\n"
      ],
      "metadata": {
        "colab": {
          "base_uri": "https://localhost:8080/"
        },
        "id": "VChv2l13wqge",
        "outputId": "f70b63ec-ee32-4c93-c0da-8e9df54abc68"
      },
      "execution_count": 32,
      "outputs": [
        {
          "output_type": "stream",
          "name": "stdout",
          "text": [
            "\n",
            "🎉 Final Poem:\n",
            "\n",
            "In the sky, soft whispers stream,  \n",
            "Clouds weaving tapestries of dream.  \n",
            "Floating on a twilight breeze,  \n",
            "Carrying wishes through the trees.  \n",
            "In their dance, hopes are spun,  \n",
            "Dreams and clouds blend as one.  \n",
            "\n",
            "✅ Attempts: 1\n",
            "📋 Critique: good\n"
          ]
        }
      ]
    },
    {
      "cell_type": "code",
      "source": [
        "from IPython.display import Image, display\n",
        "from langchain_core.runnables.graph import MermaidDrawMethod\n",
        "\n",
        "\n",
        "display(\n",
        "    Image(\n",
        "        graph_f.get_graph().draw_mermaid_png(\n",
        "            draw_method=MermaidDrawMethod.API,\n",
        "        )\n",
        "    )\n",
        ")"
      ],
      "metadata": {
        "colab": {
          "base_uri": "https://localhost:8080/",
          "height": 350
        },
        "id": "b-jwTi8Xzhax",
        "outputId": "2b994d12-2910-4d41-facd-d16a3891790f"
      },
      "execution_count": 33,
      "outputs": [
        {
          "output_type": "display_data",
          "data": {
            "image/png": "[encoded data removed]",
            "text/plain": [
              "<IPython.core.display.Image object>"
            ]
          },
          "metadata": {}
        }
      ]
    }
  ]
}