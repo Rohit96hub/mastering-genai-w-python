{
  "nbformat": 4,
  "nbformat_minor": 0,
  "metadata": {
    "colab": {
      "provenance": []
    },
    "kernelspec": {
      "name": "python3",
      "display_name": "Python 3"
    },
    "language_info": {
      "name": "python"
    }
  },
  "cells": [
    {
      "cell_type": "code",
      "execution_count": 1,
      "metadata": {
        "colab": {
          "base_uri": "https://localhost:8080/"
        },
        "collapsed": true,
        "id": "k5cIqj33Yunu",
        "outputId": "c0ea74cb-2958-4424-e0f0-cb494fb52571"
      },
      "outputs": [
        {
          "output_type": "stream",
          "name": "stdout",
          "text": [
            "Requirement already satisfied: langchain-core in /usr/local/lib/python3.11/dist-packages (0.3.62)\n",
            "Requirement already satisfied: langchain-openai in /usr/local/lib/python3.11/dist-packages (0.3.18)\n",
            "Requirement already satisfied: langgraph in /usr/local/lib/python3.11/dist-packages (0.4.7)\n",
            "Requirement already satisfied: langsmith<0.4,>=0.1.126 in /usr/local/lib/python3.11/dist-packages (from langchain-core) (0.3.42)\n",
            "Requirement already satisfied: tenacity!=8.4.0,<10.0.0,>=8.1.0 in /usr/local/lib/python3.11/dist-packages (from langchain-core) (9.1.2)\n",
            "Requirement already satisfied: jsonpatch<2.0,>=1.33 in /usr/local/lib/python3.11/dist-packages (from langchain-core) (1.33)\n",
            "Requirement already satisfied: PyYAML>=5.3 in /usr/local/lib/python3.11/dist-packages (from langchain-core) (6.0.2)\n",
            "Requirement already satisfied: packaging<25,>=23.2 in /usr/local/lib/python3.11/dist-packages (from langchain-core) (24.2)\n",
            "Requirement already satisfied: typing-extensions>=4.7 in /usr/local/lib/python3.11/dist-packages (from langchain-core) (4.13.2)\n",
            "Requirement already satisfied: pydantic>=2.7.4 in /usr/local/lib/python3.11/dist-packages (from langchain-core) (2.11.4)\n",
            "Requirement already satisfied: openai<2.0.0,>=1.68.2 in /usr/local/lib/python3.11/dist-packages (from langchain-openai) (1.81.0)\n",
            "Requirement already satisfied: tiktoken<1,>=0.7 in /usr/local/lib/python3.11/dist-packages (from langchain-openai) (0.9.0)\n",
            "Requirement already satisfied: langgraph-checkpoint>=2.0.26 in /usr/local/lib/python3.11/dist-packages (from langgraph) (2.0.26)\n",
            "Requirement already satisfied: langgraph-prebuilt>=0.2.0 in /usr/local/lib/python3.11/dist-packages (from langgraph) (0.2.1)\n",
            "Requirement already satisfied: langgraph-sdk>=0.1.42 in /usr/local/lib/python3.11/dist-packages (from langgraph) (0.1.70)\n",
            "Requirement already satisfied: xxhash>=3.5.0 in /usr/local/lib/python3.11/dist-packages (from langgraph) (3.5.0)\n",
            "Requirement already satisfied: jsonpointer>=1.9 in /usr/local/lib/python3.11/dist-packages (from jsonpatch<2.0,>=1.33->langchain-core) (3.0.0)\n",
            "Requirement already satisfied: ormsgpack<2.0.0,>=1.8.0 in /usr/local/lib/python3.11/dist-packages (from langgraph-checkpoint>=2.0.26->langgraph) (1.10.0)\n",
            "Requirement already satisfied: httpx>=0.25.2 in /usr/local/lib/python3.11/dist-packages (from langgraph-sdk>=0.1.42->langgraph) (0.28.1)\n",
            "Requirement already satisfied: orjson>=3.10.1 in /usr/local/lib/python3.11/dist-packages (from langgraph-sdk>=0.1.42->langgraph) (3.10.18)\n",
            "Requirement already satisfied: requests<3,>=2 in /usr/local/lib/python3.11/dist-packages (from langsmith<0.4,>=0.1.126->langchain-core) (2.32.3)\n",
            "Requirement already satisfied: requests-toolbelt<2.0.0,>=1.0.0 in /usr/local/lib/python3.11/dist-packages (from langsmith<0.4,>=0.1.126->langchain-core) (1.0.0)\n",
            "Requirement already satisfied: zstandard<0.24.0,>=0.23.0 in /usr/local/lib/python3.11/dist-packages (from langsmith<0.4,>=0.1.126->langchain-core) (0.23.0)\n",
            "Requirement already satisfied: anyio<5,>=3.5.0 in /usr/local/lib/python3.11/dist-packages (from openai<2.0.0,>=1.68.2->langchain-openai) (4.9.0)\n",
            "Requirement already satisfied: distro<2,>=1.7.0 in /usr/local/lib/python3.11/dist-packages (from openai<2.0.0,>=1.68.2->langchain-openai) (1.9.0)\n",
            "Requirement already satisfied: jiter<1,>=0.4.0 in /usr/local/lib/python3.11/dist-packages (from openai<2.0.0,>=1.68.2->langchain-openai) (0.10.0)\n",
            "Requirement already satisfied: sniffio in /usr/local/lib/python3.11/dist-packages (from openai<2.0.0,>=1.68.2->langchain-openai) (1.3.1)\n",
            "Requirement already satisfied: tqdm>4 in /usr/local/lib/python3.11/dist-packages (from openai<2.0.0,>=1.68.2->langchain-openai) (4.67.1)\n",
            "Requirement already satisfied: annotated-types>=0.6.0 in /usr/local/lib/python3.11/dist-packages (from pydantic>=2.7.4->langchain-core) (0.7.0)\n",
            "Requirement already satisfied: pydantic-core==2.33.2 in /usr/local/lib/python3.11/dist-packages (from pydantic>=2.7.4->langchain-core) (2.33.2)\n",
            "Requirement already satisfied: typing-inspection>=0.4.0 in /usr/local/lib/python3.11/dist-packages (from pydantic>=2.7.4->langchain-core) (0.4.1)\n",
            "Requirement already satisfied: regex>=2022.1.18 in /usr/local/lib/python3.11/dist-packages (from tiktoken<1,>=0.7->langchain-openai) (2024.11.6)\n",
            "Requirement already satisfied: idna>=2.8 in /usr/local/lib/python3.11/dist-packages (from anyio<5,>=3.5.0->openai<2.0.0,>=1.68.2->langchain-openai) (3.10)\n",
            "Requirement already satisfied: certifi in /usr/local/lib/python3.11/dist-packages (from httpx>=0.25.2->langgraph-sdk>=0.1.42->langgraph) (2025.4.26)\n",
            "Requirement already satisfied: httpcore==1.* in /usr/local/lib/python3.11/dist-packages (from httpx>=0.25.2->langgraph-sdk>=0.1.42->langgraph) (1.0.9)\n",
            "Requirement already satisfied: h11>=0.16 in /usr/local/lib/python3.11/dist-packages (from httpcore==1.*->httpx>=0.25.2->langgraph-sdk>=0.1.42->langgraph) (0.16.0)\n",
            "Requirement already satisfied: charset-normalizer<4,>=2 in /usr/local/lib/python3.11/dist-packages (from requests<3,>=2->langsmith<0.4,>=0.1.126->langchain-core) (3.4.2)\n",
            "Requirement already satisfied: urllib3<3,>=1.21.1 in /usr/local/lib/python3.11/dist-packages (from requests<3,>=2->langsmith<0.4,>=0.1.126->langchain-core) (2.4.0)\n"
          ]
        }
      ],
      "source": [
        "!pip install langchain-core langchain-openai langgraph"
      ]
    },
    {
      "cell_type": "markdown",
      "source": [
        "###**API Keys**"
      ],
      "metadata": {
        "id": "2qiIRQQlGgEv"
      }
    },
    {
      "cell_type": "code",
      "execution_count": 2,
      "metadata": {
        "id": "0KlxQmU58U52"
      },
      "outputs": [],
      "source": [
        "# Retrieve the API key from Colab's secrets\n",
        "from google.colab import userdata\n",
        "OPENAI_API_KEY = userdata.get('OPENAI_API_KEY')\n",
        "NEWS_API_KEY = userdata.get('NEWS_API_KEY')\n",
        "OPENWEATHER_API_KEY = userdata.get('OPENWEATHER_API_KEY')\n",
        "\n",
        "# Set OPENAI_API_KEY as an ENV\n",
        "import os\n",
        "os.environ['OPENAI_API_KEY'] = OPENAI_API_KEY"
      ]
    },
    {
      "cell_type": "markdown",
      "source": [
        "###**1. Initialize the Language Model**"
      ],
      "metadata": {
        "id": "ogaEk_oWc5ed"
      }
    },
    {
      "cell_type": "code",
      "source": [
        "from langchain_openai import ChatOpenAI\n",
        "llm = ChatOpenAI(model=\"gpt-4o-mini\")"
      ],
      "metadata": {
        "id": "i-P60WVfnmkY"
      },
      "execution_count": 3,
      "outputs": []
    },
    {
      "cell_type": "markdown",
      "source": [
        "###**2. Define the Tools**"
      ],
      "metadata": {
        "id": "-MMptmPwGP4u"
      }
    },
    {
      "cell_type": "code",
      "source": [
        "from langchain_core.tools import tool\n",
        "import httpx\n",
        "import urllib.parse\n",
        "\n",
        "@tool\n",
        "def fetch_and_summarize_news(city: str) -> str:\n",
        "    \"\"\"Fetch the latest news articles and summarize them.\"\"\"\n",
        "\n",
        "    \"\"\"Fetch the weather information for a given city and generate a review.\"\"\"\n",
        "    city = city.strip()  # Ensure no leading/trailing spaces\n",
        "\n",
        "    # Encode the city name for the URL\n",
        "    encoded_city = urllib.parse.quote(city)\n",
        "    try:\n",
        "        # Fetch news\n",
        "        url = f\"https://newsapi.org/v2/top-headlines?q={encoded_city}&apiKey={NEWS_API_KEY.strip()}\"\n",
        "\n",
        "        response = httpx.get(url)\n",
        "        response.raise_for_status()\n",
        "        articles = response.json().get(\"articles\", [])\n",
        "\n",
        "        if not articles:\n",
        "            return \"No news articles found.\"\n",
        "\n",
        "        # Prepare articles for summarization\n",
        "        sanitized_articles = []\n",
        "        for article in articles:\n",
        "            title = (article.get('title') or '').replace('\\n', ' ').replace('\\r', ' ')\n",
        "            description = (article.get('description') or '').replace('\\n', ' ').replace('\\r', ' ')\n",
        "            sanitized_articles.append(f\"Title: {title}\\nDescription: {description}\")\n",
        "\n",
        "        news_text = \"\\n\\n\".join(sanitized_articles)\n",
        "        prompt = f\"Summarize the following news articles:\\n\\n{news_text}. Please do not write the title. The summary should be in point for top 3 news.\"\n",
        "\n",
        "        # Generate the summary\n",
        "        summary = llm.invoke(prompt)\n",
        "        return summary\n",
        "    except Exception as e:\n",
        "        return f\"Error: {e}\"\n",
        "\n",
        "@tool\n",
        "def fetch_and_review_weather(city: str) -> str:\n",
        "    \"\"\"Fetch the weather information for a given city and generate a review.\"\"\"\n",
        "    city = city.strip()  # Ensure no leading/trailing spaces\n",
        "\n",
        "    # Encode the city name for the URL\n",
        "    encoded_city = urllib.parse.quote(city)\n",
        "    url = f\"https://api.openweathermap.org/data/2.5/weather?q={encoded_city}&appid={OPENWEATHER_API_KEY}&units=metric\"\n",
        "\n",
        "    try:\n",
        "        response = httpx.get(url)\n",
        "        response.raise_for_status()\n",
        "        weather_data = response.json()\n",
        "\n",
        "        # Extract weather details\n",
        "        weather = weather_data['weather'][0]['main']\n",
        "        temperature = weather_data['main']['temp']\n",
        "\n",
        "        # Generate the review\n",
        "        input_text = f\"The current weather in {city} is {weather} with a temperature of {temperature}°C. As an expert in weather forecast analysis, please provide an appropriate weather review in 30 words.\"\n",
        "        input_text = ''.join(c for c in input_text if c.isprintable())\n",
        "\n",
        "        # Generate the review using the language model\n",
        "        review = llm.invoke(input_text)\n",
        "        return review\n",
        "    except Exception as e:\n",
        "        return f\"Error: {e}\"\n"
      ],
      "metadata": {
        "id": "9Z5zIYnfngJK"
      },
      "execution_count": 4,
      "outputs": []
    },
    {
      "cell_type": "code",
      "source": [
        "tools = [fetch_and_review_weather, fetch_and_summarize_news]\n",
        "llm_with_tools = llm.bind_tools(tools)"
      ],
      "metadata": {
        "id": "vQxON6f2IAI_"
      },
      "execution_count": 5,
      "outputs": []
    },
    {
      "cell_type": "markdown",
      "source": [
        "###**3. Define Nodes and Routing Logic**"
      ],
      "metadata": {
        "id": "dwNR63SbdmO2"
      }
    },
    {
      "cell_type": "code",
      "source": [
        "from typing import Literal\n",
        "from langgraph.graph import END, START, StateGraph, MessagesState\n",
        "\n",
        "def call_model(state: MessagesState):\n",
        "    messages = state[\"messages\"]\n",
        "    response = llm_with_tools.invoke(messages)\n",
        "    return {\"messages\": [response]}\n",
        "\n",
        "\n",
        "def should_continue(state: MessagesState) -> Literal[\"tools\", END]:\n",
        "    messages = state[\"messages\"]\n",
        "    last_message = messages[-1]\n",
        "    if last_message.tool_calls:\n",
        "        return \"tools\"\n",
        "    return END"
      ],
      "metadata": {
        "id": "Euo7b4nwIVRE"
      },
      "execution_count": 6,
      "outputs": []
    },
    {
      "cell_type": "markdown",
      "source": [
        "###**4. Build the LangGraph**"
      ],
      "metadata": {
        "id": "tq1nR6gKd2oT"
      }
    },
    {
      "cell_type": "code",
      "source": [
        "from langgraph.prebuilt import ToolNode\n",
        "\n",
        "workflow = StateGraph(MessagesState)\n",
        "tool_node = ToolNode(tools)\n",
        "\n",
        "workflow.add_node(\"agent\", call_model)\n",
        "workflow.add_node(\"tools\", tool_node)\n",
        "\n",
        "workflow.add_edge(START, \"agent\")\n",
        "workflow.add_conditional_edges(\n",
        "    \"agent\",\n",
        "    should_continue,\n",
        ")\n",
        "workflow.add_edge(\"tools\", \"agent\")\n",
        "\n",
        "graph = workflow.compile()"
      ],
      "metadata": {
        "id": "msyq4MmgId38"
      },
      "execution_count": 7,
      "outputs": []
    },
    {
      "cell_type": "markdown",
      "source": [
        "###**5. Visualize the Graph**"
      ],
      "metadata": {
        "id": "M6hS0DbfeEO_"
      }
    },
    {
      "cell_type": "code",
      "source": [
        "from IPython.display import Image, display\n",
        "from langchain_core.runnables.graph import MermaidDrawMethod\n",
        "\n",
        "display(\n",
        "    Image(\n",
        "        graph.get_graph().draw_mermaid_png(\n",
        "            draw_method=MermaidDrawMethod.API,\n",
        "        )\n",
        "    )\n",
        ")"
      ],
      "metadata": {
        "colab": {
          "base_uri": "https://localhost:8080/",
          "height": 266
        },
        "collapsed": true,
        "id": "ugp-DqwOIrLH",
        "outputId": "58515d84-0529-4b07-9e10-51f9ba308a7c"
      },
      "execution_count": 8,
      "outputs": [
        {
          "output_type": "display_data",
          "data": {
            "image/png": "[encoded data removed]",
            "text/plain": [
              "<IPython.core.display.Image object>"
            ]
          },
          "metadata": {}
        }
      ]
    },
    {
      "cell_type": "markdown",
      "source": [
        "###**6. Run the Graph**"
      ],
      "metadata": {
        "id": "IFkF0qHQeWgM"
      }
    },
    {
      "cell_type": "code",
      "source": [
        "from langchain_core.messages import HumanMessage"
      ],
      "metadata": {
        "id": "j4y9y4V-TH9g"
      },
      "execution_count": 9,
      "outputs": []
    },
    {
      "cell_type": "code",
      "source": [
        "message1 = [HumanMessage(content=\"What's the weather like in Mumbai and any major news from Mumbai today?\")]"
      ],
      "metadata": {
        "id": "9O_eSxIIIzfc"
      },
      "execution_count": 10,
      "outputs": []
    },
    {
      "cell_type": "code",
      "source": [
        "msg=\"What's the weather like in JAPAN and major news today?\""
      ],
      "metadata": {
        "id": "yqHw2sSzQjXz"
      },
      "execution_count": 11,
      "outputs": []
    },
    {
      "cell_type": "code",
      "source": [
        "result = graph.invoke({\"messages\": msg})\n",
        "print(result)"
      ],
      "metadata": {
        "colab": {
          "base_uri": "https://localhost:8080/"
        },
        "id": "gFeZzIthQk8Y",
        "outputId": "bf787595-c8fc-41c9-f092-615dcd8587bd"
      },
      "execution_count": 12,
      "outputs": [
        {
          "output_type": "stream",
          "name": "stdout",
          "text": [
            "{'messages': [HumanMessage(content=\"What's the weather like in JAPAN and major news today?\", additional_kwargs={}, response_metadata={}, id='624c5ea1-6870-4c83-8312-051f1970a2e4'), AIMessage(content='', additional_kwargs={'tool_calls': [{'id': 'call_FCoggHYWP6ftoVXswxq4W8e9', 'function': {'arguments': '{\"city\": \"Japan\"}', 'name': 'fetch_and_review_weather'}, 'type': 'function'}, {'id': 'call_92zqOWnTqXRUoSdeZ9ZAslLc', 'function': {'arguments': '{\"city\": \"Japan\"}', 'name': 'fetch_and_summarize_news'}, 'type': 'function'}], 'refusal': None}, response_metadata={'token_usage': {'completion_tokens': 50, 'prompt_tokens': 91, 'total_tokens': 141, 'completion_tokens_details': {'accepted_prediction_tokens': 0, 'audio_tokens': 0, 'reasoning_tokens': 0, 'rejected_prediction_tokens': 0}, 'prompt_tokens_details': {'audio_tokens': 0, 'cached_tokens': 0}}, 'model_name': 'gpt-4o-mini-2024-07-18', 'system_fingerprint': 'fp_54eb4bd693', 'id': 'chatcmpl-Bc9Xrj6MgEOarAiS4WThXJPlZ9ZfS', 'service_tier': 'default', 'finish_reason': 'tool_calls', 'logprobs': None}, id='run--aa8ce73e-9a60-4d3f-a4eb-58fa6ef051cc-0', tool_calls=[{'name': 'fetch_and_review_weather', 'args': {'city': 'Japan'}, 'id': 'call_FCoggHYWP6ftoVXswxq4W8e9', 'type': 'tool_call'}, {'name': 'fetch_and_summarize_news', 'args': {'city': 'Japan'}, 'id': 'call_92zqOWnTqXRUoSdeZ9ZAslLc', 'type': 'tool_call'}], usage_metadata={'input_tokens': 91, 'output_tokens': 50, 'total_tokens': 141, 'input_token_details': {'audio': 0, 'cache_read': 0}, 'output_token_details': {'audio': 0, 'reasoning': 0}}), ToolMessage(content=\"content='Japan is experiencing cloudy skies with a mild temperature of 18.97°C. Ideal for outdoor activities, the weather is comfortable but may call for light layers for added warmth.' additional_kwargs={'refusal': None} response_metadata={'token_usage': {'completion_tokens': 35, 'prompt_tokens': 43, 'total_tokens': 78, 'completion_tokens_details': {'accepted_prediction_tokens': 0, 'audio_tokens': 0, 'reasoning_tokens': 0, 'rejected_prediction_tokens': 0}, 'prompt_tokens_details': {'audio_tokens': 0, 'cached_tokens': 0}}, 'model_name': 'gpt-4o-mini-2024-07-18', 'system_fingerprint': 'fp_34a54ae93c', 'id': 'chatcmpl-Bc9XuF47R0Zh8TRUzecw8NmWvPd8S', 'service_tier': 'default', 'finish_reason': 'stop', 'logprobs': None} id='run--40cd93ef-7f69-4635-a3ca-f595350350cb-0' usage_metadata={'input_tokens': 43, 'output_tokens': 35, 'total_tokens': 78, 'input_token_details': {'audio': 0, 'cache_read': 0}, 'output_token_details': {'audio': 0, 'reasoning': 0}}\", name='fetch_and_review_weather', id='951931d0-0e17-4810-8e24-d958473ab232', tool_call_id='call_FCoggHYWP6ftoVXswxq4W8e9'), ToolMessage(content='content=\"- The final round of the Twinfields Ladies golf tournament in Japan was abruptly canceled after a bear was spotted on the course, leading to a surprising victory for a teenage player who was declared the winner.\\\\n\\\\n- Japan has relinquished its status as the world\\'s largest creditor nation for the first time in 34 years, despite having a record amount of overseas assets.\\\\n\\\\n- This shift in creditor status marks a significant change in Japan\\'s economic position on the global stage, raising concerns about its financial influence and stability.\" additional_kwargs={\\'refusal\\': None} response_metadata={\\'token_usage\\': {\\'completion_tokens\\': 100, \\'prompt_tokens\\': 138, \\'total_tokens\\': 238, \\'completion_tokens_details\\': {\\'accepted_prediction_tokens\\': 0, \\'audio_tokens\\': 0, \\'reasoning_tokens\\': 0, \\'rejected_prediction_tokens\\': 0}, \\'prompt_tokens_details\\': {\\'audio_tokens\\': 0, \\'cached_tokens\\': 0}}, \\'model_name\\': \\'gpt-4o-mini-2024-07-18\\', \\'system_fingerprint\\': \\'fp_34a54ae93c\\', \\'id\\': \\'chatcmpl-Bc9XvoA403mIjJOfgnHb7glKwP4OX\\', \\'service_tier\\': \\'default\\', \\'finish_reason\\': \\'stop\\', \\'logprobs\\': None} id=\\'run--184974a8-c80a-4c41-8c23-87c4ebfd35e6-0\\' usage_metadata={\\'input_tokens\\': 138, \\'output_tokens\\': 100, \\'total_tokens\\': 238, \\'input_token_details\\': {\\'audio\\': 0, \\'cache_read\\': 0}, \\'output_token_details\\': {\\'audio\\': 0, \\'reasoning\\': 0}}', name='fetch_and_summarize_news', id='7fb03236-8ef4-487f-9f64-e05399dc083b', tool_call_id='call_92zqOWnTqXRUoSdeZ9ZAslLc'), AIMessage(content=\"### Weather in Japan\\nJapan is experiencing cloudy skies with a mild temperature of approximately 19°C. This weather is ideal for outdoor activities, though it may be wise to wear light layers for added warmth.\\n\\n### Major News in Japan\\n1. The final round of the Twinfields Ladies golf tournament was abruptly canceled after a bear was spotted on the course, leading to a surprising victory for a teenage player who was declared the winner.\\n   \\n2. Japan has relinquished its status as the world's largest creditor nation for the first time in 34 years, despite having a record amount of overseas assets.\\n   \\n3. This shift in creditor status marks a significant change in Japan's economic position on the global stage, raising concerns about its financial influence and stability.\", additional_kwargs={'refusal': None}, response_metadata={'token_usage': {'completion_tokens': 151, 'prompt_tokens': 831, 'total_tokens': 982, 'completion_tokens_details': {'accepted_prediction_tokens': 0, 'audio_tokens': 0, 'reasoning_tokens': 0, 'rejected_prediction_tokens': 0}, 'prompt_tokens_details': {'audio_tokens': 0, 'cached_tokens': 0}}, 'model_name': 'gpt-4o-mini-2024-07-18', 'system_fingerprint': 'fp_54eb4bd693', 'id': 'chatcmpl-Bc9XxQjEWT3OPHkdx5ZuOFpfzQ8ht', 'service_tier': 'default', 'finish_reason': 'stop', 'logprobs': None}, id='run--6807e7db-0a57-45f6-8182-aa381e095b03-0', usage_metadata={'input_tokens': 831, 'output_tokens': 151, 'total_tokens': 982, 'input_token_details': {'audio': 0, 'cache_read': 0}, 'output_token_details': {'audio': 0, 'reasoning': 0}})]}\n"
          ]
        }
      ]
    },
    {
      "cell_type": "markdown",
      "source": [
        "###**7. Display Output Using StrOutputParser**"
      ],
      "metadata": {
        "id": "oszvvPFdejUo"
      }
    },
    {
      "cell_type": "code",
      "source": [
        "from langchain_core.output_parsers import StrOutputParser\n",
        "from langchain_core.messages import AIMessage\n",
        "last_message = result[\"messages\"][-1]\n",
        "if isinstance(last_message, AIMessage):\n",
        "    parser = StrOutputParser()\n",
        "    parsed_output = parser.parse(last_message.content)\n",
        "    print(\"Parsed Output:\", parsed_output)\n"
      ],
      "metadata": {
        "colab": {
          "base_uri": "https://localhost:8080/"
        },
        "collapsed": true,
        "id": "O71nibf6NYah",
        "outputId": "17bd92d0-0716-4288-aa3b-dfa7a04f3d55"
      },
      "execution_count": 13,
      "outputs": [
        {
          "output_type": "stream",
          "name": "stdout",
          "text": [
            "Parsed Output: ### Weather in Japan\n",
            "Japan is experiencing cloudy skies with a mild temperature of approximately 19°C. This weather is ideal for outdoor activities, though it may be wise to wear light layers for added warmth.\n",
            "\n",
            "### Major News in Japan\n",
            "1. The final round of the Twinfields Ladies golf tournament was abruptly canceled after a bear was spotted on the course, leading to a surprising victory for a teenage player who was declared the winner.\n",
            "   \n",
            "2. Japan has relinquished its status as the world's largest creditor nation for the first time in 34 years, despite having a record amount of overseas assets.\n",
            "   \n",
            "3. This shift in creditor status marks a significant change in Japan's economic position on the global stage, raising concerns about its financial influence and stability.\n"
          ]
        }
      ]
    }
  ]
}