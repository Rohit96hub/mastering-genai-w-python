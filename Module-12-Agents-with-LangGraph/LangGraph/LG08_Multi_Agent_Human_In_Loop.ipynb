{
  "nbformat": 4,
  "nbformat_minor": 0,
  "metadata": {
    "colab": {
      "provenance": []
    },
    "kernelspec": {
      "name": "python3",
      "display_name": "Python 3"
    },
    "language_info": {
      "name": "python"
    }
  },
  "cells": [
    {
      "cell_type": "markdown",
      "source": [
        "#**AI-Powered Recruitment Automation System**"
      ],
      "metadata": {
        "id": "G-K7cXsj3iu6"
      }
    },
    {
      "cell_type": "markdown",
      "source": [
        "##**Workflow:**\n",
        "**Supervisor Agent** is connected with the following Agents,\n",
        "* Job Description Geneartor Agent\n",
        "* Resume Scanner Agent\n",
        "  * If Resume matched with job description\n",
        "    * Interviewer / Human in Loop Node (Selected/Rejected)\n",
        "      * If Selected\n",
        "        * OnBorad Process Agent\n",
        "      * If Rejected\n",
        "        * End\n",
        "  * If Resume does not match with job description\n",
        "    * Early Rejection\n"
      ],
      "metadata": {
        "id": "eXyVQB0a4kt8"
      }
    },
    {
      "cell_type": "code",
      "execution_count": null,
      "metadata": {
        "colab": {
          "base_uri": "https://localhost:8080/"
        },
        "collapsed": true,
        "id": "cj3g-11XBlD-",
        "outputId": "ca58433a-3cd0-40fd-c6ad-e04503552903"
      },
      "outputs": [
        {
          "output_type": "stream",
          "name": "stdout",
          "text": [
            "Requirement already satisfied: langchain in /usr/local/lib/python3.11/dist-packages (0.3.23)\n",
            "Collecting langchain-openai\n",
            "  Downloading langchain_openai-0.3.12-py3-none-any.whl.metadata (2.3 kB)\n",
            "Collecting langgraph\n",
            "  Downloading langgraph-0.3.29-py3-none-any.whl.metadata (7.7 kB)\n",
            "Requirement already satisfied: langchain-core in /usr/local/lib/python3.11/dist-packages (0.3.51)\n",
            "Requirement already satisfied: langchain-text-splitters<1.0.0,>=0.3.8 in /usr/local/lib/python3.11/dist-packages (from langchain) (0.3.8)\n",
            "Requirement already satisfied: langsmith<0.4,>=0.1.17 in /usr/local/lib/python3.11/dist-packages (from langchain) (0.3.24)\n",
            "Requirement already satisfied: pydantic<3.0.0,>=2.7.4 in /usr/local/lib/python3.11/dist-packages (from langchain) (2.11.2)\n",
            "Requirement already satisfied: SQLAlchemy<3,>=1.4 in /usr/local/lib/python3.11/dist-packages (from langchain) (2.0.40)\n",
            "Requirement already satisfied: requests<3,>=2 in /usr/local/lib/python3.11/dist-packages (from langchain) (2.32.3)\n",
            "Requirement already satisfied: PyYAML>=5.3 in /usr/local/lib/python3.11/dist-packages (from langchain) (6.0.2)\n",
            "Requirement already satisfied: openai<2.0.0,>=1.68.2 in /usr/local/lib/python3.11/dist-packages (from langchain-openai) (1.70.0)\n",
            "Collecting tiktoken<1,>=0.7 (from langchain-openai)\n",
            "  Downloading tiktoken-0.9.0-cp311-cp311-manylinux_2_17_x86_64.manylinux2014_x86_64.whl.metadata (6.7 kB)\n",
            "Collecting langgraph-checkpoint<3.0.0,>=2.0.10 (from langgraph)\n",
            "  Downloading langgraph_checkpoint-2.0.24-py3-none-any.whl.metadata (4.6 kB)\n",
            "Collecting langgraph-prebuilt<0.2,>=0.1.1 (from langgraph)\n",
            "  Downloading langgraph_prebuilt-0.1.8-py3-none-any.whl.metadata (5.0 kB)\n",
            "Collecting langgraph-sdk<0.2.0,>=0.1.42 (from langgraph)\n",
            "  Downloading langgraph_sdk-0.1.61-py3-none-any.whl.metadata (1.8 kB)\n",
            "Collecting xxhash<4.0.0,>=3.5.0 (from langgraph)\n",
            "  Downloading xxhash-3.5.0-cp311-cp311-manylinux_2_17_x86_64.manylinux2014_x86_64.whl.metadata (12 kB)\n",
            "Requirement already satisfied: tenacity!=8.4.0,<10.0.0,>=8.1.0 in /usr/local/lib/python3.11/dist-packages (from langchain-core) (9.1.2)\n",
            "Requirement already satisfied: jsonpatch<2.0,>=1.33 in /usr/local/lib/python3.11/dist-packages (from langchain-core) (1.33)\n",
            "Requirement already satisfied: packaging<25,>=23.2 in /usr/local/lib/python3.11/dist-packages (from langchain-core) (24.2)\n",
            "Requirement already satisfied: typing-extensions>=4.7 in /usr/local/lib/python3.11/dist-packages (from langchain-core) (4.13.1)\n",
            "Requirement already satisfied: jsonpointer>=1.9 in /usr/local/lib/python3.11/dist-packages (from jsonpatch<2.0,>=1.33->langchain-core) (3.0.0)\n",
            "Collecting ormsgpack<2.0.0,>=1.8.0 (from langgraph-checkpoint<3.0.0,>=2.0.10->langgraph)\n",
            "  Downloading ormsgpack-1.9.1-cp311-cp311-manylinux_2_17_x86_64.manylinux2014_x86_64.whl.metadata (43 kB)\n",
            "\u001b[2K     \u001b[90m━━━━━━━━━━━━━━━━━━━━━━━━━━━━━━━━━━━━━━━━\u001b[0m \u001b[32m43.5/43.5 kB\u001b[0m \u001b[31m2.4 MB/s\u001b[0m eta \u001b[36m0:00:00\u001b[0m\n",
            "\u001b[?25hRequirement already satisfied: httpx>=0.25.2 in /usr/local/lib/python3.11/dist-packages (from langgraph-sdk<0.2.0,>=0.1.42->langgraph) (0.28.1)\n",
            "Requirement already satisfied: orjson>=3.10.1 in /usr/local/lib/python3.11/dist-packages (from langgraph-sdk<0.2.0,>=0.1.42->langgraph) (3.10.16)\n",
            "Requirement already satisfied: requests-toolbelt<2.0.0,>=1.0.0 in /usr/local/lib/python3.11/dist-packages (from langsmith<0.4,>=0.1.17->langchain) (1.0.0)\n",
            "Requirement already satisfied: zstandard<0.24.0,>=0.23.0 in /usr/local/lib/python3.11/dist-packages (from langsmith<0.4,>=0.1.17->langchain) (0.23.0)\n",
            "Requirement already satisfied: anyio<5,>=3.5.0 in /usr/local/lib/python3.11/dist-packages (from openai<2.0.0,>=1.68.2->langchain-openai) (4.9.0)\n",
            "Requirement already satisfied: distro<2,>=1.7.0 in /usr/local/lib/python3.11/dist-packages (from openai<2.0.0,>=1.68.2->langchain-openai) (1.9.0)\n",
            "Requirement already satisfied: jiter<1,>=0.4.0 in /usr/local/lib/python3.11/dist-packages (from openai<2.0.0,>=1.68.2->langchain-openai) (0.9.0)\n",
            "Requirement already satisfied: sniffio in /usr/local/lib/python3.11/dist-packages (from openai<2.0.0,>=1.68.2->langchain-openai) (1.3.1)\n",
            "Requirement already satisfied: tqdm>4 in /usr/local/lib/python3.11/dist-packages (from openai<2.0.0,>=1.68.2->langchain-openai) (4.67.1)\n",
            "Requirement already satisfied: annotated-types>=0.6.0 in /usr/local/lib/python3.11/dist-packages (from pydantic<3.0.0,>=2.7.4->langchain) (0.7.0)\n",
            "Requirement already satisfied: pydantic-core==2.33.1 in /usr/local/lib/python3.11/dist-packages (from pydantic<3.0.0,>=2.7.4->langchain) (2.33.1)\n",
            "Requirement already satisfied: typing-inspection>=0.4.0 in /usr/local/lib/python3.11/dist-packages (from pydantic<3.0.0,>=2.7.4->langchain) (0.4.0)\n",
            "Requirement already satisfied: charset-normalizer<4,>=2 in /usr/local/lib/python3.11/dist-packages (from requests<3,>=2->langchain) (3.4.1)\n",
            "Requirement already satisfied: idna<4,>=2.5 in /usr/local/lib/python3.11/dist-packages (from requests<3,>=2->langchain) (3.10)\n",
            "Requirement already satisfied: urllib3<3,>=1.21.1 in /usr/local/lib/python3.11/dist-packages (from requests<3,>=2->langchain) (2.3.0)\n",
            "Requirement already satisfied: certifi>=2017.4.17 in /usr/local/lib/python3.11/dist-packages (from requests<3,>=2->langchain) (2025.1.31)\n",
            "Requirement already satisfied: greenlet>=1 in /usr/local/lib/python3.11/dist-packages (from SQLAlchemy<3,>=1.4->langchain) (3.1.1)\n",
            "Requirement already satisfied: regex>=2022.1.18 in /usr/local/lib/python3.11/dist-packages (from tiktoken<1,>=0.7->langchain-openai) (2024.11.6)\n",
            "Requirement already satisfied: httpcore==1.* in /usr/local/lib/python3.11/dist-packages (from httpx>=0.25.2->langgraph-sdk<0.2.0,>=0.1.42->langgraph) (1.0.7)\n",
            "Requirement already satisfied: h11<0.15,>=0.13 in /usr/local/lib/python3.11/dist-packages (from httpcore==1.*->httpx>=0.25.2->langgraph-sdk<0.2.0,>=0.1.42->langgraph) (0.14.0)\n",
            "Downloading langchain_openai-0.3.12-py3-none-any.whl (61 kB)\n",
            "\u001b[2K   \u001b[90m━━━━━━━━━━━━━━━━━━━━━━━━━━━━━━━━━━━━━━━━\u001b[0m \u001b[32m61.3/61.3 kB\u001b[0m \u001b[31m4.0 MB/s\u001b[0m eta \u001b[36m0:00:00\u001b[0m\n",
            "\u001b[?25hDownloading langgraph-0.3.29-py3-none-any.whl (144 kB)\n",
            "\u001b[2K   \u001b[90m━━━━━━━━━━━━━━━━━━━━━━━━━━━━━━━━━━━━━━━━\u001b[0m \u001b[32m144.7/144.7 kB\u001b[0m \u001b[31m8.5 MB/s\u001b[0m eta \u001b[36m0:00:00\u001b[0m\n",
            "\u001b[?25hDownloading langgraph_checkpoint-2.0.24-py3-none-any.whl (42 kB)\n",
            "\u001b[2K   \u001b[90m━━━━━━━━━━━━━━━━━━━━━━━━━━━━━━━━━━━━━━━━\u001b[0m \u001b[32m42.0/42.0 kB\u001b[0m \u001b[31m2.6 MB/s\u001b[0m eta \u001b[36m0:00:00\u001b[0m\n",
            "\u001b[?25hDownloading langgraph_prebuilt-0.1.8-py3-none-any.whl (25 kB)\n",
            "Downloading langgraph_sdk-0.1.61-py3-none-any.whl (47 kB)\n",
            "\u001b[2K   \u001b[90m━━━━━━━━━━━━━━━━━━━━━━━━━━━━━━━━━━━━━━━━\u001b[0m \u001b[32m47.2/47.2 kB\u001b[0m \u001b[31m3.1 MB/s\u001b[0m eta \u001b[36m0:00:00\u001b[0m\n",
            "\u001b[?25hDownloading tiktoken-0.9.0-cp311-cp311-manylinux_2_17_x86_64.manylinux2014_x86_64.whl (1.2 MB)\n",
            "\u001b[2K   \u001b[90m━━━━━━━━━━━━━━━━━━━━━━━━━━━━━━━━━━━━━━━━\u001b[0m \u001b[32m1.2/1.2 MB\u001b[0m \u001b[31m42.0 MB/s\u001b[0m eta \u001b[36m0:00:00\u001b[0m\n",
            "\u001b[?25hDownloading xxhash-3.5.0-cp311-cp311-manylinux_2_17_x86_64.manylinux2014_x86_64.whl (194 kB)\n",
            "\u001b[2K   \u001b[90m━━━━━━━━━━━━━━━━━━━━━━━━━━━━━━━━━━━━━━━━\u001b[0m \u001b[32m194.8/194.8 kB\u001b[0m \u001b[31m12.9 MB/s\u001b[0m eta \u001b[36m0:00:00\u001b[0m\n",
            "\u001b[?25hDownloading ormsgpack-1.9.1-cp311-cp311-manylinux_2_17_x86_64.manylinux2014_x86_64.whl (223 kB)\n",
            "\u001b[2K   \u001b[90m━━━━━━━━━━━━━━━━━━━━━━━━━━━━━━━━━━━━━━━━\u001b[0m \u001b[32m223.6/223.6 kB\u001b[0m \u001b[31m15.8 MB/s\u001b[0m eta \u001b[36m0:00:00\u001b[0m\n",
            "\u001b[?25hInstalling collected packages: xxhash, ormsgpack, tiktoken, langgraph-sdk, langgraph-checkpoint, langchain-openai, langgraph-prebuilt, langgraph\n",
            "Successfully installed langchain-openai-0.3.12 langgraph-0.3.29 langgraph-checkpoint-2.0.24 langgraph-prebuilt-0.1.8 langgraph-sdk-0.1.61 ormsgpack-1.9.1 tiktoken-0.9.0 xxhash-3.5.0\n"
          ]
        }
      ],
      "source": [
        "!pip install langchain langchain-openai langgraph langchain-core"
      ]
    },
    {
      "cell_type": "code",
      "source": [
        "# Retrieve the API key from Colab's secrets\n",
        "from google.colab import userdata\n",
        "api_key = userdata.get('openai_api_key')"
      ],
      "metadata": {
        "id": "lXpix2-wi0Sz"
      },
      "execution_count": null,
      "outputs": []
    },
    {
      "cell_type": "code",
      "source": [
        "from typing import TypedDict, Literal, Annotated, List\n",
        "from operator import add\n",
        "from langchain_core.messages import HumanMessage, SystemMessage, BaseMessage\n",
        "from langgraph.graph import END, START, StateGraph\n",
        "from langgraph.prebuilt import ToolNode\n",
        "from langchain_core.tools import tool\n",
        "from langchain_core.prompts import ChatPromptTemplate"
      ],
      "metadata": {
        "id": "VFkvuu3t_88U"
      },
      "execution_count": null,
      "outputs": []
    },
    {
      "cell_type": "code",
      "source": [
        "from langchain_openai import ChatOpenAI\n",
        "llm = ChatOpenAI(model=\"gpt-4o-mini\", openai_api_key=api_key)"
      ],
      "metadata": {
        "id": "2U7sFapfi6-D"
      },
      "execution_count": null,
      "outputs": []
    },
    {
      "cell_type": "markdown",
      "source": [
        "##**Job Description Generator**"
      ],
      "metadata": {
        "id": "hjGRoYMPpNdC"
      }
    },
    {
      "cell_type": "code",
      "source": [
        "# ---------------------------\n",
        "# Step 1: Define State Schema\n",
        "# ---------------------------\n",
        "\n",
        "class InputState(TypedDict):\n",
        "    requirement: str  # HR input like \"Need a Python Backend Engineer\"\n",
        "\n",
        "class OutputState(TypedDict):\n",
        "    jd_output: str\n",
        "\n",
        "class JDState(InputState, OutputState):\n",
        "    messages: Annotated[List[BaseMessage], add]\n",
        "\n",
        "# --------------------------\n",
        "# Step 2: Define Tool\n",
        "# --------------------------\n",
        "\n",
        "@tool\n",
        "def generate_jd(role_description: str) -> str:\n",
        "    \"\"\"Generate a job description for the given role\"\"\"\n",
        "    return f\"Auto-generated JD for: {role_description}\"  # placeholder\n",
        "\n",
        "tools_jd = [generate_jd]\n",
        "\n",
        "# --------------------------\n",
        "# Step 3: Bind Model\n",
        "# --------------------------\n",
        "\n",
        "model_jd = llm.bind_tools(tools_jd)\n",
        "\n",
        "# --------------------------\n",
        "# Step 4: Agent Logic\n",
        "# --------------------------\n",
        "\n",
        "def call_model_jd_generator(state: JDState) -> JDState:\n",
        "    local_messages = state.get(\"messages\", [])\n",
        "    if not local_messages:\n",
        "        local_messages.append(HumanMessage(content=state[\"requirement\"]))\n",
        "\n",
        "    system_message = SystemMessage(content=\"\"\"You are a professional HR assistant.\n",
        "Generate a clear, concise job description using the provided requirement in 50 words.\"\"\")\n",
        "\n",
        "    response = model_jd.invoke([system_message] + local_messages)\n",
        "\n",
        "    state[\"jd_output\"] = response.content\n",
        "    state[\"messages\"] = local_messages + [response]\n",
        "    return state\n",
        "\n",
        "def should_continue_jd(state: JDState) -> Literal[\"tools\", END]:\n",
        "    last_message = state[\"messages\"][-1]\n",
        "    if getattr(last_message, \"tool_calls\", None):\n",
        "        return \"tools\"\n",
        "    return END\n",
        "\n",
        "# --------------------------\n",
        "# Step 5: JD Agent Subgraph\n",
        "# --------------------------\n",
        "\n",
        "jd_graph = StateGraph(JDState, input=InputState, output=OutputState)\n",
        "jd_graph.add_node(\"call_model_jd_generator\", call_model_jd_generator)\n",
        "jd_graph.add_node(\"tools\", ToolNode(tools_jd))\n",
        "jd_graph.add_edge(START, \"call_model_jd_generator\")\n",
        "jd_graph.add_conditional_edges(\"call_model_jd_generator\", should_continue_jd)\n",
        "jd_graph.add_edge(\"tools\", \"call_model_jd_generator\")\n",
        "\n",
        "jd_generator_agent = jd_graph.compile()\n"
      ],
      "metadata": {
        "id": "jgaLeN38_35r"
      },
      "execution_count": null,
      "outputs": []
    },
    {
      "cell_type": "code",
      "source": [
        "# --------------------------\n",
        "# Step 6: Display Graph\n",
        "# --------------------------\n",
        "\n",
        "from IPython.display import Image, display\n",
        "from langchain_core.runnables.graph import MermaidDrawMethod\n",
        "\n",
        "display(\n",
        "    Image(\n",
        "        jd_generator_agent.get_graph().draw_mermaid_png(\n",
        "            draw_method=MermaidDrawMethod.API,\n",
        "        )\n",
        "    )\n",
        ")"
      ],
      "metadata": {
        "colab": {
          "base_uri": "https://localhost:8080/",
          "height": 266
        },
        "id": "CYf9BlPYAWJk",
        "outputId": "67d7cd55-a032-4aab-a138-e04a6ecb618f"
      },
      "execution_count": null,
      "outputs": [
        {
          "output_type": "display_data",
          "data": {
            "image/png": "[encoded data removed]",
            "text/plain": [
              "<IPython.core.display.Image object>"
            ]
          },
          "metadata": {}
        }
      ]
    },
    {
      "cell_type": "code",
      "source": [
        "# ----------------------------------\n",
        "# Step 7: Run Job Description Agent\n",
        "# ----------------------------------\n",
        "result=jd_generator_agent.invoke({\"requirement\": \"We need a data scientist with ML and Python expertise\"})"
      ],
      "metadata": {
        "id": "EvnIV5EhBFQ3"
      },
      "execution_count": null,
      "outputs": []
    },
    {
      "cell_type": "code",
      "source": [
        "print(\"Generated JD:\",result['jd_output'])"
      ],
      "metadata": {
        "colab": {
          "base_uri": "https://localhost:8080/"
        },
        "id": "h0Ah2_WSPw13",
        "outputId": "7dbbf276-7229-4a5e-f498-4bd328f60f4f"
      },
      "execution_count": null,
      "outputs": [
        {
          "output_type": "stream",
          "name": "stdout",
          "text": [
            "Generated JD: **Job Title: Data Scientist**\n",
            "\n",
            "We are seeking a Data Scientist with expertise in Machine Learning and Python. The ideal candidate will analyze complex data sets, develop predictive models, and provide actionable insights to drive business decisions. Strong coding skills and experience with data visualization tools are essential.\n"
          ]
        }
      ]
    },
    {
      "cell_type": "markdown",
      "source": [
        "##**Resume Scanner Agent**"
      ],
      "metadata": {
        "id": "WBd7H9qDQhWC"
      }
    },
    {
      "cell_type": "code",
      "source": [
        "# ---------------------------\n",
        "# Step 1: Define State Schema\n",
        "# ---------------------------\n",
        "class ResumeInputState(TypedDict):\n",
        "    jd_output: str\n",
        "    resume: str\n",
        "\n",
        "class ResumeOutputState(TypedDict):\n",
        "    match_result: str\n",
        "\n",
        "class ResumeMatchingState(ResumeInputState, ResumeOutputState):\n",
        "    messages: Annotated[List[BaseMessage], add]\n"
      ],
      "metadata": {
        "id": "yKCQLPZKQrDc"
      },
      "execution_count": null,
      "outputs": []
    },
    {
      "cell_type": "code",
      "source": [
        "# ----------------------------------------\n",
        "# Step 2: Helper functions to Define Tool\n",
        "# ----------------------------------------\n",
        "from langchain_core.prompts import PromptTemplate\n",
        "from langchain_core.runnables import RunnableLambda\n",
        "from langchain_core.output_parsers import StrOutputParser\n",
        "\n",
        "# Prompt to extract skills from text\n",
        "skill_extraction_prompt = PromptTemplate.from_template(\"\"\"\n",
        "You are an expert technical recruiter. Extract only the relevant technical and soft skills from the following text.\n",
        "Return them as a Python list of strings.\n",
        "\n",
        "Text:\n",
        "{text}\n",
        "\n",
        "Skills List:\n",
        "\"\"\")\n",
        "\n",
        "# Chain to extract skills using LLM\n",
        "skill_extractor_chain = skill_extraction_prompt | llm | StrOutputParser()\n",
        "\n",
        "# Use with job description\n",
        "def extract_skills_from_jd(job_description: str) -> list:\n",
        "    result = skill_extractor_chain.invoke({\"text\": job_description})\n",
        "    try:\n",
        "        return eval(result.strip())\n",
        "    except Exception:\n",
        "        return []\n",
        "\n",
        "# Use with resume\n",
        "def extract_skills_from_resume(resume_text: str) -> list:\n",
        "    result = skill_extractor_chain.invoke({\"text\": resume_text})\n",
        "    try:\n",
        "        return eval(result.strip())\n",
        "    except Exception:\n",
        "        return []\n"
      ],
      "metadata": {
        "id": "CcdzL2Mf9uQg"
      },
      "execution_count": null,
      "outputs": []
    },
    {
      "cell_type": "code",
      "source": [
        "\n",
        "# --------------------------\n",
        "# Step 3: Define Tool\n",
        "# --------------------------\n",
        "@tool\n",
        "def check_resume_match(jd: str, resume: str) -> str:\n",
        "    \"\"\"Check whether the resume matches the job description.\"\"\"\n",
        "    # Parse the job description and resume to extract required and present skills\n",
        "    required_skills = extract_skills_from_jd(jd)\n",
        "    candidate_skills = extract_skills_from_resume(resume)\n",
        "\n",
        "    # Calculate the match percentage based on the presence of required skills\n",
        "    matched_skills = required_skills.intersection(candidate_skills)\n",
        "    match_percentage = (len(matched_skills) / len(required_skills)) * 100\n",
        "\n",
        "    # Generate reasoning\n",
        "    missing_skills = required_skills - matched_skills\n",
        "    reasoning = f\"Matched skills: {matched_skills}. Missing skills: {missing_skills}.\"\n",
        "\n",
        "    return f\"**Match Percentage: {match_percentage}%**\\n**Reasoning:** {reasoning}\"\n"
      ],
      "metadata": {
        "id": "f2LYhQcQQtyP"
      },
      "execution_count": null,
      "outputs": []
    },
    {
      "cell_type": "code",
      "source": [
        "# --------------------------\n",
        "# Step 4: Bind Tool\n",
        "# --------------------------\n",
        "tools_rm = [check_resume_match]\n",
        "model_rm = llm.bind_tools(tools_rm)"
      ],
      "metadata": {
        "id": "Bi9ISkmFQzp6"
      },
      "execution_count": null,
      "outputs": []
    },
    {
      "cell_type": "code",
      "source": [
        "# --------------------------\n",
        "# Step 5: Agent Logic\n",
        "# --------------------------\n",
        "def call_model_resume_matcher(state: ResumeMatchingState) -> ResumeMatchingState:\n",
        "    local_messages = state.get(\"messages\", [])\n",
        "    jd = state[\"jd_output\"]\n",
        "    resume = state[\"resume\"]\n",
        "\n",
        "    if not local_messages:\n",
        "        local_messages.append(HumanMessage(content=f\"JD: {jd}\\n\\nResume: {resume}\"))\n",
        "\n",
        "    system_message = SystemMessage(content=\"\"\"\n",
        "You are a professional recruiter analyzing whether a resume is suitable for the job description.\n",
        "- Prioritize the presence of core technical skills explicitly mentioned in the job description, such as Python and Docker.\n",
        "- If these skills are missing, assign a significantly lower match percentage.\n",
        "- Consider transferable skills only if they are directly relevant to the job requirements.\n",
        "- Provide a clear explanation for the match percentage assigned.\n",
        "\"\"\")\n",
        "    response = model_rm.invoke([system_message] + local_messages)\n",
        "    state[\"match_result\"] = response.content\n",
        "    state[\"messages\"] = local_messages + [response]\n",
        "    return state\n",
        "\n",
        "def should_continue_rm(state: ResumeMatchingState) -> Literal[\"tools\", END]:\n",
        "    last_message = state[\"messages\"][-1]\n",
        "    if getattr(last_message, \"tool_calls\", None):\n",
        "        return \"tools\"\n",
        "    return END\n"
      ],
      "metadata": {
        "id": "-grD4TGkQ7-M"
      },
      "execution_count": null,
      "outputs": []
    },
    {
      "cell_type": "code",
      "source": [
        "# --------------------------------------\n",
        "# Step 6: Resume Scanner Agent SubGraph\n",
        "# --------------------------------------\n",
        "resume_graph = StateGraph(ResumeMatchingState, input=ResumeInputState, output=ResumeOutputState)\n",
        "resume_graph.add_node(\"call_model_resume_matcher\", call_model_resume_matcher)\n",
        "resume_graph.add_node(\"tools\", ToolNode(tools_rm))\n",
        "resume_graph.add_edge(START, \"call_model_resume_matcher\")\n",
        "resume_graph.add_conditional_edges(\"call_model_resume_matcher\", should_continue_rm)\n",
        "resume_graph.add_edge(\"tools\", \"call_model_resume_matcher\")\n",
        "\n",
        "resume_matcher_agent = resume_graph.compile()"
      ],
      "metadata": {
        "id": "-OcVxaZhRC1R"
      },
      "execution_count": null,
      "outputs": []
    },
    {
      "cell_type": "code",
      "source": [
        "# --------------------------\n",
        "# Step 7: Display Graph\n",
        "# --------------------------\n",
        "from IPython.display import Image, display\n",
        "from langchain_core.runnables.graph import MermaidDrawMethod\n",
        "\n",
        "display(\n",
        "    Image(\n",
        "        resume_matcher_agent.get_graph().draw_mermaid_png(\n",
        "            draw_method=MermaidDrawMethod.API,\n",
        "        )\n",
        "    )\n",
        ")"
      ],
      "metadata": {
        "colab": {
          "base_uri": "https://localhost:8080/",
          "height": 266
        },
        "id": "YiTupZ4nSxZP",
        "outputId": "0f5ae455-d32a-4721-9de9-481597cd281e"
      },
      "execution_count": null,
      "outputs": [
        {
          "output_type": "display_data",
          "data": {
            "image/png": "[encoded data removed]",
            "text/plain": [
              "<IPython.core.display.Image object>"
            ]
          },
          "metadata": {}
        }
      ]
    },
    {
      "cell_type": "code",
      "source": [
        "# ---------------------------------\n",
        "# Step 8: Run Resume matcher Agent\n",
        "# ---------------------------------\n",
        "resume_result = resume_matcher_agent.invoke({\n",
        "    \"jd_output\": result[\"jd_output\"],\n",
        "    \"resume\": \"I have 2 years experence in JAVA\"\n",
        "})\n",
        "\n",
        "print(\"Resume Match Result:\", resume_result[\"match_result\"])"
      ],
      "metadata": {
        "colab": {
          "base_uri": "https://localhost:8080/"
        },
        "id": "obwGcbJGRQAY",
        "outputId": "56f669e4-c769-4e70-e1b2-0e318a3c9c01"
      },
      "execution_count": null,
      "outputs": [
        {
          "output_type": "stream",
          "name": "stdout",
          "text": [
            "Resume Match Result: The resume does not match the job description for the following reasons:\n",
            "\n",
            "1. **Core Technical Skills**: The job description specifically requires experience in Python and Docker. The resume only mentions experience in Java, which means it does not fulfill the primary technical requirements of the role.\n",
            "\n",
            "2. **Relevant Experience**: The resume does not include any information about server-side application development, problem-solving skills related to backend development, or experience with containerization technologies, which are also emphasized in the job description.\n",
            "\n",
            "Given these factors, I would assign a very low match percentage of **10%**. The lack of relevant skills in Python and Docker significantly affects the candidate's suitability for this specific position.\n"
          ]
        }
      ]
    },
    {
      "cell_type": "markdown",
      "source": [
        "##**OnBoard Process Agent**"
      ],
      "metadata": {
        "id": "ZOZik-QTw6-N"
      }
    },
    {
      "cell_type": "code",
      "source": [
        "# --------------------------------\n",
        "#  Step 1: Onboarding Agent Setup\n",
        "# --------------------------------\n",
        "class OnboardInputState(TypedDict):\n",
        "    resume: str\n",
        "    jd_output: str\n",
        "\n",
        "class OnboardOutputState(TypedDict):\n",
        "    onboarding_result: str\n",
        "\n",
        "class OnboardState(OnboardInputState, OnboardOutputState):\n",
        "    messages: Annotated[List[BaseMessage], add]\n",
        "\n",
        "# --------------------------\n",
        "# Step 2: Define Tool\n",
        "# --------------------------\n",
        "@tool\n",
        "def simulate_onboarding(resume: str, jd_output: str) -> str:\n",
        "    \"\"\"Simulate onboarding process for selected candidate\"\"\"\n",
        "    return f\"Candidate with resume '{resume[:30]}...' has been successfully onboarded for JD: '{jd_output[:30]}...'.\"\n",
        "\n",
        "tools_onboard = [simulate_onboarding]\n",
        "model_onboard = llm.bind_tools(tools_onboard)\n",
        "\n",
        "# --------------------------\n",
        "# Step 3: Agent Logic\n",
        "# --------------------------\n",
        "def call_onboarding_model(state: OnboardState) -> OnboardState:\n",
        "    local_messages = state.get(\"messages\", [])\n",
        "    if not local_messages:\n",
        "        local_messages.append(HumanMessage(\n",
        "            content=f\"Please onboard the candidate for the following JD:\\n\\n{state['jd_output']}\\n\\nResume:\\n{state['resume']}\"\n",
        "        ))\n",
        "\n",
        "    system_message = SystemMessage(content=\"You are an onboarding automation assistant. Complete onboarding based on JD and resume.\")\n",
        "\n",
        "    response = model_onboard.invoke([system_message] + local_messages)\n",
        "\n",
        "    state[\"onboarding_result\"] = response.content\n",
        "    state[\"messages\"] = local_messages + [response]\n",
        "    return state\n",
        "\n",
        "def should_continue_onboarding(state: OnboardState) -> Literal[\"tools\", END]:\n",
        "    last_message = state[\"messages\"][-1]\n",
        "    if getattr(last_message, \"tool_calls\", None):\n",
        "        return \"tools\"\n",
        "    return END\n",
        "\n",
        "# ----------------------------------\n",
        "# Step 4: Onboarding Agent SubGraph\n",
        "# ----------------------------------\n",
        "onboard_graph = StateGraph(OnboardState, input=OnboardInputState, output=OnboardOutputState)\n",
        "onboard_graph.add_node(\"call_onboarding_model\", call_onboarding_model)\n",
        "onboard_graph.add_node(\"tools\", ToolNode(tools_onboard))\n",
        "onboard_graph.add_edge(START, \"call_onboarding_model\")\n",
        "onboard_graph.add_conditional_edges(\"call_onboarding_model\", should_continue_onboarding)\n",
        "onboard_graph.add_edge(\"tools\", \"call_onboarding_model\")\n",
        "\n",
        "onboard_agent = onboard_graph.compile()\n"
      ],
      "metadata": {
        "id": "T1C0IZrLxCSX"
      },
      "execution_count": null,
      "outputs": []
    },
    {
      "cell_type": "code",
      "source": [
        "# --------------------------\n",
        "# Step 5: display Graph\n",
        "# --------------------------\n",
        "from IPython.display import Image, display\n",
        "from langchain_core.runnables.graph import MermaidDrawMethod\n",
        "\n",
        "display(\n",
        "    Image(\n",
        "        onboard_agent.get_graph().draw_mermaid_png(\n",
        "            draw_method=MermaidDrawMethod.API,\n",
        "        )\n",
        "    )\n",
        ")"
      ],
      "metadata": {
        "colab": {
          "base_uri": "https://localhost:8080/",
          "height": 266
        },
        "id": "Xr8EWzBXB-Yp",
        "outputId": "4e3b6312-891d-4b92-cb23-aac3f768569f"
      },
      "execution_count": null,
      "outputs": [
        {
          "output_type": "display_data",
          "data": {
            "image/png": "[encoded data removed]",
            "text/plain": [
              "<IPython.core.display.Image object>"
            ]
          },
          "metadata": {}
        }
      ]
    },
    {
      "cell_type": "code",
      "source": [
        "# -----------------------------\n",
        "# Step 6: Run Onboarding Agent\n",
        "# -----------------------------\n",
        "onboard_result = onboard_agent.invoke({\n",
        "    \"resume\": resume,\n",
        "    \"jd_output\": result[\"jd_output\"],\n",
        "})\n"
      ],
      "metadata": {
        "id": "KjZQ9CCDxGRe"
      },
      "execution_count": null,
      "outputs": []
    },
    {
      "cell_type": "code",
      "source": [
        "print(onboard_result)"
      ],
      "metadata": {
        "colab": {
          "base_uri": "https://localhost:8080/"
        },
        "id": "moJbuFwjx_Qu",
        "outputId": "33eb9d79-0d1d-4db6-caaa-73eee88a3502"
      },
      "execution_count": null,
      "outputs": [
        {
          "output_type": "stream",
          "name": "stdout",
          "text": [
            "{'onboarding_result': 'The candidate has been successfully onboarded for the Data Scientist position.'}\n"
          ]
        }
      ]
    },
    {
      "cell_type": "markdown",
      "source": [
        "##**Supervisor Agent with Human in the loop**"
      ],
      "metadata": {
        "id": "AF1eiR7tyRUD"
      }
    },
    {
      "cell_type": "code",
      "source": [
        "# --------------------------------\n",
        "# Step 1: Supervisor Agent Schema\n",
        "# --------------------------------\n",
        "class SupervisorState(TypedDict):\n",
        "    requirements: str\n",
        "    resume: str\n",
        "    jd_output: str\n",
        "    match_result: str\n",
        "    match_percent: int  # Added to store extracted percentage\n",
        "    interview_decision: str  # Human input: 'Selected' or 'Rejected'\n",
        "    onboarding_result: str\n",
        "    decision: str\n",
        "    steps_done: List[str]\n",
        "\n",
        "# -------------------------------\n",
        "# Step 2: Supervisor Agent Logic\n",
        "# -------------------------------\n",
        "def jd_node(state: SupervisorState) -> SupervisorState:\n",
        "    if \"jd_node\" not in state[\"steps_done\"]:\n",
        "        jd_output = jd_generator_agent.invoke({\"requirement\": state[\"requirements\"]})\n",
        "        state[\"jd_output\"] = jd_output[\"jd_output\"]\n",
        "        state[\"steps_done\"].append(\"jd_node\")\n",
        "    return state\n",
        "\n",
        "import re\n",
        "\n",
        "def resume_match_node(state: SupervisorState) -> SupervisorState:\n",
        "    if \"resume_match_node\" not in state[\"steps_done\"]:\n",
        "        result = resume_matcher_agent.invoke({\n",
        "            \"jd_output\": state[\"jd_output\"],\n",
        "            \"resume\": state[\"resume\"]\n",
        "        })\n",
        "        state[\"match_result\"] = result[\"match_result\"]\n",
        "\n",
        "        # Debugging: Print the match result\n",
        "        print(\"Match Result:\", state[\"match_result\"])\n",
        "\n",
        "        # Extract match percentage\n",
        "        match = re.search(r\"Match Percentage:\\s*(\\d+)%\", state[\"match_result\"])\n",
        "        if match:\n",
        "            match_percent = int(match.group(1))\n",
        "            state[\"match_percent\"] = match_percent\n",
        "        else:\n",
        "            state[\"match_percent\"] = 0\n",
        "\n",
        "        state[\"steps_done\"].append(\"resume_match_node\")\n",
        "    return state\n",
        "\n",
        "\n",
        "def human_interview_node(state: SupervisorState) -> SupervisorState:\n",
        "    if \"human_interview_node\" not in state[\"steps_done\"]:\n",
        "        print(\"👨‍💼 Please enter the interview result (Selected / Rejected):\")\n",
        "        state[\"interview_decision\"] = input(\">> \").strip()\n",
        "        state[\"steps_done\"].append(\"human_interview_node\")\n",
        "    return state\n",
        "\n",
        "def onboard_process_node(state: SupervisorState) -> SupervisorState:\n",
        "    if \"onboard_process_node\" not in state[\"steps_done\"]:\n",
        "        result = onboard_agent.invoke({\n",
        "            \"resume\": state[\"resume\"],\n",
        "            \"jd_output\": state[\"jd_output\"]\n",
        "        })\n",
        "        state[\"onboarding_result\"] = result[\"onboarding_result\"]\n",
        "        state[\"decision\"] = \"Selected and Onboarded\"\n",
        "        state[\"steps_done\"].append(\"onboard_process_node\")\n",
        "    return state\n",
        "\n",
        "def supervisor_node(state: SupervisorState) -> SupervisorState:\n",
        "    return state\n",
        "\n",
        "def route_supervisor(state: SupervisorState) -> str:\n",
        "    if state[\"decision\"]:\n",
        "        print(\"✅ Decision already made:\", state[\"decision\"])\n",
        "        return \"end\"\n",
        "    if \"jd_node\" not in state[\"steps_done\"]:\n",
        "        return \"jd_node\"\n",
        "    if \"resume_match_node\" not in state[\"steps_done\"]:\n",
        "        return \"resume_match_node\"\n",
        "    # Use the extracted match percentage for early rejection\n",
        "    if state.get(\"match_percent\", 0) < 40:\n",
        "        state[\"decision\"] = f\"Rejected (Match Percentage: {state['match_percent']}%)\"\n",
        "        print(\"❌ Early rejection due to low resume match score.\")\n",
        "        return \"end\"\n",
        "    if \"human_interview_node\" not in state[\"steps_done\"]:\n",
        "        return \"human_interview_node\"\n",
        "    if state[\"interview_decision\"].lower() == \"rejected\":\n",
        "        state[\"decision\"] = \"Rejected by Interviewer\"\n",
        "        return \"end\"\n",
        "    if \"onboard_process_node\" not in state[\"steps_done\"]:\n",
        "        return \"onboard_process_node\"\n",
        "    return \"end\"\n",
        "\n",
        "# -------------------------------\n",
        "# Step 3: Supervisor Agent Graph\n",
        "# -------------------------------\n",
        "from langgraph.graph import StateGraph, END\n",
        "graph = StateGraph(SupervisorState)\n",
        "graph.add_node(\"supervisor_node\", supervisor_node)\n",
        "graph.add_node(\"jd_node\", jd_node)\n",
        "graph.add_node(\"resume_match_node\", resume_match_node)\n",
        "graph.add_node(\"human_interview_node\", human_interview_node)\n",
        "graph.add_node(\"onboard_process_node\", onboard_process_node)\n",
        "\n",
        "graph.set_entry_point(\"supervisor_node\")\n",
        "graph.add_edge(\"jd_node\", \"supervisor_node\")\n",
        "graph.add_edge(\"resume_match_node\", \"supervisor_node\")\n",
        "graph.add_edge(\"human_interview_node\", \"supervisor_node\")\n",
        "graph.add_edge(\"onboard_process_node\", \"supervisor_node\")\n",
        "graph.add_conditional_edges(\n",
        "    \"supervisor_node\",\n",
        "    route_supervisor,\n",
        "    {\n",
        "        \"jd_node\": \"jd_node\",\n",
        "        \"resume_match_node\": \"resume_match_node\",\n",
        "        \"human_interview_node\": \"human_interview_node\",\n",
        "        \"onboard_process_node\": \"onboard_process_node\",\n",
        "        \"end\": END\n",
        "    }\n",
        ")\n",
        "\n",
        "# Compile the Supervisor Agent Graph\n",
        "supervisor_agent = graph.compile()"
      ],
      "metadata": {
        "colab": {
          "base_uri": "https://localhost:8080/"
        },
        "collapsed": true,
        "id": "rj-yOmDKyQlp",
        "outputId": "441ff67d-db89-489b-9663-fc94eef5f5a8"
      },
      "execution_count": null,
      "outputs": [
        {
          "output_type": "stream",
          "name": "stdout",
          "text": [
            "Match Result: Based on the job description (JD), the key technical skills required are:\n",
            "\n",
            "1. Expertise in Python\n",
            "2. Expertise in Docker\n",
            "3. Familiarity with RESTful APIs\n",
            "4. Database management is preferred\n",
            "\n",
            "The resume provided indicates:\n",
            "\n",
            "- 5 years of experience in Java\n",
            "- 3 years of experience in Python\n",
            "- Strong problem-solving skills\n",
            "- Experience with RESTful APIs\n",
            "\n",
            "### Assessment:\n",
            "- The resume includes Python experience, which aligns with the job requirements.\n",
            "- However, the resume **does not mention Docker**, which is a core technical skill explicitly required for the position.\n",
            "- The experience with RESTful APIs is a positive point and relevant to the role, but it does not compensate for the lack of Docker expertise.\n",
            "\n",
            "### Conclusion:\n",
            "Given the lack of Docker in the resume, I would assign a lower match percentage, specifically around **40%**, primarily due to the absence of the required Docker skill despite the presence of Python and relevant experience with RESTful APIs.\n",
            "\n",
            "**Match Percentage: 40%**\n",
            "👨‍💼 Please enter the interview result (Selected / Rejected):\n",
            ">> Rejected\n",
            "\n",
            "📝 Final State:\n",
            "{'requirements': 'Looking for a backend developer with Python and Docker experience.', 'resume': '5 years experience in Java and 3 years experience in python and strong problem-solving skills and experience with RESTful APIs', 'jd_output': 'We are looking for a Backend Developer with expertise in Python and Docker. You will design and implement server-side applications, ensuring optimal performance and responsiveness, while collaborating with front-end teams. Familiarity with RESTful APIs and database management is preferred.', 'match_result': 'Based on the job description (JD), the key technical skills required are:\\n\\n1. Expertise in Python\\n2. Expertise in Docker\\n3. Familiarity with RESTful APIs\\n4. Database management is preferred\\n\\nThe resume provided indicates:\\n\\n- 5 years of experience in Java\\n- 3 years of experience in Python\\n- Strong problem-solving skills\\n- Experience with RESTful APIs\\n\\n### Assessment:\\n- The resume includes Python experience, which aligns with the job requirements.\\n- However, the resume **does not mention Docker**, which is a core technical skill explicitly required for the position.\\n- The experience with RESTful APIs is a positive point and relevant to the role, but it does not compensate for the lack of Docker expertise.\\n\\n### Conclusion:\\nGiven the lack of Docker in the resume, I would assign a lower match percentage, specifically around **40%**, primarily due to the absence of the required Docker skill despite the presence of Python and relevant experience with RESTful APIs.\\n\\n**Match Percentage: 40%**', 'match_percent': 40, 'interview_decision': 'Rejected', 'onboarding_result': '', 'decision': '', 'steps_done': ['jd_node', 'resume_match_node', 'human_interview_node']}\n"
          ]
        }
      ]
    },
    {
      "cell_type": "code",
      "source": [
        "# --------------------------\n",
        "# Step 4: Display Graph\n",
        "# --------------------------\n",
        "from IPython.display import Image, display\n",
        "from langchain_core.runnables.graph import MermaidDrawMethod\n",
        "\n",
        "display(\n",
        "    Image(\n",
        "        supervisor_agent.get_graph().draw_mermaid_png(\n",
        "            draw_method=MermaidDrawMethod.API,\n",
        "        )\n",
        "    )\n",
        ")"
      ],
      "metadata": {
        "colab": {
          "base_uri": "https://localhost:8080/",
          "height": 290
        },
        "id": "ujdFtEUkCQsT",
        "outputId": "1653d627-7a1c-452f-8c16-3c2213d2b00f"
      },
      "execution_count": null,
      "outputs": [
        {
          "output_type": "display_data",
          "data": {
            "image/png": "[encoded data removed]",
            "text/plain": [
              "<IPython.core.display.Image object>"
            ]
          },
          "metadata": {}
        }
      ]
    },
    {
      "cell_type": "code",
      "source": [
        "# ---------------------------------\n",
        "# Step 5: Run the supervisor agent\n",
        "# ---------------------------------\n",
        "result = supervisor_agent.invoke(SupervisorState(\n",
        "    requirements=\"Looking for a backend developer with Python and Docker experience.\",\n",
        "    resume=\"5 years experience in Java and 6 years experience in python and strong problem-solving skills and experience with RESTful APIs\",\n",
        "    #resume=\"3 years experience in Excel\"\n",
        "    jd_output=\"\",\n",
        "    match_result=\"\",\n",
        "    match_percent=0,\n",
        "    interview_decision=\"\",\n",
        "    onboarding_result=\"\",\n",
        "    decision=\"\",\n",
        "    steps_done=[]\n",
        "))\n",
        "\n",
        "print(\"\\n📝 Final State:\")\n",
        "print(result)"
      ],
      "metadata": {
        "colab": {
          "base_uri": "https://localhost:8080/"
        },
        "id": "rasTjsa5ArZR",
        "outputId": "24c8ade3-37f8-4915-fdd4-bd064b6afd8f"
      },
      "execution_count": null,
      "outputs": [
        {
          "output_type": "stream",
          "name": "stdout",
          "text": [
            "Match Result: The resume provided has relevant experience in Python, as indicated by \"6 years experience in python\" and mentions strong problem-solving skills and experience with RESTful APIs. However, it does not mention Docker, which is a core technical skill explicitly required by the job description.\n",
            "\n",
            "Given the importance of the required skills, especially the absence of Docker on the resume, I would assess the match percentage as follows:\n",
            "\n",
            "- Presence of Python: High relevance (6 years).\n",
            "- Absence of Docker: Significant gap.\n",
            "- Relevant soft skills (problem-solving and communication): Positive, but not core technical.\n",
            "\n",
            "**Match Percentage: 60%**\n",
            "\n",
            "This score reflects the candidate's strong experience in Python and relevant soft skills, while the lack of Docker knowledge greatly impacts their suitability for the role.\n",
            "👨‍💼 Please enter the interview result (Selected / Rejected):\n",
            ">> Selected\n",
            "✅ Decision already made: Selected and Onboarded\n",
            "\n",
            "📝 Final State:\n",
            "{'requirements': 'Looking for a backend developer with Python and Docker experience.', 'resume': '5 years experience in Java and 6 years experience in python and strong problem-solving skills and experience with RESTful APIs', 'jd_output': '**Job Title: Backend Developer**\\n\\nWe are seeking a Backend Developer skilled in Python and Docker. The ideal candidate will design, develop, and maintain server-side applications, optimize performance, troubleshoot issues, and collaborate with frontend developers to implement APIs. Strong problem-solving and communication skills are essential for success in this role.', 'match_result': 'The resume provided has relevant experience in Python, as indicated by \"6 years experience in python\" and mentions strong problem-solving skills and experience with RESTful APIs. However, it does not mention Docker, which is a core technical skill explicitly required by the job description.\\n\\nGiven the importance of the required skills, especially the absence of Docker on the resume, I would assess the match percentage as follows:\\n\\n- Presence of Python: High relevance (6 years).\\n- Absence of Docker: Significant gap.\\n- Relevant soft skills (problem-solving and communication): Positive, but not core technical.\\n\\n**Match Percentage: 60%**\\n\\nThis score reflects the candidate\\'s strong experience in Python and relevant soft skills, while the lack of Docker knowledge greatly impacts their suitability for the role.', 'match_percent': 60, 'interview_decision': 'Selected', 'onboarding_result': 'The candidate has been successfully onboarded for the Backend Developer position. If you need any further assistance or details, feel free to ask!', 'decision': 'Selected and Onboarded', 'steps_done': ['jd_node', 'resume_match_node', 'human_interview_node', 'onboard_process_node']}\n"
          ]
        }
      ]
    }
  ]
}
