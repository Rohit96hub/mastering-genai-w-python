{
  "nbformat": 4,
  "nbformat_minor": 0,
  "metadata": {
    "colab": {
      "provenance": []
    },
    "kernelspec": {
      "name": "python3",
      "display_name": "Python 3"
    },
    "language_info": {
      "name": "python"
    }
  },
  "cells": [
    {
      "cell_type": "markdown",
      "source": [
        "# Simple workflow for an Employee Onboarding Process"
      ],
      "metadata": {
        "id": "rJ3v2XpudICz"
      }
    },
    {
      "cell_type": "code",
      "source": [
        "from typing import TypedDict\n",
        "from langgraph.graph import StateGraph, START, END"
      ],
      "metadata": {
        "id": "XhtJBSIFdNLx"
      },
      "execution_count": null,
      "outputs": []
    },
    {
      "cell_type": "code",
      "source": [
        "# Define the state schema for the onboarding process\n",
        "# Any dictionary of this type should have the following keys with their respective value types:\n",
        "class OnboardingState(TypedDict):\n",
        "    employee_name: str\n",
        "    role: str\n",
        "    equipment_assigned: bool\n",
        "    orientation_scheduled: bool"
      ],
      "metadata": {
        "id": "IvqCXGzKdU02"
      },
      "execution_count": null,
      "outputs": []
    },
    {
      "cell_type": "code",
      "source": [
        "# Function to collect employee information\n",
        "def collect_employee_info(state: OnboardingState) -> OnboardingState:\n",
        "    print(f\"Collecting information for {state['employee_name']} in role {state['role']}.\")\n",
        "    return state\n"
      ],
      "metadata": {
        "id": "fDjTJddjdaRW"
      },
      "execution_count": null,
      "outputs": []
    },
    {
      "cell_type": "code",
      "source": [
        "# Function to assign equipment based on role\n",
        "def assign_equipment(state: OnboardingState) -> OnboardingState:\n",
        "    if state['role'].lower() in ['developer', 'designer']:\n",
        "        state['equipment_assigned'] = True\n",
        "        print(f\"Assigned equipment to {state['employee_name']}.\")\n",
        "    else:\n",
        "        state['equipment_assigned'] = False\n",
        "        print(f\"No equipment needed for {state['employee_name']}.\")\n",
        "    return state"
      ],
      "metadata": {
        "id": "BweK_fAwdj5o"
      },
      "execution_count": null,
      "outputs": []
    },
    {
      "cell_type": "code",
      "source": [
        "# Function to schedule orientation\n",
        "def schedule_orientation(state: OnboardingState) -> OnboardingState:\n",
        "    state['orientation_scheduled'] = True\n",
        "    print(f\"Orientation scheduled for {state['employee_name']}.\")\n",
        "    return state\n"
      ],
      "metadata": {
        "id": "Rx5-UZ5vdlGy"
      },
      "execution_count": null,
      "outputs": []
    },
    {
      "cell_type": "code",
      "source": [
        "# Initialize the StateGraph with the OnboardingState\n",
        "graph = StateGraph(OnboardingState)\n",
        "\n",
        "# Add nodes to the graph\n",
        "graph.add_node(\"collect_info\", collect_employee_info)\n",
        "graph.add_node(\"assign_equipment\", assign_equipment)\n",
        "graph.add_node(\"schedule_orientation\", schedule_orientation)\n",
        "\n",
        "# Define the workflow by adding edges\n",
        "graph.add_edge(START, \"collect_info\")\n",
        "graph.add_edge(\"collect_info\", \"assign_equipment\")\n",
        "graph.add_edge(\"assign_equipment\", \"schedule_orientation\")\n",
        "graph.add_edge(\"schedule_orientation\", END)\n",
        "\n",
        "# Set the entry point for the graph\n",
        "graph.set_entry_point(\"collect_info\")\n",
        "\n",
        "# Compile the graph into a runnable\n",
        "runnable = graph.compile()"
      ],
      "metadata": {
        "id": "j5ncSe7xdwOi"
      },
      "execution_count": null,
      "outputs": []
    },
    {
      "cell_type": "code",
      "source": [
        "# Visualize the workflow (requires graphviz)\n",
        "from IPython.display import Image, display\n",
        "from langchain_core.runnables.graph import MermaidDrawMethod"
      ],
      "metadata": {
        "id": "w_AlEdD5d4H-"
      },
      "execution_count": null,
      "outputs": []
    },
    {
      "cell_type": "code",
      "source": [
        "display(\n",
        "    Image(\n",
        "        runnable.get_graph().draw_mermaid_png(\n",
        "            draw_method=MermaidDrawMethod.API,\n",
        "        )\n",
        "    )\n",
        ")"
      ],
      "metadata": {
        "colab": {
          "base_uri": "https://localhost:8080/",
          "height": 449
        },
        "id": "9YisvyEDd9OJ",
        "outputId": "97666bc2-b41c-4b4c-e5e5-64c4e6dbf726"
      },
      "execution_count": null,
      "outputs": [
        {
          "output_type": "display_data",
          "data": {
            "image/png": "[encoded data removed]",
            "text/plain": [
              "<IPython.core.display.Image object>"
            ]
          },
          "metadata": {}
        }
      ]
    },
    {
      "cell_type": "code",
      "source": [
        "# Example invocation of the workflow\n",
        "initial_state = {\n",
        "    \"employee_name\": \"Aarya Naik\",\n",
        "    \"role\": \"Web Developer\",\n",
        "    \"equipment_assigned\": False,\n",
        "    \"orientation_scheduled\": False\n",
        "}\n",
        "\n",
        "runnable.invoke(initial_state)"
      ],
      "metadata": {
        "colab": {
          "base_uri": "https://localhost:8080/"
        },
        "id": "ULz16xLneBgA",
        "outputId": "ec178055-e787-4966-cd28-46295b806036"
      },
      "execution_count": null,
      "outputs": [
        {
          "output_type": "stream",
          "name": "stdout",
          "text": [
            "Collecting information for Aarya Naik in role Web Developer.\n",
            "No equipment needed for Aarya Naik.\n",
            "Orientation scheduled for Aarya Naik.\n"
          ]
        },
        {
          "output_type": "execute_result",
          "data": {
            "text/plain": [
              "{'employee_name': 'Aarya Naik',\n",
              " 'role': 'Web Developer',\n",
              " 'equipment_assigned': False,\n",
              " 'orientation_scheduled': True}"
            ]
          },
          "metadata": {},
          "execution_count": 31
        }
      ]
    },
    {
      "cell_type": "code",
      "source": [
        "# Example invocation of the workflow\n",
        "initial_state = {\n",
        "    \"employee_name\": \"Bhavya Singh\",\n",
        "    \"role\": \"Developer\",\n",
        "    \"equipment_assigned\": False,\n",
        "    \"orientation_scheduled\": False\n",
        "}\n",
        "\n",
        "runnable.invoke(initial_state)"
      ],
      "metadata": {
        "colab": {
          "base_uri": "https://localhost:8080/"
        },
        "id": "3T6czenVmL3Q",
        "outputId": "7e2914ca-8175-4bba-e25e-6646850e462c"
      },
      "execution_count": null,
      "outputs": [
        {
          "output_type": "stream",
          "name": "stdout",
          "text": [
            "Collecting information for Bhavya Singh in role Developer.\n",
            "Assigned equipment to Bhavya Singh.\n",
            "Orientation scheduled for Bhavya Singh.\n"
          ]
        },
        {
          "output_type": "execute_result",
          "data": {
            "text/plain": [
              "{'employee_name': 'Bhavya Singh',\n",
              " 'role': 'Developer',\n",
              " 'equipment_assigned': True,\n",
              " 'orientation_scheduled': True}"
            ]
          },
          "metadata": {},
          "execution_count": 32
        }
      ]
    },
    {
      "cell_type": "markdown",
      "source": [
        "# AI based HR Policy Assistant"
      ],
      "metadata": {
        "id": "DGHWK8lSrFRh"
      }
    },
    {
      "cell_type": "code",
      "source": [
        "!pip install langchain-openai python-dotenv"
      ],
      "metadata": {
        "colab": {
          "base_uri": "https://localhost:8080/"
        },
        "collapsed": true,
        "id": "Qz-qe8qOtrGM",
        "outputId": "7a53162d-9bc8-46c8-e48a-aa03320136b0"
      },
      "execution_count": 58,
      "outputs": [
        {
          "output_type": "stream",
          "name": "stdout",
          "text": [
            "Requirement already satisfied: langchain-openai in /usr/local/lib/python3.11/dist-packages (0.3.12)\n",
            "Collecting python-dotenv\n",
            "  Downloading python_dotenv-1.1.0-py3-none-any.whl.metadata (24 kB)\n",
            "Requirement already satisfied: langchain-core<1.0.0,>=0.3.49 in /usr/local/lib/python3.11/dist-packages (from langchain-openai) (0.3.49)\n",
            "Requirement already satisfied: openai<2.0.0,>=1.68.2 in /usr/local/lib/python3.11/dist-packages (from langchain-openai) (1.70.0)\n",
            "Requirement already satisfied: tiktoken<1,>=0.7 in /usr/local/lib/python3.11/dist-packages (from langchain-openai) (0.9.0)\n",
            "Requirement already satisfied: langsmith<0.4,>=0.1.125 in /usr/local/lib/python3.11/dist-packages (from langchain-core<1.0.0,>=0.3.49->langchain-openai) (0.3.22)\n",
            "Requirement already satisfied: tenacity!=8.4.0,<10.0.0,>=8.1.0 in /usr/local/lib/python3.11/dist-packages (from langchain-core<1.0.0,>=0.3.49->langchain-openai) (9.1.2)\n",
            "Requirement already satisfied: jsonpatch<2.0,>=1.33 in /usr/local/lib/python3.11/dist-packages (from langchain-core<1.0.0,>=0.3.49->langchain-openai) (1.33)\n",
            "Requirement already satisfied: PyYAML>=5.3 in /usr/local/lib/python3.11/dist-packages (from langchain-core<1.0.0,>=0.3.49->langchain-openai) (6.0.2)\n",
            "Requirement already satisfied: packaging<25,>=23.2 in /usr/local/lib/python3.11/dist-packages (from langchain-core<1.0.0,>=0.3.49->langchain-openai) (24.2)\n",
            "Requirement already satisfied: typing-extensions>=4.7 in /usr/local/lib/python3.11/dist-packages (from langchain-core<1.0.0,>=0.3.49->langchain-openai) (4.13.0)\n",
            "Requirement already satisfied: pydantic<3.0.0,>=2.5.2 in /usr/local/lib/python3.11/dist-packages (from langchain-core<1.0.0,>=0.3.49->langchain-openai) (2.11.1)\n",
            "Requirement already satisfied: anyio<5,>=3.5.0 in /usr/local/lib/python3.11/dist-packages (from openai<2.0.0,>=1.68.2->langchain-openai) (4.9.0)\n",
            "Requirement already satisfied: distro<2,>=1.7.0 in /usr/local/lib/python3.11/dist-packages (from openai<2.0.0,>=1.68.2->langchain-openai) (1.9.0)\n",
            "Requirement already satisfied: httpx<1,>=0.23.0 in /usr/local/lib/python3.11/dist-packages (from openai<2.0.0,>=1.68.2->langchain-openai) (0.28.1)\n",
            "Requirement already satisfied: jiter<1,>=0.4.0 in /usr/local/lib/python3.11/dist-packages (from openai<2.0.0,>=1.68.2->langchain-openai) (0.9.0)\n",
            "Requirement already satisfied: sniffio in /usr/local/lib/python3.11/dist-packages (from openai<2.0.0,>=1.68.2->langchain-openai) (1.3.1)\n",
            "Requirement already satisfied: tqdm>4 in /usr/local/lib/python3.11/dist-packages (from openai<2.0.0,>=1.68.2->langchain-openai) (4.67.1)\n",
            "Requirement already satisfied: regex>=2022.1.18 in /usr/local/lib/python3.11/dist-packages (from tiktoken<1,>=0.7->langchain-openai) (2024.11.6)\n",
            "Requirement already satisfied: requests>=2.26.0 in /usr/local/lib/python3.11/dist-packages (from tiktoken<1,>=0.7->langchain-openai) (2.32.3)\n",
            "Requirement already satisfied: idna>=2.8 in /usr/local/lib/python3.11/dist-packages (from anyio<5,>=3.5.0->openai<2.0.0,>=1.68.2->langchain-openai) (3.10)\n",
            "Requirement already satisfied: certifi in /usr/local/lib/python3.11/dist-packages (from httpx<1,>=0.23.0->openai<2.0.0,>=1.68.2->langchain-openai) (2025.1.31)\n",
            "Requirement already satisfied: httpcore==1.* in /usr/local/lib/python3.11/dist-packages (from httpx<1,>=0.23.0->openai<2.0.0,>=1.68.2->langchain-openai) (1.0.7)\n",
            "Requirement already satisfied: h11<0.15,>=0.13 in /usr/local/lib/python3.11/dist-packages (from httpcore==1.*->httpx<1,>=0.23.0->openai<2.0.0,>=1.68.2->langchain-openai) (0.14.0)\n",
            "Requirement already satisfied: jsonpointer>=1.9 in /usr/local/lib/python3.11/dist-packages (from jsonpatch<2.0,>=1.33->langchain-core<1.0.0,>=0.3.49->langchain-openai) (3.0.0)\n",
            "Requirement already satisfied: orjson<4.0.0,>=3.9.14 in /usr/local/lib/python3.11/dist-packages (from langsmith<0.4,>=0.1.125->langchain-core<1.0.0,>=0.3.49->langchain-openai) (3.10.16)\n",
            "Requirement already satisfied: requests-toolbelt<2.0.0,>=1.0.0 in /usr/local/lib/python3.11/dist-packages (from langsmith<0.4,>=0.1.125->langchain-core<1.0.0,>=0.3.49->langchain-openai) (1.0.0)\n",
            "Requirement already satisfied: zstandard<0.24.0,>=0.23.0 in /usr/local/lib/python3.11/dist-packages (from langsmith<0.4,>=0.1.125->langchain-core<1.0.0,>=0.3.49->langchain-openai) (0.23.0)\n",
            "Requirement already satisfied: annotated-types>=0.6.0 in /usr/local/lib/python3.11/dist-packages (from pydantic<3.0.0,>=2.5.2->langchain-core<1.0.0,>=0.3.49->langchain-openai) (0.7.0)\n",
            "Requirement already satisfied: pydantic-core==2.33.0 in /usr/local/lib/python3.11/dist-packages (from pydantic<3.0.0,>=2.5.2->langchain-core<1.0.0,>=0.3.49->langchain-openai) (2.33.0)\n",
            "Requirement already satisfied: typing-inspection>=0.4.0 in /usr/local/lib/python3.11/dist-packages (from pydantic<3.0.0,>=2.5.2->langchain-core<1.0.0,>=0.3.49->langchain-openai) (0.4.0)\n",
            "Requirement already satisfied: charset-normalizer<4,>=2 in /usr/local/lib/python3.11/dist-packages (from requests>=2.26.0->tiktoken<1,>=0.7->langchain-openai) (3.4.1)\n",
            "Requirement already satisfied: urllib3<3,>=1.21.1 in /usr/local/lib/python3.11/dist-packages (from requests>=2.26.0->tiktoken<1,>=0.7->langchain-openai) (2.3.0)\n",
            "Downloading python_dotenv-1.1.0-py3-none-any.whl (20 kB)\n",
            "Installing collected packages: python-dotenv\n",
            "Successfully installed python-dotenv-1.1.0\n"
          ]
        }
      ]
    },
    {
      "cell_type": "code",
      "source": [
        "from langgraph.graph import StateGraph, END\n",
        "from langchain_openai import ChatOpenAI"
      ],
      "metadata": {
        "id": "Z5SurS8cSxXX"
      },
      "execution_count": 77,
      "outputs": []
    },
    {
      "cell_type": "code",
      "source": [
        "from google.colab import userdata\n",
        "# Retrieve the API key from Colab's secrets\n",
        "api_key = userdata.get('OPENAI_API_KEY')"
      ],
      "metadata": {
        "id": "blvUeD2vuNMB"
      },
      "execution_count": 78,
      "outputs": []
    },
    {
      "cell_type": "code",
      "execution_count": 79,
      "metadata": {
        "id": "ZRyfhgpcSTXC"
      },
      "outputs": [],
      "source": [
        "# 1. Define policy documents as an in-memory dictionary\n",
        "policy_documents = {\n",
        "    \"leave_policy\": \"Employees are entitled to 20 paid leave days per year. Additional unpaid leave can be requested with manager approval.\",\n",
        "    \"work_hours\": \"Regular work hours are from 9 AM to 6 PM, Monday to Friday. Flexible work hours are allowed with prior approval.\",\n",
        "    \"remote_work\": \"Employees can work remotely up to 3 days a week. Full remote work requires special approval.\",\n",
        "}"
      ]
    },
    {
      "cell_type": "code",
      "source": [
        "# 2. Simple retriever based on keywords\n",
        "def extract_policy(state):\n",
        "    question = state[\"question\"].lower()\n",
        "    context = \"\"\n",
        "\n",
        "    if \"leave\" in question:\n",
        "        context = policy_documents[\"leave_policy\"]\n",
        "    elif \"work hours\" in question or \"timing\" in question:\n",
        "        context = policy_documents[\"work_hours\"]\n",
        "    elif \"remote\" in question or \"work from home\" in question:\n",
        "        context = policy_documents[\"remote_work\"]\n",
        "    else:\n",
        "        context = \"I'm sorry, I couldn't find a matching policy.\"\n",
        "\n",
        "    return {\"question\": state[\"question\"], \"context\": context}"
      ],
      "metadata": {
        "id": "u3KvRf8QS-Bk"
      },
      "execution_count": 80,
      "outputs": []
    },
    {
      "cell_type": "code",
      "source": [
        "llm = ChatOpenAI(model=\"gpt-4o-mini\", openai_api_key=api_key)"
      ],
      "metadata": {
        "id": "MrxuNpKUt1hb"
      },
      "execution_count": 81,
      "outputs": []
    },
    {
      "cell_type": "code",
      "source": [
        "def generate_response(state):\n",
        "    # Prepare the prompt with context and question\n",
        "    prompt = f\"Context: {state['context']}\\nQuestion: {state['question']}\\nAnswer concisely based on the provided context.\"\n",
        "\n",
        "    # Generate response using the LLM\n",
        "    response = llm.invoke(prompt)\n",
        "\n",
        "    return {\"question\": state[\"question\"], \"context\": state[\"context\"], \"response\": response.content}"
      ],
      "metadata": {
        "id": "GVE4ncWWSi5M"
      },
      "execution_count": 82,
      "outputs": []
    },
    {
      "cell_type": "code",
      "source": [
        "# 4. Build LangGraph with retriever and responder\n",
        "builder = StateGraph(dict)\n",
        "builder.add_node(\"PolicySearch\", extract_policy)\n",
        "builder.add_node(\"Response\", generate_response)\n",
        "\n",
        "builder.set_entry_point(\"PolicySearch\")\n",
        "builder.add_edge(\"PolicySearch\", \"Response\")\n",
        "builder.add_edge(\"Response\", END)\n",
        "\n",
        "graph = builder.compile()\n"
      ],
      "metadata": {
        "id": "goXyG5rWSbIS"
      },
      "execution_count": 83,
      "outputs": []
    },
    {
      "cell_type": "code",
      "source": [
        "from IPython.display import Image, display\n",
        "from langchain_core.runnables.graph import MermaidDrawMethod"
      ],
      "metadata": {
        "id": "sMWioHt0qF8l"
      },
      "execution_count": 84,
      "outputs": []
    },
    {
      "cell_type": "code",
      "source": [
        "# Visualize using Mermaid\n",
        "display(\n",
        "    Image(\n",
        "        graph.get_graph().draw_mermaid_png(\n",
        "            draw_method=MermaidDrawMethod.API,\n",
        "        )\n",
        "    )\n",
        ")"
      ],
      "metadata": {
        "colab": {
          "base_uri": "https://localhost:8080/",
          "height": 350
        },
        "id": "NEM-xWY1U1GW",
        "outputId": "3d379d8e-a960-4dab-f0b3-e81d45a3354f"
      },
      "execution_count": 85,
      "outputs": [
        {
          "output_type": "display_data",
          "data": {
            "image/png": "[encoded data removed]",
            "text/plain": [
              "<IPython.core.display.Image object>"
            ]
          },
          "metadata": {}
        }
      ]
    },
    {
      "cell_type": "code",
      "source": [
        "# 5. Example usage\n",
        "question = \"can we do work from home?\"\n",
        "result = graph.invoke({\"question\": question})\n",
        "print(result[\"response\"])\n"
      ],
      "metadata": {
        "colab": {
          "base_uri": "https://localhost:8080/"
        },
        "id": "D6W9Lj5DT7Xs",
        "outputId": "9afe96eb-80e0-4393-9243-beffabf96955"
      },
      "execution_count": 87,
      "outputs": [
        {
          "output_type": "stream",
          "name": "stdout",
          "text": [
            "Yes, you can work from home up to 3 days a week. Full remote work requires special approval.\n"
          ]
        }
      ]
    }
  ]
}
