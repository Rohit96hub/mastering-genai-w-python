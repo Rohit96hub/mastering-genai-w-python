{
  "nbformat": 4,
  "nbformat_minor": 0,
  "metadata": {
    "colab": {
      "provenance": []
    },
    "kernelspec": {
      "name": "python3",
      "display_name": "Python 3"
    },
    "language_info": {
      "name": "python"
    }
  },
  "cells": [
    {
      "cell_type": "markdown",
      "source": [
        "##**Simple workflow for an Employee Onboarding Process**\n",
        "\n",
        "Only functions are used as a node."
      ],
      "metadata": {
        "id": "rJ3v2XpudICz"
      }
    },
    {
      "cell_type": "markdown",
      "source": [
        "###**Install Dependencies**"
      ],
      "metadata": {
        "id": "mvfQANpMfHHi"
      }
    },
    {
      "cell_type": "code",
      "source": [
        "!pip install langgraph"
      ],
      "metadata": {
        "colab": {
          "base_uri": "https://localhost:8080/"
        },
        "collapsed": true,
        "id": "34ymT_RzfNJX",
        "outputId": "3ab58f5f-2fc4-4691-9c39-c7da27b9949f"
      },
      "execution_count": 3,
      "outputs": [
        {
          "output_type": "stream",
          "name": "stdout",
          "text": [
            "Collecting langgraph\n",
            "  Downloading langgraph-0.4.7-py3-none-any.whl.metadata (6.8 kB)\n",
            "Requirement already satisfied: langchain-core>=0.1 in /usr/local/lib/python3.11/dist-packages (from langgraph) (0.3.60)\n",
            "Collecting langgraph-checkpoint>=2.0.26 (from langgraph)\n",
            "  Downloading langgraph_checkpoint-2.0.26-py3-none-any.whl.metadata (4.6 kB)\n",
            "Collecting langgraph-prebuilt>=0.2.0 (from langgraph)\n",
            "  Downloading langgraph_prebuilt-0.2.1-py3-none-any.whl.metadata (4.5 kB)\n",
            "Collecting langgraph-sdk>=0.1.42 (from langgraph)\n",
            "  Downloading langgraph_sdk-0.1.70-py3-none-any.whl.metadata (1.5 kB)\n",
            "Requirement already satisfied: pydantic>=2.7.4 in /usr/local/lib/python3.11/dist-packages (from langgraph) (2.11.4)\n",
            "Requirement already satisfied: xxhash>=3.5.0 in /usr/local/lib/python3.11/dist-packages (from langgraph) (3.5.0)\n",
            "Requirement already satisfied: langsmith<0.4,>=0.1.126 in /usr/local/lib/python3.11/dist-packages (from langchain-core>=0.1->langgraph) (0.3.42)\n",
            "Requirement already satisfied: tenacity!=8.4.0,<10.0.0,>=8.1.0 in /usr/local/lib/python3.11/dist-packages (from langchain-core>=0.1->langgraph) (9.1.2)\n",
            "Requirement already satisfied: jsonpatch<2.0,>=1.33 in /usr/local/lib/python3.11/dist-packages (from langchain-core>=0.1->langgraph) (1.33)\n",
            "Requirement already satisfied: PyYAML>=5.3 in /usr/local/lib/python3.11/dist-packages (from langchain-core>=0.1->langgraph) (6.0.2)\n",
            "Requirement already satisfied: packaging<25,>=23.2 in /usr/local/lib/python3.11/dist-packages (from langchain-core>=0.1->langgraph) (24.2)\n",
            "Requirement already satisfied: typing-extensions>=4.7 in /usr/local/lib/python3.11/dist-packages (from langchain-core>=0.1->langgraph) (4.13.2)\n",
            "Collecting ormsgpack<2.0.0,>=1.8.0 (from langgraph-checkpoint>=2.0.26->langgraph)\n",
            "  Downloading ormsgpack-1.10.0-cp311-cp311-manylinux_2_17_x86_64.manylinux2014_x86_64.whl.metadata (43 kB)\n",
            "\u001b[2K     \u001b[90m━━━━━━━━━━━━━━━━━━━━━━━━━━━━━━━━━━━━━━━━\u001b[0m \u001b[32m43.7/43.7 kB\u001b[0m \u001b[31m2.7 MB/s\u001b[0m eta \u001b[36m0:00:00\u001b[0m\n",
            "\u001b[?25hRequirement already satisfied: httpx>=0.25.2 in /usr/local/lib/python3.11/dist-packages (from langgraph-sdk>=0.1.42->langgraph) (0.28.1)\n",
            "Requirement already satisfied: orjson>=3.10.1 in /usr/local/lib/python3.11/dist-packages (from langgraph-sdk>=0.1.42->langgraph) (3.10.18)\n",
            "Requirement already satisfied: annotated-types>=0.6.0 in /usr/local/lib/python3.11/dist-packages (from pydantic>=2.7.4->langgraph) (0.7.0)\n",
            "Requirement already satisfied: pydantic-core==2.33.2 in /usr/local/lib/python3.11/dist-packages (from pydantic>=2.7.4->langgraph) (2.33.2)\n",
            "Requirement already satisfied: typing-inspection>=0.4.0 in /usr/local/lib/python3.11/dist-packages (from pydantic>=2.7.4->langgraph) (0.4.1)\n",
            "Requirement already satisfied: anyio in /usr/local/lib/python3.11/dist-packages (from httpx>=0.25.2->langgraph-sdk>=0.1.42->langgraph) (4.9.0)\n",
            "Requirement already satisfied: certifi in /usr/local/lib/python3.11/dist-packages (from httpx>=0.25.2->langgraph-sdk>=0.1.42->langgraph) (2025.4.26)\n",
            "Requirement already satisfied: httpcore==1.* in /usr/local/lib/python3.11/dist-packages (from httpx>=0.25.2->langgraph-sdk>=0.1.42->langgraph) (1.0.9)\n",
            "Requirement already satisfied: idna in /usr/local/lib/python3.11/dist-packages (from httpx>=0.25.2->langgraph-sdk>=0.1.42->langgraph) (3.10)\n",
            "Requirement already satisfied: h11>=0.16 in /usr/local/lib/python3.11/dist-packages (from httpcore==1.*->httpx>=0.25.2->langgraph-sdk>=0.1.42->langgraph) (0.16.0)\n",
            "Requirement already satisfied: jsonpointer>=1.9 in /usr/local/lib/python3.11/dist-packages (from jsonpatch<2.0,>=1.33->langchain-core>=0.1->langgraph) (3.0.0)\n",
            "Requirement already satisfied: requests<3,>=2 in /usr/local/lib/python3.11/dist-packages (from langsmith<0.4,>=0.1.126->langchain-core>=0.1->langgraph) (2.32.3)\n",
            "Requirement already satisfied: requests-toolbelt<2.0.0,>=1.0.0 in /usr/local/lib/python3.11/dist-packages (from langsmith<0.4,>=0.1.126->langchain-core>=0.1->langgraph) (1.0.0)\n",
            "Requirement already satisfied: zstandard<0.24.0,>=0.23.0 in /usr/local/lib/python3.11/dist-packages (from langsmith<0.4,>=0.1.126->langchain-core>=0.1->langgraph) (0.23.0)\n",
            "Requirement already satisfied: charset-normalizer<4,>=2 in /usr/local/lib/python3.11/dist-packages (from requests<3,>=2->langsmith<0.4,>=0.1.126->langchain-core>=0.1->langgraph) (3.4.2)\n",
            "Requirement already satisfied: urllib3<3,>=1.21.1 in /usr/local/lib/python3.11/dist-packages (from requests<3,>=2->langsmith<0.4,>=0.1.126->langchain-core>=0.1->langgraph) (2.4.0)\n",
            "Requirement already satisfied: sniffio>=1.1 in /usr/local/lib/python3.11/dist-packages (from anyio->httpx>=0.25.2->langgraph-sdk>=0.1.42->langgraph) (1.3.1)\n",
            "Downloading langgraph-0.4.7-py3-none-any.whl (154 kB)\n",
            "\u001b[2K   \u001b[90m━━━━━━━━━━━━━━━━━━━━━━━━━━━━━━━━━━━━━━━━\u001b[0m \u001b[32m154.9/154.9 kB\u001b[0m \u001b[31m13.4 MB/s\u001b[0m eta \u001b[36m0:00:00\u001b[0m\n",
            "\u001b[?25hDownloading langgraph_checkpoint-2.0.26-py3-none-any.whl (44 kB)\n",
            "\u001b[2K   \u001b[90m━━━━━━━━━━━━━━━━━━━━━━━━━━━━━━━━━━━━━━━━\u001b[0m \u001b[32m44.2/44.2 kB\u001b[0m \u001b[31m3.4 MB/s\u001b[0m eta \u001b[36m0:00:00\u001b[0m\n",
            "\u001b[?25hDownloading langgraph_prebuilt-0.2.1-py3-none-any.whl (23 kB)\n",
            "Downloading langgraph_sdk-0.1.70-py3-none-any.whl (49 kB)\n",
            "\u001b[2K   \u001b[90m━━━━━━━━━━━━━━━━━━━━━━━━━━━━━━━━━━━━━━━━\u001b[0m \u001b[32m50.0/50.0 kB\u001b[0m \u001b[31m3.7 MB/s\u001b[0m eta \u001b[36m0:00:00\u001b[0m\n",
            "\u001b[?25hDownloading ormsgpack-1.10.0-cp311-cp311-manylinux_2_17_x86_64.manylinux2014_x86_64.whl (216 kB)\n",
            "\u001b[2K   \u001b[90m━━━━━━━━━━━━━━━━━━━━━━━━━━━━━━━━━━━━━━━━\u001b[0m \u001b[32m216.5/216.5 kB\u001b[0m \u001b[31m19.0 MB/s\u001b[0m eta \u001b[36m0:00:00\u001b[0m\n",
            "\u001b[?25hInstalling collected packages: ormsgpack, langgraph-sdk, langgraph-checkpoint, langgraph-prebuilt, langgraph\n",
            "Successfully installed langgraph-0.4.7 langgraph-checkpoint-2.0.26 langgraph-prebuilt-0.2.1 langgraph-sdk-0.1.70 ormsgpack-1.10.0\n"
          ]
        }
      ]
    },
    {
      "cell_type": "code",
      "source": [
        "from typing import TypedDict\n",
        "from langgraph.graph import StateGraph, START, END"
      ],
      "metadata": {
        "id": "XhtJBSIFdNLx"
      },
      "execution_count": 4,
      "outputs": []
    },
    {
      "cell_type": "markdown",
      "source": [
        "###**Define State Schema**"
      ],
      "metadata": {
        "id": "9N2sMIXckAYJ"
      }
    },
    {
      "cell_type": "code",
      "source": [
        "# Define the state schema for the onboarding process\n",
        "# Any dictionary of this type should have the following keys with their respective value types:\n",
        "class OnboardingState(TypedDict):\n",
        "    employee_name: str\n",
        "    role: str\n",
        "    equipment_assigned: bool\n",
        "    orientation_scheduled: bool"
      ],
      "metadata": {
        "id": "IvqCXGzKdU02"
      },
      "execution_count": 5,
      "outputs": []
    },
    {
      "cell_type": "markdown",
      "source": [
        "###**Define Functions(Nodes)**"
      ],
      "metadata": {
        "id": "_eJ_e0vVjx7g"
      }
    },
    {
      "cell_type": "code",
      "source": [
        "# Function to collect employee information\n",
        "def collect_employee_info(state: OnboardingState) -> OnboardingState:\n",
        "    print(f\"Collecting information for {state['employee_name']} in role {state['role']}.\")\n",
        "    return state\n"
      ],
      "metadata": {
        "id": "fDjTJddjdaRW"
      },
      "execution_count": 6,
      "outputs": []
    },
    {
      "cell_type": "code",
      "source": [
        "# Function to assign equipment based on role\n",
        "def assign_equipment(state: OnboardingState) -> OnboardingState:\n",
        "    if state['role'].lower() in ['developer', 'designer']:\n",
        "        state['equipment_assigned'] = True\n",
        "        print(f\"Assigned equipment to {state['employee_name']}.\")\n",
        "    else:\n",
        "        state['equipment_assigned'] = False\n",
        "        print(f\"No equipment needed for {state['employee_name']}.\")\n",
        "    return state"
      ],
      "metadata": {
        "id": "BweK_fAwdj5o"
      },
      "execution_count": 7,
      "outputs": []
    },
    {
      "cell_type": "code",
      "source": [
        "# Function to schedule orientation\n",
        "def schedule_orientation(state: OnboardingState) -> OnboardingState:\n",
        "    state['orientation_scheduled'] = True\n",
        "    print(f\"Orientation scheduled for {state['employee_name']}.\")\n",
        "    return state\n"
      ],
      "metadata": {
        "id": "Rx5-UZ5vdlGy"
      },
      "execution_count": 8,
      "outputs": []
    },
    {
      "cell_type": "markdown",
      "source": [
        "###**Build a Graph**"
      ],
      "metadata": {
        "id": "DshHVvltjoN8"
      }
    },
    {
      "cell_type": "code",
      "source": [
        "# Initialize the StateGraph with the OnboardingState\n",
        "graph = StateGraph(OnboardingState)\n",
        "\n",
        "# Add nodes to the graph\n",
        "graph.add_node(\"collect_info\", collect_employee_info)\n",
        "graph.add_node(\"assign_equipment\", assign_equipment)\n",
        "graph.add_node(\"schedule_orientation\", schedule_orientation)\n",
        "\n",
        "# Define the workflow by adding edges\n",
        "graph.add_edge(START, \"collect_info\")\n",
        "graph.add_edge(\"collect_info\", \"assign_equipment\")\n",
        "graph.add_edge(\"assign_equipment\", \"schedule_orientation\")\n",
        "graph.add_edge(\"schedule_orientation\", END)\n",
        "\n",
        "# Set the entry point for the graph\n",
        "graph.set_entry_point(\"collect_info\")\n",
        "\n",
        "# Compile the graph into a runnable\n",
        "runnable = graph.compile()"
      ],
      "metadata": {
        "id": "j5ncSe7xdwOi"
      },
      "execution_count": 9,
      "outputs": []
    },
    {
      "cell_type": "markdown",
      "source": [
        "###**Visualize a Graph**"
      ],
      "metadata": {
        "id": "yym_OwwjiSWv"
      }
    },
    {
      "cell_type": "code",
      "source": [
        "# Visualize the workflow (requires graphviz)\n",
        "from IPython.display import Image, display\n",
        "from langchain_core.runnables.graph import MermaidDrawMethod"
      ],
      "metadata": {
        "id": "w_AlEdD5d4H-"
      },
      "execution_count": 10,
      "outputs": []
    },
    {
      "cell_type": "code",
      "source": [
        "display(\n",
        "    Image(\n",
        "        runnable.get_graph().draw_mermaid_png(\n",
        "            draw_method=MermaidDrawMethod.API,\n",
        "        )\n",
        "    )\n",
        ")"
      ],
      "metadata": {
        "colab": {
          "base_uri": "https://localhost:8080/",
          "height": 449
        },
        "id": "9YisvyEDd9OJ",
        "outputId": "b8d88af6-79eb-4eb6-b0cf-08104fa5ca36"
      },
      "execution_count": 11,
      "outputs": [
        {
          "output_type": "display_data",
          "data": {
            "image/png": "[encoded data removed]",
            "text/plain": [
              "<IPython.core.display.Image object>"
            ]
          },
          "metadata": {}
        }
      ]
    },
    {
      "cell_type": "markdown",
      "source": [
        "###**Invoke a Graph**"
      ],
      "metadata": {
        "id": "xKiz9SWGjgPa"
      }
    },
    {
      "cell_type": "code",
      "source": [
        "# Example invocation of the workflow\n",
        "initial_state = {\n",
        "    \"employee_name\": \"Aarya Naik\",\n",
        "    \"role\": \"Web Developer\",\n",
        "    \"equipment_assigned\": False,\n",
        "    \"orientation_scheduled\": False\n",
        "}\n",
        "\n",
        "runnable.invoke(initial_state)"
      ],
      "metadata": {
        "colab": {
          "base_uri": "https://localhost:8080/"
        },
        "id": "ULz16xLneBgA",
        "outputId": "e5d26e75-6276-49e6-9910-e218b69ea58f"
      },
      "execution_count": 12,
      "outputs": [
        {
          "output_type": "stream",
          "name": "stdout",
          "text": [
            "Collecting information for Aarya Naik in role Web Developer.\n",
            "No equipment needed for Aarya Naik.\n",
            "Orientation scheduled for Aarya Naik.\n"
          ]
        },
        {
          "output_type": "execute_result",
          "data": {
            "text/plain": [
              "{'employee_name': 'Aarya Naik',\n",
              " 'role': 'Web Developer',\n",
              " 'equipment_assigned': False,\n",
              " 'orientation_scheduled': True}"
            ]
          },
          "metadata": {},
          "execution_count": 12
        }
      ]
    },
    {
      "cell_type": "code",
      "source": [
        "# Example invocation of the workflow\n",
        "initial_state = {\n",
        "    \"employee_name\": \"Bhavya Singh\",\n",
        "    \"role\": \"Developer\",\n",
        "    \"equipment_assigned\": False,\n",
        "    \"orientation_scheduled\": False\n",
        "}\n",
        "\n",
        "runnable.invoke(initial_state)"
      ],
      "metadata": {
        "colab": {
          "base_uri": "https://localhost:8080/"
        },
        "id": "3T6czenVmL3Q",
        "outputId": "ab34da2c-a680-4605-9a2f-60d30c6007ca"
      },
      "execution_count": 13,
      "outputs": [
        {
          "output_type": "stream",
          "name": "stdout",
          "text": [
            "Collecting information for Bhavya Singh in role Developer.\n",
            "Assigned equipment to Bhavya Singh.\n",
            "Orientation scheduled for Bhavya Singh.\n"
          ]
        },
        {
          "output_type": "execute_result",
          "data": {
            "text/plain": [
              "{'employee_name': 'Bhavya Singh',\n",
              " 'role': 'Developer',\n",
              " 'equipment_assigned': True,\n",
              " 'orientation_scheduled': True}"
            ]
          },
          "metadata": {},
          "execution_count": 13
        }
      ]
    },
    {
      "cell_type": "markdown",
      "source": [
        "##**Conditional Edge**\n",
        "- Define a graph state.\n",
        "- Create 3 nodes.\n",
        "- Use a conditional edge to decide which node to run after the first.\n",
        "- Run the graph.\n",
        "\n"
      ],
      "metadata": {
        "id": "ACjgdPL4hCT-"
      }
    },
    {
      "cell_type": "markdown",
      "source": [
        "###**Define a graph state**"
      ],
      "metadata": {
        "id": "f39ravO5hXNx"
      }
    },
    {
      "cell_type": "code",
      "source": [
        "from typing_extensions import TypedDict\n",
        "\n",
        "class MyGraphState(TypedDict):\n",
        "    text: str"
      ],
      "metadata": {
        "id": "ioOJFIDDhJxE"
      },
      "execution_count": 15,
      "outputs": []
    },
    {
      "cell_type": "markdown",
      "source": [
        "###**Define the Nodes**"
      ],
      "metadata": {
        "id": "QzVrnSTghgX5"
      }
    },
    {
      "cell_type": "code",
      "source": [
        "def start_node(state):\n",
        "    print(\"--- Start Node ---\")\n",
        "    return {\"text\": state[\"text\"] + \" Let's begin.\"}\n",
        "\n",
        "def positive_node(state):\n",
        "    print(\"--- Positive Node ---\")\n",
        "    return {\"text\": state[\"text\"] + \" You seem cheerful!\"}\n",
        "\n",
        "def negative_node(state):\n",
        "    print(\"--- Negative Node ---\")\n",
        "    return {\"text\": state[\"text\"] + \" You seem upset.\"}\n"
      ],
      "metadata": {
        "id": "-0X5om-thKxv"
      },
      "execution_count": 16,
      "outputs": []
    },
    {
      "cell_type": "markdown",
      "source": [
        "###**Define the Conditional Logic**"
      ],
      "metadata": {
        "id": "PU0N6TbQhpa3"
      }
    },
    {
      "cell_type": "code",
      "source": [
        "from typing import Literal\n",
        "import random\n",
        "\n",
        "def mood_decision(state) -> Literal[\"positive\", \"negative\"]:\n",
        "    # Flip a coin to pick mood\n",
        "    if random.random() < 0.5:\n",
        "        return \"positive\"\n",
        "    return \"negative\"\n"
      ],
      "metadata": {
        "id": "LuNUUP48h3Eh"
      },
      "execution_count": 17,
      "outputs": []
    },
    {
      "cell_type": "markdown",
      "source": [
        "###**Build the Graph**"
      ],
      "metadata": {
        "id": "xRImn7kqh6pj"
      }
    },
    {
      "cell_type": "code",
      "source": [
        "from langgraph.graph import StateGraph, START, END\n",
        "from IPython.display import Image, display\n",
        "\n",
        "builder = StateGraph(MyGraphState)\n",
        "\n",
        "# Add nodes\n",
        "builder.add_node(\"start\", start_node)\n",
        "builder.add_node(\"positive\", positive_node)\n",
        "builder.add_node(\"negative\", negative_node)\n",
        "\n",
        "# Add edges\n",
        "builder.add_edge(START, \"start\")\n",
        "builder.add_conditional_edges(\"start\", mood_decision)\n",
        "builder.add_edge(\"positive\", END)\n",
        "builder.add_edge(\"negative\", END)\n",
        "\n",
        "# Compile\n",
        "graph_route = builder.compile()\n"
      ],
      "metadata": {
        "id": "XZ0LpSPjiAFR"
      },
      "execution_count": 21,
      "outputs": []
    },
    {
      "cell_type": "markdown",
      "source": [
        "###**Visualize a Graph**"
      ],
      "metadata": {
        "id": "aeC2SgvTiZq5"
      }
    },
    {
      "cell_type": "code",
      "source": [
        "# Optional: Visualize graph\n",
        "display(Image(graph_route.get_graph().draw_mermaid_png()))"
      ],
      "metadata": {
        "colab": {
          "base_uri": "https://localhost:8080/",
          "height": 350
        },
        "outputId": "61aaf2f9-966c-419e-f9dc-6367cf337e01",
        "id": "3qGOhSs5ig5C"
      },
      "execution_count": 20,
      "outputs": [
        {
          "output_type": "display_data",
          "data": {
            "image/png": "[encoded data removed]",
            "text/plain": [
              "<IPython.core.display.Image object>"
            ]
          },
          "metadata": {}
        }
      ]
    },
    {
      "cell_type": "markdown",
      "source": [
        " ### **Invoke the Graph**"
      ],
      "metadata": {
        "id": "jiIRLL2SiFbX"
      }
    },
    {
      "cell_type": "code",
      "source": [
        "output = graph_route.invoke({\"text\": \"Hi there!\"})\n",
        "print(\"\\nFinal Output:\", output)"
      ],
      "metadata": {
        "colab": {
          "base_uri": "https://localhost:8080/"
        },
        "id": "sBLJntg5iE_B",
        "outputId": "45add14d-5abf-4cf3-ae73-eaa337d87da6"
      },
      "execution_count": 27,
      "outputs": [
        {
          "output_type": "stream",
          "name": "stdout",
          "text": [
            "--- Start Node ---\n",
            "--- Negative Node ---\n",
            "\n",
            "Final Output: {'text': \"Hi there! Let's begin. You seem upset.\"}\n"
          ]
        }
      ]
    },
    {
      "cell_type": "markdown",
      "source": [
        "**NOTE**: Everytime it gives random output."
      ],
      "metadata": {
        "id": "hX1JA5a0jQD_"
      }
    }
  ]
}
