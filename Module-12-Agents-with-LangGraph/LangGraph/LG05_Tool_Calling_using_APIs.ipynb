{
  "nbformat": 4,
  "nbformat_minor": 0,
  "metadata": {
    "colab": {
      "provenance": []
    },
    "kernelspec": {
      "name": "python3",
      "display_name": "Python 3"
    },
    "language_info": {
      "name": "python"
    }
  },
  "cells": [
    {
      "cell_type": "code",
      "execution_count": null,
      "metadata": {
        "id": "9Wjv4JBd_xMP"
      },
      "outputs": [],
      "source": []
    },
    {
      "cell_type": "code",
      "source": [
        "!pip install langchain-core langchain-openai"
      ],
      "metadata": {
        "colab": {
          "base_uri": "https://localhost:8080/"
        },
        "collapsed": true,
        "id": "cxFPXuyPnSVF",
        "outputId": "43b45db7-ff3b-406a-f95f-0b39a141feff"
      },
      "execution_count": 6,
      "outputs": [
        {
          "output_type": "stream",
          "name": "stdout",
          "text": [
            "Requirement already satisfied: langchain-core in /usr/local/lib/python3.11/dist-packages (0.3.50)\n",
            "Collecting langchain-openai\n",
            "  Downloading langchain_openai-0.3.12-py3-none-any.whl.metadata (2.3 kB)\n",
            "Requirement already satisfied: langsmith<0.4,>=0.1.125 in /usr/local/lib/python3.11/dist-packages (from langchain-core) (0.3.23)\n",
            "Requirement already satisfied: tenacity!=8.4.0,<10.0.0,>=8.1.0 in /usr/local/lib/python3.11/dist-packages (from langchain-core) (9.1.2)\n",
            "Requirement already satisfied: jsonpatch<2.0,>=1.33 in /usr/local/lib/python3.11/dist-packages (from langchain-core) (1.33)\n",
            "Requirement already satisfied: PyYAML>=5.3 in /usr/local/lib/python3.11/dist-packages (from langchain-core) (6.0.2)\n",
            "Requirement already satisfied: packaging<25,>=23.2 in /usr/local/lib/python3.11/dist-packages (from langchain-core) (24.2)\n",
            "Requirement already satisfied: typing-extensions>=4.7 in /usr/local/lib/python3.11/dist-packages (from langchain-core) (4.13.1)\n",
            "Requirement already satisfied: pydantic<3.0.0,>=2.5.2 in /usr/local/lib/python3.11/dist-packages (from langchain-core) (2.11.2)\n",
            "Requirement already satisfied: openai<2.0.0,>=1.68.2 in /usr/local/lib/python3.11/dist-packages (from langchain-openai) (1.70.0)\n",
            "Collecting tiktoken<1,>=0.7 (from langchain-openai)\n",
            "  Downloading tiktoken-0.9.0-cp311-cp311-manylinux_2_17_x86_64.manylinux2014_x86_64.whl.metadata (6.7 kB)\n",
            "Requirement already satisfied: jsonpointer>=1.9 in /usr/local/lib/python3.11/dist-packages (from jsonpatch<2.0,>=1.33->langchain-core) (3.0.0)\n",
            "Requirement already satisfied: httpx<1,>=0.23.0 in /usr/local/lib/python3.11/dist-packages (from langsmith<0.4,>=0.1.125->langchain-core) (0.28.1)\n",
            "Requirement already satisfied: orjson<4.0.0,>=3.9.14 in /usr/local/lib/python3.11/dist-packages (from langsmith<0.4,>=0.1.125->langchain-core) (3.10.16)\n",
            "Requirement already satisfied: requests<3,>=2 in /usr/local/lib/python3.11/dist-packages (from langsmith<0.4,>=0.1.125->langchain-core) (2.32.3)\n",
            "Requirement already satisfied: requests-toolbelt<2.0.0,>=1.0.0 in /usr/local/lib/python3.11/dist-packages (from langsmith<0.4,>=0.1.125->langchain-core) (1.0.0)\n",
            "Requirement already satisfied: zstandard<0.24.0,>=0.23.0 in /usr/local/lib/python3.11/dist-packages (from langsmith<0.4,>=0.1.125->langchain-core) (0.23.0)\n",
            "Requirement already satisfied: anyio<5,>=3.5.0 in /usr/local/lib/python3.11/dist-packages (from openai<2.0.0,>=1.68.2->langchain-openai) (4.9.0)\n",
            "Requirement already satisfied: distro<2,>=1.7.0 in /usr/local/lib/python3.11/dist-packages (from openai<2.0.0,>=1.68.2->langchain-openai) (1.9.0)\n",
            "Requirement already satisfied: jiter<1,>=0.4.0 in /usr/local/lib/python3.11/dist-packages (from openai<2.0.0,>=1.68.2->langchain-openai) (0.9.0)\n",
            "Requirement already satisfied: sniffio in /usr/local/lib/python3.11/dist-packages (from openai<2.0.0,>=1.68.2->langchain-openai) (1.3.1)\n",
            "Requirement already satisfied: tqdm>4 in /usr/local/lib/python3.11/dist-packages (from openai<2.0.0,>=1.68.2->langchain-openai) (4.67.1)\n",
            "Requirement already satisfied: annotated-types>=0.6.0 in /usr/local/lib/python3.11/dist-packages (from pydantic<3.0.0,>=2.5.2->langchain-core) (0.7.0)\n",
            "Requirement already satisfied: pydantic-core==2.33.1 in /usr/local/lib/python3.11/dist-packages (from pydantic<3.0.0,>=2.5.2->langchain-core) (2.33.1)\n",
            "Requirement already satisfied: typing-inspection>=0.4.0 in /usr/local/lib/python3.11/dist-packages (from pydantic<3.0.0,>=2.5.2->langchain-core) (0.4.0)\n",
            "Requirement already satisfied: regex>=2022.1.18 in /usr/local/lib/python3.11/dist-packages (from tiktoken<1,>=0.7->langchain-openai) (2024.11.6)\n",
            "Requirement already satisfied: idna>=2.8 in /usr/local/lib/python3.11/dist-packages (from anyio<5,>=3.5.0->openai<2.0.0,>=1.68.2->langchain-openai) (3.10)\n",
            "Requirement already satisfied: certifi in /usr/local/lib/python3.11/dist-packages (from httpx<1,>=0.23.0->langsmith<0.4,>=0.1.125->langchain-core) (2025.1.31)\n",
            "Requirement already satisfied: httpcore==1.* in /usr/local/lib/python3.11/dist-packages (from httpx<1,>=0.23.0->langsmith<0.4,>=0.1.125->langchain-core) (1.0.7)\n",
            "Requirement already satisfied: h11<0.15,>=0.13 in /usr/local/lib/python3.11/dist-packages (from httpcore==1.*->httpx<1,>=0.23.0->langsmith<0.4,>=0.1.125->langchain-core) (0.14.0)\n",
            "Requirement already satisfied: charset-normalizer<4,>=2 in /usr/local/lib/python3.11/dist-packages (from requests<3,>=2->langsmith<0.4,>=0.1.125->langchain-core) (3.4.1)\n",
            "Requirement already satisfied: urllib3<3,>=1.21.1 in /usr/local/lib/python3.11/dist-packages (from requests<3,>=2->langsmith<0.4,>=0.1.125->langchain-core) (2.3.0)\n",
            "Downloading langchain_openai-0.3.12-py3-none-any.whl (61 kB)\n",
            "\u001b[2K   \u001b[90m━━━━━━━━━━━━━━━━━━━━━━━━━━━━━━━━━━━━━━━━\u001b[0m \u001b[32m61.3/61.3 kB\u001b[0m \u001b[31m4.3 MB/s\u001b[0m eta \u001b[36m0:00:00\u001b[0m\n",
            "\u001b[?25hDownloading tiktoken-0.9.0-cp311-cp311-manylinux_2_17_x86_64.manylinux2014_x86_64.whl (1.2 MB)\n",
            "\u001b[2K   \u001b[90m━━━━━━━━━━━━━━━━━━━━━━━━━━━━━━━━━━━━━━━━\u001b[0m \u001b[32m1.2/1.2 MB\u001b[0m \u001b[31m30.9 MB/s\u001b[0m eta \u001b[36m0:00:00\u001b[0m\n",
            "\u001b[?25hInstalling collected packages: tiktoken, langchain-openai\n",
            "Successfully installed langchain-openai-0.3.12 tiktoken-0.9.0\n"
          ]
        }
      ]
    },
    {
      "cell_type": "markdown",
      "source": [
        "###**0. API Keys**"
      ],
      "metadata": {
        "id": "2qiIRQQlGgEv"
      }
    },
    {
      "cell_type": "code",
      "execution_count": 7,
      "metadata": {
        "id": "0KlxQmU58U52"
      },
      "outputs": [],
      "source": [
        "# Retrieve the API key from Colab's secrets\n",
        "from google.colab import userdata\n",
        "api_key = userdata.get('OPENAI_API_KEY')\n",
        "NEWS_API_KEY = userdata.get('news_api_key')\n",
        "OPENWEATHER_API_KEY = userdata.get('openweather_api_key')"
      ]
    },
    {
      "cell_type": "markdown",
      "source": [
        "###**1. Define the Tools**"
      ],
      "metadata": {
        "id": "-MMptmPwGP4u"
      }
    },
    {
      "cell_type": "code",
      "source": [
        "from langchain_core.tools import tool\n",
        "import httpx\n",
        "import urllib.parse\n",
        "\n",
        "@tool\n",
        "def fetch_and_summarize_news(arg: str = None) -> str:\n",
        "    \"\"\"Fetch the latest news articles and summarize them.\"\"\"\n",
        "    try:\n",
        "        # Fetch news\n",
        "        url = f\"https://newsapi.org/v2/top-headlines?sources=bbc-news&apiKey={NEWS_API_KEY.strip()}\"\n",
        "\n",
        "        response = httpx.get(url)\n",
        "        response.raise_for_status()\n",
        "        articles = response.json().get(\"articles\", [])\n",
        "\n",
        "        if not articles:\n",
        "            return \"No news articles found.\"\n",
        "\n",
        "        # Prepare articles for summarization\n",
        "        sanitized_articles = []\n",
        "        for article in articles:\n",
        "            title = (article.get('title') or '').replace('\\n', ' ').replace('\\r', ' ')\n",
        "            description = (article.get('description') or '').replace('\\n', ' ').replace('\\r', ' ')\n",
        "            sanitized_articles.append(f\"Title: {title}\\nDescription: {description}\")\n",
        "\n",
        "        news_text = \"\\n\\n\".join(sanitized_articles)\n",
        "        prompt = f\"Summarize the following news articles:\\n\\n{news_text}. Please do not write the title. The summary should be in point for each news.\"\n",
        "\n",
        "        # Generate the summary\n",
        "        summary = llm.invoke(prompt)\n",
        "        return summary\n",
        "    except Exception as e:\n",
        "        return f\"Error: {e}\"\n",
        "\n",
        "@tool\n",
        "def fetch_and_review_weather(city: str) -> str:\n",
        "    \"\"\"Fetch the weather information for a given city and generate a review.\"\"\"\n",
        "    city = city.strip()  # Ensure no leading/trailing spaces\n",
        "\n",
        "    # Encode the city name for the URL\n",
        "    encoded_city = urllib.parse.quote(city)\n",
        "    url = f\"https://api.openweathermap.org/data/2.5/weather?q={encoded_city}&appid={OPENWEATHER_API_KEY}&units=metric\"\n",
        "\n",
        "    try:\n",
        "        response = httpx.get(url)\n",
        "        response.raise_for_status()\n",
        "        weather_data = response.json()\n",
        "\n",
        "        # Extract weather details\n",
        "        weather = weather_data['weather'][0]['main']\n",
        "        temperature = weather_data['main']['temp']\n",
        "\n",
        "        # Generate the review\n",
        "        input_text = f\"The current weather in {city} is {weather} with a temperature of {temperature}°C. As an expert in weather forecast analysis, please provide an appropriate weather review.\"\n",
        "        input_text = ''.join(c for c in input_text if c.isprintable())\n",
        "\n",
        "        # Generate the review using the language model\n",
        "        review = llm.invoke(input_text)\n",
        "        return review\n",
        "    except Exception as e:\n",
        "        return f\"Error: {e}\"\n"
      ],
      "metadata": {
        "id": "9Z5zIYnfngJK"
      },
      "execution_count": 172,
      "outputs": []
    },
    {
      "cell_type": "markdown",
      "source": [
        "###**2. Bind Tools to LLM**"
      ],
      "metadata": {
        "id": "V5WZdN9qGFik"
      }
    },
    {
      "cell_type": "code",
      "source": [
        "from langchain_openai import ChatOpenAI"
      ],
      "metadata": {
        "id": "i-P60WVfnmkY"
      },
      "execution_count": 82,
      "outputs": []
    },
    {
      "cell_type": "code",
      "source": [
        "llm = ChatOpenAI(model=\"gpt-4o-mini\", openai_api_key=api_key)"
      ],
      "metadata": {
        "id": "LJGXWqCpnqB7"
      },
      "execution_count": 83,
      "outputs": []
    },
    {
      "cell_type": "code",
      "source": [
        "# Bind all tools\n",
        "llm_with_tools = llm.bind_tools([\n",
        "    fetch_and_summarize_news,\n",
        "    fetch_and_review_weather\n",
        "])"
      ],
      "metadata": {
        "id": "ZHQ1u32Gns1G"
      },
      "execution_count": 84,
      "outputs": []
    },
    {
      "cell_type": "markdown",
      "source": [
        "###**3. Setup Conversation and Call the LLM**"
      ],
      "metadata": {
        "id": "hy0EPol-F9xS"
      }
    },
    {
      "cell_type": "code",
      "source": [
        "from langchain_core.messages import HumanMessage, ToolMessage"
      ],
      "metadata": {
        "id": "puuaAlhSqhfy"
      },
      "execution_count": 85,
      "outputs": []
    },
    {
      "cell_type": "code",
      "source": [
        "messages = [\n",
        "        HumanMessage(\"summarize news and weather of bengaluru\")\n",
        "]\n",
        "llm_output = llm_with_tools.invoke(messages)\n",
        "messages.append(llm_output)"
      ],
      "metadata": {
        "id": "qQ-Ygjz-t40W"
      },
      "execution_count": 173,
      "outputs": []
    },
    {
      "cell_type": "markdown",
      "source": [
        "###**4. Handle Tool Calls**"
      ],
      "metadata": {
        "id": "_6MIxHFoF0Xe"
      }
    },
    {
      "cell_type": "code",
      "source": [
        "tool_mapping = {\n",
        "    \"fetch_and_summarize_news\": fetch_and_summarize_news,\n",
        "    \"fetch_and_review_weather\": fetch_and_review_weather,\n",
        "}\n"
      ],
      "metadata": {
        "id": "gFnb5UNuqxQX"
      },
      "execution_count": 174,
      "outputs": []
    },
    {
      "cell_type": "code",
      "source": [
        "llm_output.tool_calls"
      ],
      "metadata": {
        "colab": {
          "base_uri": "https://localhost:8080/"
        },
        "collapsed": true,
        "id": "JVeWyE1xuKzm",
        "outputId": "0dedb264-58ff-4562-f56a-a52e86a61882"
      },
      "execution_count": 175,
      "outputs": [
        {
          "output_type": "execute_result",
          "data": {
            "text/plain": [
              "[{'name': 'fetch_and_summarize_news',\n",
              "  'args': {'arg': 'Bengaluru'},\n",
              "  'id': 'call_dxL0P5Q2QmjVPsWpNMdK9pGt',\n",
              "  'type': 'tool_call'},\n",
              " {'name': 'fetch_and_review_weather',\n",
              "  'args': {'city': 'Bengaluru'},\n",
              "  'id': 'call_tgL2uOcpBiEe0lCarO4sZE6R',\n",
              "  'type': 'tool_call'}]"
            ]
          },
          "metadata": {},
          "execution_count": 175
        }
      ]
    },
    {
      "cell_type": "code",
      "source": [
        "for tool_call in llm_output.tool_calls:\n",
        "    tool = tool_mapping[tool_call[\"name\"].lower()]\n",
        "    tool_output = tool.invoke(tool_call[\"args\"])\n",
        "    messages.append(ToolMessage(tool_output, tool_call_id=tool_call[\"id\"]))"
      ],
      "metadata": {
        "id": "DnfN0WWjuasz"
      },
      "execution_count": 176,
      "outputs": []
    },
    {
      "cell_type": "markdown",
      "source": [
        "### **5. Get Final Answer from LLM**"
      ],
      "metadata": {
        "id": "Rg9xbirBFnSk"
      }
    },
    {
      "cell_type": "code",
      "source": [
        "response = llm_with_tools.invoke(messages)\n",
        "print(response.content)"
      ],
      "metadata": {
        "colab": {
          "base_uri": "https://localhost:8080/"
        },
        "collapsed": true,
        "id": "EhJP45MFrVQP",
        "outputId": "7a210400-30c2-45bc-8d7a-dbde0a6ac9d9"
      },
      "execution_count": 177,
      "outputs": [
        {
          "output_type": "stream",
          "name": "stdout",
          "text": [
            "### News Summary for Bengaluru\n",
            "\n",
            "1. **Healthcare Initiatives**: Sir Jackie Stewart is funding a new dementia blood test through his charity, inspired by his wife's condition.\n",
            "2. **Legal Issues**: An 84-year-old British woman, featured in a Netflix documentary, has been charged with fraud in Singapore.\n",
            "3. **Pension Updates**: Starting the new tax year, the state pension has increased by 4.1%, and carers can now work more hours without losing key benefits.\n",
            "4. **Healthcare Criticism**: Resident doctors are facing criticism from health officials for late notifications about job placements.\n",
            "5. **Celebrity News**: Meghan Markle's controversial public image could prove beneficial as she expands her lifestyle brand.\n",
            "6. **Family's Hopes for Justice**: The mother of Jean Charles de Menezes hopes a new Disney drama will bring to light the truth about her son's fatal shooting by police.\n",
            "7. **Automotive News**: UK Prime Minister announced relaxed measures for car companies to support the industry in light of US tariffs before the upcoming ban on petrol vehicles in 2030.\n",
            "8. **Awards Highlights**: At the 2025 Olivier Awards, Lesley Manville and John Lithgow received top acting honors, with commendation for productions like *Fiddler On The Roof* and *The Curious Case Of Benjamin Button*.\n",
            "\n",
            "### Weather Review for Bengaluru\n",
            "\n",
            "- **Current Temperature**: 31.69°C, indicating warm weather typical for this time of year.\n",
            "  \n",
            "- **Weather Conditions**: Clear skies prevail, enhancing solar heating. Residents should stay hydrated and wear protective clothing when outdoors, especially during peak sunlight hours.\n",
            "\n",
            "- **Humidity and Wind**: While specific humidity levels aren't reported, lower humidity is expected with clear conditions. A gentle breeze may provide some relief.\n",
            "\n",
            "- **Air Quality**: Clear weather usually means better air quality, making it a good opportunity for outdoor activities.\n",
            "\n",
            "- **Future Forecast**: If clear skies continue, similar weather is anticipated. Residents could engage in outdoor events but should be aware of possible showers or thunderstorms typical in transitional weather.\n",
            "\n",
            "### Recommendations:\n",
            "- **Outdoor Activities**: Best times for exercise are early morning or evening; picnic or social gatherings in shaded areas are encouraged.\n",
            "- **Stay Hydrated**: Important to drink water to combat heat.\n",
            "- **Health Precautions**: People sensitive to heat should take precautions during peak temperatures. \n",
            "\n",
            "In conclusion, Bengaluru's weather is currently favorable for outdoor activities, but staying hydrated and cautious is essential.\n"
          ]
        }
      ]
    }
  ]
}
