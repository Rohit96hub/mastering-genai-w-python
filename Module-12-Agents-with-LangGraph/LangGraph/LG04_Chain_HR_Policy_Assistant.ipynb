{
  "nbformat": 4,
  "nbformat_minor": 0,
  "metadata": {
    "colab": {
      "provenance": []
    },
    "kernelspec": {
      "name": "python3",
      "display_name": "Python 3"
    },
    "language_info": {
      "name": "python"
    }
  },
  "cells": [
    {
      "cell_type": "markdown",
      "source": [
        "\n",
        "#**HR Policy Assistant**\n",
        "\n",
        "Let’s understand AI-based HR Policy Assistant example to incorporate the four key LangGraph concepts:\n",
        "\n",
        "* Use chat messages as graph state\n",
        "\n",
        "* Use llm in graph nodes\n",
        "\n",
        "* Binding tools to llm\n",
        "\n",
        "* Executing tool calls in graph nodes\n",
        "\n"
      ],
      "metadata": {
        "id": "cs-cErcSUcxg"
      }
    },
    {
      "cell_type": "markdown",
      "source": [
        "###**Install Dependencies**"
      ],
      "metadata": {
        "id": "CL4gzMkpbjmb"
      }
    },
    {
      "cell_type": "code",
      "execution_count": 7,
      "metadata": {
        "colab": {
          "base_uri": "https://localhost:8080/"
        },
        "collapsed": true,
        "id": "RNaTN-LnUXbR",
        "outputId": "8560b357-8ad3-4a2a-b397-3011856d2636"
      },
      "outputs": [
        {
          "output_type": "stream",
          "name": "stdout",
          "text": [
            "Requirement already satisfied: langgraph in /usr/local/lib/python3.11/dist-packages (0.4.7)\n",
            "Requirement already satisfied: langchain in /usr/local/lib/python3.11/dist-packages (0.3.25)\n",
            "Requirement already satisfied: langchain-openai in /usr/local/lib/python3.11/dist-packages (0.3.18)\n",
            "Requirement already satisfied: langchain-core>=0.1 in /usr/local/lib/python3.11/dist-packages (from langgraph) (0.3.62)\n",
            "Requirement already satisfied: langgraph-checkpoint>=2.0.26 in /usr/local/lib/python3.11/dist-packages (from langgraph) (2.0.26)\n",
            "Requirement already satisfied: langgraph-prebuilt>=0.2.0 in /usr/local/lib/python3.11/dist-packages (from langgraph) (0.2.1)\n",
            "Requirement already satisfied: langgraph-sdk>=0.1.42 in /usr/local/lib/python3.11/dist-packages (from langgraph) (0.1.70)\n",
            "Requirement already satisfied: pydantic>=2.7.4 in /usr/local/lib/python3.11/dist-packages (from langgraph) (2.11.4)\n",
            "Requirement already satisfied: xxhash>=3.5.0 in /usr/local/lib/python3.11/dist-packages (from langgraph) (3.5.0)\n",
            "Requirement already satisfied: langchain-text-splitters<1.0.0,>=0.3.8 in /usr/local/lib/python3.11/dist-packages (from langchain) (0.3.8)\n",
            "Requirement already satisfied: langsmith<0.4,>=0.1.17 in /usr/local/lib/python3.11/dist-packages (from langchain) (0.3.42)\n",
            "Requirement already satisfied: SQLAlchemy<3,>=1.4 in /usr/local/lib/python3.11/dist-packages (from langchain) (2.0.41)\n",
            "Requirement already satisfied: requests<3,>=2 in /usr/local/lib/python3.11/dist-packages (from langchain) (2.32.3)\n",
            "Requirement already satisfied: PyYAML>=5.3 in /usr/local/lib/python3.11/dist-packages (from langchain) (6.0.2)\n",
            "Requirement already satisfied: openai<2.0.0,>=1.68.2 in /usr/local/lib/python3.11/dist-packages (from langchain-openai) (1.81.0)\n",
            "Requirement already satisfied: tiktoken<1,>=0.7 in /usr/local/lib/python3.11/dist-packages (from langchain-openai) (0.9.0)\n",
            "Requirement already satisfied: tenacity!=8.4.0,<10.0.0,>=8.1.0 in /usr/local/lib/python3.11/dist-packages (from langchain-core>=0.1->langgraph) (9.1.2)\n",
            "Requirement already satisfied: jsonpatch<2.0,>=1.33 in /usr/local/lib/python3.11/dist-packages (from langchain-core>=0.1->langgraph) (1.33)\n",
            "Requirement already satisfied: packaging<25,>=23.2 in /usr/local/lib/python3.11/dist-packages (from langchain-core>=0.1->langgraph) (24.2)\n",
            "Requirement already satisfied: typing-extensions>=4.7 in /usr/local/lib/python3.11/dist-packages (from langchain-core>=0.1->langgraph) (4.13.2)\n",
            "Requirement already satisfied: ormsgpack<2.0.0,>=1.8.0 in /usr/local/lib/python3.11/dist-packages (from langgraph-checkpoint>=2.0.26->langgraph) (1.10.0)\n",
            "Requirement already satisfied: httpx>=0.25.2 in /usr/local/lib/python3.11/dist-packages (from langgraph-sdk>=0.1.42->langgraph) (0.28.1)\n",
            "Requirement already satisfied: orjson>=3.10.1 in /usr/local/lib/python3.11/dist-packages (from langgraph-sdk>=0.1.42->langgraph) (3.10.18)\n",
            "Requirement already satisfied: requests-toolbelt<2.0.0,>=1.0.0 in /usr/local/lib/python3.11/dist-packages (from langsmith<0.4,>=0.1.17->langchain) (1.0.0)\n",
            "Requirement already satisfied: zstandard<0.24.0,>=0.23.0 in /usr/local/lib/python3.11/dist-packages (from langsmith<0.4,>=0.1.17->langchain) (0.23.0)\n",
            "Requirement already satisfied: anyio<5,>=3.5.0 in /usr/local/lib/python3.11/dist-packages (from openai<2.0.0,>=1.68.2->langchain-openai) (4.9.0)\n",
            "Requirement already satisfied: distro<2,>=1.7.0 in /usr/local/lib/python3.11/dist-packages (from openai<2.0.0,>=1.68.2->langchain-openai) (1.9.0)\n",
            "Requirement already satisfied: jiter<1,>=0.4.0 in /usr/local/lib/python3.11/dist-packages (from openai<2.0.0,>=1.68.2->langchain-openai) (0.10.0)\n",
            "Requirement already satisfied: sniffio in /usr/local/lib/python3.11/dist-packages (from openai<2.0.0,>=1.68.2->langchain-openai) (1.3.1)\n",
            "Requirement already satisfied: tqdm>4 in /usr/local/lib/python3.11/dist-packages (from openai<2.0.0,>=1.68.2->langchain-openai) (4.67.1)\n",
            "Requirement already satisfied: annotated-types>=0.6.0 in /usr/local/lib/python3.11/dist-packages (from pydantic>=2.7.4->langgraph) (0.7.0)\n",
            "Requirement already satisfied: pydantic-core==2.33.2 in /usr/local/lib/python3.11/dist-packages (from pydantic>=2.7.4->langgraph) (2.33.2)\n",
            "Requirement already satisfied: typing-inspection>=0.4.0 in /usr/local/lib/python3.11/dist-packages (from pydantic>=2.7.4->langgraph) (0.4.1)\n",
            "Requirement already satisfied: charset-normalizer<4,>=2 in /usr/local/lib/python3.11/dist-packages (from requests<3,>=2->langchain) (3.4.2)\n",
            "Requirement already satisfied: idna<4,>=2.5 in /usr/local/lib/python3.11/dist-packages (from requests<3,>=2->langchain) (3.10)\n",
            "Requirement already satisfied: urllib3<3,>=1.21.1 in /usr/local/lib/python3.11/dist-packages (from requests<3,>=2->langchain) (2.4.0)\n",
            "Requirement already satisfied: certifi>=2017.4.17 in /usr/local/lib/python3.11/dist-packages (from requests<3,>=2->langchain) (2025.4.26)\n",
            "Requirement already satisfied: greenlet>=1 in /usr/local/lib/python3.11/dist-packages (from SQLAlchemy<3,>=1.4->langchain) (3.2.2)\n",
            "Requirement already satisfied: regex>=2022.1.18 in /usr/local/lib/python3.11/dist-packages (from tiktoken<1,>=0.7->langchain-openai) (2024.11.6)\n",
            "Requirement already satisfied: httpcore==1.* in /usr/local/lib/python3.11/dist-packages (from httpx>=0.25.2->langgraph-sdk>=0.1.42->langgraph) (1.0.9)\n",
            "Requirement already satisfied: h11>=0.16 in /usr/local/lib/python3.11/dist-packages (from httpcore==1.*->httpx>=0.25.2->langgraph-sdk>=0.1.42->langgraph) (0.16.0)\n",
            "Requirement already satisfied: jsonpointer>=1.9 in /usr/local/lib/python3.11/dist-packages (from jsonpatch<2.0,>=1.33->langchain-core>=0.1->langgraph) (3.0.0)\n"
          ]
        }
      ],
      "source": [
        "# 1. Install LangGraph dependencies\n",
        "!pip install langgraph langchain langchain-openai"
      ]
    },
    {
      "cell_type": "markdown",
      "source": [
        "\n",
        "###**Retrive API key from Secrets and Set as an ENV**"
      ],
      "metadata": {
        "id": "1S-R1gAfd51x"
      }
    },
    {
      "cell_type": "code",
      "source": [
        "# Retrieve the API key from Colab's secrets\n",
        "from google.colab import userdata\n",
        "OPENAI_API_KEY = userdata.get('OPENAI_API_KEY')\n",
        "\n",
        "# Set OPENAI_API_KEY as an ENV\n",
        "import os\n",
        "os.environ['OPENAI_API_KEY'] = OPENAI_API_KEY"
      ],
      "metadata": {
        "id": "PQeP0uPcd3Uh"
      },
      "execution_count": 8,
      "outputs": []
    },
    {
      "cell_type": "code",
      "execution_count": 9,
      "metadata": {
        "id": "71795ff1-d6a7-448d-8b55-88bbd1ed3dbe"
      },
      "outputs": [],
      "source": [
        "from langchain_openai import ChatOpenAI\n",
        "llm = ChatOpenAI(model=\"gpt-4o\")"
      ]
    },
    {
      "cell_type": "code",
      "source": [
        "# 3. Define policy documents (in-memory store)\n",
        "policy_documents = {\n",
        "    \"leave_policy\": \"Employees are entitled to 20 paid leave days per year. Additional unpaid leave can be requested with manager approval.\",\n",
        "    \"work_hours\": \"Regular work hours are from 9 AM to 6 PM, Monday to Friday. Flexible work hours are allowed with prior approval.\",\n",
        "    \"remote_work\": \"Employees can work remotely up to 3 days a week. Full remote work requires special approval.\",\n",
        "}\n"
      ],
      "metadata": {
        "id": "w8eyDkgvVC7T"
      },
      "execution_count": 10,
      "outputs": []
    },
    {
      "cell_type": "markdown",
      "source": [
        "###**Define Tool**"
      ],
      "metadata": {
        "id": "j6o3Sv9kVXQU"
      }
    },
    {
      "cell_type": "code",
      "source": [
        "from langchain_core.messages import HumanMessage\n",
        "from langchain_core.tools import tool\n",
        "\n",
        "# Tool that looks up policy by keyword\n",
        "@tool\n",
        "def lookup_policy(query: str) -> str:\n",
        "    \"\"\"\n",
        "    Matching Policy Retriver\n",
        "    \"\"\"\n",
        "    query = query.lower()\n",
        "    if \"leave\" in query:\n",
        "        return policy_documents[\"leave_policy\"]\n",
        "    elif \"work hours\" in query or \"timing\" in query:\n",
        "        return policy_documents[\"work_hours\"]\n",
        "    elif \"remote\" in query or \"work from home\" in query:\n",
        "        return policy_documents[\"remote_work\"]\n",
        "    else:\n",
        "        return \"Sorry, no matching policy found.\"\n",
        "\n",
        "# Bind the tool to the LLM\n",
        "llm_with_tools = llm.bind_tools([lookup_policy])\n"
      ],
      "metadata": {
        "id": "sOYVKIhIVb-N"
      },
      "execution_count": 12,
      "outputs": []
    },
    {
      "cell_type": "markdown",
      "source": [
        "###**Define Nodes**"
      ],
      "metadata": {
        "id": "_gI8PSAwVo9Z"
      }
    },
    {
      "cell_type": "code",
      "source": [
        "# Nodes will operate on a chat history list\n",
        "\n",
        "def call_tool_node(state):\n",
        "    # 1. Extract user's message\n",
        "    chat_history = state[\"messages\"]\n",
        "    user_msg = chat_history[-1]\n",
        "\n",
        "    # 2. LLM decides to call tool\n",
        "    tool_call = llm_with_tools.invoke(chat_history)\n",
        "    return {\n",
        "        \"messages\": chat_history + [tool_call]\n",
        "    }\n",
        "\n",
        "from langchain_core.messages import ToolMessage\n",
        "\n",
        "def respond_node(state):\n",
        "    chat_history = state[\"messages\"]\n",
        "\n",
        "    # Get the last AIMessage\n",
        "    last_message = chat_history[-1]\n",
        "\n",
        "    if hasattr(last_message, \"tool_calls\"):\n",
        "        tool_messages = []\n",
        "\n",
        "        for tool_call in last_message.tool_calls:\n",
        "            # Extract tool input\n",
        "            query = tool_call[\"args\"][\"query\"]\n",
        "            tool_output = lookup_policy.run(query)\n",
        "\n",
        "            # Create a ToolMessage to send back\n",
        "            tool_msg = ToolMessage(\n",
        "                tool_call_id=tool_call[\"id\"],  # must match LLM output tool_call_id\n",
        "                content=tool_output\n",
        "            )\n",
        "            tool_messages.append(tool_msg)\n",
        "\n",
        "        # Add tool messages to the history\n",
        "        chat_history.extend(tool_messages)\n",
        "\n",
        "        # Re-ask the LLM with new messages that include the tool responses\n",
        "        response = llm.invoke(chat_history)\n",
        "        chat_history.append(response)\n",
        "\n",
        "    return {\"messages\": chat_history}\n"
      ],
      "metadata": {
        "id": "yhzuBLOZVrmh"
      },
      "execution_count": 35,
      "outputs": []
    },
    {
      "cell_type": "markdown",
      "source": [
        "###**Build and Compile the LangGraph**"
      ],
      "metadata": {
        "id": "9s3eFDbMV4ul"
      }
    },
    {
      "cell_type": "code",
      "source": [
        "from langgraph.graph import StateGraph, END\n",
        "\n",
        "builder = StateGraph(dict)\n",
        "builder.add_node(\"ToolCall\", call_tool_node)\n",
        "builder.add_node(\"Respond\", respond_node)\n",
        "\n",
        "builder.set_entry_point(\"ToolCall\")\n",
        "builder.add_edge(\"ToolCall\", \"Respond\")\n",
        "builder.add_edge(\"Respond\", END)\n",
        "\n",
        "graph = builder.compile()\n"
      ],
      "metadata": {
        "id": "Nyqs0UofV98m"
      },
      "execution_count": 36,
      "outputs": []
    },
    {
      "cell_type": "markdown",
      "source": [
        "###**Visualize the LangGraph (Optional)**"
      ],
      "metadata": {
        "id": "8GLB-w2OWBiv"
      }
    },
    {
      "cell_type": "code",
      "source": [
        "from IPython.display import Image, display\n",
        "from langchain_core.runnables.graph import MermaidDrawMethod\n",
        "\n",
        "display(\n",
        "    Image(\n",
        "        graph.get_graph().draw_mermaid_png(\n",
        "            draw_method=MermaidDrawMethod.API,\n",
        "        )\n",
        "    )\n",
        ")\n"
      ],
      "metadata": {
        "colab": {
          "base_uri": "https://localhost:8080/",
          "height": 350
        },
        "id": "F-fULU1fWoHF",
        "outputId": "4d44f06c-812e-424e-b3bd-6bde3f119a8b"
      },
      "execution_count": 37,
      "outputs": [
        {
          "output_type": "display_data",
          "data": {
            "image/png": "[encoded data removed]",
            "text/plain": [
              "<IPython.core.display.Image object>"
            ]
          },
          "metadata": {}
        }
      ]
    },
    {
      "cell_type": "code",
      "source": [
        "from langchain_core.messages import HumanMessage, AIMessage, ToolMessage\n",
        "\n",
        "# Start with a chat state\n",
        "initial_state = {\"messages\": [HumanMessage(content=\"Can I do work from home on Fridays or Should I take a leave?\")]}\n",
        "\n",
        "result = graph.invoke(initial_state)\n",
        "\n",
        "# Print final LLM response\n",
        "#print(result[\"messages\"][-1].content)\n",
        "\n",
        "for message in result[\"messages\"]:\n",
        "    if isinstance(message, HumanMessage):\n",
        "        print(\"🧑 Human:\", message.content)\n",
        "    elif isinstance(message, AIMessage):\n",
        "        # If the AI made a tool call\n",
        "        if hasattr(message, \"tool_calls\") and message.tool_calls:\n",
        "            print(\"🤖 AI (Tool Call):\", message.tool_calls)\n",
        "        elif message.content:\n",
        "            print(\"🤖 AI:\", message.content)\n",
        "    elif isinstance(message, ToolMessage):\n",
        "        print(f\"🔧 Tool [{message.tool_call_id}]:\", message.content)\n"
      ],
      "metadata": {
        "colab": {
          "base_uri": "https://localhost:8080/"
        },
        "id": "YNJhMXpcWKrN",
        "outputId": "8728d0ab-db6b-49ff-8fd8-6ca6cac7bb05"
      },
      "execution_count": 45,
      "outputs": [
        {
          "output_type": "stream",
          "name": "stdout",
          "text": [
            "🧑 Human: Can I do work from home on Fridays or Should I take a leave?\n",
            "🤖 AI (Tool Call): [{'name': 'lookup_policy', 'args': {'query': 'work from home policy'}, 'id': 'call_gzCwHIgK81hu2XGvb7Y11YgQ', 'type': 'tool_call'}, {'name': 'lookup_policy', 'args': {'query': 'leave policy'}, 'id': 'call_lvMOYu0maiY2Ax9dPnpIDWwp', 'type': 'tool_call'}]\n",
            "🔧 Tool [call_gzCwHIgK81hu2XGvb7Y11YgQ]: Employees can work remotely up to 3 days a week. Full remote work requires special approval.\n",
            "🔧 Tool [call_lvMOYu0maiY2Ax9dPnpIDWwp]: Employees are entitled to 20 paid leave days per year. Additional unpaid leave can be requested with manager approval.\n",
            "🤖 AI: Based on your company's policies, you can work from home on Fridays as part of the remote work policy, which allows for up to 3 days of remote work per week. Therefore, you don't need to take a leave for working from home on Fridays.\n"
          ]
        }
      ]
    },
    {
      "cell_type": "markdown",
      "source": [
        "**Note:** Here two tool messages. if you change query like `Can I do work from Home?` then only one tool message should be there."
      ],
      "metadata": {
        "id": "HyKdT5vWcFg6"
      }
    }
  ]
}