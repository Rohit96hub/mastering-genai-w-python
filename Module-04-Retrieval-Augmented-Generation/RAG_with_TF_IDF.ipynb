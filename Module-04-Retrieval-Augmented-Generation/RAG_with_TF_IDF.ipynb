{
  "nbformat": 4,
  "nbformat_minor": 0,
  "metadata": {
    "colab": {
      "provenance": []
    },
    "kernelspec": {
      "name": "python3",
      "display_name": "Python 3"
    },
    "language_info": {
      "name": "python"
    }
  },
  "cells": [
    {
      "cell_type": "markdown",
      "source": [
        "## RAG with TF-IDF\n",
        "\n",
        "TF-IDF\n",
        "=====\n",
        "\n",
        "TF-IDF stands for Term Frequency-Inverse Document Frequency. It's a statistical measure used to evaluate the importance of a word in a document relative to a collection of documents (a corpus).\n",
        "\n",
        "TF-IDF **does not understand the underlying meaning of words**. Instead, it is a purely statistical method that relies on word frequency to determine the importance of words in documents.\n",
        "\n",
        "In TF-IDF, the words \"car\" and \"automobile\" would have no relationship unless they co-occur in many documents. Their importance is determined purely by their frequency."
      ],
      "metadata": {
        "id": "Nisz-rTdfBQc"
      }
    },
    {
      "cell_type": "code",
      "source": [
        "from sklearn.feature_extraction.text import TfidfVectorizer\n",
        "from sklearn.metrics.pairwise import cosine_similarity\n",
        "from transformers import AutoModelForCausalLM, AutoTokenizer\n",
        "import torch\n",
        "\n",
        "# Data: List of documents on sustainable living\n",
        "documents = [\n",
        "    \"Renewable energy sources, such as solar and wind power, are crucial for reducing our dependence on fossil fuels and mitigating climate change. Solar panels convert sunlight into electricity, while wind turbines harness the power of the wind to generate energy. Both sources are sustainable and produce no greenhouse gas emissions during operation.\",\n",
        "    \"Sustainable agriculture involves practices that protect the environment, public health, human communities, and animal welfare. Techniques such as crop rotation, organic farming, and agroforestry help maintain soil health, reduce pesticide use, and enhance biodiversity. Sustainable agriculture aims to produce food while ensuring the long-term health of ecosystems.\",\n",
        "    \"Reducing waste and recycling materials are key components of sustainable living. By minimizing waste production, reusing products, and recycling materials, we can conserve natural resources, reduce pollution, and lower greenhouse gas emissions. Programs that promote composting, upcycling, and responsible consumption habits contribute to waste reduction efforts.\",\n",
        "    \"Water conservation is essential for sustainable living, especially in regions facing water scarcity. Techniques such as rainwater harvesting, using water-efficient appliances, and xeriscaping can significantly reduce water usage. Conservation efforts help ensure that water resources are available for future generations and support healthy ecosystems.\",\n",
        "    \"Sustainable transportation options, such as electric vehicles, public transit, cycling, and walking, can reduce carbon emissions and alleviate traffic congestion. Investing in infrastructure that supports these modes of transportation, like bike lanes and charging stations, is essential for promoting sustainable urban mobility.\",\n",
        "    \"Green building practices aim to reduce the environmental impact of construction and create healthier living spaces. Techniques include using energy-efficient materials, incorporating natural lighting, and designing buildings that minimize energy consumption. Green buildings often feature renewable energy systems and are designed to be environmentally friendly.\",\n",
        "    \"Community-based sustainability initiatives involve collective efforts to promote sustainable living practices. These initiatives can include community gardens, local recycling programs, and educational workshops on sustainability. By working together, communities can create a more sustainable and resilient environment for all residents.\"\n",
        "]\n",
        "\n",
        "# Create TF-IDF vectorizer\n",
        "vectorizer = TfidfVectorizer()\n",
        "\n",
        "# Fit and transform the documents\n",
        "tfidf_matrix = vectorizer.fit_transform(documents)\n",
        "\n",
        "# Function to retrieve similar documents\n",
        "def get_similar_documents(query, top_k=3):\n",
        "    query_tfidf = vectorizer.transform([query])\n",
        "    cosine_similarities = cosine_similarity(query_tfidf, tfidf_matrix).flatten()\n",
        "    similar_indices = cosine_similarities.argsort()[-top_k:][::-1]\n",
        "    return [(documents[i], cosine_similarities[i]) for i in similar_indices]\n",
        "\n",
        "# Load pre-trained model and tokenizer\n",
        "model_name = \"gpt2\"  # You can replace this with another model\n",
        "tokenizer = AutoTokenizer.from_pretrained(model_name)\n",
        "model = AutoModelForCausalLM.from_pretrained(model_name)\n",
        "\n",
        "# Function to generate responses\n",
        "def generate_response(prompt, max_length=300):\n",
        "    inputs = tokenizer(prompt, return_tensors='pt')\n",
        "    outputs = model.generate(\n",
        "        inputs.input_ids,\n",
        "        attention_mask=inputs.attention_mask,\n",
        "        max_length=max_length,\n",
        "        num_return_sequences=1,\n",
        "        no_repeat_ngram_size=2,\n",
        "        pad_token_id=tokenizer.eos_token_id  # Handle tokenization padding\n",
        "    )\n",
        "    return tokenizer.decode(outputs[0], skip_special_tokens=True)\n",
        "\n",
        "# RAG pipeline function\n",
        "def rag_pipeline(query, max_length=150):\n",
        "    similar_docs = get_similar_documents(query)\n",
        "    context = \"\\n\".join([doc for doc, _ in similar_docs])\n",
        "    prompt = f\"Based on the following documents:\\n{context}\\nAnswer the following question: {query}\"\n",
        "    return generate_response(prompt, max_length=max_length)\n",
        "\n",
        "# Example usage without RAG\n",
        "query = \"What are the benefits of renewable energy?\"\n",
        "response_without_rag = generate_response(query, max_length=300)\n",
        "print(\"Response without RAG:\")\n",
        "print(response_without_rag)\n",
        "\n",
        "# Example usage with RAG\n",
        "response_with_rag = rag_pipeline(query, max_length=300)\n",
        "print(\"\\nResponse with RAG:\")\n",
        "print(response_with_rag)\n"
      ],
      "metadata": {
        "colab": {
          "base_uri": "https://localhost:8080/"
        },
        "id": "tHhhOgVBZUpH",
        "outputId": "11b72346-9e15-491d-884b-b455ec4f6734"
      },
      "execution_count": 10,
      "outputs": [
        {
          "output_type": "stream",
          "name": "stdout",
          "text": [
            "Response without RAG:\n",
            "What are the benefits of renewable energy?\n",
            "\n",
            "The benefits are obvious. The cost of electricity is lower than in the past, and the cost is higher than the costs of other forms of energy.\n",
            "...\n",
            " (1) The benefits for the environment are greater than for other types of power. (2) There is no need for a new power plant. There are no new plants. No new energy sources are needed. And there is nothing to stop the development of new sources of generation. In fact, the only way to reduce the amount of carbon dioxide in our atmosphere is to use less fossil fuels. This is the most important thing to do. It is also the least expensive. If we could reduce our carbon emissions by a factor of 10, we would reduce emissions of about one-third of the world's greenhouse gas emissions. We would also reduce greenhouse gases by about half of what we are currently emitting. That is a huge reduction in emissions, but it is not a major one. So, if we can reduce carbon pollution by 10 percent, that is an enormous reduction. But if you look at the other side of that equation, it's not that big a deal. You can get a lot of emissions reductions by reducing the use of fossil fuel. For example, in a country like China, where we have a very low carbon footprint, you can cut emissions from coal by 20 percent. A country that has a high carbon profile, like India, can do that\n",
            "\n",
            "Response with RAG:\n",
            "Based on the following documents:\n",
            "Green building practices aim to reduce the environmental impact of construction and create healthier living spaces. Techniques include using energy-efficient materials, incorporating natural lighting, and designing buildings that minimize energy consumption. Green buildings often feature renewable energy systems and are designed to be environmentally friendly.\n",
            "Renewable energy sources, such as solar and wind power, are crucial for reducing our dependence on fossil fuels and mitigating climate change. Solar panels convert sunlight into electricity, while wind turbines harness the power of the wind to generate energy. Both sources are sustainable and produce no greenhouse gas emissions during operation.\n",
            "Sustainable agriculture involves practices that protect the environment, public health, human communities, and animal welfare. Techniques such as crop rotation, organic farming, and agroforestry help maintain soil health, reduce pesticide use, and enhance biodiversity. Sustainable agriculture aims to produce food while ensuring the long-term health of ecosystems.\n",
            "Answer the following question: What are the benefits of renewable energy?\n",
            "The benefits are numerous. The benefits include: reducing greenhouse gases, reducing the amount of carbon dioxide in the atmosphere, improving the quality of life, increasing the availability of natural resources, decreasing the number of people living in poverty, promoting economic growth, protecting the natural environment and reducing environmental degradation. Renewable energies also reduce greenhouse emissions by reducing carbon emissions from fossil fuel combustion. These benefits can be achieved by using renewable sources of energy, including solar, wind, biomass, geothermal, hydroelectric, or biomass\n"
          ]
        }
      ]
    },
    {
      "cell_type": "markdown",
      "source": [
        "## We can see that  \n",
        "\n",
        "1.   TF-IDF matches the sentenses, which have the words in our query\n",
        "2.   It uses the selected sentensces only for RAG purpose\n",
        "\n"
      ],
      "metadata": {
        "id": "PPgzk3mufqAn"
      }
    },
    {
      "cell_type": "code",
      "source": [
        "# Example usage without RAG\n",
        "query = \"What are some community efforts people can take for sustainability\"\n",
        "response_without_rag = generate_response(query, max_length=300)\n",
        "print(\"Response without RAG:\")\n",
        "print(response_without_rag)\n",
        "\n",
        "# Example usage with RAG\n",
        "response_with_rag = rag_pipeline(query, max_length=300)\n",
        "print(\"\\nResponse with RAG:\")\n",
        "print(response_with_rag)"
      ],
      "metadata": {
        "colab": {
          "base_uri": "https://localhost:8080/"
        },
        "id": "dHio1bfZZVaq",
        "outputId": "1aa140e0-3c9f-41f5-9ae5-2623125ea2df"
      },
      "execution_count": 14,
      "outputs": [
        {
          "output_type": "stream",
          "name": "stdout",
          "text": [
            "Response without RAG:\n",
            "What are some community efforts people can take for sustainability?\n",
            "\n",
            "We have a lot of community initiatives that are focused on sustainability. We have the Sustainable Cities Initiative, which is a community-based initiative that is focused around sustainability in the city.\n",
            "... We are working with the City of Toronto to develop a sustainable city plan. The city is working on a plan that will be implemented by the end of the year. It will include a number of initiatives, including the Green Building Plan, the Healthy Cities Plan and the Clean Cities plan, and we are also working to create a Sustainable City Plan for the Toronto area. So we have some of these initiatives in place, but we also have other initiatives. And we're working very hard to get them implemented. But we want to make sure that we do everything we can to ensure that the people of our city are able to live in a city that's sustainable.\n",
            "\n",
            "Response with RAG:\n",
            "Based on the following documents:\n",
            "Community-based sustainability initiatives involve collective efforts to promote sustainable living practices. These initiatives can include community gardens, local recycling programs, and educational workshops on sustainability. By working together, communities can create a more sustainable and resilient environment for all residents.\n",
            "Water conservation is essential for sustainable living, especially in regions facing water scarcity. Techniques such as rainwater harvesting, using water-efficient appliances, and xeriscaping can significantly reduce water usage. Conservation efforts help ensure that water resources are available for future generations and support healthy ecosystems.\n",
            "Reducing waste and recycling materials are key components of sustainable living. By minimizing waste production, reusing products, and recycling materials, we can conserve natural resources, reduce pollution, and lower greenhouse gas emissions. Programs that promote composting, upcycling, and responsible consumption habits contribute to waste reduction efforts.\n",
            "Answer the following question: What are some community efforts people can take for sustainability?\n",
            "The following are community-level sustainability efforts that are part of the Sustainable Living Initiative. They are not necessarily the same as community initiatives. Community-specific sustainability programs are often referred to as \"community-wide\" or \"Community Action Plan\" (CAP).\n",
            "Capsicum (S. aureus)\n",
            "Sustainable Living\n",
            "\n",
            "A community's ability to reduce its greenhouse gases by reducing its use of natural gas and other greenhouse-gas-intensive fuels is critical to the sustainability of its environment. The use and use by communities\n"
          ]
        }
      ]
    }
  ]
}